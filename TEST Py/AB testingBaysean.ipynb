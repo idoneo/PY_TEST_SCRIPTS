{
 "cells": [
  {
   "cell_type": "markdown",
   "metadata": {},
   "source": [
    "#From the course: Bayesin Machine Learning in Python: A/B Testing\n",
    "#https://deeplearningcourses.com/c/bayesian-machine-learning-in-python-ab-testing\n",
    "#https://www.udemy.com/bayesian-machine-learning-in-python-ab-testing\n",
    "import matplotlib.pyplot as plt\n",
    "import numpy as np\n",
    "from scipy.stats import beta\n",
    "\n",
    "\n",
    "NUM_TRIALS = 2000\n",
    "BANDIT_PROBABILITIES = [0.2, 0.5, 0.75]\n",
    "\n",
    "\n",
    "class Bandit(object):\n",
    "  def __init__(self, p):\n",
    "    self.p = p\n",
    "    self.a = 1\n",
    "    self.b = 1\n",
    "\n",
    "  def pull(self):\n",
    "    return np.random.random() < self.p\n",
    "\n",
    "  def sample(self):\n",
    "    return np.random.beta(self.a, self.b)\n",
    "\n",
    "  def update(self, x):\n",
    "    self.a += x\n",
    "    self.b += 1 - x\n",
    "\n",
    "\n",
    "def plot(bandits, trial):\n",
    "  x = np.linspace(0, 1, 200)\n",
    "  for b in bandits:\n",
    "    y = beta.pdf(x, b.a, b.b)\n",
    "    plt.plot(x, y, label=\"real p: %.4f\" % b.p)\n",
    "  plt.title(\"Bandit distributions after %s trials\" % trial)\n",
    "  plt.legend()\n",
    "  plt.show()\n",
    "\n",
    "\n",
    "def experiment():\n",
    "  bandits = [Bandit(p) for p in BANDIT_PROBABILITIES]\n",
    "\n",
    "  sample_points = [5,10,20,50,100,200,500,1000,1500,1999]\n",
    "  for i in xrange(NUM_TRIALS):\n",
    "\n",
    "    #take a sample from each bandit\n",
    "    bestb = None\n",
    "    maxsample = -1\n",
    "    allsamples = [] # let's collect these just to print for debugging\n",
    "    for b in bandits:\n",
    "      sample = b.sample()\n",
    "      allsamples.append(\"%.4f\" % sample)\n",
    "      if sample > maxsample:\n",
    "        maxsample = sample\n",
    "        bestb = b\n",
    "    if i in sample_points:\n",
    "      print \"current samples: %s\" % allsamples\n",
    "      plot(bandits, i)\n",
    "\n",
    "    #pull the arm for the bandit with the largest sample\n",
    "    x = bestb.pull()\n",
    "\n",
    "    #update the distribution for the bandit whose arm we just pulled\n",
    "    bestb.update(x)\n",
    "\n",
    "\n",
    "if __name__ == \"__main__\":\n",
    "  experiment()"
   ]
  },
  {
   "cell_type": "code",
   "execution_count": 3,
   "metadata": {},
   "outputs": [
    {
     "name": "stdout",
     "output_type": "stream",
     "text": [
      "t:\t 2.6591371445533087 p:\t 0.015977222262061552\n",
      "t2:\t 2.6591371445533087 p2:\t 0.007988611131030776\n"
     ]
    }
   ],
   "source": [
    "import numpy as np\n",
    "from scipy import stats\n",
    "\n",
    "N= 10\n",
    "a= np.random.randn(N) + 2\n",
    "b = np.random. randn(N)\n",
    "\n",
    "var_a = a.var(ddof=1)\n",
    "var_b = b.var(ddof=1)\n",
    "s = np.sqrt( (var_a +var_b)/2)\n",
    "t = (a.mean() - b. mean())/ (s* np.sqrt(2.0/N))\n",
    "df = 2*N -2\n",
    "p =1 - stats.t.cdf(t,df =df)\n",
    "print (\"t:\\t\",t,\"p:\\t\",2*p)\n",
    "\n",
    "t2,p2 = stats.ttest_ind(a,b)\n",
    "print (\"t2:\\t\",t2,\"p2:\\t\",p)"
   ]
  },
  {
   "cell_type": "code",
   "execution_count": 5,
   "metadata": {},
   "outputs": [],
   "source": [
    "import numpy as np\n",
    "import matplotlib.pyplot as plt\n",
    "from scipy.stats import chi2, chi2_contingency\n",
    "%matplotlib inline"
   ]
  },
  {
   "cell_type": "code",
   "execution_count": 12,
   "metadata": {},
   "outputs": [
    {
     "data": {
      "image/png": "[encoded data removed]",
      "text/plain": [
       "<Figure size 432x288 with 1 Axes>"
      ]
     },
     "metadata": {},
     "output_type": "display_data"
    }
   ],
   "source": [
    "class DataGenerator:\n",
    "  def __init__(self, p1, p2):\n",
    "    self.p1 = p1\n",
    "    self.p2 = p2\n",
    "\n",
    "  def next(self):\n",
    "    click1 = 1 if (np.random.random() < self.p1) else 0\n",
    "    click2 = 1 if (np.random.random() < self.p2) else 0\n",
    "    return click1, click2\n",
    "\n",
    "\n",
    "def get_p_value(T):\n",
    "  # same as scipy.stats.chi2_contingency(T, correction=False)\n",
    "  det = T[0,0]*T[1,1] - T[0,1]*T[1,0]\n",
    "  c2 = float(det) / T[0].sum() * det / T[1].sum() * T.sum() / T[:,0].sum() / T[:,1].sum()\n",
    "  p = 1 - chi2.cdf(x=c2, df=1)\n",
    "  return p\n",
    "\n",
    "\n",
    "def run_experiment(p1, p2, N):\n",
    "  data = DataGenerator(p1, p2)\n",
    "  p_values = np.empty(N)\n",
    "  T = np.zeros((2, 2)).astype(np.float32)\n",
    "  for i in range(N):\n",
    "    c1, c2 = data.next()\n",
    "    T[0,c1] += 1\n",
    "    T[1,c2] += 1\n",
    "    # ignore the first 10 values\n",
    "    if i < 10:\n",
    "      p_values[i] = None\n",
    "    else:\n",
    "      p_values[i] = get_p_value(T)\n",
    "  plt.plot(p_values)\n",
    "  plt.plot(np.ones(N)*0.05)\n",
    "  plt.show()\n",
    "\n",
    "run_experiment(0.1, 0.11, 20000)"
   ]
  },
  {
   "cell_type": "code",
   "execution_count": null,
   "metadata": {},
   "outputs": [],
   "source": []
  }
 ],
 "metadata": {
  "kernelspec": {
   "display_name": "Python [conda env:Anaconda3]",
   "language": "python",
   "name": "conda-env-Anaconda3-py"
  },
  "language_info": {
   "codemirror_mode": {
    "name": "ipython",
    "version": 3
   },
   "file_extension": ".py",
   "mimetype": "text/x-python",
   "name": "python",
   "nbconvert_exporter": "python",
   "pygments_lexer": "ipython3",
   "version": "3.6.5"
  }
 },
 "nbformat": 4,
 "nbformat_minor": 2
}
