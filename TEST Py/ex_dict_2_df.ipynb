{
 "cells": [
  {
   "cell_type": "code",
   "execution_count": 1,
   "metadata": {},
   "outputs": [
    {
     "name": "stdout",
     "output_type": "stream",
     "text": [
      "hello world\n"
     ]
    }
   ],
   "source": [
    "print ('hello world')"
   ]
  },
  {
   "cell_type": "code",
   "execution_count": 3,
   "metadata": {
    "collapsed": true
   },
   "outputs": [],
   "source": [
    "import os\n"
   ]
  },
  {
   "cell_type": "code",
   "execution_count": 4,
   "metadata": {},
   "outputs": [
    {
     "name": "stdout",
     "output_type": "stream",
     "text": [
      "C:\\Users\\mjc341\\TEST Py\n"
     ]
    }
   ],
   "source": [
    "print (os.getcwd())"
   ]
  },
  {
   "cell_type": "code",
   "execution_count": 5,
   "metadata": {},
   "outputs": [
    {
     "name": "stdout",
     "output_type": "stream",
     "text": [
      "C:\\Users\\mjc341\\TEST Py\n"
     ]
    }
   ],
   "source": [
    "print (os.getcwd())"
   ]
  },
  {
   "cell_type": "code",
   "execution_count": 6,
   "metadata": {
    "collapsed": true
   },
   "outputs": [],
   "source": [
    "import numpy as np\n",
    "import pandas as pd"
   ]
  },
  {
   "cell_type": "code",
   "execution_count": 16,
   "metadata": {},
   "outputs": [],
   "source": [
    "SAT_ACT_DICT =[{\"APPLICANT_ID\":54047458,\"ADMIT_TERM_CODE\":2178,\"SR Y-N\":\"Y\",\"SR_ACT_ENGL\":0,\"ACT_ENGL\":0,\"SR_ACT_MATH\":0,\"ACT_MATH\":0,\"SR_ACT_READ\":0,\"ACT_READ\":0,\"SR_ACT_SCIRE\":0,\"ACT_SCIRE\":0,\"SR_SAT_READ_OLD\":560,\"SAT_READ_OLD\":560,\"SR_SAT_MATH\":670,\"SAT_MATH_OLD\":670,\"SR_SAT_RW_READ_NEW\":0,\"SAT_READ_RT_NEW\":0,\"SR_SAT_MSS_NEW\":0,\"SAT_MSS_NEW\":0},\n",
    "{\"APPLICANT_ID\":54059543,\"ADMIT_TERM_CODE\":2178,\"SR Y-N\":\"Y\",\"SR_ACT_ENGL\":0,\"ACT_ENGL\":0,\"SR_ACT_MATH\":0,\"ACT_MATH\":0,\"SR_ACT_READ\":0,\"ACT_READ\":0,\"SR_ACT_SCIRE\":0,\"ACT_SCIRE\":0,\"SR_SAT_READ_OLD\":0,\"SAT_READ_OLD\":590,\"SR_SAT_MATH\":0,\"SAT_MATH_OLD\":560,\"SR_SAT_RW_READ_NEW\":0,\"SAT_READ_RT_NEW\":38,\"SR_SAT_MSS_NEW\":0,\"SAT_MSS_NEW\":650},\n",
    "{\"APPLICANT_ID\":54189234,\"ADMIT_TERM_CODE\":2178,\"SR Y-N\":\"Y\",\"SR_ACT_ENGL\":0,\"ACT_ENGL\":0,\"SR_ACT_MATH\":0,\"ACT_MATH\":0,\"SR_ACT_READ\":0,\"ACT_READ\":0,\"SR_ACT_SCIRE\":0,\"ACT_SCIRE\":0,\"SR_SAT_READ_OLD\":0,\"SAT_READ_OLD\":0,\"SR_SAT_MATH\":0,\"SAT_MATH_OLD\":0,\"SR_SAT_RW_READ_NEW\":0,\"SAT_READ_RT_NEW\":32,\"SR_SAT_MSS_NEW\":0,\"SAT_MSS_NEW\":550},\n",
    "{\"APPLICANT_ID\":54204497,\"ADMIT_TERM_CODE\":2178,\"SR Y-N\":\"Y\",\"SR_ACT_ENGL\":33,\"ACT_ENGL\":33,\"SR_ACT_MATH\":24,\"ACT_MATH\":24,\"SR_ACT_READ\":30,\"ACT_READ\":30,\"SR_ACT_SCIRE\":26,\"ACT_SCIRE\":26,\"SR_SAT_READ_OLD\":0,\"SAT_READ_OLD\":0,\"SR_SAT_MATH\":0,\"SAT_MATH_OLD\":0,\"SR_SAT_RW_READ_NEW\":0,\"SAT_READ_RT_NEW\":0,\"SR_SAT_MSS_NEW\":0,\"SAT_MSS_NEW\":0},\n",
    "{\"APPLICANT_ID\":54210808,\"ADMIT_TERM_CODE\":2178,\"SR Y-N\":\"Y\",\"SR_ACT_ENGL\":33,\"ACT_ENGL\":33,\"SR_ACT_MATH\":32,\"ACT_MATH\":32,\"SR_ACT_READ\":36,\"ACT_READ\":36,\"SR_ACT_SCIRE\":34,\"ACT_SCIRE\":34,\"SR_SAT_READ_OLD\":0,\"SAT_READ_OLD\":0,\"SR_SAT_MATH\":0,\"SAT_MATH_OLD\":0,\"SR_SAT_RW_READ_NEW\":0,\"SAT_READ_RT_NEW\":0,\"SR_SAT_MSS_NEW\":0,\"SAT_MSS_NEW\":0},\n",
    "{\"APPLICANT_ID\":54210930,\"ADMIT_TERM_CODE\":2178,\"SR Y-N\":\"Y\",\"SR_ACT_ENGL\":0,\"ACT_ENGL\":32,\"SR_ACT_MATH\":0,\"ACT_MATH\":26,\"SR_ACT_READ\":0,\"ACT_READ\":27,\"SR_ACT_SCIRE\":0,\"ACT_SCIRE\":25,\"SR_SAT_READ_OLD\":0,\"SAT_READ_OLD\":0,\"SR_SAT_MATH\":0,\"SAT_MATH_OLD\":0,\"SR_SAT_RW_READ_NEW\":0,\"SAT_READ_RT_NEW\":0,\"SR_SAT_MSS_NEW\":0,\"SAT_MSS_NEW\":0},\n",
    "{\"APPLICANT_ID\":54212153,\"ADMIT_TERM_CODE\":2178,\"SR Y-N\":\"Y\",\"SR_ACT_ENGL\":0,\"ACT_ENGL\":0,\"SR_ACT_MATH\":0,\"ACT_MATH\":0,\"SR_ACT_READ\":0,\"ACT_READ\":0,\"SR_ACT_SCIRE\":0,\"ACT_SCIRE\":0,\"SR_SAT_READ_OLD\":560,\"SAT_READ_OLD\":560,\"SR_SAT_MATH\":660,\"SAT_MATH_OLD\":660,\"SR_SAT_RW_READ_NEW\":0,\"SAT_READ_RT_NEW\":0,\"SR_SAT_MSS_NEW\":0,\"SAT_MSS_NEW\":0},\n",
    "{\"APPLICANT_ID\":54213934,\"ADMIT_TERM_CODE\":2178,\"SR Y-N\":\"Y\",\"SR_ACT_ENGL\":33,\"ACT_ENGL\":33,\"SR_ACT_MATH\":30,\"ACT_MATH\":30,\"SR_ACT_READ\":29,\"ACT_READ\":29,\"SR_ACT_SCIRE\":31,\"ACT_SCIRE\":31,\"SR_SAT_READ_OLD\":0,\"SAT_READ_OLD\":0,\"SR_SAT_MATH\":0,\"SAT_MATH_OLD\":0,\"SR_SAT_RW_READ_NEW\":0,\"SAT_READ_RT_NEW\":0,\"SR_SAT_MSS_NEW\":0,\"SAT_MSS_NEW\":0},\n",
    "{\"APPLICANT_ID\":54214107,\"ADMIT_TERM_CODE\":2178,\"SR Y-N\":\"Y\",\"SR_ACT_ENGL\":0,\"ACT_ENGL\":24,\"SR_ACT_MATH\":0,\"ACT_MATH\":25,\"SR_ACT_READ\":0,\"ACT_READ\":28,\"SR_ACT_SCIRE\":0,\"ACT_SCIRE\":25,\"SR_SAT_READ_OLD\":560,\"SAT_READ_OLD\":0,\"SR_SAT_MATH\":540,\"SAT_MATH_OLD\":0,\"SR_SAT_RW_READ_NEW\":0,\"SAT_READ_RT_NEW\":0,\"SR_SAT_MSS_NEW\":0,\"SAT_MSS_NEW\":0}];"
   ]
  },
  {
   "cell_type": "code",
   "execution_count": 17,
   "metadata": {},
   "outputs": [],
   "source": [
    "dfACTSAT=pd.DataFrame.from_dict(SAT_ACT_DICT,orient='columns',dtype=None)True"
   ]
  },
  {
   "cell_type": "code",
   "execution_count": 14,
   "metadata": {},
   "outputs": [
    {
     "data": {
      "text/html": [
       "<div>\n",
       "<style>\n",
       "    .dataframe thead tr:only-child th {\n",
       "        text-align: right;\n",
       "    }\n",
       "\n",
       "    .dataframe thead th {\n",
       "        text-align: left;\n",
       "    }\n",
       "\n",
       "    .dataframe tbody tr th {\n",
       "        vertical-align: top;\n",
       "    }\n",
       "</style>\n",
       "<table border=\"1\" class=\"dataframe\">\n",
       "  <thead>\n",
       "    <tr style=\"text-align: right;\">\n",
       "      <th></th>\n",
       "      <th>ACT_ENGL</th>\n",
       "      <th>ACT_MATH</th>\n",
       "      <th>ACT_READ</th>\n",
       "      <th>ACT_SCIRE</th>\n",
       "      <th>ADMIT_TERM_CODE</th>\n",
       "      <th>APPLICANT_ID</th>\n",
       "      <th>SAT_MATH_OLD</th>\n",
       "      <th>SAT_MSS_NEW</th>\n",
       "      <th>SAT_READ_OLD</th>\n",
       "      <th>SAT_READ_RT_NEW</th>\n",
       "      <th>SR Y-N</th>\n",
       "      <th>SR_ACT_ENGL</th>\n",
       "      <th>SR_ACT_MATH</th>\n",
       "      <th>SR_ACT_READ</th>\n",
       "      <th>SR_ACT_SCIRE</th>\n",
       "      <th>SR_SAT_MATH</th>\n",
       "      <th>SR_SAT_MSS_NEW</th>\n",
       "      <th>SR_SAT_READ_OLD</th>\n",
       "      <th>SR_SAT_RW_READ_NEW</th>\n",
       "    </tr>\n",
       "  </thead>\n",
       "  <tbody>\n",
       "    <tr>\n",
       "      <th>0</th>\n",
       "      <td>0</td>\n",
       "      <td>0</td>\n",
       "      <td>0</td>\n",
       "      <td>0</td>\n",
       "      <td>2178</td>\n",
       "      <td>54047458</td>\n",
       "      <td>670</td>\n",
       "      <td>0</td>\n",
       "      <td>560</td>\n",
       "      <td>0</td>\n",
       "      <td>Y</td>\n",
       "      <td>0</td>\n",
       "      <td>0</td>\n",
       "      <td>0</td>\n",
       "      <td>0</td>\n",
       "      <td>670</td>\n",
       "      <td>0</td>\n",
       "      <td>560</td>\n",
       "      <td>0</td>\n",
       "    </tr>\n",
       "    <tr>\n",
       "      <th>1</th>\n",
       "      <td>0</td>\n",
       "      <td>0</td>\n",
       "      <td>0</td>\n",
       "      <td>0</td>\n",
       "      <td>2178</td>\n",
       "      <td>54059543</td>\n",
       "      <td>560</td>\n",
       "      <td>650</td>\n",
       "      <td>590</td>\n",
       "      <td>38</td>\n",
       "      <td>Y</td>\n",
       "      <td>0</td>\n",
       "      <td>0</td>\n",
       "      <td>0</td>\n",
       "      <td>0</td>\n",
       "      <td>0</td>\n",
       "      <td>0</td>\n",
       "      <td>0</td>\n",
       "      <td>0</td>\n",
       "    </tr>\n",
       "    <tr>\n",
       "      <th>2</th>\n",
       "      <td>0</td>\n",
       "      <td>0</td>\n",
       "      <td>0</td>\n",
       "      <td>0</td>\n",
       "      <td>2178</td>\n",
       "      <td>54189234</td>\n",
       "      <td>0</td>\n",
       "      <td>550</td>\n",
       "      <td>0</td>\n",
       "      <td>32</td>\n",
       "      <td>Y</td>\n",
       "      <td>0</td>\n",
       "      <td>0</td>\n",
       "      <td>0</td>\n",
       "      <td>0</td>\n",
       "      <td>0</td>\n",
       "      <td>0</td>\n",
       "      <td>0</td>\n",
       "      <td>0</td>\n",
       "    </tr>\n",
       "    <tr>\n",
       "      <th>3</th>\n",
       "      <td>33</td>\n",
       "      <td>24</td>\n",
       "      <td>30</td>\n",
       "      <td>26</td>\n",
       "      <td>2178</td>\n",
       "      <td>54204497</td>\n",
       "      <td>0</td>\n",
       "      <td>0</td>\n",
       "      <td>0</td>\n",
       "      <td>0</td>\n",
       "      <td>Y</td>\n",
       "      <td>33</td>\n",
       "      <td>24</td>\n",
       "      <td>30</td>\n",
       "      <td>26</td>\n",
       "      <td>0</td>\n",
       "      <td>0</td>\n",
       "      <td>0</td>\n",
       "      <td>0</td>\n",
       "    </tr>\n",
       "    <tr>\n",
       "      <th>4</th>\n",
       "      <td>33</td>\n",
       "      <td>32</td>\n",
       "      <td>36</td>\n",
       "      <td>34</td>\n",
       "      <td>2178</td>\n",
       "      <td>54210808</td>\n",
       "      <td>0</td>\n",
       "      <td>0</td>\n",
       "      <td>0</td>\n",
       "      <td>0</td>\n",
       "      <td>Y</td>\n",
       "      <td>33</td>\n",
       "      <td>32</td>\n",
       "      <td>36</td>\n",
       "      <td>34</td>\n",
       "      <td>0</td>\n",
       "      <td>0</td>\n",
       "      <td>0</td>\n",
       "      <td>0</td>\n",
       "    </tr>\n",
       "  </tbody>\n",
       "</table>\n",
       "</div>"
      ],
      "text/plain": [
       "   ACT_ENGL  ACT_MATH  ACT_READ  ACT_SCIRE  ADMIT_TERM_CODE  APPLICANT_ID  \\\n",
       "0         0         0         0          0             2178      54047458   \n",
       "1         0         0         0          0             2178      54059543   \n",
       "2         0         0         0          0             2178      54189234   \n",
       "3        33        24        30         26             2178      54204497   \n",
       "4        33        32        36         34             2178      54210808   \n",
       "\n",
       "   SAT_MATH_OLD  SAT_MSS_NEW  SAT_READ_OLD  SAT_READ_RT_NEW SR Y-N  \\\n",
       "0           670            0           560                0      Y   \n",
       "1           560          650           590               38      Y   \n",
       "2             0          550             0               32      Y   \n",
       "3             0            0             0                0      Y   \n",
       "4             0            0             0                0      Y   \n",
       "\n",
       "   SR_ACT_ENGL  SR_ACT_MATH  SR_ACT_READ  SR_ACT_SCIRE  SR_SAT_MATH  \\\n",
       "0            0            0            0             0          670   \n",
       "1            0            0            0             0            0   \n",
       "2            0            0            0             0            0   \n",
       "3           33           24           30            26            0   \n",
       "4           33           32           36            34            0   \n",
       "\n",
       "   SR_SAT_MSS_NEW  SR_SAT_READ_OLD  SR_SAT_RW_READ_NEW  \n",
       "0               0              560                   0  \n",
       "1               0                0                   0  \n",
       "2               0                0                   0  \n",
       "3               0                0                   0  \n",
       "4               0                0                   0  "
      ]
     },
     "execution_count": 14,
     "metadata": {},
     "output_type": "execute_result"
    }
   ],
   "source": [
    "dfACTSAT.head()"
   ]
  },
  {
   "cell_type": "code",
   "execution_count": 18,
   "metadata": {
    "collapsed": true
   },
   "outputs": [],
   "source": [
    "dfACTSAT.set_index('APPLICANT_ID',inplace=True)"
   ]
  },
  {
   "cell_type": "code",
   "execution_count": 19,
   "metadata": {},
   "outputs": [
    {
     "data": {
      "text/html": [
       "<div>\n",
       "<style>\n",
       "    .dataframe thead tr:only-child th {\n",
       "        text-align: right;\n",
       "    }\n",
       "\n",
       "    .dataframe thead th {\n",
       "        text-align: left;\n",
       "    }\n",
       "\n",
       "    .dataframe tbody tr th {\n",
       "        vertical-align: top;\n",
       "    }\n",
       "</style>\n",
       "<table border=\"1\" class=\"dataframe\">\n",
       "  <thead>\n",
       "    <tr style=\"text-align: right;\">\n",
       "      <th></th>\n",
       "      <th>ACT_ENGL</th>\n",
       "      <th>ACT_MATH</th>\n",
       "      <th>ACT_READ</th>\n",
       "      <th>ACT_SCIRE</th>\n",
       "      <th>ADMIT_TERM_CODE</th>\n",
       "      <th>SAT_MATH_OLD</th>\n",
       "      <th>SAT_MSS_NEW</th>\n",
       "      <th>SAT_READ_OLD</th>\n",
       "      <th>SAT_READ_RT_NEW</th>\n",
       "      <th>SR Y-N</th>\n",
       "      <th>SR_ACT_ENGL</th>\n",
       "      <th>SR_ACT_MATH</th>\n",
       "      <th>SR_ACT_READ</th>\n",
       "      <th>SR_ACT_SCIRE</th>\n",
       "      <th>SR_SAT_MATH</th>\n",
       "      <th>SR_SAT_MSS_NEW</th>\n",
       "      <th>SR_SAT_READ_OLD</th>\n",
       "      <th>SR_SAT_RW_READ_NEW</th>\n",
       "    </tr>\n",
       "    <tr>\n",
       "      <th>APPLICANT_ID</th>\n",
       "      <th></th>\n",
       "      <th></th>\n",
       "      <th></th>\n",
       "      <th></th>\n",
       "      <th></th>\n",
       "      <th></th>\n",
       "      <th></th>\n",
       "      <th></th>\n",
       "      <th></th>\n",
       "      <th></th>\n",
       "      <th></th>\n",
       "      <th></th>\n",
       "      <th></th>\n",
       "      <th></th>\n",
       "      <th></th>\n",
       "      <th></th>\n",
       "      <th></th>\n",
       "      <th></th>\n",
       "    </tr>\n",
       "  </thead>\n",
       "  <tbody>\n",
       "    <tr>\n",
       "      <th>54047458</th>\n",
       "      <td>0</td>\n",
       "      <td>0</td>\n",
       "      <td>0</td>\n",
       "      <td>0</td>\n",
       "      <td>2178</td>\n",
       "      <td>670</td>\n",
       "      <td>0</td>\n",
       "      <td>560</td>\n",
       "      <td>0</td>\n",
       "      <td>Y</td>\n",
       "      <td>0</td>\n",
       "      <td>0</td>\n",
       "      <td>0</td>\n",
       "      <td>0</td>\n",
       "      <td>670</td>\n",
       "      <td>0</td>\n",
       "      <td>560</td>\n",
       "      <td>0</td>\n",
       "    </tr>\n",
       "    <tr>\n",
       "      <th>54059543</th>\n",
       "      <td>0</td>\n",
       "      <td>0</td>\n",
       "      <td>0</td>\n",
       "      <td>0</td>\n",
       "      <td>2178</td>\n",
       "      <td>560</td>\n",
       "      <td>650</td>\n",
       "      <td>590</td>\n",
       "      <td>38</td>\n",
       "      <td>Y</td>\n",
       "      <td>0</td>\n",
       "      <td>0</td>\n",
       "      <td>0</td>\n",
       "      <td>0</td>\n",
       "      <td>0</td>\n",
       "      <td>0</td>\n",
       "      <td>0</td>\n",
       "      <td>0</td>\n",
       "    </tr>\n",
       "  </tbody>\n",
       "</table>\n",
       "</div>"
      ],
      "text/plain": [
       "              ACT_ENGL  ACT_MATH  ACT_READ  ACT_SCIRE  ADMIT_TERM_CODE  \\\n",
       "APPLICANT_ID                                                             \n",
       "54047458             0         0         0          0             2178   \n",
       "54059543             0         0         0          0             2178   \n",
       "\n",
       "              SAT_MATH_OLD  SAT_MSS_NEW  SAT_READ_OLD  SAT_READ_RT_NEW SR Y-N  \\\n",
       "APPLICANT_ID                                                                    \n",
       "54047458               670            0           560                0      Y   \n",
       "54059543               560          650           590               38      Y   \n",
       "\n",
       "              SR_ACT_ENGL  SR_ACT_MATH  SR_ACT_READ  SR_ACT_SCIRE  \\\n",
       "APPLICANT_ID                                                        \n",
       "54047458                0            0            0             0   \n",
       "54059543                0            0            0             0   \n",
       "\n",
       "              SR_SAT_MATH  SR_SAT_MSS_NEW  SR_SAT_READ_OLD  SR_SAT_RW_READ_NEW  \n",
       "APPLICANT_ID                                                                    \n",
       "54047458              670               0              560                   0  \n",
       "54059543                0               0                0                   0  "
      ]
     },
     "execution_count": 19,
     "metadata": {},
     "output_type": "execute_result"
    }
   ],
   "source": [
    "dfACTSAT.head(2)"
   ]
  },
  {
   "cell_type": "code",
   "execution_count": 22,
   "metadata": {},
   "outputs": [
    {
     "data": {
      "text/plain": [
       "9"
      ]
     },
     "execution_count": 22,
     "metadata": {},
     "output_type": "execute_result"
    }
   ],
   "source": [
    "len(dfACTSAT ['ACT_ENGL'])"
   ]
  },
  {
   "cell_type": "code",
   "execution_count": 24,
   "metadata": {
    "collapsed": true
   },
   "outputs": [
    {
     "data": {
      "text/plain": [
       "<bound method Series.max of APPLICANT_ID\n",
       "54047458     0\n",
       "54059543     0\n",
       "54189234     0\n",
       "54204497    33\n",
       "54210808    33\n",
       "54210930    32\n",
       "54212153     0\n",
       "54213934    33\n",
       "54214107    24\n",
       "Name: ACT_ENGL, dtype: int64>"
      ]
     },
     "execution_count": 24,
     "metadata": {},
     "output_type": "execute_result"
    }
   ],
   "source": [
    "dfACTSAT ['ACT_ENGL'].max"
   ]
  },
  {
   "cell_type": "code",
   "execution_count": 25,
   "metadata": {},
   "outputs": [
    {
     "data": {
      "text/plain": [
       "Y    9\n",
       "Name: SR Y-N, dtype: int64"
      ]
     },
     "execution_count": 25,
     "metadata": {},
     "output_type": "execute_result"
    }
   ],
   "source": [
    "dfACTSAT['SR Y-N'].value_counts()"
   ]
  },
  {
   "cell_type": "code",
   "execution_count": 26,
   "metadata": {},
   "outputs": [
    {
     "data": {
      "text/plain": [
       "0     4\n",
       "33    3\n",
       "24    1\n",
       "32    1\n",
       "Name: ACT_ENGL, dtype: int64"
      ]
     },
     "execution_count": 26,
     "metadata": {},
     "output_type": "execute_result"
    }
   ],
   "source": [
    "dfACTSAT['ACT_ENGL'].value_counts()"
   ]
  },
  {
   "cell_type": "code",
   "execution_count": 27,
   "metadata": {},
   "outputs": [
    {
     "data": {
      "text/plain": [
       "Index(['ACT_ENGL', 'ACT_MATH', 'ACT_READ', 'ACT_SCIRE', 'ADMIT_TERM_CODE',\n",
       "       'SAT_MATH_OLD', 'SAT_MSS_NEW', 'SAT_READ_OLD', 'SAT_READ_RT_NEW',\n",
       "       'SR Y-N', 'SR_ACT_ENGL', 'SR_ACT_MATH', 'SR_ACT_READ', 'SR_ACT_SCIRE',\n",
       "       'SR_SAT_MATH', 'SR_SAT_MSS_NEW', 'SR_SAT_READ_OLD',\n",
       "       'SR_SAT_RW_READ_NEW'],\n",
       "      dtype='object')"
      ]
     },
     "execution_count": 27,
     "metadata": {},
     "output_type": "execute_result"
    }
   ],
   "source": [
    "dfACTSAT.columns"
   ]
  },
  {
   "cell_type": "code",
   "execution_count": 30,
   "metadata": {},
   "outputs": [
    {
     "data": {
      "text/plain": [
       "APPLICANT_ID\n",
       "54047458    0\n",
       "54059543    0\n",
       "54189234    0\n",
       "54204497    0\n",
       "54210808    0\n",
       "54210930    0\n",
       "54212153    0\n",
       "54213934    0\n",
       "54214107    0\n",
       "Name: SR_SAT_MSS_NEW, dtype: int64"
      ]
     },
     "execution_count": 30,
     "metadata": {},
     "output_type": "execute_result"
    }
   ],
   "source": [
    "dfACTSAT['SR_SAT_MSS_NEW']"
   ]
  },
  {
   "cell_type": "code",
   "execution_count": 32,
   "metadata": {},
   "outputs": [
    {
     "data": {
      "text/html": [
       "<div>\n",
       "<style>\n",
       "    .dataframe thead tr:only-child th {\n",
       "        text-align: right;\n",
       "    }\n",
       "\n",
       "    .dataframe thead th {\n",
       "        text-align: left;\n",
       "    }\n",
       "\n",
       "    .dataframe tbody tr th {\n",
       "        vertical-align: top;\n",
       "    }\n",
       "</style>\n",
       "<table border=\"1\" class=\"dataframe\">\n",
       "  <thead>\n",
       "    <tr style=\"text-align: right;\">\n",
       "      <th></th>\n",
       "      <th>ACT_ENGL</th>\n",
       "      <th>ACT_MATH</th>\n",
       "      <th>ACT_READ</th>\n",
       "      <th>ACT_SCIRE</th>\n",
       "      <th>ADMIT_TERM_CODE</th>\n",
       "      <th>SAT_MATH_OLD</th>\n",
       "      <th>SAT_MSS_NEW</th>\n",
       "      <th>SAT_READ_OLD</th>\n",
       "      <th>SAT_READ_RT_NEW</th>\n",
       "      <th>SR Y-N</th>\n",
       "      <th>SR_ACT_ENGL</th>\n",
       "      <th>SR_ACT_MATH</th>\n",
       "      <th>SR_ACT_READ</th>\n",
       "      <th>SR_ACT_SCIRE</th>\n",
       "      <th>SR_SAT_MATH</th>\n",
       "      <th>SR_SAT_MSS_NEW</th>\n",
       "      <th>SR_SAT_READ_OLD</th>\n",
       "      <th>SR_SAT_RW_READ_NEW</th>\n",
       "    </tr>\n",
       "    <tr>\n",
       "      <th>APPLICANT_ID</th>\n",
       "      <th></th>\n",
       "      <th></th>\n",
       "      <th></th>\n",
       "      <th></th>\n",
       "      <th></th>\n",
       "      <th></th>\n",
       "      <th></th>\n",
       "      <th></th>\n",
       "      <th></th>\n",
       "      <th></th>\n",
       "      <th></th>\n",
       "      <th></th>\n",
       "      <th></th>\n",
       "      <th></th>\n",
       "      <th></th>\n",
       "      <th></th>\n",
       "      <th></th>\n",
       "      <th></th>\n",
       "    </tr>\n",
       "  </thead>\n",
       "  <tbody>\n",
       "  </tbody>\n",
       "</table>\n",
       "</div>"
      ],
      "text/plain": [
       "Empty DataFrame\n",
       "Columns: [ACT_ENGL, ACT_MATH, ACT_READ, ACT_SCIRE, ADMIT_TERM_CODE, SAT_MATH_OLD, SAT_MSS_NEW, SAT_READ_OLD, SAT_READ_RT_NEW, SR Y-N, SR_ACT_ENGL, SR_ACT_MATH, SR_ACT_READ, SR_ACT_SCIRE, SR_SAT_MATH, SR_SAT_MSS_NEW, SR_SAT_READ_OLD, SR_SAT_RW_READ_NEW]\n",
       "Index: []"
      ]
     },
     "execution_count": 32,
     "metadata": {},
     "output_type": "execute_result"
    }
   ],
   "source": [
    "dfACTSAT.loc['SR_SAT_MATH':'SR_SAT_RW_READ_NEW']"
   ]
  },
  {
   "cell_type": "code",
   "execution_count": 33,
   "metadata": {},
   "outputs": [
    {
     "data": {
      "text/plain": [
       "<matplotlib.axes._subplots.AxesSubplot at 0x20a3c89fb00>"
      ]
     },
     "execution_count": 33,
     "metadata": {},
     "output_type": "execute_result"
    }
   ],
   "source": [
    "dfACTSAT.plot.scatter('ACT_READ', 'ACT_SCIRE')"
   ]
  },
  {
   "cell_type": "code",
   "execution_count": 35,
   "metadata": {},
   "outputs": [],
   "source": [
    "import matplotlib.pyplot as plt"
   ]
  },
  {
   "cell_type": "code",
   "execution_count": 36,
   "metadata": {},
   "outputs": [
    {
     "data": {
      "text/plain": [
       "<matplotlib.axes._subplots.AxesSubplot at 0x20a3ca3def0>"
      ]
     },
     "execution_count": 36,
     "metadata": {},
     "output_type": "execute_result"
    }
   ],
   "source": [
    "dfACTSAT.plot.scatter('ACT_READ', 'ACT_SCIRE')"
   ]
  },
  {
   "cell_type": "code",
   "execution_count": 37,
   "metadata": {},
   "outputs": [
    {
     "data": {
      "image/png": "[encoded data removed]",
      "text/plain": [
       "<matplotlib.figure.Figure at 0x20a3c883dd8>"
      ]
     },
     "metadata": {},
     "output_type": "display_data"
    },
    {
     "data": {
      "image/png": "[encoded data removed]",
      "text/plain": [
       "<matplotlib.figure.Figure at 0x20a3ca52eb8>"
      ]
     },
     "metadata": {},
     "output_type": "display_data"
    }
   ],
   "source": [
    "plt.show()"
   ]
  },
  {
   "cell_type": "code",
   "execution_count": null,
   "metadata": {
    "collapsed": true
   },
   "outputs": [],
   "source": []
  }
 ],
 "metadata": {
  "kernelspec": {
   "display_name": "Python [default]",
   "language": "python",
   "name": "python3"
  },
  "language_info": {
   "codemirror_mode": {
    "name": "ipython",
    "version": 3
   },
   "file_extension": ".py",
   "mimetype": "text/x-python",
   "name": "python",
   "nbconvert_exporter": "python",
   "pygments_lexer": "ipython3",
   "version": "3.5.5"
  }
 },
 "nbformat": 4,
 "nbformat_minor": 2
}
