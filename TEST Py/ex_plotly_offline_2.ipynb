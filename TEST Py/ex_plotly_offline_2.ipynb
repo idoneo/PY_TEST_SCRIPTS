{
 "cells": [
  {
   "cell_type": "code",
   "execution_count": 1,
   "metadata": {},
   "outputs": [
    {
     "data": {
      "text/html": [
       "<script>requirejs.config({paths: { 'plotly': ['https://cdn.plot.ly/plotly-latest.min']},});if(!window.Plotly) {{require(['plotly'],function(plotly) {window.Plotly=plotly;});}}</script>"
      ],
      "text/vnd.plotly.v1+html": [
       "<script>requirejs.config({paths: { 'plotly': ['https://cdn.plot.ly/plotly-latest.min']},});if(!window.Plotly) {{require(['plotly'],function(plotly) {window.Plotly=plotly;});}}</script>"
      ]
     },
     "metadata": {},
     "output_type": "display_data"
    }
   ],
   "source": [
    "import plotly as py\n",
    "import plotly.graph_objs as go\n",
    "import ipywidgets as widgets\n",
    "import numpy as np\n",
    "import pandas as pd\n",
    "\n",
    "py.offline.init_notebook_mode(connected = True)"
   ]
  },
  {
   "cell_type": "code",
   "execution_count": 2,
   "metadata": {},
   "outputs": [],
   "source": [
    "VZ2= pd.read_excel('/Users/Bemi2/Desktop/Plotly/Neig_extract.xlsx',dtype ={'CRASHNUM':str})"
   ]
  },
  {
   "cell_type": "code",
   "execution_count": 3,
   "metadata": {},
   "outputs": [
    {
     "data": {
      "text/html": [
       "<div>\n",
       "<style scoped>\n",
       "    .dataframe tbody tr th:only-of-type {\n",
       "        vertical-align: middle;\n",
       "    }\n",
       "\n",
       "    .dataframe tbody tr th {\n",
       "        vertical-align: top;\n",
       "    }\n",
       "\n",
       "    .dataframe thead th {\n",
       "        text-align: right;\n",
       "    }\n",
       "</style>\n",
       "<table border=\"1\" class=\"dataframe\">\n",
       "  <thead>\n",
       "    <tr style=\"text-align: right;\">\n",
       "      <th></th>\n",
       "      <th>CRASHNUM</th>\n",
       "      <th>COUNT</th>\n",
       "      <th>DR_AGE</th>\n",
       "      <th>VEH_SPEED</th>\n",
       "      <th>Speed_LIMIT</th>\n",
       "      <th>CALYEAR</th>\n",
       "      <th>DAYOFWEEK</th>\n",
       "      <th>WEATH</th>\n",
       "      <th>LTCOND</th>\n",
       "      <th>NEIGHBORHOOD</th>\n",
       "      <th>Ped_AGE</th>\n",
       "    </tr>\n",
       "  </thead>\n",
       "  <tbody>\n",
       "    <tr>\n",
       "      <th>0</th>\n",
       "      <td>818743120</td>\n",
       "      <td>1</td>\n",
       "      <td>40</td>\n",
       "      <td>35</td>\n",
       "      <td>40</td>\n",
       "      <td>2011</td>\n",
       "      <td>Saturday</td>\n",
       "      <td>clear</td>\n",
       "      <td>dark-lighted</td>\n",
       "      <td>Coral Gables</td>\n",
       "      <td>60</td>\n",
       "    </tr>\n",
       "    <tr>\n",
       "      <th>1</th>\n",
       "      <td>817219370</td>\n",
       "      <td>1</td>\n",
       "      <td>0</td>\n",
       "      <td>5</td>\n",
       "      <td>35</td>\n",
       "      <td>2011</td>\n",
       "      <td>Sunday</td>\n",
       "      <td>clear</td>\n",
       "      <td>daylight</td>\n",
       "      <td>North Miami Beach</td>\n",
       "      <td>56</td>\n",
       "    </tr>\n",
       "    <tr>\n",
       "      <th>2</th>\n",
       "      <td>818746210</td>\n",
       "      <td>1</td>\n",
       "      <td>29</td>\n",
       "      <td>10</td>\n",
       "      <td>30</td>\n",
       "      <td>2011</td>\n",
       "      <td>Friday</td>\n",
       "      <td>clear</td>\n",
       "      <td>dark-lighted</td>\n",
       "      <td>Coral Gables</td>\n",
       "      <td>30</td>\n",
       "    </tr>\n",
       "    <tr>\n",
       "      <th>3</th>\n",
       "      <td>817219810</td>\n",
       "      <td>1</td>\n",
       "      <td>58</td>\n",
       "      <td>10</td>\n",
       "      <td>35</td>\n",
       "      <td>2011</td>\n",
       "      <td>Monday</td>\n",
       "      <td>clear</td>\n",
       "      <td>dark-lighted</td>\n",
       "      <td>North Miami Beach</td>\n",
       "      <td>43</td>\n",
       "    </tr>\n",
       "    <tr>\n",
       "      <th>4</th>\n",
       "      <td>815569390</td>\n",
       "      <td>1</td>\n",
       "      <td>50</td>\n",
       "      <td>10</td>\n",
       "      <td>25</td>\n",
       "      <td>2011</td>\n",
       "      <td>Monday</td>\n",
       "      <td>clear</td>\n",
       "      <td>daylight</td>\n",
       "      <td>Bay Harbor Islands</td>\n",
       "      <td>44</td>\n",
       "    </tr>\n",
       "  </tbody>\n",
       "</table>\n",
       "</div>"
      ],
      "text/plain": [
       "    CRASHNUM  COUNT  DR_AGE  VEH_SPEED  Speed_LIMIT  CALYEAR DAYOFWEEK  WEATH  \\\n",
       "0  818743120      1      40         35           40     2011  Saturday  clear   \n",
       "1  817219370      1       0          5           35     2011    Sunday  clear   \n",
       "2  818746210      1      29         10           30     2011    Friday  clear   \n",
       "3  817219810      1      58         10           35     2011    Monday  clear   \n",
       "4  815569390      1      50         10           25     2011    Monday  clear   \n",
       "\n",
       "         LTCOND        NEIGHBORHOOD  Ped_AGE  \n",
       "0  dark-lighted        Coral Gables       60  \n",
       "1      daylight   North Miami Beach       56  \n",
       "2  dark-lighted        Coral Gables       30  \n",
       "3  dark-lighted   North Miami Beach       43  \n",
       "4      daylight  Bay Harbor Islands       44  "
      ]
     },
     "execution_count": 3,
     "metadata": {},
     "output_type": "execute_result"
    }
   ],
   "source": [
    "VZ2.head()"
   ]
  },
  {
   "cell_type": "code",
   "execution_count": 4,
   "metadata": {},
   "outputs": [],
   "source": [
    "from plotly.graph_objs import *"
   ]
  },
  {
   "cell_type": "code",
   "execution_count": 5,
   "metadata": {},
   "outputs": [],
   "source": [
    "# for filtering out 0 from a list USE list(filter(lambda a: a != 0 , x))"
   ]
  },
  {
   "cell_type": "code",
   "execution_count": 6,
   "metadata": {},
   "outputs": [],
   "source": [
    "import cufflinks as cf"
   ]
  },
  {
   "cell_type": "code",
   "execution_count": 8,
   "metadata": {},
   "outputs": [
    {
     "data": {
      "text/plain": [
       "Index(['CRASHNUM', 'COUNT', 'DR_AGE', 'VEH_SPEED', 'Speed_LIMIT', 'CALYEAR',\n",
       "       'DAYOFWEEK', 'WEATH', 'LTCOND', 'NEIGHBORHOOD', 'Ped_AGE'],\n",
       "      dtype='object')"
      ]
     },
     "execution_count": 8,
     "metadata": {},
     "output_type": "execute_result"
    }
   ],
   "source": [
    "VZ2.columns"
   ]
  },
  {
   "cell_type": "code",
   "execution_count": 9,
   "metadata": {},
   "outputs": [],
   "source": [
    "AGE = VZ2[['DR_AGE','Ped_AGE']]"
   ]
  },
  {
   "cell_type": "code",
   "execution_count": 13,
   "metadata": {
    "collapsed": true
   },
   "outputs": [
    {
     "data": {
      "text/html": [
       "<div>\n",
       "<style scoped>\n",
       "    .dataframe tbody tr th:only-of-type {\n",
       "        vertical-align: middle;\n",
       "    }\n",
       "\n",
       "    .dataframe tbody tr th {\n",
       "        vertical-align: top;\n",
       "    }\n",
       "\n",
       "    .dataframe thead th {\n",
       "        text-align: right;\n",
       "    }\n",
       "</style>\n",
       "<table border=\"1\" class=\"dataframe\">\n",
       "  <thead>\n",
       "    <tr style=\"text-align: right;\">\n",
       "      <th></th>\n",
       "      <th>DR_AGE</th>\n",
       "      <th>Ped_AGE</th>\n",
       "    </tr>\n",
       "  </thead>\n",
       "  <tbody>\n",
       "    <tr>\n",
       "      <th>0</th>\n",
       "      <td>40</td>\n",
       "      <td>60</td>\n",
       "    </tr>\n",
       "    <tr>\n",
       "      <th>1</th>\n",
       "      <td>0</td>\n",
       "      <td>56</td>\n",
       "    </tr>\n",
       "    <tr>\n",
       "      <th>2</th>\n",
       "      <td>29</td>\n",
       "      <td>30</td>\n",
       "    </tr>\n",
       "    <tr>\n",
       "      <th>3</th>\n",
       "      <td>58</td>\n",
       "      <td>43</td>\n",
       "    </tr>\n",
       "    <tr>\n",
       "      <th>4</th>\n",
       "      <td>50</td>\n",
       "      <td>44</td>\n",
       "    </tr>\n",
       "  </tbody>\n",
       "</table>\n",
       "</div>"
      ],
      "text/plain": [
       "   DR_AGE  Ped_AGE\n",
       "0      40       60\n",
       "1       0       56\n",
       "2      29       30\n",
       "3      58       43\n",
       "4      50       44"
      ]
     },
     "execution_count": 13,
     "metadata": {},
     "output_type": "execute_result"
    }
   ],
   "source": [
    "AGE.head()"
   ]
  },
  {
   "cell_type": "code",
   "execution_count": 18,
   "metadata": {
    "collapsed": true
   },
   "outputs": [
    {
     "data": {
      "text/plain": [
       "<bound method DataFrame.info of       DR_AGE  Ped_AGE\n",
       "0         40       60\n",
       "1          0       56\n",
       "2         29       30\n",
       "3         58       43\n",
       "4         50       44\n",
       "5         24       38\n",
       "6          0       27\n",
       "7         64       35\n",
       "8         21       46\n",
       "9         24       52\n",
       "10        55       43\n",
       "11        48       38\n",
       "12        62       25\n",
       "13        30       21\n",
       "14        22       41\n",
       "15        50       38\n",
       "16        26       53\n",
       "17        18       70\n",
       "18        49       21\n",
       "19         0       43\n",
       "20        31       30\n",
       "21         0       67\n",
       "22        40       14\n",
       "23        72       47\n",
       "24        63       52\n",
       "25        52       61\n",
       "26        46       22\n",
       "27        25       56\n",
       "28        34       18\n",
       "29        42       21\n",
       "...      ...      ...\n",
       "3297      47       42\n",
       "3298      26       52\n",
       "3299      50       20\n",
       "3300      24       35\n",
       "3301      30       42\n",
       "3302      23       21\n",
       "3303      86       52\n",
       "3304      65       66\n",
       "3305      25       31\n",
       "3306      65       60\n",
       "3307       0       54\n",
       "3308      34       30\n",
       "3309      25       35\n",
       "3310       0       39\n",
       "3311       0       28\n",
       "3312       0       55\n",
       "3313      55       52\n",
       "3314      69       57\n",
       "3315      39       69\n",
       "3316      81       55\n",
       "3317      22        0\n",
       "3318      47       79\n",
       "3319      62       19\n",
       "3320       0       38\n",
       "3321      40       46\n",
       "3322      53       41\n",
       "3323      83       63\n",
       "3324      33       28\n",
       "3325      77       63\n",
       "3326      23       35\n",
       "\n",
       "[3327 rows x 2 columns]>"
      ]
     },
     "execution_count": 18,
     "metadata": {},
     "output_type": "execute_result"
    }
   ],
   "source": [
    "AGE.info\n"
   ]
  },
  {
   "cell_type": "code",
   "execution_count": 17,
   "metadata": {},
   "outputs": [
    {
     "ename": "SyntaxError",
     "evalue": "invalid syntax (<ipython-input-17-e7ab3d123f07>, line 2)",
     "output_type": "error",
     "traceback": [
      "\u001b[0;36m  File \u001b[0;32m\"<ipython-input-17-e7ab3d123f07>\"\u001b[0;36m, line \u001b[0;32m2\u001b[0m\n\u001b[0;31m    AGE.iplot(filename ='cf-charted',layout =layout)\u001b[0m\n\u001b[0m      ^\u001b[0m\n\u001b[0;31mSyntaxError\u001b[0m\u001b[0;31m:\u001b[0m invalid syntax\n"
     ]
    }
   ],
   "source": [
    "layout = dict(title = \"cufflinks pd\", xaxis = dict(title= 'x'), yaxis= dict(title ='y')\n",
    "AGE.iplot(filename ='cf-charted',layout =layout)"
   ]
  },
  {
   "cell_type": "code",
   "execution_count": null,
   "metadata": {},
   "outputs": [],
   "source": []
  }
 ],
 "metadata": {
  "kernelspec": {
   "display_name": "Python [conda env:Anaconda3]",
   "language": "python",
   "name": "conda-env-Anaconda3-py"
  },
  "language_info": {
   "codemirror_mode": {
    "name": "ipython",
    "version": 3
   },
   "file_extension": ".py",
   "mimetype": "text/x-python",
   "name": "python",
   "nbconvert_exporter": "python",
   "pygments_lexer": "ipython3",
   "version": "3.6.5"
  }
 },
 "nbformat": 4,
 "nbformat_minor": 2
}
