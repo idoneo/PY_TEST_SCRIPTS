{
 "cells": [
  {
   "cell_type": "code",
   "execution_count": 1,
   "metadata": {},
   "outputs": [
    {
     "data": {
      "text/plain": [
       "' def file_len (fname):\\n         with opne(fname) as f:\\n             for i,l in enumerate(f):\\n                 pass\\n        return i + 1 '"
      ]
     },
     "execution_count": 1,
     "metadata": {},
     "output_type": "execute_result"
    }
   ],
   "source": [
    "# count the number of lines in a file\n",
    "\"\"\" def file_len (fname):\n",
    "         with open(fname) as f:\n",
    "             for i,l in enumerate(f):\n",
    "                 pass\n",
    "        return i + 1 \"\"\""
   ]
  },
  {
   "cell_type": "code",
   "execution_count": 2,
   "metadata": {},
   "outputs": [
    {
     "data": {
      "text/plain": [
       "\"with open('data.txt', 'r') as f:\\n    lines = f.readlines()\\n    num_lines = len([l for l in lines if l.strip('\\n')!= ''])\""
      ]
     },
     "execution_count": 2,
     "metadata": {},
     "output_type": "execute_result"
    }
   ],
   "source": [
    "\"\"\"with open('<path to file>', 'r') as f:\n",
    "    lines = f.readlines()\n",
    "    num_lines = len([l for l in lines if l.strip('\\n')!= ''])\"\"\""
   ]
  },
  {
   "cell_type": "code",
   "execution_count": 3,
   "metadata": {},
   "outputs": [],
   "source": [
    "import numpy as np\n",
    "import pandas as pd"
   ]
  },
  {
   "cell_type": "code",
   "execution_count": 5,
   "metadata": {},
   "outputs": [],
   "source": [
    "with open ('C:/Users/mjc341/Desktop/TESTPY/MELT REPORT V37.txt', 'r')as f:\n",
    " lines = f.readlines()\n",
    "num_lines = len([l for l in lines if l.strip('\\n')!= ''])"
   ]
  },
  {
   "cell_type": "code",
   "execution_count": 6,
   "metadata": {},
   "outputs": [
    {
     "name": "stdout",
     "output_type": "stream",
     "text": [
      "422\n"
     ]
    }
   ],
   "source": [
    "print(num_lines)"
   ]
  },
  {
   "cell_type": "code",
   "execution_count": 9,
   "metadata": {},
   "outputs": [
    {
     "name": "stdout",
     "output_type": "stream",
     "text": [
      "484\n"
     ]
    }
   ],
   "source": [
    "with open('C:/Users/mjc341/Desktop/TESTPY/MELT REPORT V37.txt') as f:\n",
    " x= len(f.readlines())\n",
    "print(x)\n",
    "        "
   ]
  },
  {
   "cell_type": "code",
   "execution_count": 10,
   "metadata": {},
   "outputs": [
    {
     "name": "stdout",
     "output_type": "stream",
     "text": [
      "484\n"
     ]
    }
   ],
   "source": [
    "ct_lines = sum(1 for line in open('C:/Users/mjc341/Desktop/TESTPY/MELT REPORT V37.txt'))\n",
    "print(ct_lines)"
   ]
  },
  {
   "cell_type": "code",
   "execution_count": 12,
   "metadata": {},
   "outputs": [
    {
     "name": "stdout",
     "output_type": "stream",
     "text": [
      "484\n"
     ]
    }
   ],
   "source": [
    "with open('C:/Users/mjc341/Desktop/TESTPY/MELT REPORT V37.txt') as myfile:\n",
    "    ct = sum(1 for line in myfile)\n",
    "print(ct)"
   ]
  },
  {
   "cell_type": "code",
   "execution_count": 14,
   "metadata": {},
   "outputs": [
    {
     "name": "stdout",
     "output_type": "stream",
     "text": [
      "422\n"
     ]
    }
   ],
   "source": [
    "with open('C:/Users/mjc341/Desktop/TESTPY/MELT REPORT V37.txt') as myfile:\n",
    " noblanks = sum(1 for line in myfile if line.rstrip('\\n'))\n",
    "print(noblanks)"
   ]
  },
  {
   "cell_type": "code",
   "execution_count": 15,
   "metadata": {},
   "outputs": [
    {
     "name": "stdout",
     "output_type": "stream",
     "text": [
      "484\n"
     ]
    }
   ],
   "source": [
    "total_line_count = sum(1 for line in open('C:/Users/mjc341/Desktop/TESTPY/MELT REPORT V37.txt'))\n",
    "\n",
    "print(total_line_count)"
   ]
  },
  {
   "cell_type": "code",
   "execution_count": 16,
   "metadata": {},
   "outputs": [
    {
     "name": "stdout",
     "output_type": "stream",
     "text": [
      "484\n"
     ]
    }
   ],
   "source": [
    "    file = open('C:/Users/mjc341/Desktop/TESTPY/MELT REPORT V37.txt','r')\n",
    "    count = 0\n",
    "    for line in file:\n",
    "            count+=1\n",
    "\n",
    "    print (count)"
   ]
  },
  {
   "cell_type": "code",
   "execution_count": 20,
   "metadata": {},
   "outputs": [
    {
     "name": "stdout",
     "output_type": "stream",
     "text": [
      "number of NON BLANK lines =  415\n"
     ]
    }
   ],
   "source": [
    "with open('C:/Users/mjc341/Desktop/TESTPY/MELT REPORT V37.txt') as file:\n",
    "  lines =[\n",
    "            line.strip()\n",
    "            for line in file\n",
    "             if line.strip() != '']\n",
    "print(\"number of NON BLANK lines =  {}\".format(len(lines)))"
   ]
  },
  {
   "cell_type": "code",
   "execution_count": 19,
   "metadata": {},
   "outputs": [
    {
     "name": "stdout",
     "output_type": "stream",
     "text": [
      "484\n"
     ]
    }
   ],
   "source": [
    "a=open('C:/Users/mjc341/Desktop/TESTPY/MELT REPORT V37.txt','r')\n",
    "l=a.read()\n",
    "count=l.splitlines()\n",
    "print(len(count))"
   ]
  },
  {
   "cell_type": "code",
   "execution_count": 21,
   "metadata": {},
   "outputs": [],
   "source": [
    "t = len(open('C:/Users/mjc341/Desktop/TESTPY/MELT REPORT V37.txt').readlines(  ))"
   ]
  },
  {
   "cell_type": "code",
   "execution_count": 23,
   "metadata": {},
   "outputs": [
    {
     "name": "stdout",
     "output_type": "stream",
     "text": [
      "484\n"
     ]
    }
   ],
   "source": [
    "print(t)"
   ]
  },
  {
   "cell_type": "code",
   "execution_count": 26,
   "metadata": {},
   "outputs": [
    {
     "name": "stdout",
     "output_type": "stream",
     "text": [
      "484\n"
     ]
    }
   ],
   "source": [
    "count = 0\n",
    "for line in open('C:/Users/mjc341/Desktop/TESTPY/MELT REPORT V37.txt', \"r\"):\n",
    "     count = count + 1\n",
    "print(count)"
   ]
  },
  {
   "cell_type": "code",
   "execution_count": 27,
   "metadata": {},
   "outputs": [
    {
     "data": {
      "text/plain": [
       "\"create an input string to read through a number of txt files in a folder\\nin_file = raw_input !ENTER File NAME:  !\\nin_filename =  open pat + in_file,  !r!\\ntext = in_file.read()\\nlines = text.count('\\n')\\nprint !There are! lines !in!, in_filename\""
      ]
     },
     "execution_count": 27,
     "metadata": {},
     "output_type": "execute_result"
    }
   ],
   "source": [
    "\"\"\"create an input string to read through a number of txt files in a folder\n",
    "in_file = raw_input !ENTER File NAME:  !\n",
    "in_filename =  open pat + in_file,  !r!\n",
    "text = in_file.read()\n",
    "lines = text.count('\\n')\n",
    "print !There are! lines !in!, in_filename\"\"\""
   ]
  },
  {
   "cell_type": "code",
   "execution_count": null,
   "metadata": {},
   "outputs": [],
   "source": [
    "in_filename = input (\"ENTER File NAME:  \")\n",
    "in_file =  open ('C:/Users/mjc341/Desktop/TESTPY/'+ in_filename,  \"r\")\n",
    "text = in_file.read()\n",
    "lines = text.count('\\n')\n",
    "print (\"There are\", lines, \"lines in\", in_filename)"
   ]
  },
  {
   "cell_type": "code",
   "execution_count": null,
   "metadata": {},
   "outputs": [],
   "source": []
  },
  {
   "cell_type": "code",
   "execution_count": 1,
   "metadata": {},
   "outputs": [
    {
     "name": "stdout",
     "output_type": "stream",
     "text": [
      "Enter File Name:  MELT REPORT V37.txt\n",
      "There are 483 lines in MELT REPORT V37.txt\n"
     ]
    }
   ],
   "source": [
    "in_filename = input (\"Enter File Name:  \")\n",
    "in_file =  open ('C:/Users/mjc341/Desktop/TESTPY/'+ in_filename,  \"r\")\n",
    "text = in_file.read()\n",
    "lines = text.count('\\n')\n",
    "print (\"There are\", lines, \"lines in\", in_filename)"
   ]
  },
  {
   "cell_type": "code",
   "execution_count": null,
   "metadata": {},
   "outputs": [],
   "source": []
  }
 ],
 "metadata": {
  "kernelspec": {
   "display_name": "Python [conda env:Anaconda3]",
   "language": "python",
   "name": "conda-env-Anaconda3-py"
  },
  "language_info": {
   "codemirror_mode": {
    "name": "ipython",
    "version": 3
   },
   "file_extension": ".py",
   "mimetype": "text/x-python",
   "name": "python",
   "nbconvert_exporter": "python",
   "pygments_lexer": "ipython3",
   "version": "3.6.5"
  }
 },
 "nbformat": 4,
 "nbformat_minor": 2
}
