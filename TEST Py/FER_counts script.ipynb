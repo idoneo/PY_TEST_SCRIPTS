{
 "cells": [
  {
   "cell_type": "code",
   "execution_count": 1,
   "metadata": {},
   "outputs": [],
   "source": [
    "import numpy as np\n",
    "import pandas as pd\n",
    "import matplotlib.pyplot as plt\n",
    "import csv\n",
    "import glob"
   ]
  },
  {
   "cell_type": "code",
   "execution_count": 2,
   "metadata": {},
   "outputs": [],
   "source": [
    "path = path = r'C:/Users/mjc341/Desktop/FER Downloads/Export'\n",
    "path_final = r'C:Users/mjc341/Desktop/FER Downloads/Export/Final'\n",
    "filenames = glob.glob (path + \"/Export_Job1_*_06-02.csv\")\n",
    "filenames2 =glob.glob (path + \"/Export_Job1_*_23-48.csv\")"
   ]
  },
  {
   "cell_type": "code",
   "execution_count": 11,
   "metadata": {},
   "outputs": [
    {
     "data": {
      "text/plain": [
       "25"
      ]
     },
     "execution_count": 11,
     "metadata": {},
     "output_type": "execute_result"
    }
   ],
   "source": [
    "len(filenames)"
   ]
  },
  {
   "cell_type": "code",
   "execution_count": 12,
   "metadata": {},
   "outputs": [
    {
     "data": {
      "text/plain": [
       "1"
      ]
     },
     "execution_count": 12,
     "metadata": {},
     "output_type": "execute_result"
    }
   ],
   "source": [
    "len(filenames2)"
   ]
  },
  {
   "cell_type": "code",
   "execution_count": 13,
   "metadata": {
    "collapsed": true
   },
   "outputs": [
    {
     "name": "stdout",
     "output_type": "stream",
     "text": [
      "189\n",
      "78\n",
      "473\n",
      "5386\n",
      "792\n",
      "1368\n",
      "843\n",
      "372\n",
      "829\n",
      "151\n",
      "589\n",
      "353\n",
      "384\n",
      "75\n",
      "373\n",
      "77\n",
      "528\n",
      "622\n",
      "315\n",
      "51\n",
      "32\n",
      "1019\n",
      "301\n",
      "43\n"
     ]
    },
    {
     "ename": "TypeError",
     "evalue": "expected str, bytes or os.PathLike object, not list",
     "output_type": "error",
     "traceback": [
      "\u001b[1;31m---------------------------------------------------------------------------\u001b[0m",
      "\u001b[1;31mTypeError\u001b[0m                                 Traceback (most recent call last)",
      "\u001b[1;32m<ipython-input-13-44fcb08d2b74>\u001b[0m in \u001b[0;36m<module>\u001b[1;34m()\u001b[0m\n\u001b[0;32m      1\u001b[0m \u001b[1;32mfor\u001b[0m \u001b[0mi\u001b[0m \u001b[1;32min\u001b[0m \u001b[0mfilenames\u001b[0m\u001b[1;33m:\u001b[0m\u001b[1;33m\u001b[0m\u001b[0m\n\u001b[1;32m----> 2\u001b[1;33m     \u001b[1;32mwith\u001b[0m \u001b[0mopen\u001b[0m\u001b[1;33m(\u001b[0m\u001b[0mi\u001b[0m\u001b[1;33m,\u001b[0m\u001b[1;34m\"r\"\u001b[0m\u001b[1;33m)\u001b[0m \u001b[1;32mas\u001b[0m \u001b[0mf\u001b[0m\u001b[1;33m:\u001b[0m\u001b[1;33m\u001b[0m\u001b[0m\n\u001b[0m\u001b[0;32m      3\u001b[0m         \u001b[0mreader\u001b[0m \u001b[1;33m=\u001b[0m \u001b[0mcsv\u001b[0m\u001b[1;33m.\u001b[0m\u001b[0mreader\u001b[0m\u001b[1;33m(\u001b[0m\u001b[0mf\u001b[0m\u001b[1;33m,\u001b[0m\u001b[0mdelimiter\u001b[0m \u001b[1;33m=\u001b[0m \u001b[1;34m\",\"\u001b[0m\u001b[1;33m)\u001b[0m\u001b[1;33m\u001b[0m\u001b[0m\n\u001b[0;32m      4\u001b[0m         \u001b[0mdata\u001b[0m \u001b[1;33m=\u001b[0m \u001b[0mlist\u001b[0m\u001b[1;33m(\u001b[0m\u001b[0mreader\u001b[0m\u001b[1;33m)\u001b[0m\u001b[1;33m\u001b[0m\u001b[0m\n\u001b[0;32m      5\u001b[0m         \u001b[0mrow_count\u001b[0m \u001b[1;33m=\u001b[0m \u001b[0mlen\u001b[0m\u001b[1;33m(\u001b[0m\u001b[0mdata\u001b[0m\u001b[1;33m)\u001b[0m\u001b[1;33m-\u001b[0m\u001b[1;36m1\u001b[0m\u001b[1;33m\u001b[0m\u001b[0m\n",
      "\u001b[1;31mTypeError\u001b[0m: expected str, bytes or os.PathLike object, not list"
     ]
    }
   ],
   "source": [
    "for i in filenames:\n",
    "    with open(i,\"r\") as f:\n",
    "        reader = csv.reader(f,delimiter = \",\")\n",
    "        data = list(reader)\n",
    "        row_count = len(data)-1\n",
    "        print(row_count)"
   ]
  },
  {
   "cell_type": "code",
   "execution_count": 18,
   "metadata": {},
   "outputs": [
    {
     "name": "stdout",
     "output_type": "stream",
     "text": [
      "105\n"
     ]
    }
   ],
   "source": [
    "for i in filenames2:\n",
    "    with open(i,\"r\") as f:\n",
    "        reader = csv.reader(f,delimiter = \",\")\n",
    "        data = list(reader)\n",
    "        row_count = len(data)-1\n",
    "        print(row_count)"
   ]
  },
  {
   "cell_type": "code",
   "execution_count": 19,
   "metadata": {
    "collapsed": true
   },
   "outputs": [
    {
     "ename": "TypeError",
     "evalue": "expected str, bytes or os.PathLike object, not list",
     "output_type": "error",
     "traceback": [
      "\u001b[1;31m---------------------------------------------------------------------------\u001b[0m",
      "\u001b[1;31mTypeError\u001b[0m                                 Traceback (most recent call last)",
      "\u001b[1;32m<ipython-input-19-6621fd221814>\u001b[0m in \u001b[0;36m<module>\u001b[1;34m()\u001b[0m\n\u001b[0;32m      1\u001b[0m \u001b[0mList_COUNT\u001b[0m \u001b[1;33m=\u001b[0m \u001b[1;33m[\u001b[0m\u001b[1;33m]\u001b[0m\u001b[1;33m\u001b[0m\u001b[0m\n\u001b[0;32m      2\u001b[0m \u001b[1;32mfor\u001b[0m \u001b[0mi\u001b[0m \u001b[1;32min\u001b[0m \u001b[0mfilenames\u001b[0m\u001b[1;33m:\u001b[0m\u001b[1;33m\u001b[0m\u001b[0m\n\u001b[1;32m----> 3\u001b[1;33m     \u001b[1;32mwith\u001b[0m \u001b[0mopen\u001b[0m\u001b[1;33m(\u001b[0m\u001b[0mi\u001b[0m\u001b[1;33m,\u001b[0m\u001b[1;34m\"r\"\u001b[0m\u001b[1;33m)\u001b[0m \u001b[1;32mas\u001b[0m \u001b[0mf\u001b[0m\u001b[1;33m:\u001b[0m\u001b[1;33m\u001b[0m\u001b[0m\n\u001b[0m\u001b[0;32m      4\u001b[0m         \u001b[0mreader\u001b[0m \u001b[1;33m=\u001b[0m \u001b[0mcsv\u001b[0m\u001b[1;33m.\u001b[0m\u001b[0mreader\u001b[0m\u001b[1;33m(\u001b[0m\u001b[0mf\u001b[0m\u001b[1;33m,\u001b[0m\u001b[0mdelimiter\u001b[0m \u001b[1;33m=\u001b[0m \u001b[1;34m\",\"\u001b[0m\u001b[1;33m)\u001b[0m\u001b[1;33m\u001b[0m\u001b[0m\n\u001b[0;32m      5\u001b[0m         \u001b[0mdata\u001b[0m \u001b[1;33m=\u001b[0m \u001b[0mlist\u001b[0m\u001b[1;33m(\u001b[0m\u001b[0mreader\u001b[0m\u001b[1;33m)\u001b[0m\u001b[1;33m\u001b[0m\u001b[0m\n",
      "\u001b[1;31mTypeError\u001b[0m: expected str, bytes or os.PathLike object, not list"
     ]
    }
   ],
   "source": [
    "List_COUNT = []\n",
    "for i in filenames:\n",
    "    with open(i,\"r\") as f:\n",
    "        reader = csv.reader(f,delimiter = \",\")\n",
    "        data = list(reader)\n",
    "        row_count = len(data)-1\n",
    "        List_COUNT.append(row_count)"
   ]
  },
  {
   "cell_type": "code",
   "execution_count": 20,
   "metadata": {},
   "outputs": [
    {
     "name": "stdout",
     "output_type": "stream",
     "text": [
      "15348\n"
     ]
    }
   ],
   "source": [
    "sum_FER=(sum(List_COUNT))+105\n",
    "print (sum_FER)"
   ]
  },
  {
   "cell_type": "code",
   "execution_count": 25,
   "metadata": {},
   "outputs": [],
   "source": [
    "path = path = r'C:/Users/mjc341/Desktop/FER Downloads/LEADS'\n",
    "path_final = r'C:Users/mjc341/Desktop/FER Downloads/LEADS/Final'\n",
    "leadnames = glob.glob (path + \"/leads_wv1&2_2018/*.csv\")\n"
   ]
  },
  {
   "cell_type": "code",
   "execution_count": 26,
   "metadata": {},
   "outputs": [
    {
     "data": {
      "text/plain": [
       "['C:/Users/mjc341/Desktop/FER Downloads/LEADS/leads_wv1&2_2018\\\\Univ Miami 19-21 Wave 1 - Purchased Record Return File - 2017 1208.csv',\n",
       " 'C:/Users/mjc341/Desktop/FER Downloads/LEADS/leads_wv1&2_2018\\\\Univ Miami Senior 2018 Wave 1 - Purchased Record Return File - 2017_0720_Leads.csv',\n",
       " 'C:/Users/mjc341/Desktop/FER Downloads/LEADS/leads_wv1&2_2018\\\\Univ Miami Senior 2018 Wave 2-Purchased Record Return File-2017_13223.csv']"
      ]
     },
     "execution_count": 26,
     "metadata": {},
     "output_type": "execute_result"
    }
   ],
   "source": [
    "leadnames"
   ]
  },
  {
   "cell_type": "code",
   "execution_count": 27,
   "metadata": {},
   "outputs": [
    {
     "data": {
      "text/plain": [
       "3"
      ]
     },
     "execution_count": 27,
     "metadata": {},
     "output_type": "execute_result"
    }
   ],
   "source": [
    "len(leadnames)"
   ]
  },
  {
   "cell_type": "code",
   "execution_count": 28,
   "metadata": {},
   "outputs": [
    {
     "name": "stdout",
     "output_type": "stream",
     "text": [
      "66480\n",
      "48744\n",
      "13223\n"
     ]
    }
   ],
   "source": [
    "for i in leadnames:\n",
    "    with open(i,\"r\") as f:\n",
    "        reader = csv.reader(f,delimiter = \",\")\n",
    "        data = list(reader)\n",
    "        row_count = len(data)-1\n",
    "        print(row_count)"
   ]
  },
  {
   "cell_type": "code",
   "execution_count": 29,
   "metadata": {},
   "outputs": [],
   "source": [
    "LEAD_COUNT =[]"
   ]
  },
  {
   "cell_type": "code",
   "execution_count": 30,
   "metadata": {},
   "outputs": [],
   "source": [
    "LEAD_COUNT.append(row_count)"
   ]
  },
  {
   "cell_type": "code",
   "execution_count": 31,
   "metadata": {},
   "outputs": [
    {
     "name": "stdout",
     "output_type": "stream",
     "text": [
      "[13223]\n"
     ]
    }
   ],
   "source": [
    "print(LEAD_COUNT)"
   ]
  },
  {
   "cell_type": "code",
   "execution_count": 32,
   "metadata": {},
   "outputs": [
    {
     "name": "stdout",
     "output_type": "stream",
     "text": [
      "[13223, 66480]\n",
      "[13223, 66480, 48744]\n",
      "[13223, 66480, 48744, 13223]\n"
     ]
    }
   ],
   "source": [
    "for i in leadnames:\n",
    "    with open(i,\"r\") as f:\n",
    "        reader = csv.reader(f,delimiter = \",\")\n",
    "        data = list(reader)\n",
    "        row_count = len(data)-1\n",
    "        LEAD_COUNT.append(row_count)\n",
    "        print(LEAD_COUNT)"
   ]
  },
  {
   "cell_type": "code",
   "execution_count": 33,
   "metadata": {},
   "outputs": [
    {
     "name": "stdout",
     "output_type": "stream",
     "text": [
      "128447\n"
     ]
    }
   ],
   "source": [
    "LEAD_SUM = [66480, 48744, 13223]\n",
    "TotalLeadSUM = sum(LEAD_SUM)\n",
    "print(TotalLeadSUM)"
   ]
  },
  {
   "cell_type": "code",
   "execution_count": 35,
   "metadata": {
    "collapsed": true
   },
   "outputs": [
    {
     "name": "stdout",
     "output_type": "stream",
     "text": [
      "C:/Users/mjc341/Desktop/FER Downloads/LEADS/leads_wv1&2_2018\\Univ Miami 19-21 Wave 1 - Purchased Record Return File - 2017 1208.csv 66480\n",
      "C:/Users/mjc341/Desktop/FER Downloads/LEADS/leads_wv1&2_2018\\Univ Miami Senior 2018 Wave 1 - Purchased Record Return File - 2017_0720_Leads.csv 48744\n",
      "C:/Users/mjc341/Desktop/FER Downloads/LEADS/leads_wv1&2_2018\\Univ Miami Senior 2018 Wave 2-Purchased Record Return File-2017_13223.csv 13223\n"
     ]
    }
   ],
   "source": [
    "for i in leadnames:\n",
    "    with open(i,\"r\") as f:\n",
    "        reader = csv.reader(f,dialect = 'excel',delimiter = \",\")\n",
    "        data = list(reader)\n",
    "        row_count = len(data)-1\n",
    "        print(i, row_count)"
   ]
  },
  {
   "cell_type": "code",
   "execution_count": 44,
   "metadata": {},
   "outputs": [
    {
     "name": "stdout",
     "output_type": "stream",
     "text": [
      "<class 'csv.Sniffer.sniff.<locals>.dialect'>\n"
     ]
    }
   ],
   "source": [
    "with open('C:/Users/mjc341/Desktop/FER Downloads/LEADS/leads_wv1&2_2018\\\\Univ Miami Senior 2018 Wave 1 - Purchased Record Return File - 2017_0720_Leads.csv', newline='')as csvfile:\n",
    "    dialect = csv.Sniffer().sniff(csvfile.read(100))\n",
    "    csvfile.seek(0)\n",
    "    reader = csv.reader(csvfile,dialect)\n",
    "    print(dialect)"
   ]
  },
  {
   "cell_type": "code",
   "execution_count": 45,
   "metadata": {},
   "outputs": [
    {
     "data": {
      "text/plain": [
       "csv.Sniffer.sniff.<locals>.dialect"
      ]
     },
     "execution_count": 45,
     "metadata": {},
     "output_type": "execute_result"
    }
   ],
   "source": [
    "dialect"
   ]
  },
  {
   "cell_type": "code",
   "execution_count": null,
   "metadata": {},
   "outputs": [],
   "source": [
    "#this will open a csv file and read each line of the file and put each line into a list\n",
    "\"\"\"with open('file.csv', 'r') as f:\n",
    "  reader = csv.reader(f)\n",
    "  your_list = list(reader)\n",
    "  print(your_list)\"\"\""
   ]
  }
 ],
 "metadata": {
  "kernelspec": {
   "display_name": "Python [conda env:Anaconda3]",
   "language": "python",
   "name": "conda-env-Anaconda3-py"
  },
  "language_info": {
   "codemirror_mode": {
    "name": "ipython",
    "version": 3
   },
   "file_extension": ".py",
   "mimetype": "text/x-python",
   "name": "python",
   "nbconvert_exporter": "python",
   "pygments_lexer": "ipython3",
   "version": "3.6.5"
  }
 },
 "nbformat": 4,
 "nbformat_minor": 2
}
