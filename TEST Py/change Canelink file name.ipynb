{
 "cells": [
  {
   "cell_type": "code",
   "execution_count": 1,
   "metadata": {},
   "outputs": [],
   "source": [
    "import numpy as np\n",
    "import pandas as pd\n",
    "import matplotlib.pyplot as plt\n",
    "import glob"
   ]
  },
  {
   "cell_type": "code",
   "execution_count": 3,
   "metadata": {},
   "outputs": [],
   "source": [
    "\"\"\"path =r'C:/Users/mjc341/Documents/Data/Financial Aid/Direct Loans Verification/06.13 Update'\n",
    "path_final =r'C:/Users/mjc341/Documents/Data/Financial Aid/Direct Loans Verification/Final Versions'\n",
    "filenames = glob.glob(path + \"/dsyh18op.*\")\n",
    "# MODIFY THIS LINE TEMPORARILY UNTIL LOGIC IS CODED\n",
    "# Open CaneLink DL Disbursement file regardless of the suffix added to filename by CaneLink Query Manager\n",
    "canelink_dl_disb = pd.read_excel(path + \"/AG_ALL_DISB_BY_YEAR_ALL_LOAN_1111701378.xlsx\", skiprows=1, index_col=False)\"\"\"\n",
    "path = r'C:/Users/mjc341/Desktop/CL_PY'\n",
    "path_final = r'C:Users/mjc341/Desktop/CL_PY/Final'\n",
    "files = glob.glob (path + \"/MC_DEIN_2181_*.xlsx\")\n",
    "# MODIFY THIS LINE TEMPORARILY UNTIL LOGIC IS CODED\n",
    "# Open CaneLink DL Disbursement file regardless of the suffix added to filename by CaneLink Query Manager\n",
    "#canelink_files = pd.read_excel(path + \"/MC_DEIN_2181_*.xlsx\", skiprows=1, index_col=False)"
   ]
  },
  {
   "cell_type": "code",
   "execution_count": 4,
   "metadata": {},
   "outputs": [
    {
     "data": {
      "text/plain": [
       "['C:/Users/mjc341/Desktop/CL_PY\\\\MC_DEIN_2181_3779.xlsx',\n",
       " 'C:/Users/mjc341/Desktop/CL_PY\\\\MC_DEIN_2181_3922.xlsx',\n",
       " 'C:/Users/mjc341/Desktop/CL_PY\\\\MC_DEIN_2181_5895.xlsx']"
      ]
     },
     "execution_count": 4,
     "metadata": {},
     "output_type": "execute_result"
    }
   ],
   "source": [
    "files"
   ]
  },
  {
   "cell_type": "code",
   "execution_count": 7,
   "metadata": {},
   "outputs": [],
   "source": [
    "import os\n",
    "from glob import glob"
   ]
  },
  {
   "cell_type": "code",
   "execution_count": 8,
   "metadata": {},
   "outputs": [],
   "source": [
    "from os import rename"
   ]
  },
  {
   "cell_type": "code",
   "execution_count": 10,
   "metadata": {},
   "outputs": [],
   "source": [
    "#for fname in glob(path + \"/MC_DEIN_2181_*.xlsx\"):\n",
    "    #rename (fname, fname[13:])"
   ]
  },
  {
   "cell_type": "code",
   "execution_count": 11,
   "metadata": {},
   "outputs": [
    {
     "name": "stdout",
     "output_type": "stream",
     "text": [
      "['MC_DEIN_2181_3779.xlsx', 'MC_DEIN_2181_3922.xlsx', 'MC_DEIN_2181_5895.xlsx']\n"
     ]
    }
   ],
   "source": [
    "file_list = os.listdir('C:/Users/mjc341/Desktop/CL_PY')\n",
    "print(file_list)"
   ]
  },
  {
   "cell_type": "code",
   "execution_count": 17,
   "metadata": {},
   "outputs": [],
   "source": [
    "#for file_name in file_list:\n",
    "    #os.rename(file_name, file_name[13:])\n",
    "    #print(file_list)"
   ]
  },
  {
   "cell_type": "code",
   "execution_count": 22,
   "metadata": {},
   "outputs": [
    {
     "name": "stdout",
     "output_type": "stream",
     "text": [
      "C:\\Users\\mjc341\\Desktop\\CL_PY\n"
     ]
    }
   ],
   "source": [
    "working_location = os.chdir('C:/Users/mjc341/Desktop/CL_PY')\n",
    "working_location = os.getcwd()\n",
    "print(working_location)"
   ]
  },
  {
   "cell_type": "code",
   "execution_count": 23,
   "metadata": {},
   "outputs": [
    {
     "name": "stdout",
     "output_type": "stream",
     "text": [
      "['MC_DEIN_2181_3779.xlsx', 'MC_DEIN_2181_3922.xlsx', 'MC_DEIN_2181_5895.xlsx']\n"
     ]
    }
   ],
   "source": [
    "print(file_list)"
   ]
  },
  {
   "cell_type": "code",
   "execution_count": 25,
   "metadata": {},
   "outputs": [
    {
     "name": "stdout",
     "output_type": "stream",
     "text": [
      "['MC_DEIN_2181_3779.xlsx', 'MC_DEIN_2181_3922.xlsx', 'MC_DEIN_2181_5895.xlsx']\n"
     ]
    }
   ],
   "source": [
    "print(file_list)"
   ]
  },
  {
   "cell_type": "code",
   "execution_count": 26,
   "metadata": {},
   "outputs": [
    {
     "name": "stdout",
     "output_type": "stream",
     "text": [
      "MC_DEIN_2181_3779.xlsx\n",
      "MC_DEIN_2181_3922.xlsx\n",
      "MC_DEIN_2181_5895.xlsx\n"
     ]
    }
   ],
   "source": [
    "for file_name in file_list:\n",
    "    print(file_name)"
   ]
  },
  {
   "cell_type": "code",
   "execution_count": 33,
   "metadata": {},
   "outputs": [
    {
     "ename": "FileNotFoundError",
     "evalue": "[WinError 2] The system cannot find the file specified: 'MC_DEIN_2181_3779.xlsx' -> 'newfile.xlsx'",
     "output_type": "error",
     "traceback": [
      "\u001b[1;31m---------------------------------------------------------------------------\u001b[0m",
      "\u001b[1;31mFileNotFoundError\u001b[0m                         Traceback (most recent call last)",
      "\u001b[1;32m<ipython-input-33-d05142bc3df6>\u001b[0m in \u001b[0;36m<module>\u001b[1;34m()\u001b[0m\n\u001b[0;32m      1\u001b[0m \u001b[1;32mfor\u001b[0m \u001b[0mfile_name\u001b[0m \u001b[1;32min\u001b[0m \u001b[0mfile_list\u001b[0m\u001b[1;33m:\u001b[0m\u001b[1;33m\u001b[0m\u001b[0m\n\u001b[1;32m----> 2\u001b[1;33m     \u001b[0mos\u001b[0m\u001b[1;33m.\u001b[0m\u001b[0mrename\u001b[0m\u001b[1;33m(\u001b[0m\u001b[0mfile_name\u001b[0m\u001b[1;33m,\u001b[0m \u001b[1;34m\"newfile.xlsx\"\u001b[0m\u001b[1;33m)\u001b[0m\u001b[1;33m\u001b[0m\u001b[0m\n\u001b[0m\u001b[0;32m      3\u001b[0m \u001b[0mprint\u001b[0m\u001b[1;33m(\u001b[0m\u001b[0mfile_name\u001b[0m\u001b[1;33m)\u001b[0m\u001b[1;33m\u001b[0m\u001b[0m\n",
      "\u001b[1;31mFileNotFoundError\u001b[0m: [WinError 2] The system cannot find the file specified: 'MC_DEIN_2181_3779.xlsx' -> 'newfile.xlsx'"
     ]
    }
   ],
   "source": [
    "for file_name in file_list:\n",
    "    os.rename(file_name, \"newfile.xlsx\")\n",
    "print(file_name)"
   ]
  },
  {
   "cell_type": "code",
   "execution_count": 34,
   "metadata": {},
   "outputs": [
    {
     "name": "stdout",
     "output_type": "stream",
     "text": [
      "['MC_DEIN_2181_3799.xlsx']\n"
     ]
    }
   ],
   "source": [
    "file_list = os.listdir('C:/Users/mjc341/Desktop/CL_PY')\n",
    "print(file_list)"
   ]
  },
  {
   "cell_type": "code",
   "execution_count": 35,
   "metadata": {},
   "outputs": [
    {
     "name": "stdout",
     "output_type": "stream",
     "text": [
      "MC_DEIN_2181_3799.xlsx\n"
     ]
    }
   ],
   "source": [
    "for file_name in file_list:\n",
    "    print(file_name)"
   ]
  },
  {
   "cell_type": "code",
   "execution_count": 36,
   "metadata": {},
   "outputs": [
    {
     "name": "stdout",
     "output_type": "stream",
     "text": [
      "MC_DEIN_2181_3799.xlsx\n"
     ]
    }
   ],
   "source": [
    "for file_name in file_list:\n",
    "    os.rename(file_name, \"newfile.xlsx\")\n",
    "print(file_name)"
   ]
  },
  {
   "cell_type": "code",
   "execution_count": 37,
   "metadata": {},
   "outputs": [
    {
     "name": "stdout",
     "output_type": "stream",
     "text": [
      "['newfile.xlsx']\n"
     ]
    }
   ],
   "source": [
    "file_list = os.listdir('C:/Users/mjc341/Desktop/CL_PY')\n",
    "print(file_list)"
   ]
  },
  {
   "cell_type": "code",
   "execution_count": null,
   "metadata": {},
   "outputs": [],
   "source": []
  }
 ],
 "metadata": {
  "kernelspec": {
   "display_name": "Python [conda env:Anaconda3]",
   "language": "python",
   "name": "conda-env-Anaconda3-py"
  },
  "language_info": {
   "codemirror_mode": {
    "name": "ipython",
    "version": 3
   },
   "file_extension": ".py",
   "mimetype": "text/x-python",
   "name": "python",
   "nbconvert_exporter": "python",
   "pygments_lexer": "ipython3",
   "version": "3.6.5"
  }
 },
 "nbformat": 4,
 "nbformat_minor": 2
}
