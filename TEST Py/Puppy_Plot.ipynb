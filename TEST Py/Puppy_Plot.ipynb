{
 "cells": [
  {
   "cell_type": "code",
   "execution_count": null,
   "metadata": {},
   "outputs": [],
   "source": [
    "from __future__ import division\n",
    "import numpy as np\n",
    "import matplotlib as mpl\n",
    "import matplotlib.pyplot as plt\n",
    "\n",
    "\n",
    "def palplot(pal, size=1):\n",
    "    \"\"\"Plot the values in a color palette as a horizontal array.\n",
    "\n",
    "    Parameters\n",
    "    ----------\n",
    "    pal : sequence of matplotlib colors\n",
    "        colors, i.e. as returned by seaborn.color_palette()\n",
    "    size :\n",
    "        scaling factor for size of plot\n",
    "\n",
    "    \"\"\"\n",
    "    n = len(pal)\n",
    "    f, ax = plt.subplots(1, 1, figsize=(n * size, size))\n",
    "    ax.imshow(np.arange(n).reshape(1, n),\n",
    "              cmap=mpl.colors.ListedColormap(list(pal)),\n",
    "              interpolation=\"nearest\", aspect=\"auto\")\n",
    "    ax.set_xticks(np.arange(n) - .5)\n",
    "    ax.set_yticks([-.5, .5])\n",
    "    ax.set_xticklabels([])\n",
    "    ax.set_yticklabels([])\n",
    "\n",
    "\n",
    "def puppyplot(grown_up=False):\n",
    "    \"\"\"Plot today's daily puppy. Only works in the IPython notebook.\"\"\"\n",
    "    from .external.six.moves.urllib.request import urlopen\n",
    "    from IPython.display import HTML\n",
    "    try:\n",
    "        from bs4 import BeautifulSoup\n",
    "        url = \"http://www.dailypuppy.com\"\n",
    "        if grown_up:\n",
    "            url += \"/dogs\"\n",
    "        html_doc = urlopen(url)\n",
    "        soup = BeautifulSoup(html_doc)\n",
    "        puppy = soup.find(\"div\", {\"class\": \"daily_puppy\"})\n",
    "        return HTML(str(puppy.img))\n",
    "    except ImportError:\n",
    "        html = ('<img  src=\"http://cdn-www.dailypuppy.com/dog-images/'\n",
    "                'decker-the-nova-scotia-duck-tolling-retriever_'\n",
    "                '72926_2013-11-04_w450.jpg\" style=\"width:450px;\"/>')\n",
    "        return HTML(html)"
   ]
  },
  {
   "cell_type": "code",
   "execution_count": null,
   "metadata": {},
   "outputs": [],
   "source": [
    "#plt.show()"
   ]
  },
  {
   "cell_type": "code",
   "execution_count": null,
   "metadata": {},
   "outputs": [],
   "source": []
  }
 ],
 "metadata": {
  "kernelspec": {
   "display_name": "Python [conda env:Anaconda3]",
   "language": "python",
   "name": "conda-env-Anaconda3-py"
  },
  "language_info": {
   "codemirror_mode": {
    "name": "ipython",
    "version": 3
   },
   "file_extension": ".py",
   "mimetype": "text/x-python",
   "name": "python",
   "nbconvert_exporter": "python",
   "pygments_lexer": "ipython3",
   "version": "3.6.5"
  }
 },
 "nbformat": 4,
 "nbformat_minor": 2
}
