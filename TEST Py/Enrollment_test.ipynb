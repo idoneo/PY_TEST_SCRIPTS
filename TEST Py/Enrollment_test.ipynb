{
 "cells": [
  {
   "cell_type": "code",
   "execution_count": 2,
   "metadata": {},
   "outputs": [],
   "source": [
    "import numpy as np\n",
    "import pandas as pd\n",
    "import matplotlib.pyplot as plt\n",
    "import seaborn as sns\n",
    "%matplotlib inline"
   ]
  },
  {
   "cell_type": "code",
   "execution_count": 3,
   "metadata": {},
   "outputs": [],
   "source": [
    "import folium as f\n"
   ]
  },
  {
   "cell_type": "code",
   "execution_count": 4,
   "metadata": {},
   "outputs": [],
   "source": [
    "e = pd.read_excel('C:/Users/mjc341/desktop/TESTPY/PY_FC2013-18.xlsx')"
   ]
  },
  {
   "cell_type": "code",
   "execution_count": 5,
   "metadata": {},
   "outputs": [
    {
     "data": {
      "text/plain": [
       "173912"
      ]
     },
     "execution_count": 5,
     "metadata": {},
     "output_type": "execute_result"
    }
   ],
   "source": [
    "len(e)"
   ]
  },
  {
   "cell_type": "code",
   "execution_count": 5,
   "metadata": {},
   "outputs": [],
   "source": [
    "#sns.set(style = 'ticks')"
   ]
  },
  {
   "cell_type": "code",
   "execution_count": 6,
   "metadata": {
    "collapsed": true
   },
   "outputs": [
    {
     "data": {
      "text/plain": [
       "Index(['Applicant_ID', 'Last_Name', 'First_Name', 'Gender', 'Ethnic_Group',\n",
       "       'Primary_Citizenship_Country_Description', 'VISA_Permit', 'Geography',\n",
       "       'Country_of_Residence1', 'State_of_Residence', 'County_of_Residence',\n",
       "       'Locality', 'Term', 'School', 'Academic_Program_Code',\n",
       "       'Academic_Plan_Code', 'Academic_Plan_Descripton',\n",
       "       'Program_Status_Description1', 'Program_Action_Code',\n",
       "       'Program_Action_Reason_Code', 'Program_Action_Date',\n",
       "       'Application_Number', 'Notification_Plan', 'Permanent_Address_City',\n",
       "       'Permanent_Address_State', 'Permanent_Address_Country',\n",
       "       'Permanent_Postal_Code', 'Permanent_Address_County',\n",
       "       'Undergraduate_Admission_Flag', 'Hispanic_Latino_Flag', 'Not_Available',\n",
       "       'Not_Specified', 'Multiple', 'Hispanic', 'White', 'Black',\n",
       "       'American_Indian', 'Asian', 'Pacific', 'NonHispanic_Other', 'Unknown',\n",
       "       'IEP_Indicator', 'Last_School_Org_ID', 'Last_School_CEEB_Code',\n",
       "       'Last_School_Attended_Name', 'Last_School_State_Id', 'Last_School_Type',\n",
       "       'Last_School_Propriertorship', 'Last_School_Converted_GPA',\n",
       "       'Last_School_Class_Rank', 'Last_School_Class_Size',\n",
       "       'Last_School_Class_Percentile', 'Financial_Aid_Interest',\n",
       "       'IPEDS_International_Flag', 'Class_Enrolled_Flag', 'Class_Audit_Flag',\n",
       "       'Enrollment_FTE_Unit', 'Enrollment_FTE_Description', 'Applied',\n",
       "       'Admitted', 'Denied', 'Gross_Deposit', 'Net_Deposit',\n",
       "       'Dynamic_Test_Percentile', 'High_School_Strength_Score',\n",
       "       'Extracurriculum_Score', 'Curriculum', 'Official_ACT_Score1',\n",
       "       'UM_Official_SAT_Score1', 'SAT_Superscore1', 'IELTS', 'TOEFL_IBT',\n",
       "       'TOEFL_PBT', 'International_Recruitment',\n",
       "       'First_Generation_Recruitment', 'Athlete_Recruitment',\n",
       "       'Employee_Dependent_Recruitment', 'LEG_Recruitment', 'IBIS_Recruitment',\n",
       "       'Foote_Scholarhip', 'HAMM_Scholarhip', 'Stamps_Scholarhip', 'PRISM',\n",
       "       'HPM_Applicant'],\n",
       "      dtype='object')"
      ]
     },
     "execution_count": 6,
     "metadata": {},
     "output_type": "execute_result"
    }
   ],
   "source": [
    "e.columns"
   ]
  },
  {
   "cell_type": "code",
   "execution_count": 20,
   "metadata": {},
   "outputs": [],
   "source": [
    "e1 = e[['Applicant_ID','Notification_Plan','Term']]\n",
    "e4 =e[['Applicant_ID','Notification_Plan','Term', 'Applied',\n",
    "       'Admitted', 'Denied', 'Gross_Deposit', 'Net_Deposit']]"
   ]
  },
  {
   "cell_type": "code",
   "execution_count": 8,
   "metadata": {},
   "outputs": [
    {
     "data": {
      "text/plain": [
       "Index(['Applicant_ID', 'Notification_Plan', 'Term'], dtype='object')"
      ]
     },
     "execution_count": 8,
     "metadata": {},
     "output_type": "execute_result"
    }
   ],
   "source": [
    "e1.columns"
   ]
  },
  {
   "cell_type": "code",
   "execution_count": 9,
   "metadata": {},
   "outputs": [],
   "source": [
    "e1.columns= ['ID','NPLAN','TERM']"
   ]
  },
  {
   "cell_type": "code",
   "execution_count": 11,
   "metadata": {},
   "outputs": [
    {
     "data": {
      "text/plain": [
       "Index(['ID', 'NPLAN', 'TERM'], dtype='object')"
      ]
     },
     "execution_count": 11,
     "metadata": {},
     "output_type": "execute_result"
    }
   ],
   "source": [
    "e1.columns "
   ]
  },
  {
   "cell_type": "code",
   "execution_count": 16,
   "metadata": {},
   "outputs": [],
   "source": [
    "#C = e1['ID'].value_counts()\n"
   ]
  },
  {
   "cell_type": "code",
   "execution_count": 12,
   "metadata": {},
   "outputs": [],
   "source": [
    "e2 = e1[e1['TERM']!= 'Fall 2013']"
   ]
  },
  {
   "cell_type": "code",
   "execution_count": 13,
   "metadata": {},
   "outputs": [
    {
     "data": {
      "text/plain": [
       "173912"
      ]
     },
     "execution_count": 13,
     "metadata": {},
     "output_type": "execute_result"
    }
   ],
   "source": [
    "len(e1)"
   ]
  },
  {
   "cell_type": "code",
   "execution_count": 14,
   "metadata": {},
   "outputs": [
    {
     "data": {
      "text/plain": [
       "162237"
      ]
     },
     "execution_count": 14,
     "metadata": {},
     "output_type": "execute_result"
    }
   ],
   "source": [
    "len(e2)"
   ]
  },
  {
   "cell_type": "code",
   "execution_count": 15,
   "metadata": {},
   "outputs": [
    {
     "data": {
      "text/plain": [
       "<seaborn.axisgrid.FacetGrid at 0x1a80220fa20>"
      ]
     },
     "execution_count": 15,
     "metadata": {},
     "output_type": "execute_result"
    },
    {
     "data": {
      "image/png": "[encoded data removed]",
      "text/plain": [
       "<Figure size 1080x216 with 5 Axes>"
      ]
     },
     "metadata": {},
     "output_type": "display_data"
    }
   ],
   "source": [
    "g = sns.FacetGrid(e2, col ='TERM')\n",
    "order_NPLAN = e2.NPLAN.value_counts().index\n",
    "g.map(sns.countplot,'NPLAN',order = order_NPLAN)"
   ]
  },
  {
   "cell_type": "code",
   "execution_count": 35,
   "metadata": {},
   "outputs": [],
   "source": [
    "#g = sns.FacetGrid(e1, col ='TERM')"
   ]
  },
  {
   "cell_type": "code",
   "execution_count": 19,
   "metadata": {},
   "outputs": [
    {
     "data": {
      "text/plain": [
       "<seaborn.axisgrid.FacetGrid at 0x1a8117b34a8>"
      ]
     },
     "execution_count": 19,
     "metadata": {},
     "output_type": "execute_result"
    },
    {
     "data": {
      "image/png": "[encoded data removed]",
      "text/plain": [
       "<Figure size 1080x216 with 5 Axes>"
      ]
     },
     "metadata": {},
     "output_type": "display_data"
    }
   ],
   "source": [
    "sns.set(context = 'poster')\n",
    "pal = dict(REG = 'lawngreen', EA = 'darkorange',ED1 ='palegreen',ED2 = 'm', ED = 'cyan')\n",
    "g2 = sns.FacetGrid(e2, col ='TERM', hue = 'NPLAN', palette = pal)\n",
    "order_NPLAN = e2.NPLAN.value_counts().index\n",
    "g2.map(sns.countplot,'NPLAN',order = order_NPLAN)"
   ]
  },
  {
   "cell_type": "code",
   "execution_count": 18,
   "metadata": {},
   "outputs": [],
   "source": [
    "#ct = sns.countplot(x = 'NPLAN', hue = 'TERM', data = e1)"
   ]
  },
  {
   "cell_type": "code",
   "execution_count": 22,
   "metadata": {},
   "outputs": [
    {
     "data": {
      "text/html": [
       "<div>\n",
       "<style scoped>\n",
       "    .dataframe tbody tr th:only-of-type {\n",
       "        vertical-align: middle;\n",
       "    }\n",
       "\n",
       "    .dataframe tbody tr th {\n",
       "        vertical-align: top;\n",
       "    }\n",
       "\n",
       "    .dataframe thead th {\n",
       "        text-align: right;\n",
       "    }\n",
       "</style>\n",
       "<table border=\"1\" class=\"dataframe\">\n",
       "  <thead>\n",
       "    <tr style=\"text-align: right;\">\n",
       "      <th></th>\n",
       "      <th>Applicant_ID</th>\n",
       "      <th>Notification_Plan</th>\n",
       "      <th>Term</th>\n",
       "      <th>Applied</th>\n",
       "      <th>Admitted</th>\n",
       "      <th>Denied</th>\n",
       "      <th>Gross_Deposit</th>\n",
       "      <th>Net_Deposit</th>\n",
       "    </tr>\n",
       "  </thead>\n",
       "  <tbody>\n",
       "    <tr>\n",
       "      <th>0</th>\n",
       "      <td>50074392</td>\n",
       "      <td>EA</td>\n",
       "      <td>Fall 2013</td>\n",
       "      <td>1</td>\n",
       "      <td>1.0</td>\n",
       "      <td>NaN</td>\n",
       "      <td>1.0</td>\n",
       "      <td>1.0</td>\n",
       "    </tr>\n",
       "    <tr>\n",
       "      <th>1</th>\n",
       "      <td>50081560</td>\n",
       "      <td>EA</td>\n",
       "      <td>Fall 2013</td>\n",
       "      <td>1</td>\n",
       "      <td>1.0</td>\n",
       "      <td>NaN</td>\n",
       "      <td>NaN</td>\n",
       "      <td>NaN</td>\n",
       "    </tr>\n",
       "    <tr>\n",
       "      <th>2</th>\n",
       "      <td>50089836</td>\n",
       "      <td>REG</td>\n",
       "      <td>Fall 2013</td>\n",
       "      <td>1</td>\n",
       "      <td>1.0</td>\n",
       "      <td>NaN</td>\n",
       "      <td>1.0</td>\n",
       "      <td>1.0</td>\n",
       "    </tr>\n",
       "    <tr>\n",
       "      <th>3</th>\n",
       "      <td>50093189</td>\n",
       "      <td>EA</td>\n",
       "      <td>Fall 2013</td>\n",
       "      <td>1</td>\n",
       "      <td>1.0</td>\n",
       "      <td>NaN</td>\n",
       "      <td>NaN</td>\n",
       "      <td>NaN</td>\n",
       "    </tr>\n",
       "  </tbody>\n",
       "</table>\n",
       "</div>"
      ],
      "text/plain": [
       "   Applicant_ID Notification_Plan       Term  Applied  Admitted  Denied  \\\n",
       "0      50074392                EA  Fall 2013        1       1.0     NaN   \n",
       "1      50081560                EA  Fall 2013        1       1.0     NaN   \n",
       "2      50089836               REG  Fall 2013        1       1.0     NaN   \n",
       "3      50093189                EA  Fall 2013        1       1.0     NaN   \n",
       "\n",
       "   Gross_Deposit  Net_Deposit  \n",
       "0            1.0          1.0  \n",
       "1            NaN          NaN  \n",
       "2            1.0          1.0  \n",
       "3            NaN          NaN  "
      ]
     },
     "execution_count": 22,
     "metadata": {},
     "output_type": "execute_result"
    }
   ],
   "source": [
    "e4.head(4)"
   ]
  },
  {
   "cell_type": "code",
   "execution_count": 24,
   "metadata": {},
   "outputs": [
    {
     "data": {
      "text/html": [
       "<div>\n",
       "<style scoped>\n",
       "    .dataframe tbody tr th:only-of-type {\n",
       "        vertical-align: middle;\n",
       "    }\n",
       "\n",
       "    .dataframe tbody tr th {\n",
       "        vertical-align: top;\n",
       "    }\n",
       "\n",
       "    .dataframe thead th {\n",
       "        text-align: right;\n",
       "    }\n",
       "</style>\n",
       "<table border=\"1\" class=\"dataframe\">\n",
       "  <thead>\n",
       "    <tr style=\"text-align: right;\">\n",
       "      <th></th>\n",
       "      <th>Applicant_ID</th>\n",
       "      <th>Notification_Plan</th>\n",
       "      <th>Term</th>\n",
       "      <th>Applied</th>\n",
       "      <th>Admitted</th>\n",
       "      <th>Denied</th>\n",
       "      <th>Gross_Deposit</th>\n",
       "      <th>Net_Deposit</th>\n",
       "    </tr>\n",
       "  </thead>\n",
       "  <tbody>\n",
       "    <tr>\n",
       "      <th>0</th>\n",
       "      <td>50074392</td>\n",
       "      <td>EA</td>\n",
       "      <td>Fall 2013</td>\n",
       "      <td>1</td>\n",
       "      <td>1.0</td>\n",
       "      <td>0.0</td>\n",
       "      <td>1.0</td>\n",
       "      <td>1.0</td>\n",
       "    </tr>\n",
       "    <tr>\n",
       "      <th>1</th>\n",
       "      <td>50081560</td>\n",
       "      <td>EA</td>\n",
       "      <td>Fall 2013</td>\n",
       "      <td>1</td>\n",
       "      <td>1.0</td>\n",
       "      <td>0.0</td>\n",
       "      <td>0.0</td>\n",
       "      <td>0.0</td>\n",
       "    </tr>\n",
       "    <tr>\n",
       "      <th>2</th>\n",
       "      <td>50089836</td>\n",
       "      <td>REG</td>\n",
       "      <td>Fall 2013</td>\n",
       "      <td>1</td>\n",
       "      <td>1.0</td>\n",
       "      <td>0.0</td>\n",
       "      <td>1.0</td>\n",
       "      <td>1.0</td>\n",
       "    </tr>\n",
       "    <tr>\n",
       "      <th>3</th>\n",
       "      <td>50093189</td>\n",
       "      <td>EA</td>\n",
       "      <td>Fall 2013</td>\n",
       "      <td>1</td>\n",
       "      <td>1.0</td>\n",
       "      <td>0.0</td>\n",
       "      <td>0.0</td>\n",
       "      <td>0.0</td>\n",
       "    </tr>\n",
       "    <tr>\n",
       "      <th>4</th>\n",
       "      <td>50093206</td>\n",
       "      <td>EA</td>\n",
       "      <td>Fall 2013</td>\n",
       "      <td>1</td>\n",
       "      <td>1.0</td>\n",
       "      <td>0.0</td>\n",
       "      <td>1.0</td>\n",
       "      <td>1.0</td>\n",
       "    </tr>\n",
       "  </tbody>\n",
       "</table>\n",
       "</div>"
      ],
      "text/plain": [
       "   Applicant_ID Notification_Plan       Term  Applied  Admitted  Denied  \\\n",
       "0      50074392                EA  Fall 2013        1       1.0     0.0   \n",
       "1      50081560                EA  Fall 2013        1       1.0     0.0   \n",
       "2      50089836               REG  Fall 2013        1       1.0     0.0   \n",
       "3      50093189                EA  Fall 2013        1       1.0     0.0   \n",
       "4      50093206                EA  Fall 2013        1       1.0     0.0   \n",
       "\n",
       "   Gross_Deposit  Net_Deposit  \n",
       "0            1.0          1.0  \n",
       "1            0.0          0.0  \n",
       "2            1.0          1.0  \n",
       "3            0.0          0.0  \n",
       "4            1.0          1.0  "
      ]
     },
     "execution_count": 24,
     "metadata": {},
     "output_type": "execute_result"
    }
   ],
   "source": [
    "e4.fillna(0).head()"
   ]
  },
  {
   "cell_type": "code",
   "execution_count": 34,
   "metadata": {},
   "outputs": [
    {
     "data": {
      "image/png": "[encoded data removed]",
      "text/plain": [
       "<Figure size 1296x216 with 6 Axes>"
      ]
     },
     "metadata": {},
     "output_type": "display_data"
    }
   ],
   "source": [
    "g4 = sns.FacetGrid(e4, col ='Term')"
   ]
  },
  {
   "cell_type": "code",
   "execution_count": 45,
   "metadata": {},
   "outputs": [
    {
     "data": {
      "text/plain": [
       "173912"
      ]
     },
     "execution_count": 45,
     "metadata": {},
     "output_type": "execute_result"
    }
   ],
   "source": [
    "AP = e4['Applied'].value_counts().sum()\n",
    "AP"
   ]
  },
  {
   "cell_type": "code",
   "execution_count": 46,
   "metadata": {},
   "outputs": [
    {
     "data": {
      "text/plain": [
       "72290"
      ]
     },
     "execution_count": 46,
     "metadata": {},
     "output_type": "execute_result"
    }
   ],
   "source": [
    "AD = e4['Admitted'].value_counts().sum()\n",
    "AD"
   ]
  },
  {
   "cell_type": "code",
   "execution_count": 47,
   "metadata": {},
   "outputs": [
    {
     "data": {
      "text/plain": [
       "54343"
      ]
     },
     "execution_count": 47,
     "metadata": {},
     "output_type": "execute_result"
    }
   ],
   "source": [
    "DY =e4['Denied'].value_counts().sum()\n",
    "DY"
   ]
  },
  {
   "cell_type": "code",
   "execution_count": 49,
   "metadata": {},
   "outputs": [
    {
     "data": {
      "text/plain": [
       "14933"
      ]
     },
     "execution_count": 49,
     "metadata": {},
     "output_type": "execute_result"
    }
   ],
   "source": [
    "ND = e4['Net_Deposit'].value_counts().sum()\n",
    "ND"
   ]
  },
  {
   "cell_type": "code",
   "execution_count": 52,
   "metadata": {},
   "outputs": [],
   "source": [
    "count_list = [AP,AD,ND]"
   ]
  },
  {
   "cell_type": "code",
   "execution_count": 53,
   "metadata": {},
   "outputs": [
    {
     "data": {
      "text/plain": [
       "[173912, 72290, 14933]"
      ]
     },
     "execution_count": 53,
     "metadata": {},
     "output_type": "execute_result"
    }
   ],
   "source": [
    "count_list"
   ]
  },
  {
   "cell_type": "code",
   "execution_count": null,
   "metadata": {},
   "outputs": [],
   "source": [
    "\n",
    "\n"
   ]
  },
  {
   "cell_type": "code",
   "execution_count": 60,
   "metadata": {},
   "outputs": [],
   "source": [
    "e5 = e4[e4['Term']!= 'Fall 2013']"
   ]
  },
  {
   "cell_type": "code",
   "execution_count": 61,
   "metadata": {},
   "outputs": [
    {
     "data": {
      "text/plain": [
       "Index(['Applicant_ID', 'Notification_Plan', 'Term', 'Applied', 'Admitted',\n",
       "       'Denied', 'Gross_Deposit', 'Net_Deposit'],\n",
       "      dtype='object')"
      ]
     },
     "execution_count": 61,
     "metadata": {},
     "output_type": "execute_result"
    }
   ],
   "source": [
    "e5.columns"
   ]
  },
  {
   "cell_type": "code",
   "execution_count": 64,
   "metadata": {},
   "outputs": [],
   "source": [
    "e5.columns =['ID','NPLAN','TERM','APPL','ADMT','DNY','GD','ND']"
   ]
  },
  {
   "cell_type": "code",
   "execution_count": 65,
   "metadata": {},
   "outputs": [
    {
     "data": {
      "text/plain": [
       "162237"
      ]
     },
     "execution_count": 65,
     "metadata": {},
     "output_type": "execute_result"
    }
   ],
   "source": [
    "len(e5)"
   ]
  },
  {
   "cell_type": "code",
   "execution_count": 82,
   "metadata": {},
   "outputs": [
    {
     "data": {
      "image/png": "[encoded data removed]",
      "text/plain": [
       "<Figure size 576x720 with 1 Axes>"
      ]
     },
     "metadata": {},
     "output_type": "display_data"
    }
   ],
   "source": [
    "fig =plt.gcf()\n",
    "fig.set_size_inches(8,10)\n",
    "sns.set(context = 'poster')\n",
    "ax =sns.countplot(x = 'NPLAN',hue = 'TERM', data = e5))"
   ]
  },
  {
   "cell_type": "code",
   "execution_count": 85,
   "metadata": {},
   "outputs": [
    {
     "data": {
      "text/plain": [
       "Index(['Applicant_ID', 'Last_Name', 'First_Name', 'Gender', 'Ethnic_Group',\n",
       "       'Primary_Citizenship_Country_Description', 'VISA_Permit', 'Geography',\n",
       "       'Country_of_Residence1', 'State_of_Residence', 'County_of_Residence',\n",
       "       'Locality', 'Term', 'School', 'Academic_Program_Code',\n",
       "       'Academic_Plan_Code', 'Academic_Plan_Descripton',\n",
       "       'Program_Status_Description1', 'Program_Action_Code',\n",
       "       'Program_Action_Reason_Code', 'Program_Action_Date',\n",
       "       'Application_Number', 'Notification_Plan', 'Permanent_Address_City',\n",
       "       'Permanent_Address_State', 'Permanent_Address_Country',\n",
       "       'Permanent_Postal_Code', 'Permanent_Address_County',\n",
       "       'Undergraduate_Admission_Flag', 'Hispanic_Latino_Flag', 'Not_Available',\n",
       "       'Not_Specified', 'Multiple', 'Hispanic', 'White', 'Black',\n",
       "       'American_Indian', 'Asian', 'Pacific', 'NonHispanic_Other', 'Unknown',\n",
       "       'IEP_Indicator', 'Last_School_Org_ID', 'Last_School_CEEB_Code',\n",
       "       'Last_School_Attended_Name', 'Last_School_State_Id', 'Last_School_Type',\n",
       "       'Last_School_Propriertorship', 'Last_School_Converted_GPA',\n",
       "       'Last_School_Class_Rank', 'Last_School_Class_Size',\n",
       "       'Last_School_Class_Percentile', 'Financial_Aid_Interest',\n",
       "       'IPEDS_International_Flag', 'Class_Enrolled_Flag', 'Class_Audit_Flag',\n",
       "       'Enrollment_FTE_Unit', 'Enrollment_FTE_Description', 'Applied',\n",
       "       'Admitted', 'Denied', 'Gross_Deposit', 'Net_Deposit',\n",
       "       'Dynamic_Test_Percentile', 'High_School_Strength_Score',\n",
       "       'Extracurriculum_Score', 'Curriculum', 'Official_ACT_Score1',\n",
       "       'UM_Official_SAT_Score1', 'SAT_Superscore1', 'IELTS', 'TOEFL_IBT',\n",
       "       'TOEFL_PBT', 'International_Recruitment',\n",
       "       'First_Generation_Recruitment', 'Athlete_Recruitment',\n",
       "       'Employee_Dependent_Recruitment', 'LEG_Recruitment', 'IBIS_Recruitment',\n",
       "       'Foote_Scholarhip', 'HAMM_Scholarhip', 'Stamps_Scholarhip', 'PRISM',\n",
       "       'HPM_Applicant'],\n",
       "      dtype='object')"
      ]
     },
     "execution_count": 85,
     "metadata": {},
     "output_type": "execute_result"
    }
   ],
   "source": [
    "e.columns"
   ]
  },
  {
   "cell_type": "code",
   "execution_count": 86,
   "metadata": {},
   "outputs": [],
   "source": [
    "AP =e[['Applicant_ID','Notification_Plan','Term', 'Applied']]\n",
    "AD =e[['Applicant_ID','Notification_Plan','Term', 'Admitted']]\n",
    "ND=e[['Applicant_ID','Notification_Plan','Term', 'Net_Deposit']]"
   ]
  },
  {
   "cell_type": "code",
   "execution_count": 87,
   "metadata": {},
   "outputs": [
    {
     "data": {
      "text/plain": [
       "173912"
      ]
     },
     "execution_count": 87,
     "metadata": {},
     "output_type": "execute_result"
    }
   ],
   "source": [
    "len(AP)"
   ]
  },
  {
   "cell_type": "code",
   "execution_count": 89,
   "metadata": {},
   "outputs": [
    {
     "data": {
      "text/plain": [
       "173912"
      ]
     },
     "execution_count": 89,
     "metadata": {},
     "output_type": "execute_result"
    }
   ],
   "source": [
    "len(AD)"
   ]
  },
  {
   "cell_type": "code",
   "execution_count": 90,
   "metadata": {},
   "outputs": [
    {
     "data": {
      "text/plain": [
       "173912"
      ]
     },
     "execution_count": 90,
     "metadata": {},
     "output_type": "execute_result"
    }
   ],
   "source": [
    "len(ND)"
   ]
  },
  {
   "cell_type": "code",
   "execution_count": 91,
   "metadata": {},
   "outputs": [
    {
     "data": {
      "text/html": [
       "<div>\n",
       "<style scoped>\n",
       "    .dataframe tbody tr th:only-of-type {\n",
       "        vertical-align: middle;\n",
       "    }\n",
       "\n",
       "    .dataframe tbody tr th {\n",
       "        vertical-align: top;\n",
       "    }\n",
       "\n",
       "    .dataframe thead th {\n",
       "        text-align: right;\n",
       "    }\n",
       "</style>\n",
       "<table border=\"1\" class=\"dataframe\">\n",
       "  <thead>\n",
       "    <tr style=\"text-align: right;\">\n",
       "      <th></th>\n",
       "      <th>Applicant_ID</th>\n",
       "      <th>Notification_Plan</th>\n",
       "      <th>Term</th>\n",
       "      <th>Applied</th>\n",
       "    </tr>\n",
       "  </thead>\n",
       "  <tbody>\n",
       "    <tr>\n",
       "      <th>0</th>\n",
       "      <td>50074392</td>\n",
       "      <td>EA</td>\n",
       "      <td>Fall 2013</td>\n",
       "      <td>1</td>\n",
       "    </tr>\n",
       "    <tr>\n",
       "      <th>1</th>\n",
       "      <td>50081560</td>\n",
       "      <td>EA</td>\n",
       "      <td>Fall 2013</td>\n",
       "      <td>1</td>\n",
       "    </tr>\n",
       "    <tr>\n",
       "      <th>2</th>\n",
       "      <td>50089836</td>\n",
       "      <td>REG</td>\n",
       "      <td>Fall 2013</td>\n",
       "      <td>1</td>\n",
       "    </tr>\n",
       "  </tbody>\n",
       "</table>\n",
       "</div>"
      ],
      "text/plain": [
       "   Applicant_ID Notification_Plan       Term  Applied\n",
       "0      50074392                EA  Fall 2013        1\n",
       "1      50081560                EA  Fall 2013        1\n",
       "2      50089836               REG  Fall 2013        1"
      ]
     },
     "execution_count": 91,
     "metadata": {},
     "output_type": "execute_result"
    }
   ],
   "source": [
    "AP.head(3)"
   ]
  },
  {
   "cell_type": "code",
   "execution_count": 92,
   "metadata": {},
   "outputs": [
    {
     "data": {
      "text/html": [
       "<div>\n",
       "<style scoped>\n",
       "    .dataframe tbody tr th:only-of-type {\n",
       "        vertical-align: middle;\n",
       "    }\n",
       "\n",
       "    .dataframe tbody tr th {\n",
       "        vertical-align: top;\n",
       "    }\n",
       "\n",
       "    .dataframe thead th {\n",
       "        text-align: right;\n",
       "    }\n",
       "</style>\n",
       "<table border=\"1\" class=\"dataframe\">\n",
       "  <thead>\n",
       "    <tr style=\"text-align: right;\">\n",
       "      <th></th>\n",
       "      <th>Applicant_ID</th>\n",
       "      <th>Notification_Plan</th>\n",
       "      <th>Term</th>\n",
       "      <th>Admitted</th>\n",
       "    </tr>\n",
       "  </thead>\n",
       "  <tbody>\n",
       "    <tr>\n",
       "      <th>0</th>\n",
       "      <td>50074392</td>\n",
       "      <td>EA</td>\n",
       "      <td>Fall 2013</td>\n",
       "      <td>1.0</td>\n",
       "    </tr>\n",
       "    <tr>\n",
       "      <th>1</th>\n",
       "      <td>50081560</td>\n",
       "      <td>EA</td>\n",
       "      <td>Fall 2013</td>\n",
       "      <td>1.0</td>\n",
       "    </tr>\n",
       "    <tr>\n",
       "      <th>2</th>\n",
       "      <td>50089836</td>\n",
       "      <td>REG</td>\n",
       "      <td>Fall 2013</td>\n",
       "      <td>1.0</td>\n",
       "    </tr>\n",
       "  </tbody>\n",
       "</table>\n",
       "</div>"
      ],
      "text/plain": [
       "   Applicant_ID Notification_Plan       Term  Admitted\n",
       "0      50074392                EA  Fall 2013       1.0\n",
       "1      50081560                EA  Fall 2013       1.0\n",
       "2      50089836               REG  Fall 2013       1.0"
      ]
     },
     "execution_count": 92,
     "metadata": {},
     "output_type": "execute_result"
    }
   ],
   "source": [
    "AD.head(3)"
   ]
  },
  {
   "cell_type": "code",
   "execution_count": 93,
   "metadata": {},
   "outputs": [
    {
     "data": {
      "text/html": [
       "<div>\n",
       "<style scoped>\n",
       "    .dataframe tbody tr th:only-of-type {\n",
       "        vertical-align: middle;\n",
       "    }\n",
       "\n",
       "    .dataframe tbody tr th {\n",
       "        vertical-align: top;\n",
       "    }\n",
       "\n",
       "    .dataframe thead th {\n",
       "        text-align: right;\n",
       "    }\n",
       "</style>\n",
       "<table border=\"1\" class=\"dataframe\">\n",
       "  <thead>\n",
       "    <tr style=\"text-align: right;\">\n",
       "      <th></th>\n",
       "      <th>Applicant_ID</th>\n",
       "      <th>Notification_Plan</th>\n",
       "      <th>Term</th>\n",
       "      <th>Net_Deposit</th>\n",
       "    </tr>\n",
       "  </thead>\n",
       "  <tbody>\n",
       "    <tr>\n",
       "      <th>0</th>\n",
       "      <td>50074392</td>\n",
       "      <td>EA</td>\n",
       "      <td>Fall 2013</td>\n",
       "      <td>1.0</td>\n",
       "    </tr>\n",
       "    <tr>\n",
       "      <th>1</th>\n",
       "      <td>50081560</td>\n",
       "      <td>EA</td>\n",
       "      <td>Fall 2013</td>\n",
       "      <td>NaN</td>\n",
       "    </tr>\n",
       "    <tr>\n",
       "      <th>2</th>\n",
       "      <td>50089836</td>\n",
       "      <td>REG</td>\n",
       "      <td>Fall 2013</td>\n",
       "      <td>1.0</td>\n",
       "    </tr>\n",
       "  </tbody>\n",
       "</table>\n",
       "</div>"
      ],
      "text/plain": [
       "   Applicant_ID Notification_Plan       Term  Net_Deposit\n",
       "0      50074392                EA  Fall 2013          1.0\n",
       "1      50081560                EA  Fall 2013          NaN\n",
       "2      50089836               REG  Fall 2013          1.0"
      ]
     },
     "execution_count": 93,
     "metadata": {},
     "output_type": "execute_result"
    }
   ],
   "source": [
    "ND.head(3)"
   ]
  },
  {
   "cell_type": "code",
   "execution_count": 95,
   "metadata": {},
   "outputs": [
    {
     "data": {
      "text/html": [
       "<div>\n",
       "<style scoped>\n",
       "    .dataframe tbody tr th:only-of-type {\n",
       "        vertical-align: middle;\n",
       "    }\n",
       "\n",
       "    .dataframe tbody tr th {\n",
       "        vertical-align: top;\n",
       "    }\n",
       "\n",
       "    .dataframe thead th {\n",
       "        text-align: right;\n",
       "    }\n",
       "</style>\n",
       "<table border=\"1\" class=\"dataframe\">\n",
       "  <thead>\n",
       "    <tr style=\"text-align: right;\">\n",
       "      <th></th>\n",
       "      <th>Applicant_ID</th>\n",
       "      <th>Notification_Plan</th>\n",
       "      <th>Term</th>\n",
       "      <th>Net_Deposit</th>\n",
       "    </tr>\n",
       "  </thead>\n",
       "  <tbody>\n",
       "    <tr>\n",
       "      <th>0</th>\n",
       "      <td>50074392</td>\n",
       "      <td>EA</td>\n",
       "      <td>Fall 2013</td>\n",
       "      <td>1.0</td>\n",
       "    </tr>\n",
       "    <tr>\n",
       "      <th>1</th>\n",
       "      <td>50081560</td>\n",
       "      <td>EA</td>\n",
       "      <td>Fall 2013</td>\n",
       "      <td>0.0</td>\n",
       "    </tr>\n",
       "    <tr>\n",
       "      <th>2</th>\n",
       "      <td>50089836</td>\n",
       "      <td>REG</td>\n",
       "      <td>Fall 2013</td>\n",
       "      <td>1.0</td>\n",
       "    </tr>\n",
       "  </tbody>\n",
       "</table>\n",
       "</div>"
      ],
      "text/plain": [
       "   Applicant_ID Notification_Plan       Term  Net_Deposit\n",
       "0      50074392                EA  Fall 2013          1.0\n",
       "1      50081560                EA  Fall 2013          0.0\n",
       "2      50089836               REG  Fall 2013          1.0"
      ]
     },
     "execution_count": 95,
     "metadata": {},
     "output_type": "execute_result"
    }
   ],
   "source": [
    "ND.fillna(0).head(3)"
   ]
  },
  {
   "cell_type": "code",
   "execution_count": 96,
   "metadata": {},
   "outputs": [],
   "source": [
    "AP.columns =['ID','NPLAN','TERM','APPL']\n",
    "AD.columns =['ID','NPLAN','TERM','ADM']\n",
    "ND.columns =['ID','NPLAN','TERM','ND']"
   ]
  },
  {
   "cell_type": "code",
   "execution_count": 126,
   "metadata": {},
   "outputs": [
    {
     "data": {
      "image/png": "[encoded data removed]",
      "text/plain": [
       "<Figure size 576x720 with 1 Axes>"
      ]
     },
     "metadata": {},
     "output_type": "display_data"
    }
   ],
   "source": [
    "#pal = dict('Fall 2014' = 'lawngreen', 'Fall 2015' = 'darkorange','Fall 2016' ='palegreen','Fall 2017' = 'm', 'Fall 2018'= 'cyan')\n",
    "#APPLY\n",
    "AP = AP[AP['TERM']!= 'Fall 2013']\n",
    "fig =plt.gcf()\n",
    "fig.set_size_inches(8,10)\n",
    "sns.set(context = 'poster')\n",
    "ax =sns.countplot(x = 'NPLAN', hue = 'TERM',palette = 'Set1', data = AP)"
   ]
  },
  {
   "cell_type": "code",
   "execution_count": 110,
   "metadata": {},
   "outputs": [
    {
     "data": {
      "text/plain": [
       "58738"
      ]
     },
     "execution_count": 110,
     "metadata": {},
     "output_type": "execute_result"
    }
   ],
   "source": [
    "AD=AD[AD['ADM']==1]\n",
    "AD = AD[AD['TERM']!= 'Fall 2013']\n",
    "len(AD)"
   ]
  },
  {
   "cell_type": "code",
   "execution_count": 111,
   "metadata": {},
   "outputs": [
    {
     "data": {
      "text/plain": [
       "10845"
      ]
     },
     "execution_count": 111,
     "metadata": {},
     "output_type": "execute_result"
    }
   ],
   "source": [
    "ND = ND[ND['ND'] ==1]\n",
    "ND = ND[ND['TERM']!= 'Fall 2013']\n",
    "len(ND)"
   ]
  },
  {
   "cell_type": "code",
   "execution_count": 120,
   "metadata": {},
   "outputs": [
    {
     "data": {
      "image/png": "[encoded data removed]",
      "text/plain": [
       "<Figure size 576x720 with 1 Axes>"
      ]
     },
     "metadata": {},
     "output_type": "display_data"
    }
   ],
   "source": [
    "#ADMITS\n",
    "fig =plt.gcf()\n",
    "fig.set_size_inches(8,10)\n",
    "sns.set(context = 'poster')\n",
    "by =sns.countplot(x = 'NPLAN',hue = 'TERM',palette = 'Set1', data = AD)\n"
   ]
  },
  {
   "cell_type": "code",
   "execution_count": 121,
   "metadata": {},
   "outputs": [
    {
     "data": {
      "image/png": "[encoded data removed]",
      "text/plain": [
       "<Figure size 576x720 with 1 Axes>"
      ]
     },
     "metadata": {},
     "output_type": "display_data"
    }
   ],
   "source": [
    "#NETDEP\n",
    "fig =plt.gcf()\n",
    "fig.set_size_inches(8,10)\n",
    "sns.set(context = 'poster')\n",
    "bz =sns.countplot(x = 'NPLAN',hue = 'TERM',palette = 'Set1', data = ND)"
   ]
  },
  {
   "cell_type": "code",
   "execution_count": null,
   "metadata": {},
   "outputs": [],
   "source": []
  }
 ],
 "metadata": {
  "kernelspec": {
   "display_name": "Python [conda env:Anaconda3]",
   "language": "python",
   "name": "conda-env-Anaconda3-py"
  },
  "language_info": {
   "codemirror_mode": {
    "name": "ipython",
    "version": 3
   },
   "file_extension": ".py",
   "mimetype": "text/x-python",
   "name": "python",
   "nbconvert_exporter": "python",
   "pygments_lexer": "ipython3",
   "version": "3.6.5"
  }
 },
 "nbformat": 4,
 "nbformat_minor": 2
}
