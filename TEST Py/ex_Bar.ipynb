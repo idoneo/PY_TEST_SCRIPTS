{
 "cells": [
  {
   "cell_type": "code",
   "execution_count": 1,
   "metadata": {
    "collapsed": true
   },
   "outputs": [],
   "source": [
    "import numpy as np\n",
    "import pandas as pd"
   ]
  },
  {
   "cell_type": "code",
   "execution_count": 2,
   "metadata": {
    "collapsed": true
   },
   "outputs": [],
   "source": [
    "from scipy import stats,integrate\n",
    "import matplotlib.pyplot as plt"
   ]
  },
  {
   "cell_type": "code",
   "execution_count": 3,
   "metadata": {
    "collapsed": true
   },
   "outputs": [],
   "source": [
    " import seaborn as sns\n",
    " sns.set (color_codes=True)"
   ]
  },
  {
   "cell_type": "code",
   "execution_count": 4,
   "metadata": {
    "collapsed": true
   },
   "outputs": [],
   "source": [
    " dis=pd.read_excel('C:/Users/mjc341/desktop/TESTPY/dis.xlsx')"
   ]
  },
  {
   "cell_type": "code",
   "execution_count": 6,
   "metadata": {
    "collapsed": true
   },
   "outputs": [
    {
     "data": {
      "text/html": [
       "<div>\n",
       "<table border=\"1\" class=\"dataframe\">\n",
       "  <thead>\n",
       "    <tr style=\"text-align: right;\">\n",
       "      <th></th>\n",
       "      <th>STUDENT_ID</th>\n",
       "      <th>ETHNIC_GROUP</th>\n",
       "      <th>GENDER</th>\n",
       "      <th>ACAD_LOAD</th>\n",
       "      <th>ACAD_GROUP</th>\n",
       "      <th>ACAD_LEVEL</th>\n",
       "      <th>FTE</th>\n",
       "      <th>STUDENT_ENROLL</th>\n",
       "      <th>ADMIT_TYPE</th>\n",
       "      <th>CALC TUITION*FTE</th>\n",
       "      <th>IGRANT</th>\n",
       "    </tr>\n",
       "  </thead>\n",
       "  <tbody>\n",
       "    <tr>\n",
       "      <th>0</th>\n",
       "      <td>54222025</td>\n",
       "      <td>Hispanic/Latino</td>\n",
       "      <td>Male</td>\n",
       "      <td>Enrolled Full-Time</td>\n",
       "      <td>College of Engineering</td>\n",
       "      <td>Freshman</td>\n",
       "      <td>1.00</td>\n",
       "      <td>1</td>\n",
       "      <td>New Student</td>\n",
       "      <td>47040.0</td>\n",
       "      <td>0.0</td>\n",
       "    </tr>\n",
       "    <tr>\n",
       "      <th>1</th>\n",
       "      <td>50438765</td>\n",
       "      <td>Hispanic/Latino</td>\n",
       "      <td>Male</td>\n",
       "      <td>Enrolled Full-Time</td>\n",
       "      <td>College of Arts and Sciences</td>\n",
       "      <td>Junior</td>\n",
       "      <td>1.00</td>\n",
       "      <td>1</td>\n",
       "      <td>Continuing</td>\n",
       "      <td>47040.0</td>\n",
       "      <td>0.0</td>\n",
       "    </tr>\n",
       "    <tr>\n",
       "      <th>2</th>\n",
       "      <td>50036096</td>\n",
       "      <td>Hispanic/Latino</td>\n",
       "      <td>Female</td>\n",
       "      <td>Less than Half-Time</td>\n",
       "      <td>School of Continuing Studies</td>\n",
       "      <td>Junior</td>\n",
       "      <td>0.25</td>\n",
       "      <td>1</td>\n",
       "      <td>Continuing</td>\n",
       "      <td>11760.0</td>\n",
       "      <td>0.0</td>\n",
       "    </tr>\n",
       "    <tr>\n",
       "      <th>3</th>\n",
       "      <td>50440352</td>\n",
       "      <td>White</td>\n",
       "      <td>Male</td>\n",
       "      <td>Enrolled Full-Time</td>\n",
       "      <td>College of Arts and Sciences</td>\n",
       "      <td>Senior</td>\n",
       "      <td>1.00</td>\n",
       "      <td>1</td>\n",
       "      <td>Continuing</td>\n",
       "      <td>47040.0</td>\n",
       "      <td>0.0</td>\n",
       "    </tr>\n",
       "    <tr>\n",
       "      <th>4</th>\n",
       "      <td>50429012</td>\n",
       "      <td>Hispanic/Latino</td>\n",
       "      <td>Female</td>\n",
       "      <td>Enrolled Full-Time</td>\n",
       "      <td>Schl of Nursing Health Studies</td>\n",
       "      <td>Junior</td>\n",
       "      <td>1.00</td>\n",
       "      <td>1</td>\n",
       "      <td>Continuing</td>\n",
       "      <td>47040.0</td>\n",
       "      <td>0.0</td>\n",
       "    </tr>\n",
       "  </tbody>\n",
       "</table>\n",
       "</div>"
      ],
      "text/plain": [
       "   STUDENT_ID     ETHNIC_GROUP  GENDER            ACAD_LOAD  \\\n",
       "0    54222025  Hispanic/Latino    Male   Enrolled Full-Time   \n",
       "1    50438765  Hispanic/Latino    Male   Enrolled Full-Time   \n",
       "2    50036096  Hispanic/Latino  Female  Less than Half-Time   \n",
       "3    50440352            White    Male   Enrolled Full-Time   \n",
       "4    50429012  Hispanic/Latino  Female   Enrolled Full-Time   \n",
       "\n",
       "                       ACAD_GROUP ACAD_LEVEL   FTE  STUDENT_ENROLL  \\\n",
       "0          College of Engineering   Freshman  1.00               1   \n",
       "1    College of Arts and Sciences     Junior  1.00               1   \n",
       "2    School of Continuing Studies     Junior  0.25               1   \n",
       "3    College of Arts and Sciences     Senior  1.00               1   \n",
       "4  Schl of Nursing Health Studies     Junior  1.00               1   \n",
       "\n",
       "    ADMIT_TYPE  CALC TUITION*FTE  IGRANT  \n",
       "0  New Student           47040.0     0.0  \n",
       "1   Continuing           47040.0     0.0  \n",
       "2   Continuing           11760.0     0.0  \n",
       "3   Continuing           47040.0     0.0  \n",
       "4   Continuing           47040.0     0.0  "
      ]
     },
     "execution_count": 6,
     "metadata": {},
     "output_type": "execute_result"
    }
   ],
   "source": [
    "dis.head()"
   ]
  },
  {
   "cell_type": "code",
   "execution_count": 8,
   "metadata": {
    "collapsed": true
   },
   "outputs": [
    {
     "data": {
      "text/plain": [
       "0               College of Engineering\n",
       "1         College of Arts and Sciences\n",
       "2         School of Continuing Studies\n",
       "3         College of Arts and Sciences\n",
       "4       Schl of Nursing Health Studies\n",
       "5         College of Arts and Sciences\n",
       "6         School of Continuing Studies\n",
       "7         College of Arts and Sciences\n",
       "8       Schl of Nursing Health Studies\n",
       "9               College of Engineering\n",
       "10            School of Business Admin\n",
       "11            School of Business Admin\n",
       "12        College of Arts and Sciences\n",
       "13        College of Arts and Sciences\n",
       "14        College of Arts and Sciences\n",
       "15      School of Marine & Atm Science\n",
       "16              College of Engineering\n",
       "17        College of Arts and Sciences\n",
       "18        College of Arts and Sciences\n",
       "19               Frost School of Music\n",
       "20        School of Continuing Studies\n",
       "21                 School of Education\n",
       "22        College of Arts and Sciences\n",
       "23              College of Engineering\n",
       "24        College of Arts and Sciences\n",
       "25        College of Arts and Sciences\n",
       "26        School of Continuing Studies\n",
       "27        School of Continuing Studies\n",
       "28        School of Continuing Studies\n",
       "29        School of Continuing Studies\n",
       "                     ...              \n",
       "9931      College of Arts and Sciences\n",
       "9932      College of Arts and Sciences\n",
       "9933      College of Arts and Sciences\n",
       "9934      College of Arts and Sciences\n",
       "9935      College of Arts and Sciences\n",
       "9936      College of Arts and Sciences\n",
       "9937      College of Arts and Sciences\n",
       "9938      College of Arts and Sciences\n",
       "9939          School of Business Admin\n",
       "9940      College of Arts and Sciences\n",
       "9941               School of Education\n",
       "9942      College of Arts and Sciences\n",
       "9943    Schl of Nursing Health Studies\n",
       "9944           School of Communication\n",
       "9945      College of Arts and Sciences\n",
       "9946      College of Arts and Sciences\n",
       "9947               School of Education\n",
       "9948      College of Arts and Sciences\n",
       "9949               School of Education\n",
       "9950      College of Arts and Sciences\n",
       "9951      College of Arts and Sciences\n",
       "9952      College of Arts and Sciences\n",
       "9953      College of Arts and Sciences\n",
       "9954      College of Arts and Sciences\n",
       "9955      College of Arts and Sciences\n",
       "9956    Schl of Nursing Health Studies\n",
       "9957      College of Arts and Sciences\n",
       "9958      College of Arts and Sciences\n",
       "9959      College of Arts and Sciences\n",
       "9960               School of Education\n",
       "Name: ACAD_GROUP, dtype: object"
      ]
     },
     "execution_count": 8,
     "metadata": {},
     "output_type": "execute_result"
    }
   ],
   "source": [
    "# get 1 column \n",
    "dis['ACAD_GROUP']"
   ]
  },
  {
   "cell_type": "code",
   "execution_count": 10,
   "metadata": {
    "collapsed": true
   },
   "outputs": [
    {
     "data": {
      "text/html": [
       "<div>\n",
       "<table border=\"1\" class=\"dataframe\">\n",
       "  <thead>\n",
       "    <tr style=\"text-align: right;\">\n",
       "      <th></th>\n",
       "      <th>STUDENT_ID</th>\n",
       "      <th>ETHNIC_GROUP</th>\n",
       "      <th>GENDER</th>\n",
       "      <th>ACAD_LOAD</th>\n",
       "      <th>ACAD_GROUP</th>\n",
       "      <th>ACAD_LEVEL</th>\n",
       "      <th>FTE</th>\n",
       "      <th>STUDENT_ENROLL</th>\n",
       "      <th>ADMIT_TYPE</th>\n",
       "      <th>CALC TUITION*FTE</th>\n",
       "      <th>IGRANT</th>\n",
       "    </tr>\n",
       "  </thead>\n",
       "  <tbody>\n",
       "    <tr>\n",
       "      <th>0</th>\n",
       "      <td>54222025</td>\n",
       "      <td>Hispanic/Latino</td>\n",
       "      <td>Male</td>\n",
       "      <td>Enrolled Full-Time</td>\n",
       "      <td>College of Engineering</td>\n",
       "      <td>Freshman</td>\n",
       "      <td>1.00</td>\n",
       "      <td>1</td>\n",
       "      <td>New Student</td>\n",
       "      <td>47040.0</td>\n",
       "      <td>0.0</td>\n",
       "    </tr>\n",
       "    <tr>\n",
       "      <th>1</th>\n",
       "      <td>50438765</td>\n",
       "      <td>Hispanic/Latino</td>\n",
       "      <td>Male</td>\n",
       "      <td>Enrolled Full-Time</td>\n",
       "      <td>College of Arts and Sciences</td>\n",
       "      <td>Junior</td>\n",
       "      <td>1.00</td>\n",
       "      <td>1</td>\n",
       "      <td>Continuing</td>\n",
       "      <td>47040.0</td>\n",
       "      <td>0.0</td>\n",
       "    </tr>\n",
       "    <tr>\n",
       "      <th>2</th>\n",
       "      <td>50036096</td>\n",
       "      <td>Hispanic/Latino</td>\n",
       "      <td>Female</td>\n",
       "      <td>Less than Half-Time</td>\n",
       "      <td>School of Continuing Studies</td>\n",
       "      <td>Junior</td>\n",
       "      <td>0.25</td>\n",
       "      <td>1</td>\n",
       "      <td>Continuing</td>\n",
       "      <td>11760.0</td>\n",
       "      <td>0.0</td>\n",
       "    </tr>\n",
       "    <tr>\n",
       "      <th>3</th>\n",
       "      <td>50440352</td>\n",
       "      <td>White</td>\n",
       "      <td>Male</td>\n",
       "      <td>Enrolled Full-Time</td>\n",
       "      <td>College of Arts and Sciences</td>\n",
       "      <td>Senior</td>\n",
       "      <td>1.00</td>\n",
       "      <td>1</td>\n",
       "      <td>Continuing</td>\n",
       "      <td>47040.0</td>\n",
       "      <td>0.0</td>\n",
       "    </tr>\n",
       "    <tr>\n",
       "      <th>4</th>\n",
       "      <td>50429012</td>\n",
       "      <td>Hispanic/Latino</td>\n",
       "      <td>Female</td>\n",
       "      <td>Enrolled Full-Time</td>\n",
       "      <td>Schl of Nursing Health Studies</td>\n",
       "      <td>Junior</td>\n",
       "      <td>1.00</td>\n",
       "      <td>1</td>\n",
       "      <td>Continuing</td>\n",
       "      <td>47040.0</td>\n",
       "      <td>0.0</td>\n",
       "    </tr>\n",
       "  </tbody>\n",
       "</table>\n",
       "</div>"
      ],
      "text/plain": [
       "   STUDENT_ID     ETHNIC_GROUP  GENDER            ACAD_LOAD  \\\n",
       "0    54222025  Hispanic/Latino    Male   Enrolled Full-Time   \n",
       "1    50438765  Hispanic/Latino    Male   Enrolled Full-Time   \n",
       "2    50036096  Hispanic/Latino  Female  Less than Half-Time   \n",
       "3    50440352            White    Male   Enrolled Full-Time   \n",
       "4    50429012  Hispanic/Latino  Female   Enrolled Full-Time   \n",
       "\n",
       "                       ACAD_GROUP ACAD_LEVEL   FTE  STUDENT_ENROLL  \\\n",
       "0          College of Engineering   Freshman  1.00               1   \n",
       "1    College of Arts and Sciences     Junior  1.00               1   \n",
       "2    School of Continuing Studies     Junior  0.25               1   \n",
       "3    College of Arts and Sciences     Senior  1.00               1   \n",
       "4  Schl of Nursing Health Studies     Junior  1.00               1   \n",
       "\n",
       "    ADMIT_TYPE  CALC TUITION*FTE  IGRANT  \n",
       "0  New Student           47040.0     0.0  \n",
       "1   Continuing           47040.0     0.0  \n",
       "2   Continuing           11760.0     0.0  \n",
       "3   Continuing           47040.0     0.0  \n",
       "4   Continuing           47040.0     0.0  "
      ]
     },
     "execution_count": 10,
     "metadata": {},
     "output_type": "execute_result"
    }
   ],
   "source": [
    "#first 5 rows all columns\n",
    "dis[:5]"
   ]
  },
  {
   "cell_type": "code",
   "execution_count": 13,
   "metadata": {},
   "outputs": [
    {
     "data": {
      "text/plain": [
       "0            College of Engineering\n",
       "1      College of Arts and Sciences\n",
       "2      School of Continuing Studies\n",
       "3      College of Arts and Sciences\n",
       "4    Schl of Nursing Health Studies\n",
       "Name: ACAD_GROUP, dtype: object"
      ]
     },
     "execution_count": 13,
     "metadata": {},
     "output_type": "execute_result"
    }
   ],
   "source": [
    "#combine 8 and 10 IN THE SAME LINE to get 1st 5 rows of  certain col\n",
    "dis['ACAD_GROUP'][:5]"
   ]
  },
  {
   "cell_type": "code",
   "execution_count": 14,
   "metadata": {
    "collapsed": true
   },
   "outputs": [
    {
     "data": {
      "text/html": [
       "<div>\n",
       "<table border=\"1\" class=\"dataframe\">\n",
       "  <thead>\n",
       "    <tr style=\"text-align: right;\">\n",
       "      <th></th>\n",
       "      <th>ACAD_GROUP</th>\n",
       "      <th>IGRANT</th>\n",
       "    </tr>\n",
       "  </thead>\n",
       "  <tbody>\n",
       "    <tr>\n",
       "      <th>0</th>\n",
       "      <td>College of Engineering</td>\n",
       "      <td>0.0</td>\n",
       "    </tr>\n",
       "    <tr>\n",
       "      <th>1</th>\n",
       "      <td>College of Arts and Sciences</td>\n",
       "      <td>0.0</td>\n",
       "    </tr>\n",
       "    <tr>\n",
       "      <th>2</th>\n",
       "      <td>School of Continuing Studies</td>\n",
       "      <td>0.0</td>\n",
       "    </tr>\n",
       "    <tr>\n",
       "      <th>3</th>\n",
       "      <td>College of Arts and Sciences</td>\n",
       "      <td>0.0</td>\n",
       "    </tr>\n",
       "    <tr>\n",
       "      <th>4</th>\n",
       "      <td>Schl of Nursing Health Studies</td>\n",
       "      <td>0.0</td>\n",
       "    </tr>\n",
       "    <tr>\n",
       "      <th>5</th>\n",
       "      <td>College of Arts and Sciences</td>\n",
       "      <td>0.0</td>\n",
       "    </tr>\n",
       "    <tr>\n",
       "      <th>6</th>\n",
       "      <td>School of Continuing Studies</td>\n",
       "      <td>0.0</td>\n",
       "    </tr>\n",
       "    <tr>\n",
       "      <th>7</th>\n",
       "      <td>College of Arts and Sciences</td>\n",
       "      <td>0.0</td>\n",
       "    </tr>\n",
       "    <tr>\n",
       "      <th>8</th>\n",
       "      <td>Schl of Nursing Health Studies</td>\n",
       "      <td>0.0</td>\n",
       "    </tr>\n",
       "    <tr>\n",
       "      <th>9</th>\n",
       "      <td>College of Engineering</td>\n",
       "      <td>0.0</td>\n",
       "    </tr>\n",
       "  </tbody>\n",
       "</table>\n",
       "</div>"
      ],
      "text/plain": [
       "                       ACAD_GROUP  IGRANT\n",
       "0          College of Engineering     0.0\n",
       "1    College of Arts and Sciences     0.0\n",
       "2    School of Continuing Studies     0.0\n",
       "3    College of Arts and Sciences     0.0\n",
       "4  Schl of Nursing Health Studies     0.0\n",
       "5    College of Arts and Sciences     0.0\n",
       "6    School of Continuing Studies     0.0\n",
       "7    College of Arts and Sciences     0.0\n",
       "8  Schl of Nursing Health Studies     0.0\n",
       "9          College of Engineering     0.0"
      ]
     },
     "execution_count": 14,
     "metadata": {},
     "output_type": "execute_result"
    }
   ],
   "source": [
    "#Select a subset of cols and first 10 rows\n",
    "dis [['ACAD_GROUP','IGRANT']][:10]"
   ]
  },
  {
   "cell_type": "code",
   "execution_count": 20,
   "metadata": {
    "collapsed": true
   },
   "outputs": [],
   "source": [
    "#Get a count of values by col name\n",
    "ACAD_count =dis['ACAD_GROUP'].value_counts()\n"
   ]
  },
  {
   "cell_type": "code",
   "execution_count": 21,
   "metadata": {
    "collapsed": true
   },
   "outputs": [],
   "source": [
    "import pandas as pd\n"
   ]
  },
  {
   "cell_type": "code",
   "execution_count": 22,
   "metadata": {
    "collapsed": true
   },
   "outputs": [],
   "source": [
    "ACAD_count =dis['ACAD_GROUP'].value_counts()"
   ]
  },
  {
   "cell_type": "code",
   "execution_count": 25,
   "metadata": {},
   "outputs": [
    {
     "data": {
      "text/plain": [
       "College of Arts and Sciences      3657\n",
       "School of Business Admin          2322\n",
       "College of Engineering            1066\n",
       "School of Communication            876\n",
       "Schl of Nursing Health Studies     499\n",
       "Frost School of Music              446\n",
       "School of Education                415\n",
       "School of Marine & Atm Science     363\n",
       "School of Architecture             221\n",
       "School of Continuing Studies        96\n",
       "Name: ACAD_GROUP, dtype: int64"
      ]
     },
     "execution_count": 25,
     "metadata": {},
     "output_type": "execute_result"
    }
   ],
   "source": [
    "ACAD_count[:10]"
   ]
  },
  {
   "cell_type": "code",
   "execution_count": 39,
   "metadata": {
    "collapsed": true
   },
   "outputs": [],
   "source": [
    "plt.style.use('classic')\n",
    "import matplotlib.cm as cm"
   ]
  },
  {
   "cell_type": "code",
   "execution_count": 43,
   "metadata": {},
   "outputs": [
    {
     "data": {
      "text/plain": [
       "<matplotlib.axes._subplots.AxesSubplot at 0x21e331a01d0>"
      ]
     },
     "execution_count": 43,
     "metadata": {},
     "output_type": "execute_result"
    },
    {
     "data": {
      "image/png": "[encoded data removed]",
      "text/plain": [
       "<matplotlib.figure.Figure at 0x21e331a34a8>"
      ]
     },
     "metadata": {},
     "output_type": "display_data"
    }
   ],
   "source": [
    "ACAD_count.plot(kind='barh')"
   ]
  },
  {
   "cell_type": "code",
   "execution_count": 44,
   "metadata": {
    "collapsed": true
   },
   "outputs": [
    {
     "data": {
      "text/plain": [
       "<bound method NDFrame.describe of       STUDENT_ID            ETHNIC_GROUP  GENDER            ACAD_LOAD                      ACAD_GROUP ACAD_LEVEL   FTE  STUDENT_ENROLL        ADMIT_TYPE  CALC TUITION*FTE   IGRANT\n",
       "0       54222025         Hispanic/Latino    Male   Enrolled Full-Time          College of Engineering   Freshman  1.00               1       New Student           47040.0      0.0\n",
       "1       50438765         Hispanic/Latino    Male   Enrolled Full-Time    College of Arts and Sciences     Junior  1.00               1        Continuing           47040.0      0.0\n",
       "2       50036096         Hispanic/Latino  Female  Less than Half-Time    School of Continuing Studies     Junior  0.25               1        Continuing           11760.0      0.0\n",
       "3       50440352                   White    Male   Enrolled Full-Time    College of Arts and Sciences     Senior  1.00               1        Continuing           47040.0      0.0\n",
       "4       50429012         Hispanic/Latino  Female   Enrolled Full-Time  Schl of Nursing Health Studies     Junior  1.00               1        Continuing           47040.0      0.0\n",
       "5       54158386         Hispanic/Latino    Male   Enrolled Full-Time    College of Arts and Sciences     Junior  1.00               1        Continuing           47040.0      0.0\n",
       "6       50037820  Black/African American  Female   Enrolled Half-Time    School of Continuing Studies     Senior  0.50               1        Continuing           23520.0      0.0\n",
       "7       54162284                   White  Female   Enrolled Full-Time    College of Arts and Sciences     Senior  1.00               1        Continuing           47040.0      0.0\n",
       "8       54159039                   White  Female   Enrolled Full-Time  Schl of Nursing Health Studies  Sophomore  1.00               1        Continuing           47040.0      0.0\n",
       "9       54211192                   White    Male   Enrolled Full-Time          College of Engineering   Freshman  1.00               1       New Student           47040.0      0.0\n",
       "10      50922042         Hispanic/Latino    Male   Enrolled Full-Time        School of Business Admin     Senior  1.00               1        Continuing           47040.0      0.0\n",
       "11      54155482         Hispanic/Latino  Female   Enrolled Full-Time        School of Business Admin  Sophomore  1.00               1        Continuing           47040.0      0.0\n",
       "12      54125035                   Asian  Female   Enrolled Full-Time    College of Arts and Sciences   Freshman  1.00               1       New Student           47040.0      0.0\n",
       "13      50045648                   White  Female   Enrolled Half-Time    College of Arts and Sciences     Senior  0.50               1        Continuing           23520.0      0.0\n",
       "14      50045722         Hispanic/Latino  Female  Less than Half-Time    College of Arts and Sciences     Senior  0.33               1        Continuing           15523.2      0.0\n",
       "15      50438208                   White    Male   Three Quarter Time  School of Marine & Atm Science     Senior  0.75               1        Continuing           35280.0      0.0\n",
       "16      54202546                   White    Male   Enrolled Full-Time          College of Engineering   Freshman  1.00               1       New Student           47040.0      0.0\n",
       "17      54166135           Not Specified  Female   Enrolled Full-Time    College of Arts and Sciences     Junior  1.00               1        Continuing           47040.0      0.0\n",
       "18      54161665         Hispanic/Latino    Male   Enrolled Full-Time    College of Arts and Sciences  Sophomore  1.00               1        Continuing           47040.0      0.0\n",
       "19      50053440         Hispanic/Latino    Male   Enrolled Full-Time           Frost School of Music     Junior  1.00               1  Transfer Student           47040.0      0.0\n",
       "20      54204749         Hispanic/Latino    Male   Three Quarter Time    School of Continuing Studies     Junior  0.75               1        Continuing           35280.0      0.0\n",
       "21      54151677                   White  Female   Enrolled Full-Time             School of Education  Sophomore  1.00               1        Continuing           47040.0      0.0\n",
       "22      54226541                   Asian  Female   Enrolled Full-Time    College of Arts and Sciences   Freshman  1.00               1       New Student           47040.0      0.0\n",
       "23      50063069         Hispanic/Latino    Male   Enrolled Half-Time          College of Engineering     Senior  0.50               1        Continuing           23520.0      0.0\n",
       "24      54261764         Hispanic/Latino  Female   Three Quarter Time    College of Arts and Sciences  Sophomore  0.75               1  Transfer Student           35280.0      0.0\n",
       "25      54150116         Hispanic/Latino  Female   Enrolled Full-Time    College of Arts and Sciences  Sophomore  1.00               1        Continuing           47040.0      0.0\n",
       "26      50472217         Hispanic/Latino  Female  Less than Half-Time    School of Continuing Studies     Junior  0.25               1        Continuing           11760.0      0.0\n",
       "27      50068255         Hispanic/Latino  Female   Enrolled Half-Time    School of Continuing Studies  Sophomore  0.50               1        Continuing           23520.0      0.0\n",
       "28      50069625         Hispanic/Latino  Female   Three Quarter Time    School of Continuing Studies     Junior  0.75               1        Continuing           35280.0      0.0\n",
       "29      50070229         Hispanic/Latino    Male   Enrolled Half-Time    School of Continuing Studies     Senior  0.50               1        Continuing           23520.0      0.0\n",
       "...          ...                     ...     ...                  ...                             ...        ...   ...             ...               ...               ...      ...\n",
       "9931    54261592                   White  Female   Enrolled Full-Time    College of Arts and Sciences  Sophomore  1.00               1  Transfer Student           47040.0  15000.0\n",
       "9932    54261594                   Asian    Male   Enrolled Full-Time    College of Arts and Sciences  Sophomore  1.00               1  Transfer Student           47040.0  15000.0\n",
       "9933    54261599                   White  Female   Enrolled Full-Time    College of Arts and Sciences  Sophomore  1.00               1  Transfer Student           47040.0      0.0\n",
       "9934    54261610                   White    Male   Enrolled Full-Time    College of Arts and Sciences   Freshman  1.00               1  Transfer Student           47040.0      0.0\n",
       "9935    54261698                   White  Female   Enrolled Full-Time    College of Arts and Sciences  Sophomore  1.00               1  Transfer Student           47040.0      0.0\n",
       "9936    54261699         Hispanic/Latino  Female   Enrolled Full-Time    College of Arts and Sciences  Sophomore  1.00               1  Transfer Student           47040.0  19400.0\n",
       "9937    54261801                   Asian    Male  Less than Half-Time    College of Arts and Sciences  Sophomore  0.25               1  Transfer Student           11760.0  15000.0\n",
       "9938    54261802         Hispanic/Latino  Female   Enrolled Full-Time    College of Arts and Sciences   Freshman  1.00               1  Transfer Student           47040.0  15000.0\n",
       "9939    54261804         Hispanic/Latino    Male   Enrolled Full-Time        School of Business Admin     Junior  1.00               1  Transfer Student           47040.0      0.0\n",
       "9940    54261861                   White    Male   Enrolled Full-Time    College of Arts and Sciences  Sophomore  1.00               1  Transfer Student           47040.0  15000.0\n",
       "9941    54261753  Black/African American  Female   Enrolled Full-Time             School of Education     Junior  1.00               1  Transfer Student           47040.0  47100.0\n",
       "9942    54261917                   Asian    Male   Enrolled Full-Time    College of Arts and Sciences     Junior  1.00               1  Transfer Student           47040.0  15000.0\n",
       "9943    54261874         Hispanic/Latino    Male   Three Quarter Time  Schl of Nursing Health Studies  Sophomore  0.75               1  Transfer Student           35280.0  15000.0\n",
       "9944    54261878  Black/African American  Female   Enrolled Full-Time         School of Communication  Sophomore  1.00               1  Transfer Student           47040.0  32200.0\n",
       "9945    54261881                   White    Male   Enrolled Full-Time    College of Arts and Sciences  Sophomore  1.00               1  Transfer Student           47040.0      0.0\n",
       "9946    54261970                   Asian  Female   Enrolled Full-Time    College of Arts and Sciences     Senior  1.00               1  Transfer Student           47040.0      0.0\n",
       "9947    54261977  Black/African American  Female   Enrolled Full-Time             School of Education     Senior  1.00               1  Transfer Student           47040.0      0.0\n",
       "9948    54262031  Black/African American    Male   Three Quarter Time    College of Arts and Sciences  Sophomore  0.92               1  Transfer Student           43276.8      0.0\n",
       "9949    54262597         Hispanic/Latino    Male   Enrolled Half-Time             School of Education  Sophomore  0.50               1  Transfer Student           23520.0      0.0\n",
       "9950    54263037  Black/African American    Male   Enrolled Full-Time    College of Arts and Sciences  Sophomore  1.00               1  Transfer Student           47040.0      0.0\n",
       "9951    54263076                   Asian    Male   Enrolled Full-Time    College of Arts and Sciences  Sophomore  1.00               1  Transfer Student           47040.0  15000.0\n",
       "9952    54263583         Hispanic/Latino  Female   Enrolled Full-Time    College of Arts and Sciences     Junior  1.00               1  Transfer Student           47040.0      0.0\n",
       "9953    54263634         Hispanic/Latino    Male   Enrolled Half-Time    College of Arts and Sciences  Sophomore  0.50               1  Transfer Student           23520.0      0.0\n",
       "9954    54263824                   White    Male   Three Quarter Time    College of Arts and Sciences   Freshman  0.75               1  Transfer Student           35280.0  45400.0\n",
       "9955    54263917         Hispanic/Latino    Male   Enrolled Full-Time    College of Arts and Sciences   Freshman  1.00               1  Transfer Student           47040.0      0.0\n",
       "9956    54264130                   White  Female   Enrolled Full-Time  Schl of Nursing Health Studies  Sophomore  1.00               1  Transfer Student           47040.0      0.0\n",
       "9957    54264616         Hispanic/Latino  Female   Enrolled Full-Time    College of Arts and Sciences     Junior  1.00               1  Transfer Student           47040.0      0.0\n",
       "9958    54264772  Black/African American  Female   Enrolled Full-Time    College of Arts and Sciences     Junior  1.00               1  Transfer Student           47040.0      0.0\n",
       "9959    54265173                   White    Male   Enrolled Full-Time    College of Arts and Sciences   Freshman  1.00               1  Transfer Student           47040.0      0.0\n",
       "9960    54266262  Black/African American    Male   Enrolled Full-Time             School of Education   Freshman  1.00               1  Transfer Student           47040.0      0.0\n",
       "\n",
       "[9961 rows x 11 columns]>"
      ]
     },
     "execution_count": 44,
     "metadata": {},
     "output_type": "execute_result"
    }
   ],
   "source": [
    "dis.describe"
   ]
  },
  {
   "cell_type": "code",
   "execution_count": 45,
   "metadata": {
    "collapsed": true
   },
   "outputs": [],
   "source": [
    "ETNIC_count =dis['ETHNIC_GROUP'].value_counts()"
   ]
  },
  {
   "cell_type": "code",
   "execution_count": 51,
   "metadata": {},
   "outputs": [
    {
     "data": {
      "text/plain": [
       "<matplotlib.axes._subplots.AxesSubplot at 0x21e359ab710>"
      ]
     },
     "execution_count": 51,
     "metadata": {},
     "output_type": "execute_result"
    },
    {
     "data": {
      "image/png": "[encoded data removed]",
      "text/plain": [
       "<matplotlib.figure.Figure at 0x21e35a1f1d0>"
      ]
     },
     "metadata": {},
     "output_type": "display_data"
    }
   ],
   "source": [
    "ETNIC_count.plot(kind='barh')"
   ]
  },
  {
   "cell_type": "code",
   "execution_count": 47,
   "metadata": {
    "collapsed": true
   },
   "outputs": [
    {
     "data": {
      "text/plain": [
       "array([     0.  ,  25000.  ,   1000.  ,  10000.  ,   5900.  ,  42900.  ,\n",
       "        22000.  ,  30000.  ,  37300.  ,  38200.  ,  38000.  ,  29425.  ,\n",
       "         5244.  ,  15000.  ,  22700.  ,   3300.  ,  18000.  ,  25200.  ,\n",
       "        28600.  ,  40000.  ,  12000.  ,  44004.  ,  38900.  ,  37700.  ,\n",
       "         6100.  ,   2300.  ,  32000.  ,  23500.  ,   2900.  ,   4503.  ,\n",
       "         5000.  ,  40700.  ,  45184.  ,  14000.  ,   1240.  ,  27100.  ,\n",
       "        27800.  ,  35600.  ,   9000.  ,  47040.  ,  20000.  ,  33400.  ,\n",
       "        21000.  ,  13000.  ,  30946.  ,  28800.  ,  16000.  ,  43600.  ,\n",
       "        27000.  ,  22500.  ,  34300.  ,  32100.  ,   5200.  ,  17000.  ,\n",
       "        51000.  ,  27900.  ,  26500.  ,  17600.  ,  11000.  ,  28000.  ,\n",
       "        19900.  ,  43000.  ,  30400.  ,  34700.  ,  36400.  ,  39400.  ,\n",
       "        16500.  ,   9100.  ,   7000.  ,  39000.  ,  32700.  ,  26000.  ,\n",
       "         8700.  ,  41160.  ,  26130.  ,  23000.  ,  32300.  ,  24000.  ,\n",
       "        43200.  ,  31000.  ,  47000.  ,  37148.  ,  28100.  ,  42700.  ,\n",
       "        24400.  ,  10644.  ,  31053.  ,  23109.  ,  43771.  ,  40800.  ,\n",
       "        30800.  ,  35800.  ,   8000.  ,  19000.  ,  46500.  ,  46300.  ,\n",
       "        40200.  ,  17100.  ,  25700.  ,  26400.  ,   1793.  ,  46000.  ,\n",
       "        31072.  ,  29000.  ,  19700.  ,  35400.  ,  33000.  ,  21700.  ,\n",
       "        38190.  ,  24664.  ,  39600.  ,  23910.  ,  39700.  ,  30200.  ,\n",
       "        23100.  ,  39300.  ,  48800.  ,  46700.  ,  49200.  ,  48540.  ,\n",
       "         6000.  ,  20900.  ,  28725.  ,  16300.  ,   5500.  ,  47400.  ,\n",
       "        15100.  ,  49600.  ,   6042.  ,  33700.  ,   4300.  ,  25500.  ,\n",
       "        31400.  ,  42300.  ,  30900.  ,  22400.  ,  45100.  ,  41800.  ,\n",
       "         7056.  ,  38800.  ,  47700.  ,  40500.  ,  37600.  ,  36600.  ,\n",
       "        30700.  ,   5600.  ,  39200.  ,   3500.  ,  36100.  ,  41500.  ,\n",
       "        46900.  ,  11100.  ,  47600.  ,  37900.  ,  22600.  ,  31100.  ,\n",
       "        42500.  ,  47300.  ,  48040.  ,  24500.  ,  33600.  ,   1120.  ,\n",
       "        40600.  ,  24300.  ,  35500.  ,   1500.  ,  28700.  ,  27350.  ,\n",
       "        45600.  ,   5300.  ,   4400.  ,  34500.  ,  41023.  ,  42363.  ,\n",
       "        25800.  ,  44300.  ,  26900.  ,  35700.  ,  34840.  ,  25300.  ,\n",
       "        33851.  ,  46600.  ,  37000.  ,  20300.  ,  23700.  ,  27500.  ,\n",
       "        17490.  ,  45900.  ,  23800.  ,  37800.  ,  17500.  ,  45500.  ,\n",
       "        25400.  ,  24700.  ,  12084.  ,  38760.  ,  24900.  ,  40400.  ,\n",
       "        38500.  ,  28200.  ,  41400.  ,  33800.  ,  43400.  ,  43300.  ,\n",
       "        29460.  ,  34200.  ,  30300.  ,  30500.  ,  17300.  ,  38300.  ,\n",
       "        32500.  ,  20200.  ,  20700.  ,  25600.  ,  29600.  ,  28242.  ,\n",
       "        40900.  ,  34849.  ,  34900.  ,  41900.  ,  14500.  ,  38148.  ,\n",
       "        21200.  ,  33200.  ,  44400.  ,  38845.  ,  46400.  ,  44100.  ,\n",
       "        38843.  ,  26600.  ,  46184.  ,  36900.  ,  25900.  ,  38150.  ,\n",
       "        37200.  ,  35424.48,  24800.  ,  44600.  ,   5700.  ,  21900.  ,\n",
       "        10084.  ,  42100.  ,  45000.  ,  14400.  ,  41300.  ,  28174.  ,\n",
       "        13500.  ,  34000.  ,  19200.  ,  37100.  ,  47200.  ,  38400.  ,\n",
       "        39900.  ,  48900.  ,  29174.  ,   7200.  ,  32600.  ,   9500.  ,\n",
       "        22100.  ,  26700.  ,   8800.  ,  11170.  ,  44800.  ,  19500.  ,\n",
       "        31075.  ,  36500.  ,  50200.  ,  15340.  ,  12700.  ,  35000.  ,\n",
       "        33144.  ,  43536.  ,  13570.  ,  56700.  ,  49300.  ,  37500.  ,\n",
       "        45200.  ,  38700.  ,  40100.  ,  27400.  ,  28900.  ,  17364.  ,\n",
       "        36000.  ,  43700.  ,  29900.  ,   7900.  ,  18500.  ,  31900.  ,\n",
       "        19400.  ,  13600.  ,  33300.  ,  42800.  ,  41100.  ,  36700.  ,\n",
       "        23490.  ,  24600.  ,   9700.  ,  48500.  ,   2000.  ,  32450.  ,\n",
       "        24810.  ,  10900.  ,  34800.  ,  14100.  ,  43800.  ,  41200.  ,\n",
       "        26100.  ,  16700.  ,   4500.  ,  49400.  ,  47800.  ,  28210.  ,\n",
       "        10700.  ,  50800.  ,  18900.  ,  35900.  ,  42000.  ,  45700.  ,\n",
       "        29510.  ,  30100.  ,  20190.  ,  34400.  ,  44000.  ,  35300.  ,\n",
       "        46200.  ,  14150.  ,  31600.  ,  45400.  ,  40940.  ,  12250.  ,\n",
       "         8240.  ,  19100.  ,  28400.  ,  31500.  ,  29800.  ,  35200.  ,\n",
       "        29300.  ,  26300.  ,  42400.  ,  42200.  ,  28500.  ,   9400.  ,\n",
       "        41000.  ,  22770.  ,  47640.  ,  29700.  ,  19739.  ,  14800.  ,\n",
       "        50600.  ,  43500.  ,  27200.  ,   7500.  ,  13100.  ,  48000.  ,\n",
       "        41700.  ,  44500.  ,  51400.  ,  29400.  ,  10100.  ,  29064.  ,\n",
       "        38780.  ,  44200.  ,  54600.  ,   2500.  ,  40300.  ,  17400.  ,\n",
       "        34100.  ,  44900.  ,  11400.  ,  23600.  ,  36800.  ,  36200.  ,\n",
       "        22900.  ,   8600.  ,  29520.  ,  34080.  ,  32789.  ,  32705.  ,\n",
       "        18400.  ,  48360.  ,  38100.  ,  32790.  ,  32900.  ,   2800.  ,\n",
       "        28820.  ,  13300.  ,  39220.  ,  50500.  ,   3800.  ,  39800.  ,\n",
       "        27700.  ,  18630.  ,  41600.  ,  19300.  ,  31800.  ,  43900.  ,\n",
       "        48300.  ,  31200.  ,  49000.  ,  18100.  ,  12500.  ,  31700.  ,\n",
       "        33500.  ,  30600.  ,  27600.  ,  38220.  ,  52300.  ,  48200.  ,\n",
       "        18700.  ,  38558.  ,  23900.  ,   9200.  ,  51900.  ,   6800.  ,\n",
       "        12256.  ,  12900.  ,  45800.  ,  18800.  ,  39500.  ,  50100.  ,\n",
       "        18300.  ,  16100.  ,  43100.  ,  19600.  ,  31300.  ,  22300.  ,\n",
       "        38600.  ,  13800.  ,  45300.  ,  49100.  ,  34600.  ,  33860.  ,\n",
       "        25175.  ,  22800.  ,  47940.  ,  20100.  ,   6400.  ,   1900.  ,\n",
       "        48100.  ,  24200.  ,  21400.  ,  23300.  ,  15400.  ,   6700.  ,\n",
       "        29500.  ,  50400.  ,  16350.  ,  47500.  ,   9900.  ,  49800.  ,\n",
       "        37400.  ,  17900.  ,  20600.  ,  44700.  ,  47900.  ,  23400.  ,\n",
       "        16400.  ,  46100.  ,  28300.  ,  27650.  ,  15300.  ,  48600.  ,\n",
       "        15600.  ,  42600.  ,  20430.  ,  46800.  ,  13680.  ,  10200.  ,\n",
       "         9300.  ,  14300.  ,  33900.  ,  50300.  ,  45484.  ,  10400.  ,\n",
       "        17800.  ,   1200.  ,  29200.  ,  48700.  ,  34553.  ,  32200.  ,\n",
       "        15900.  ,  16600.  ,  53400.  ,  16800.  ,  39100.  ,  22200.  ,\n",
       "        50900.  ,  51700.  ,  33100.  ,   1400.  ,  24100.  ,  50000.  ,\n",
       "        35100.  ,  15500.  ,  29100.  ,  12400.  ,  29942.  ,  33351.  ,\n",
       "        40540.  ,  14900.  ,  12100.  ,  49900.  ,  18950.  ,  60100.  ,\n",
       "         3900.  ,  34760.  ,  17700.  ,  32400.  ,  56400.  ,  28450.  ,\n",
       "        18270.  ,  16908.  ,  50700.  ,   6500.  ,  28115.  ,  62100.  ,\n",
       "        23704.  ,  28270.  ,  28050.  ,  46170.  ,  20400.  ,  45150.  ,\n",
       "        48140.  ,   8100.  ,  15700.  ,  47100.  ,  12600.  ,  51100.  ,\n",
       "         7100.  ,   2400.  ,  11600.  ,   5100.  ,  23350.  ,  26200.  ,\n",
       "         4000.  ,   2700.  ,  53100.  ,  32800.  ,  52000.  ,   6200.  ,\n",
       "        21100.  ,  21300.  ,  33210.  ,   4200.  ,  49740.  ,  63900.  ,\n",
       "        26974.  ,  45784.  ,  12200.  ,  48400.  ,  23200.  ,  31298.  ,\n",
       "        26800.  ,  15200.  ,  30442.  ,   9800.  ,  44786.  ,  13400.  ,\n",
       "        36389.  ,  38990.  ,  33219.  ,  49540.  ,   4997.  ,  23007.  ,\n",
       "        29306.  ,  43694.  ,  14700.  ,  60337.  ,  48184.  ,  36300.  ,\n",
       "        11900.  ,  32716.  ,  20500.  ,   8900.  ,  20800.  ,  61490.  ,\n",
       "        52500.  ,  22444.  ,  44692.  ,  30670.  ,  19354.  ,  36236.  ,\n",
       "        21500.  ,  37889.  ,  46484.  ,  63587.  ,  53300.  ,  44056.  ,\n",
       "        49500.  ,  49240.  ,  46980.  ,  49770.  ,   5400.  ,   4900.  ,\n",
       "        51200.  ,  22134.  ,  13900.  ,  49700.  ,  41945.  ,   1520.  ,\n",
       "         2600.  ,  10300.  ,  37540.  ,  35662.  ,  12800.  ])"
      ]
     },
     "execution_count": 47,
     "metadata": {},
     "output_type": "execute_result"
    }
   ],
   "source": [
    "dis['IGRANT'].unique()"
   ]
  },
  {
   "cell_type": "code",
   "execution_count": 52,
   "metadata": {},
   "outputs": [
    {
     "data": {
      "text/plain": [
       "Index(['STUDENT_ID', 'ETHNIC_GROUP', 'GENDER', 'ACAD_LOAD', 'ACAD_GROUP', 'ACAD_LEVEL', 'FTE', 'STUDENT_ENROLL', 'ADMIT_TYPE', 'CALC TUITION*FTE', 'IGRANT'], dtype='object')"
      ]
     },
     "execution_count": 52,
     "metadata": {},
     "output_type": "execute_result"
    }
   ],
   "source": [
    "dis.columns"
   ]
  },
  {
   "cell_type": "code",
   "execution_count": 59,
   "metadata": {},
   "outputs": [
    {
     "data": {
      "text/plain": [
       "College of Arts and Sciences      3657\n",
       "School of Business Admin          2322\n",
       "College of Engineering            1066\n",
       "School of Communication            876\n",
       "Schl of Nursing Health Studies     499\n",
       "Frost School of Music              446\n",
       "School of Education                415\n",
       "School of Marine & Atm Science     363\n",
       "School of Architecture             221\n",
       "School of Continuing Studies        96\n",
       "Name: ACAD_GROUP, dtype: int64"
      ]
     },
     "execution_count": 59,
     "metadata": {},
     "output_type": "execute_result"
    }
   ],
   "source": [
    "# TOP 10\n",
    "ACAD_count[:10]"
   ]
  },
  {
   "cell_type": "code",
   "execution_count": 60,
   "metadata": {
    "collapsed": true
   },
   "outputs": [
    {
     "data": {
      "text/plain": [
       "STUDENT_ID            int64\n",
       "ETHNIC_GROUP         object\n",
       "GENDER               object\n",
       "ACAD_LOAD            object\n",
       "ACAD_GROUP           object\n",
       "ACAD_LEVEL           object\n",
       "FTE                 float64\n",
       "STUDENT_ENROLL        int64\n",
       "ADMIT_TYPE           object\n",
       "CALC TUITION*FTE    float64\n",
       "IGRANT              float64\n",
       "dtype: object"
      ]
     },
     "execution_count": 60,
     "metadata": {},
     "output_type": "execute_result"
    }
   ],
   "source": [
    "dis.dtypes"
   ]
  },
  {
   "cell_type": "code",
   "execution_count": 67,
   "metadata": {
    "collapsed": true
   },
   "outputs": [],
   "source": [
    "dis[['STUDENT_ID']]= dis[['STUDENT_ID']].astype(str)"
   ]
  },
  {
   "cell_type": "code",
   "execution_count": 68,
   "metadata": {},
   "outputs": [
    {
     "data": {
      "text/plain": [
       "STUDENT_ID           object\n",
       "ETHNIC_GROUP         object\n",
       "GENDER               object\n",
       "ACAD_LOAD            object\n",
       "ACAD_GROUP           object\n",
       "ACAD_LEVEL           object\n",
       "FTE                 float64\n",
       "STUDENT_ENROLL        int64\n",
       "ADMIT_TYPE           object\n",
       "CALC TUITION*FTE    float64\n",
       "IGRANT              float64\n",
       "dtype: object"
      ]
     },
     "execution_count": 68,
     "metadata": {},
     "output_type": "execute_result"
    }
   ],
   "source": [
    "dis.dtypes"
   ]
  },
  {
   "cell_type": "code",
   "execution_count": 69,
   "metadata": {},
   "outputs": [
    {
     "data": {
      "text/plain": [
       "9961"
      ]
     },
     "execution_count": 69,
     "metadata": {},
     "output_type": "execute_result"
    }
   ],
   "source": [
    "# get a count of each unique student ID\n",
    "len(dis['STUDENT_ID'].unique())"
   ]
  },
  {
   "cell_type": "code",
   "execution_count": 74,
   "metadata": {},
   "outputs": [
    {
     "data": {
      "text/plain": [
       "<matplotlib.axes._subplots.AxesSubplot at 0x21e35a11f98>"
      ]
     },
     "execution_count": 74,
     "metadata": {},
     "output_type": "execute_result"
    },
    {
     "data": {
      "image/png": "[encoded data removed]",
      "text/plain": [
       "<matplotlib.figure.Figure at 0x21e35a45978>"
      ]
     },
     "metadata": {},
     "output_type": "display_data"
    }
   ],
   "source": [
    "#MEDIAN dist of IGRANT by GENDER\n",
    "dis.groupby('GENDER')['IGRANT'].agg(np.median).plot(kind ='bar')"
   ]
  },
  {
   "cell_type": "code",
   "execution_count": 75,
   "metadata": {
    "collapsed": true
   },
   "outputs": [],
   "source": [
    "GEN_count =dis['GENDER'].value_counts()"
   ]
  },
  {
   "cell_type": "code",
   "execution_count": 76,
   "metadata": {},
   "outputs": [
    {
     "data": {
      "text/plain": [
       "Female    5204\n",
       "Male      4757\n",
       "Name: GENDER, dtype: int64"
      ]
     },
     "execution_count": 76,
     "metadata": {},
     "output_type": "execute_result"
    }
   ],
   "source": [
    "GEN_count"
   ]
  },
  {
   "cell_type": "code",
   "execution_count": 78,
   "metadata": {},
   "outputs": [
    {
     "data": {
      "text/plain": [
       "<matplotlib.axes._subplots.AxesSubplot at 0x21e3595b780>"
      ]
     },
     "execution_count": 78,
     "metadata": {},
     "output_type": "execute_result"
    },
    {
     "data": {
      "image/png": "[encoded data removed]",
      "text/plain": [
       "<matplotlib.figure.Figure at 0x21e33340d30>"
      ]
     },
     "metadata": {},
     "output_type": "display_data"
    }
   ],
   "source": [
    "GEN_count.plot(kind='bar')"
   ]
  },
  {
   "cell_type": "code",
   "execution_count": 91,
   "metadata": {},
   "outputs": [
    {
     "data": {
      "image/png": "[encoded data removed]",
      "text/plain": [
       "<matplotlib.figure.Figure at 0x21e37357e48>"
      ]
     },
     "metadata": {},
     "output_type": "display_data"
    }
   ],
   "source": [
    "sns.factorplot('GENDER','IGRANT', data = dis);"
   ]
  },
  {
   "cell_type": "code",
   "execution_count": null,
   "metadata": {
    "collapsed": true
   },
   "outputs": [],
   "source": []
  }
 ],
 "metadata": {
  "kernelspec": {
   "display_name": "Python [default]",
   "language": "python",
   "name": "python3"
  },
  "language_info": {
   "codemirror_mode": {
    "name": "ipython",
    "version": 3
   },
   "file_extension": ".py",
   "mimetype": "text/x-python",
   "name": "python",
   "nbconvert_exporter": "python",
   "pygments_lexer": "ipython3",
   "version": "3.6.5"
  }
 },
 "nbformat": 4,
 "nbformat_minor": 2
}
