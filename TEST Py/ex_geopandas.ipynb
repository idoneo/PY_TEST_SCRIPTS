{
 "cells": [
  {
   "cell_type": "code",
   "execution_count": 1,
   "metadata": {
    "collapsed": true
   },
   "outputs": [],
   "source": [
    "import numpy as np\n",
    "import pandas as pd\n",
    "import geopandas as gpd\n"
   ]
  },
  {
   "cell_type": "code",
   "execution_count": 3,
   "metadata": {},
   "outputs": [],
   "source": [
    "import folium as f"
   ]
  },
  {
   "cell_type": "code",
   "execution_count": 5,
   "metadata": {},
   "outputs": [],
   "source": [
    "mvp=gpd.read_file('C:/Users/mjc341/desktop/TESTPY/VIZUM1.geojson')"
   ]
  },
  {
   "cell_type": "code",
   "execution_count": 6,
   "metadata": {},
   "outputs": [
    {
     "data": {
      "text/html": [
       "<div>\n",
       "<style scoped>\n",
       "    .dataframe tbody tr th:only-of-type {\n",
       "        vertical-align: middle;\n",
       "    }\n",
       "\n",
       "    .dataframe tbody tr th {\n",
       "        vertical-align: top;\n",
       "    }\n",
       "\n",
       "    .dataframe thead th {\n",
       "        text-align: right;\n",
       "    }\n",
       "</style>\n",
       "<table border=\"1\" class=\"dataframe\">\n",
       "  <thead>\n",
       "    <tr style=\"text-align: right;\">\n",
       "      <th></th>\n",
       "      <th>CRASHNUM</th>\n",
       "      <th>X</th>\n",
       "      <th>Y</th>\n",
       "      <th>CALYEAR</th>\n",
       "      <th>AGENCY</th>\n",
       "      <th>CRASHDATE</th>\n",
       "      <th>CRASHTIME</th>\n",
       "      <th>DAYOFWEEK</th>\n",
       "      <th>TOWNNAME</th>\n",
       "      <th>ONROADNAME</th>\n",
       "      <th>INROADNAME</th>\n",
       "      <th>RCIMAXSPD</th>\n",
       "      <th>LIGHTCOND</th>\n",
       "      <th>WEATHCOND</th>\n",
       "      <th>WEATH</th>\n",
       "      <th>LTCOND</th>\n",
       "      <th>geometry</th>\n",
       "    </tr>\n",
       "  </thead>\n",
       "  <tbody>\n",
       "    <tr>\n",
       "      <th>0</th>\n",
       "      <td>818743120</td>\n",
       "      <td>-80.262743</td>\n",
       "      <td>25.750146</td>\n",
       "      <td>2011</td>\n",
       "      <td>PD</td>\n",
       "      <td>2011-01-15T00:00:00</td>\n",
       "      <td>1834</td>\n",
       "      <td>6</td>\n",
       "      <td>CORAL GABLES</td>\n",
       "      <td>SR 953 LEJEUNE RD</td>\n",
       "      <td>ARAGON AVE</td>\n",
       "      <td>40</td>\n",
       "      <td>4</td>\n",
       "      <td>1</td>\n",
       "      <td>clear</td>\n",
       "      <td>dark-lighted</td>\n",
       "      <td>POINT (-80.26273967 25.75014106)</td>\n",
       "    </tr>\n",
       "    <tr>\n",
       "      <th>1</th>\n",
       "      <td>817219370</td>\n",
       "      <td>-80.155873</td>\n",
       "      <td>25.926106</td>\n",
       "      <td>2011</td>\n",
       "      <td>PD</td>\n",
       "      <td>2011-01-02T00:00:00</td>\n",
       "      <td>921</td>\n",
       "      <td>7</td>\n",
       "      <td>NORTH MIAMI BEACH</td>\n",
       "      <td>NE 163 ST</td>\n",
       "      <td>W DIXIE HWY</td>\n",
       "      <td>45</td>\n",
       "      <td>1</td>\n",
       "      <td>1</td>\n",
       "      <td>clear</td>\n",
       "      <td>daylight</td>\n",
       "      <td>POINT (-80.15586901 25.92610024)</td>\n",
       "    </tr>\n",
       "  </tbody>\n",
       "</table>\n",
       "</div>"
      ],
      "text/plain": [
       "    CRASHNUM          X          Y  CALYEAR AGENCY            CRASHDATE  \\\n",
       "0  818743120 -80.262743  25.750146     2011     PD  2011-01-15T00:00:00   \n",
       "1  817219370 -80.155873  25.926106     2011     PD  2011-01-02T00:00:00   \n",
       "\n",
       "   CRASHTIME  DAYOFWEEK           TOWNNAME         ONROADNAME   INROADNAME  \\\n",
       "0       1834          6       CORAL GABLES  SR 953 LEJEUNE RD   ARAGON AVE   \n",
       "1        921          7  NORTH MIAMI BEACH          NE 163 ST  W DIXIE HWY   \n",
       "\n",
       "   RCIMAXSPD  LIGHTCOND  WEATHCOND  WEATH        LTCOND  \\\n",
       "0         40          4          1  clear  dark-lighted   \n",
       "1         45          1          1  clear      daylight   \n",
       "\n",
       "                           geometry  \n",
       "0  POINT (-80.26273967 25.75014106)  \n",
       "1  POINT (-80.15586901 25.92610024)  "
      ]
     },
     "execution_count": 6,
     "metadata": {},
     "output_type": "execute_result"
    }
   ],
   "source": [
    "mvp.head(2)"
   ]
  },
  {
   "cell_type": "code",
   "execution_count": 8,
   "metadata": {},
   "outputs": [],
   "source": [
    "MUN = gpd.read_file('C:/Users/mjc341/desktop/TESTPY/Municipal_Boundary.shx')"
   ]
  },
  {
   "cell_type": "code",
   "execution_count": 9,
   "metadata": {},
   "outputs": [
    {
     "data": {
      "text/html": [
       "<div>\n",
       "<style scoped>\n",
       "    .dataframe tbody tr th:only-of-type {\n",
       "        vertical-align: middle;\n",
       "    }\n",
       "\n",
       "    .dataframe tbody tr th {\n",
       "        vertical-align: top;\n",
       "    }\n",
       "\n",
       "    .dataframe thead th {\n",
       "        text-align: right;\n",
       "    }\n",
       "</style>\n",
       "<table border=\"1\" class=\"dataframe\">\n",
       "  <thead>\n",
       "    <tr style=\"text-align: right;\">\n",
       "      <th></th>\n",
       "      <th>geometry</th>\n",
       "    </tr>\n",
       "  </thead>\n",
       "  <tbody>\n",
       "    <tr>\n",
       "      <th>0</th>\n",
       "      <td>POLYGON ((-80.37312353247509 25.91326137129033...</td>\n",
       "    </tr>\n",
       "    <tr>\n",
       "      <th>1</th>\n",
       "      <td>POLYGON ((-80.14732910221957 25.95905292785593...</td>\n",
       "    </tr>\n",
       "    <tr>\n",
       "      <th>2</th>\n",
       "      <td>POLYGON ((-80.15869090230497 25.95714557944537...</td>\n",
       "    </tr>\n",
       "    <tr>\n",
       "      <th>3</th>\n",
       "      <td>POLYGON ((-80.14048471679732 25.76048765381803...</td>\n",
       "    </tr>\n",
       "  </tbody>\n",
       "</table>\n",
       "</div>"
      ],
      "text/plain": [
       "                                            geometry\n",
       "0  POLYGON ((-80.37312353247509 25.91326137129033...\n",
       "1  POLYGON ((-80.14732910221957 25.95905292785593...\n",
       "2  POLYGON ((-80.15869090230497 25.95714557944537...\n",
       "3  POLYGON ((-80.14048471679732 25.76048765381803..."
      ]
     },
     "execution_count": 9,
     "metadata": {},
     "output_type": "execute_result"
    }
   ],
   "source": [
    "MUN.head(4)"
   ]
  },
  {
   "cell_type": "code",
   "execution_count": 10,
   "metadata": {
    "collapsed": true
   },
   "outputs": [],
   "source": [
    "MUN2 = gpd.read_file('C:/Users/mjc341/desktop/TESTPY/Municipal_Boundary.shp')"
   ]
  },
  {
   "cell_type": "code",
   "execution_count": 11,
   "metadata": {},
   "outputs": [
    {
     "data": {
      "text/html": [
       "<div>\n",
       "<style scoped>\n",
       "    .dataframe tbody tr th:only-of-type {\n",
       "        vertical-align: middle;\n",
       "    }\n",
       "\n",
       "    .dataframe tbody tr th {\n",
       "        vertical-align: top;\n",
       "    }\n",
       "\n",
       "    .dataframe thead th {\n",
       "        text-align: right;\n",
       "    }\n",
       "</style>\n",
       "<table border=\"1\" class=\"dataframe\">\n",
       "  <thead>\n",
       "    <tr style=\"text-align: right;\">\n",
       "      <th></th>\n",
       "      <th>geometry</th>\n",
       "    </tr>\n",
       "  </thead>\n",
       "  <tbody>\n",
       "    <tr>\n",
       "      <th>0</th>\n",
       "      <td>POLYGON ((-80.37312353247509 25.91326137129033...</td>\n",
       "    </tr>\n",
       "    <tr>\n",
       "      <th>1</th>\n",
       "      <td>POLYGON ((-80.14732910221957 25.95905292785593...</td>\n",
       "    </tr>\n",
       "    <tr>\n",
       "      <th>2</th>\n",
       "      <td>POLYGON ((-80.15869090230497 25.95714557944537...</td>\n",
       "    </tr>\n",
       "  </tbody>\n",
       "</table>\n",
       "</div>"
      ],
      "text/plain": [
       "                                            geometry\n",
       "0  POLYGON ((-80.37312353247509 25.91326137129033...\n",
       "1  POLYGON ((-80.14732910221957 25.95905292785593...\n",
       "2  POLYGON ((-80.15869090230497 25.95714557944537..."
      ]
     },
     "execution_count": 11,
     "metadata": {},
     "output_type": "execute_result"
    }
   ],
   "source": [
    "MUN2.head(3)"
   ]
  },
  {
   "cell_type": "code",
   "execution_count": 18,
   "metadata": {},
   "outputs": [
    {
     "data": {
      "text/plain": [
       "(78, 1)"
      ]
     },
     "execution_count": 18,
     "metadata": {},
     "output_type": "execute_result"
    }
   ],
   "source": [
    "MUN.shape"
   ]
  },
  {
   "cell_type": "code",
   "execution_count": 21,
   "metadata": {},
   "outputs": [],
   "source": [
    "BOUND = gpd.read_file('C:/Users/mjc341/desktop/TESTPY/Municipal_Boundary.shp')"
   ]
  },
  {
   "cell_type": "code",
   "execution_count": 22,
   "metadata": {},
   "outputs": [
    {
     "data": {
      "text/html": [
       "<div>\n",
       "<style scoped>\n",
       "    .dataframe tbody tr th:only-of-type {\n",
       "        vertical-align: middle;\n",
       "    }\n",
       "\n",
       "    .dataframe tbody tr th {\n",
       "        vertical-align: top;\n",
       "    }\n",
       "\n",
       "    .dataframe thead th {\n",
       "        text-align: right;\n",
       "    }\n",
       "</style>\n",
       "<table border=\"1\" class=\"dataframe\">\n",
       "  <thead>\n",
       "    <tr style=\"text-align: right;\">\n",
       "      <th></th>\n",
       "      <th>geometry</th>\n",
       "    </tr>\n",
       "  </thead>\n",
       "  <tbody>\n",
       "    <tr>\n",
       "      <th>0</th>\n",
       "      <td>POLYGON ((-80.37312353247509 25.91326137129033...</td>\n",
       "    </tr>\n",
       "    <tr>\n",
       "      <th>1</th>\n",
       "      <td>POLYGON ((-80.14732910221957 25.95905292785593...</td>\n",
       "    </tr>\n",
       "    <tr>\n",
       "      <th>2</th>\n",
       "      <td>POLYGON ((-80.15869090230497 25.95714557944537...</td>\n",
       "    </tr>\n",
       "  </tbody>\n",
       "</table>\n",
       "</div>"
      ],
      "text/plain": [
       "                                            geometry\n",
       "0  POLYGON ((-80.37312353247509 25.91326137129033...\n",
       "1  POLYGON ((-80.14732910221957 25.95905292785593...\n",
       "2  POLYGON ((-80.15869090230497 25.95714557944537..."
      ]
     },
     "execution_count": 22,
     "metadata": {},
     "output_type": "execute_result"
    }
   ],
   "source": [
    "BOUND.head(3)"
   ]
  },
  {
   "cell_type": "code",
   "execution_count": 23,
   "metadata": {},
   "outputs": [
    {
     "data": {
      "text/plain": [
       "(78, 1)"
      ]
     },
     "execution_count": 23,
     "metadata": {},
     "output_type": "execute_result"
    }
   ],
   "source": [
    "BOUND.shape"
   ]
  },
  {
   "cell_type": "code",
   "execution_count": 27,
   "metadata": {
    "collapsed": true
   },
   "outputs": [],
   "source": [
    "MIA_MUNIC= gpd.read_file('C:/Users/mjc341/desktop/Viz UM/Municipal_Boundary.shp')"
   ]
  },
  {
   "cell_type": "code",
   "execution_count": 28,
   "metadata": {},
   "outputs": [
    {
     "data": {
      "text/html": [
       "<div>\n",
       "<style scoped>\n",
       "    .dataframe tbody tr th:only-of-type {\n",
       "        vertical-align: middle;\n",
       "    }\n",
       "\n",
       "    .dataframe tbody tr th {\n",
       "        vertical-align: top;\n",
       "    }\n",
       "\n",
       "    .dataframe thead th {\n",
       "        text-align: right;\n",
       "    }\n",
       "</style>\n",
       "<table border=\"1\" class=\"dataframe\">\n",
       "  <thead>\n",
       "    <tr style=\"text-align: right;\">\n",
       "      <th></th>\n",
       "      <th>OBJECTID</th>\n",
       "      <th>MUNICUID</th>\n",
       "      <th>MUNICID</th>\n",
       "      <th>NAME</th>\n",
       "      <th>geometry</th>\n",
       "    </tr>\n",
       "  </thead>\n",
       "  <tbody>\n",
       "    <tr>\n",
       "      <th>0</th>\n",
       "      <td>1</td>\n",
       "      <td>14</td>\n",
       "      <td>27</td>\n",
       "      <td>HIALEAH GARDENS</td>\n",
       "      <td>POLYGON ((-80.37312353247509 25.91326137129033...</td>\n",
       "    </tr>\n",
       "    <tr>\n",
       "      <th>1</th>\n",
       "      <td>2</td>\n",
       "      <td>4</td>\n",
       "      <td>30</td>\n",
       "      <td>UNINCORPORATED MIAMI-DADE</td>\n",
       "      <td>POLYGON ((-80.14732910221957 25.95905292785593...</td>\n",
       "    </tr>\n",
       "    <tr>\n",
       "      <th>2</th>\n",
       "      <td>3</td>\n",
       "      <td>7</td>\n",
       "      <td>07</td>\n",
       "      <td>NORTH MIAMI BEACH</td>\n",
       "      <td>POLYGON ((-80.15869090230497 25.95714557944537...</td>\n",
       "    </tr>\n",
       "  </tbody>\n",
       "</table>\n",
       "</div>"
      ],
      "text/plain": [
       "   OBJECTID  MUNICUID MUNICID                       NAME  \\\n",
       "0         1        14      27            HIALEAH GARDENS   \n",
       "1         2         4      30  UNINCORPORATED MIAMI-DADE   \n",
       "2         3         7      07          NORTH MIAMI BEACH   \n",
       "\n",
       "                                            geometry  \n",
       "0  POLYGON ((-80.37312353247509 25.91326137129033...  \n",
       "1  POLYGON ((-80.14732910221957 25.95905292785593...  \n",
       "2  POLYGON ((-80.15869090230497 25.95714557944537...  "
      ]
     },
     "execution_count": 28,
     "metadata": {},
     "output_type": "execute_result"
    }
   ],
   "source": [
    "MIA_MUNIC.head(3)"
   ]
  },
  {
   "cell_type": "code",
   "execution_count": 33,
   "metadata": {},
   "outputs": [
    {
     "data": {
      "text/plain": [
       "geopandas.geodataframe.GeoDataFrame"
      ]
     },
     "execution_count": 33,
     "metadata": {},
     "output_type": "execute_result"
    }
   ],
   "source": [
    "type(MIA_MUNIC)\n"
   ]
  },
  {
   "cell_type": "code",
   "execution_count": 38,
   "metadata": {},
   "outputs": [
    {
     "data": {
      "text/plain": [
       "Index(['MUNICUID', 'MUNICID', 'geometry'], dtype='object')"
      ]
     },
     "execution_count": 38,
     "metadata": {},
     "output_type": "execute_result"
    }
   ],
   "source": [
    "MIA_MUNIC.columns"
   ]
  },
  {
   "cell_type": "code",
   "execution_count": 39,
   "metadata": {
    "collapsed": true
   },
   "outputs": [],
   "source": [
    "MIA= gpd.read_file('C:/Users/mjc341/desktop/Viz UM/Municipal_Boundary.shp')"
   ]
  },
  {
   "cell_type": "code",
   "execution_count": 40,
   "metadata": {},
   "outputs": [
    {
     "data": {
      "text/html": [
       "<div>\n",
       "<style scoped>\n",
       "    .dataframe tbody tr th:only-of-type {\n",
       "        vertical-align: middle;\n",
       "    }\n",
       "\n",
       "    .dataframe tbody tr th {\n",
       "        vertical-align: top;\n",
       "    }\n",
       "\n",
       "    .dataframe thead th {\n",
       "        text-align: right;\n",
       "    }\n",
       "</style>\n",
       "<table border=\"1\" class=\"dataframe\">\n",
       "  <thead>\n",
       "    <tr style=\"text-align: right;\">\n",
       "      <th></th>\n",
       "      <th>OBJECTID</th>\n",
       "      <th>MUNICUID</th>\n",
       "      <th>MUNICID</th>\n",
       "      <th>NAME</th>\n",
       "      <th>geometry</th>\n",
       "    </tr>\n",
       "  </thead>\n",
       "  <tbody>\n",
       "    <tr>\n",
       "      <th>0</th>\n",
       "      <td>1</td>\n",
       "      <td>14</td>\n",
       "      <td>27</td>\n",
       "      <td>HIALEAH GARDENS</td>\n",
       "      <td>POLYGON ((-80.37312353247509 25.91326137129033...</td>\n",
       "    </tr>\n",
       "    <tr>\n",
       "      <th>1</th>\n",
       "      <td>2</td>\n",
       "      <td>4</td>\n",
       "      <td>30</td>\n",
       "      <td>UNINCORPORATED MIAMI-DADE</td>\n",
       "      <td>POLYGON ((-80.14732910221957 25.95905292785593...</td>\n",
       "    </tr>\n",
       "    <tr>\n",
       "      <th>2</th>\n",
       "      <td>3</td>\n",
       "      <td>7</td>\n",
       "      <td>07</td>\n",
       "      <td>NORTH MIAMI BEACH</td>\n",
       "      <td>POLYGON ((-80.15869090230497 25.95714557944537...</td>\n",
       "    </tr>\n",
       "  </tbody>\n",
       "</table>\n",
       "</div>"
      ],
      "text/plain": [
       "   OBJECTID  MUNICUID MUNICID                       NAME  \\\n",
       "0         1        14      27            HIALEAH GARDENS   \n",
       "1         2         4      30  UNINCORPORATED MIAMI-DADE   \n",
       "2         3         7      07          NORTH MIAMI BEACH   \n",
       "\n",
       "                                            geometry  \n",
       "0  POLYGON ((-80.37312353247509 25.91326137129033...  \n",
       "1  POLYGON ((-80.14732910221957 25.95905292785593...  \n",
       "2  POLYGON ((-80.15869090230497 25.95714557944537...  "
      ]
     },
     "execution_count": 40,
     "metadata": {},
     "output_type": "execute_result"
    }
   ],
   "source": [
    "MIA.head(3)"
   ]
  },
  {
   "cell_type": "code",
   "execution_count": 41,
   "metadata": {},
   "outputs": [
    {
     "data": {
      "text/plain": [
       "geopandas.geodataframe.GeoDataFrame"
      ]
     },
     "execution_count": 41,
     "metadata": {},
     "output_type": "execute_result"
    }
   ],
   "source": [
    "type(MIA)"
   ]
  },
  {
   "cell_type": "code",
   "execution_count": 42,
   "metadata": {},
   "outputs": [
    {
     "data": {
      "text/plain": [
       "(78, 5)"
      ]
     },
     "execution_count": 42,
     "metadata": {},
     "output_type": "execute_result"
    }
   ],
   "source": [
    "MIA.shape"
   ]
  },
  {
   "cell_type": "code",
   "execution_count": 43,
   "metadata": {},
   "outputs": [
    {
     "data": {
      "text/plain": [
       "Index(['OBJECTID', 'MUNICUID', 'MUNICID', 'NAME', 'geometry'], dtype='object')"
      ]
     },
     "execution_count": 43,
     "metadata": {},
     "output_type": "execute_result"
    }
   ],
   "source": [
    "MIA.columns"
   ]
  },
  {
   "cell_type": "code",
   "execution_count": 44,
   "metadata": {
    "collapsed": true
   },
   "outputs": [],
   "source": [
    "MIA.set_index('OBJECTID',inplace=True)"
   ]
  },
  {
   "cell_type": "code",
   "execution_count": 45,
   "metadata": {},
   "outputs": [
    {
     "data": {
      "text/plain": [
       "Index(['MUNICUID', 'MUNICID', 'NAME', 'geometry'], dtype='object')"
      ]
     },
     "execution_count": 45,
     "metadata": {},
     "output_type": "execute_result"
    }
   ],
   "source": [
    "MIA.columns"
   ]
  },
  {
   "cell_type": "code",
   "execution_count": 48,
   "metadata": {},
   "outputs": [
    {
     "data": {
      "text/plain": [
       "shapely.geometry.polygon.Polygon"
      ]
     },
     "execution_count": 48,
     "metadata": {},
     "output_type": "execute_result"
    }
   ],
   "source": [
    "type(MIA.loc[4,'geometry'])"
   ]
  },
  {
   "cell_type": "code",
   "execution_count": 53,
   "metadata": {
    "collapsed": true
   },
   "outputs": [],
   "source": [
    "polygon = MIA.loc[4,'geometry']"
   ]
  },
  {
   "cell_type": "code",
   "execution_count": 54,
   "metadata": {},
   "outputs": [
    {
     "data": {
      "image/svg+xml": [
       "<svg xmlns=\"http://www.w3.org/2000/svg\" xmlns:xlink=\"http://www.w3.org/1999/xlink\" width=\"100.0\" height=\"100.0\" viewBox=\"-80.14133260992352 25.75930970129053 0.001108794706439653 0.0016216885042759088\" preserveAspectRatio=\"xMinYMin meet\"><g transform=\"matrix(1,0,0,-1,0,51.52024109108534)\"><path fill-rule=\"evenodd\" fill=\"#66cc99\" stroke=\"#555555\" stroke-width=\"3.243377008551817e-05\" opacity=\"0.6\" d=\"M -80.14048471679732,25.760487653818032 L -80.14080211404507,25.760475252050202 L -80.14079674840788,25.760349698741802 L -80.14033803718279,25.760367537274107 L -80.1403298912598,25.760232934725455 L -80.14032157196193,25.760095925932717 L -80.14031358504074,25.759965967792652 L -80.14030510404615,25.759825173983778 L -80.14029661047515,25.759686098419547 L -80.14028846006056,25.759552014505857 L -80.14028387775429,25.759476323381627 L -80.14028433859004,25.75946506549993 L -80.14028650891977,25.759453986416453 L -80.14029076513758,25.75944326412153 L -80.14029672186624,25.759433413168985 L -80.14030438090235,25.759424428704726 L -80.14031336315688,25.759416658619106 L -80.1403236623416,25.759410357762132 L -80.14033509070863,25.75940552289786 L -80.14034707513285,25.759402412921443 L -80.14035942696802,25.759401023787824 L -80.14075527498785,25.759384791877796 L -80.1411228179914,25.759369763827724 L -80.14113572678204,25.759370183723206 L -80.14114842985846,25.759372752447888 L -80.14116055262323,25.759377210297554 L -80.14117152105284,25.759383464231576 L -80.1411811456028,25.759391426872558 L -80.14118905616719,25.75940067751576 L -80.14119505691329,25.759411114220956 L -80.14119896458477,25.759422316283548 L -80.14120077918164,25.759433934195062 L -80.14120512343436,25.759516410816698 L -80.14121232253305,25.75965040496658 L -80.1412196779386,25.759789644808613 L -80.14122721121055,25.75993043623248 L -80.14123424951082,25.760060472888544 L -80.14124143154152,25.760197391109568 L -80.14124862614864,25.760332074602573 L -80.14125531769918,25.76045763925615 L -80.14126268029123,25.760595764105094 L -80.14126919846694,25.760719005731822 L -80.14127254738632,25.76078153221472 L -80.14127228417995,25.760791675927003 L -80.14127012463001,25.76080172417201 L -80.14126625738271,25.760811243305717 L -80.14126068692963,25.760820149997475 L -80.14125379325814,25.760828191827756 L -80.14124557726656,25.760835107477757 L -80.1412360407515,25.760840725431766 L -80.1412259490776,25.760844965595336 L -80.1412151055138,25.760847654025618 L -80.14120389453905,25.76084879072272 L -80.14081871131826,25.760860015302708 L -80.14043372123527,25.76087132725761 L -80.14042233149577,25.76087082969988 L -80.14041114567387,25.760868438995725 L -80.1404005392653,25.760864511121277 L -80.14039089495242,25.76085886485206 L -80.14038258823099,25.760851938685978 L -80.14037562269425,25.760843730195674 L -80.14037018429353,25.760834584030693 L -80.14036664403301,25.760824674133858 L -80.14036519954203,25.760814436576077 L -80.1403614544656,25.76075431537966 L -80.14035398856728,25.76063106569922 L -80.14034567645596,25.76049302503145 L -80.14048471679732,25.760487653818032 z\" /></g></svg>"
      ],
      "text/plain": [
       "<shapely.geometry.polygon.Polygon at 0x2202eb916a0>"
      ]
     },
     "execution_count": 54,
     "metadata": {},
     "output_type": "execute_result"
    }
   ],
   "source": [
    "polygon"
   ]
  },
  {
   "cell_type": "code",
   "execution_count": 55,
   "metadata": {
    "collapsed": true
   },
   "outputs": [
    {
     "data": {
      "text/plain": [
       "<bound method GeoDataFrame.plot of           MUNICUID MUNICID                       NAME  \\\n",
       "OBJECTID                                                \n",
       "1               14      27            HIALEAH GARDENS   \n",
       "2                4      30  UNINCORPORATED MIAMI-DADE   \n",
       "3                7      07          NORTH MIAMI BEACH   \n",
       "4               57      30  UNINCORPORATED MIAMI-DADE   \n",
       "5               25      17              BISCAYNE PARK   \n",
       "6               47      15                 WEST MIAMI   \n",
       "7               12      32                MIAMI LAKES   \n",
       "8               77      36                 CUTLER BAY   \n",
       "9               58      30  UNINCORPORATED MIAMI-DADE   \n",
       "10               5      34              MIAMI GARDENS   \n",
       "11              66      09                SOUTH MIAMI   \n",
       "12              23      13         BAY HARBOR ISLANDS   \n",
       "13               2      19               GOLDEN BEACH   \n",
       "14              62      09                SOUTH MIAMI   \n",
       "15              21      30  UNINCORPORATED MIAMI-DADE   \n",
       "16              67      09                SOUTH MIAMI   \n",
       "17              52      30  UNINCORPORATED MIAMI-DADE   \n",
       "18              40      05              MIAMI SPRINGS   \n",
       "19              76      33               PALMETTO BAY   \n",
       "20              33      23          NORTH BAY VILLAGE   \n",
       "21              56      30  UNINCORPORATED MIAMI-DADE   \n",
       "22              30      30  UNINCORPORATED MIAMI-DADE   \n",
       "23              18      06                NORTH MIAMI   \n",
       "24              38      30  UNINCORPORATED MIAMI-DADE   \n",
       "25              46      30  UNINCORPORATED MIAMI-DADE   \n",
       "26              15      07          NORTH MIAMI BEACH   \n",
       "27              37      22                     MEDLEY   \n",
       "28              63      30  UNINCORPORATED MIAMI-DADE   \n",
       "29              28      30  UNINCORPORATED MIAMI-DADE   \n",
       "30              64      09                SOUTH MIAMI   \n",
       "...            ...     ...                        ...   \n",
       "49              51      30  UNINCORPORATED MIAMI-DADE   \n",
       "50              20      22                     MEDLEY   \n",
       "51              42      25                 SWEETWATER   \n",
       "52              31      18                  EL PORTAL   \n",
       "53              35      35                      DORAL   \n",
       "54              79      10                  HOMESTEAD   \n",
       "55              34      01                      MIAMI   \n",
       "56               1      30  UNINCORPORATED MIAMI-DADE   \n",
       "57              45      02                MIAMI BEACH   \n",
       "58              74      24               KEY BISCAYNE   \n",
       "59              13      04                    HIALEAH   \n",
       "60              16      30  UNINCORPORATED MIAMI-DADE   \n",
       "61              48      30  UNINCORPORATED MIAMI-DADE   \n",
       "62               6      31          SUNNY ISLES BEACH   \n",
       "63              39      22                     MEDLEY   \n",
       "64              53      30  UNINCORPORATED MIAMI-DADE   \n",
       "65               3      28                   AVENTURA   \n",
       "66              19      12                BAL HARBOUR   \n",
       "67              73      30  UNINCORPORATED MIAMI-DADE   \n",
       "68              75      20                  PINECREST   \n",
       "69              69      09                SOUTH MIAMI   \n",
       "70              80      16               FLORIDA CITY   \n",
       "71              10      06                NORTH MIAMI   \n",
       "72              22      30  UNINCORPORATED MIAMI-DADE   \n",
       "73              54      30  UNINCORPORATED MIAMI-DADE   \n",
       "74               9      30  UNINCORPORATED MIAMI-DADE   \n",
       "75              43      03               CORAL GABLES   \n",
       "76              11      30  UNINCORPORATED MIAMI-DADE   \n",
       "77              24      14                   SURFSIDE   \n",
       "78              55      30  UNINCORPORATED MIAMI-DADE   \n",
       "\n",
       "                                                   geometry  \n",
       "OBJECTID                                                     \n",
       "1         POLYGON ((-80.37312353247509 25.91326137129033...  \n",
       "2         POLYGON ((-80.14732910221957 25.95905292785593...  \n",
       "3         POLYGON ((-80.15869090230497 25.95714557944537...  \n",
       "4         POLYGON ((-80.14048471679732 25.76048765381803...  \n",
       "5         POLYGON ((-80.17248755991683 25.88717662856742...  \n",
       "6         POLYGON ((-80.29562939969991 25.75509019291255...  \n",
       "7         POLYGON ((-80.32586401608212 25.92798428946433...  \n",
       "8         POLYGON ((-80.30944340467819 25.58337511984369...  \n",
       "9         POLYGON ((-80.14208296970642 25.76078622382335...  \n",
       "10        POLYGON ((-80.21225598293468 25.92561106744944...  \n",
       "11        POLYGON ((-80.28621060796335 25.72625865759724...  \n",
       "12        POLYGON ((-80.13218193447757 25.89423698534144...  \n",
       "13        POLYGON ((-80.12494905374608 25.95701382739747...  \n",
       "14        POLYGON ((-80.29970320561446 25.73164377568277...  \n",
       "15        POLYGON ((-80.22138634629474 25.89787662755073...  \n",
       "16        POLYGON ((-80.2948109482378 25.72620966745869,...  \n",
       "17        POLYGON ((-80.13817493799607 25.76184791091085...  \n",
       "18        POLYGON ((-80.26788067144047 25.81301221577448...  \n",
       "19        POLYGON ((-80.3012439438875 25.63552467460359,...  \n",
       "20        POLYGON ((-80.16002023285566 25.84319783871823...  \n",
       "21        POLYGON ((-80.13926371229009 25.760672770821, ...  \n",
       "22        POLYGON ((-80.14648014576706 25.86087811591197...  \n",
       "23        POLYGON ((-80.22746116657268 25.89985598576625...  \n",
       "24        POLYGON ((-80.15875012194346 25.81518999875387...  \n",
       "25        POLYGON ((-80.13867512892941 25.76279343620045...  \n",
       "26        POLYGON ((-80.14065831622597 25.92613718439836...  \n",
       "27        POLYGON ((-80.35445414596253 25.84522235706357...  \n",
       "28        POLYGON ((-80.2868713529908 25.73211064809277,...  \n",
       "29        POLYGON ((-80.29103397174427 25.87346129362872...  \n",
       "30        POLYGON ((-80.2897105098873 25.73154372817721,...  \n",
       "...                                                     ...  \n",
       "49        POLYGON ((-80.14041535607758 25.76186588756221...  \n",
       "50        POLYGON ((-80.36379097810749 25.88423437759912...  \n",
       "51        POLYGON ((-80.36874577888919 25.78225949591632...  \n",
       "52        POLYGON ((-80.19741930080265 25.85852695219769...  \n",
       "53        POLYGON ((-80.35391668482636 25.82621714329894...  \n",
       "54        POLYGON ((-80.41207647026792 25.48142865264724...  \n",
       "55        POLYGON ((-80.16135874059532 25.85594268692687...  \n",
       "56        POLYGON ((-80.37074475317856 25.85518296307349...  \n",
       "57        POLYGON ((-80.1380842279153 25.76297014709955,...  \n",
       "58        POLYGON ((-80.16156311720393 25.70039965436441...  \n",
       "59        POLYGON ((-80.34712983290478 25.90026113023799...  \n",
       "60        POLYGON ((-80.25828912469164 25.91479239031319...  \n",
       "61        POLYGON ((-80.14042951801805 25.76214066624547...  \n",
       "62        POLYGON ((-80.12811724286989 25.92103687408403...  \n",
       "63        POLYGON ((-80.34227829705824 25.84071232000268...  \n",
       "64        POLYGON ((-80.13816629620304 25.76157195926244...  \n",
       "65        POLYGON ((-80.13394100558547 25.97413266862566...  \n",
       "66        POLYGON ((-80.12092365355059 25.89954057425252...  \n",
       "67        POLYGON ((-80.27721153338207 25.70481460758162...  \n",
       "68        POLYGON ((-80.29288265249669 25.69028285486834...  \n",
       "69        POLYGON ((-80.30047806453078 25.72406995312933...  \n",
       "70        POLYGON ((-80.46899271247179 25.4578074611003,...  \n",
       "71        POLYGON ((-80.13033774799651 25.92700209135985...  \n",
       "72        POLYGON ((-80.22730691146535 25.89614903790941...  \n",
       "73        POLYGON ((-80.13929971586838 25.76150016977236...  \n",
       "74        POLYGON ((-80.1964849972116 25.93191489204728,...  \n",
       "75        POLYGON ((-80.2550106673667 25.7611166545087, ...  \n",
       "76        POLYGON ((-80.16346817622357 25.91480994621364...  \n",
       "77        POLYGON ((-80.12033058939328 25.8781636953144,...  \n",
       "78        POLYGON ((-80.13861381801297 25.76097432085033...  \n",
       "\n",
       "[78 rows x 4 columns]>"
      ]
     },
     "execution_count": 55,
     "metadata": {},
     "output_type": "execute_result"
    }
   ],
   "source": [
    "MIA.plot"
   ]
  },
  {
   "cell_type": "code",
   "execution_count": 57,
   "metadata": {},
   "outputs": [
    {
     "data": {
      "text/plain": [
       "<matplotlib.axes._subplots.AxesSubplot at 0x2202f2ac128>"
      ]
     },
     "execution_count": 57,
     "metadata": {},
     "output_type": "execute_result"
    },
    {
     "data": {
      "image/png": "[encoded data removed]",
      "text/plain": [
       "<Figure size 1080x864 with 1 Axes>"
      ]
     },
     "metadata": {},
     "output_type": "display_data"
    }
   ],
   "source": [
    "MIA.plot(figsize= (15,12),linewidth=3,edgecolor='black')"
   ]
  },
  {
   "cell_type": "code",
   "execution_count": 58,
   "metadata": {},
   "outputs": [
    {
     "data": {
      "text/html": [
       "<div style=\"width:100%;\"><div style=\"position:relative;width:100%;height:0;padding-bottom:60%;\"><iframe src=\"data:text/html;charset=utf-8;base64,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\" style=\"position:absolute;width:100%;height:100%;left:0;top:0;border:none !important;\" allowfullscreen webkitallowfullscreen mozallowfullscreen></iframe></div></div>"
      ],
      "text/plain": [
       "<folium.folium.Map at 0x2202f2a6390>"
      ]
     },
     "execution_count": 58,
     "metadata": {},
     "output_type": "execute_result"
    }
   ],
   "source": [
    "miami_center = (25.761681,-80.191788)\n",
    "m= f.Map(location=miami_center,zoom_start=11)\n",
    "m"
   ]
  },
  {
   "cell_type": "code",
   "execution_count": 67,
   "metadata": {},
   "outputs": [],
   "source": [
    "f.GeoJson(MIA.to_json()).add_to(m)\n",
    "m.save('f_boundaries.html')"
   ]
  },
  {
   "cell_type": "code",
   "execution_count": 78,
   "metadata": {},
   "outputs": [],
   "source": [
    "from IPython.display import HTML"
   ]
  },
  {
   "cell_type": "code",
   "execution_count": 80,
   "metadata": {},
   "outputs": [],
   "source": [
    "#HTML(filename='f_boundaries.html')"
   ]
  },
  {
   "cell_type": "code",
   "execution_count": 76,
   "metadata": {
    "collapsed": true
   },
   "outputs": [],
   "source": [
    "import webbrowser"
   ]
  },
  {
   "cell_type": "code",
   "execution_count": 77,
   "metadata": {},
   "outputs": [
    {
     "data": {
      "text/plain": [
       "True"
      ]
     },
     "execution_count": 77,
     "metadata": {},
     "output_type": "execute_result"
    }
   ],
   "source": [
    "url= 'https://f_boundaries.html'\n",
    "webbrowser.open(url)"
   ]
  },
  {
   "cell_type": "code",
   "execution_count": null,
   "metadata": {
    "collapsed": true
   },
   "outputs": [],
   "source": []
  },
  {
   "cell_type": "code",
   "execution_count": null,
   "metadata": {
    "collapsed": true
   },
   "outputs": [],
   "source": [
    "#try with Folium\n"
   ]
  }
 ],
 "metadata": {
  "kernelspec": {
   "display_name": "Python [conda env:GIS]",
   "language": "python",
   "name": "conda-env-GIS-py"
  },
  "language_info": {
   "codemirror_mode": {
    "name": "ipython",
    "version": 3
   },
   "file_extension": ".py",
   "mimetype": "text/x-python",
   "name": "python",
   "nbconvert_exporter": "python",
   "pygments_lexer": "ipython3",
   "version": "3.5.5"
  }
 },
 "nbformat": 4,
 "nbformat_minor": 2
}
