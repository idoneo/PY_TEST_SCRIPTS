{
 "cells": [
  {
   "cell_type": "code",
   "execution_count": 1,
   "metadata": {
    "collapsed": true
   },
   "outputs": [],
   "source": [
    "import numpy as np\n",
    "import pandas as pd\n",
    "import matplotlib.pyplot as plt"
   ]
  },
  {
   "cell_type": "code",
   "execution_count": 3,
   "metadata": {},
   "outputs": [],
   "source": [
    "df =pd.read_excel('C:/Users/mjc341/Desktop/TESTPY/PY_ACT_EXTRACT.xlsx')"
   ]
  },
  {
   "cell_type": "code",
   "execution_count": 4,
   "metadata": {},
   "outputs": [
    {
     "data": {
      "text/html": [
       "<div>\n",
       "<style>\n",
       "    .dataframe thead tr:only-child th {\n",
       "        text-align: right;\n",
       "    }\n",
       "\n",
       "    .dataframe thead th {\n",
       "        text-align: left;\n",
       "    }\n",
       "\n",
       "    .dataframe tbody tr th {\n",
       "        vertical-align: top;\n",
       "    }\n",
       "</style>\n",
       "<table border=\"1\" class=\"dataframe\">\n",
       "  <thead>\n",
       "    <tr style=\"text-align: right;\">\n",
       "      <th></th>\n",
       "      <th>Empl</th>\n",
       "      <th>WR</th>\n",
       "      <th>WRS</th>\n",
       "      <th>WRS16</th>\n",
       "      <th>Test Date</th>\n",
       "      <th>Date Loaded</th>\n",
       "    </tr>\n",
       "  </thead>\n",
       "  <tbody>\n",
       "    <tr>\n",
       "      <th>0</th>\n",
       "      <td>54211370</td>\n",
       "      <td></td>\n",
       "      <td>8</td>\n",
       "      <td>NaN</td>\n",
       "      <td>2016-04-01</td>\n",
       "      <td>2016-09-08</td>\n",
       "    </tr>\n",
       "    <tr>\n",
       "      <th>1</th>\n",
       "      <td>54211370</td>\n",
       "      <td></td>\n",
       "      <td>8</td>\n",
       "      <td>NaN</td>\n",
       "      <td>2016-06-01</td>\n",
       "      <td>2016-09-08</td>\n",
       "    </tr>\n",
       "    <tr>\n",
       "      <th>2</th>\n",
       "      <td>54215024</td>\n",
       "      <td></td>\n",
       "      <td>10</td>\n",
       "      <td>NaN</td>\n",
       "      <td>2016-04-01</td>\n",
       "      <td>2016-09-08</td>\n",
       "    </tr>\n",
       "    <tr>\n",
       "      <th>3</th>\n",
       "      <td>54215024</td>\n",
       "      <td></td>\n",
       "      <td></td>\n",
       "      <td>--</td>\n",
       "      <td>2016-06-01</td>\n",
       "      <td>2016-09-08</td>\n",
       "    </tr>\n",
       "    <tr>\n",
       "      <th>4</th>\n",
       "      <td>54210965</td>\n",
       "      <td></td>\n",
       "      <td>8</td>\n",
       "      <td>NaN</td>\n",
       "      <td>2016-04-01</td>\n",
       "      <td>2016-09-08</td>\n",
       "    </tr>\n",
       "  </tbody>\n",
       "</table>\n",
       "</div>"
      ],
      "text/plain": [
       "       Empl  WR WRS WRS16  Test Date Date Loaded\n",
       "0  54211370       8   NaN 2016-04-01  2016-09-08\n",
       "1  54211370       8   NaN 2016-06-01  2016-09-08\n",
       "2  54215024      10   NaN 2016-04-01  2016-09-08\n",
       "3  54215024            -- 2016-06-01  2016-09-08\n",
       "4  54210965       8   NaN 2016-04-01  2016-09-08"
      ]
     },
     "execution_count": 4,
     "metadata": {},
     "output_type": "execute_result"
    }
   ],
   "source": [
    "df.head()"
   ]
  },
  {
   "cell_type": "code",
   "execution_count": 22,
   "metadata": {},
   "outputs": [],
   "source": [
    "ACT_MELT= pd.melt(df, id_vars = 'Empl', value_vars= ['WR'])"
   ]
  },
  {
   "cell_type": "code",
   "execution_count": 21,
   "metadata": {},
   "outputs": [
    {
     "data": {
      "text/html": [
       "<div>\n",
       "<style>\n",
       "    .dataframe thead tr:only-child th {\n",
       "        text-align: right;\n",
       "    }\n",
       "\n",
       "    .dataframe thead th {\n",
       "        text-align: left;\n",
       "    }\n",
       "\n",
       "    .dataframe tbody tr th {\n",
       "        vertical-align: top;\n",
       "    }\n",
       "</style>\n",
       "<table border=\"1\" class=\"dataframe\">\n",
       "  <thead>\n",
       "    <tr style=\"text-align: right;\">\n",
       "      <th></th>\n",
       "      <th>Empl</th>\n",
       "      <th>variable</th>\n",
       "      <th>value</th>\n",
       "    </tr>\n",
       "  </thead>\n",
       "  <tbody>\n",
       "    <tr>\n",
       "      <th>0</th>\n",
       "      <td>54211370</td>\n",
       "      <td>WR</td>\n",
       "      <td></td>\n",
       "    </tr>\n",
       "    <tr>\n",
       "      <th>1</th>\n",
       "      <td>54211370</td>\n",
       "      <td>WR</td>\n",
       "      <td></td>\n",
       "    </tr>\n",
       "    <tr>\n",
       "      <th>2</th>\n",
       "      <td>54215024</td>\n",
       "      <td>WR</td>\n",
       "      <td></td>\n",
       "    </tr>\n",
       "    <tr>\n",
       "      <th>3</th>\n",
       "      <td>54215024</td>\n",
       "      <td>WR</td>\n",
       "      <td></td>\n",
       "    </tr>\n",
       "    <tr>\n",
       "      <th>4</th>\n",
       "      <td>54210965</td>\n",
       "      <td>WR</td>\n",
       "      <td></td>\n",
       "    </tr>\n",
       "  </tbody>\n",
       "</table>\n",
       "</div>"
      ],
      "text/plain": [
       "       Empl variable value\n",
       "0  54211370       WR      \n",
       "1  54211370       WR      \n",
       "2  54215024       WR      \n",
       "3  54215024       WR      \n",
       "4  54210965       WR      "
      ]
     },
     "execution_count": 21,
     "metadata": {},
     "output_type": "execute_result"
    }
   ],
   "source": [
    "ACT_MELT.head()"
   ]
  },
  {
   "cell_type": "code",
   "execution_count": 23,
   "metadata": {
    "collapsed": true
   },
   "outputs": [],
   "source": [
    "ACT_MELT2= pd.melt(df, id_vars = 'Empl', value_vars= ['WRS'])"
   ]
  },
  {
   "cell_type": "code",
   "execution_count": 24,
   "metadata": {},
   "outputs": [
    {
     "data": {
      "text/html": [
       "<div>\n",
       "<style>\n",
       "    .dataframe thead tr:only-child th {\n",
       "        text-align: right;\n",
       "    }\n",
       "\n",
       "    .dataframe thead th {\n",
       "        text-align: left;\n",
       "    }\n",
       "\n",
       "    .dataframe tbody tr th {\n",
       "        vertical-align: top;\n",
       "    }\n",
       "</style>\n",
       "<table border=\"1\" class=\"dataframe\">\n",
       "  <thead>\n",
       "    <tr style=\"text-align: right;\">\n",
       "      <th></th>\n",
       "      <th>Empl</th>\n",
       "      <th>variable</th>\n",
       "      <th>value</th>\n",
       "    </tr>\n",
       "  </thead>\n",
       "  <tbody>\n",
       "    <tr>\n",
       "      <th>0</th>\n",
       "      <td>54211370</td>\n",
       "      <td>WRS</td>\n",
       "      <td>8</td>\n",
       "    </tr>\n",
       "    <tr>\n",
       "      <th>1</th>\n",
       "      <td>54211370</td>\n",
       "      <td>WRS</td>\n",
       "      <td>8</td>\n",
       "    </tr>\n",
       "    <tr>\n",
       "      <th>2</th>\n",
       "      <td>54215024</td>\n",
       "      <td>WRS</td>\n",
       "      <td>10</td>\n",
       "    </tr>\n",
       "    <tr>\n",
       "      <th>3</th>\n",
       "      <td>54215024</td>\n",
       "      <td>WRS</td>\n",
       "      <td></td>\n",
       "    </tr>\n",
       "    <tr>\n",
       "      <th>4</th>\n",
       "      <td>54210965</td>\n",
       "      <td>WRS</td>\n",
       "      <td>8</td>\n",
       "    </tr>\n",
       "  </tbody>\n",
       "</table>\n",
       "</div>"
      ],
      "text/plain": [
       "       Empl variable value\n",
       "0  54211370      WRS     8\n",
       "1  54211370      WRS     8\n",
       "2  54215024      WRS    10\n",
       "3  54215024      WRS      \n",
       "4  54210965      WRS     8"
      ]
     },
     "execution_count": 24,
     "metadata": {},
     "output_type": "execute_result"
    }
   ],
   "source": [
    "ACT_MELT2.head()"
   ]
  },
  {
   "cell_type": "code",
   "execution_count": 26,
   "metadata": {
    "collapsed": true
   },
   "outputs": [],
   "source": [
    "ACT_MELT3= pd.melt(df, id_vars = 'Empl', value_vars= ['WRS16'])"
   ]
  },
  {
   "cell_type": "code",
   "execution_count": 27,
   "metadata": {},
   "outputs": [
    {
     "data": {
      "text/html": [
       "<div>\n",
       "<style>\n",
       "    .dataframe thead tr:only-child th {\n",
       "        text-align: right;\n",
       "    }\n",
       "\n",
       "    .dataframe thead th {\n",
       "        text-align: left;\n",
       "    }\n",
       "\n",
       "    .dataframe tbody tr th {\n",
       "        vertical-align: top;\n",
       "    }\n",
       "</style>\n",
       "<table border=\"1\" class=\"dataframe\">\n",
       "  <thead>\n",
       "    <tr style=\"text-align: right;\">\n",
       "      <th></th>\n",
       "      <th>Empl</th>\n",
       "      <th>variable</th>\n",
       "      <th>value</th>\n",
       "    </tr>\n",
       "  </thead>\n",
       "  <tbody>\n",
       "    <tr>\n",
       "      <th>0</th>\n",
       "      <td>54211370</td>\n",
       "      <td>WRS16</td>\n",
       "      <td>NaN</td>\n",
       "    </tr>\n",
       "    <tr>\n",
       "      <th>1</th>\n",
       "      <td>54211370</td>\n",
       "      <td>WRS16</td>\n",
       "      <td>NaN</td>\n",
       "    </tr>\n",
       "    <tr>\n",
       "      <th>2</th>\n",
       "      <td>54215024</td>\n",
       "      <td>WRS16</td>\n",
       "      <td>NaN</td>\n",
       "    </tr>\n",
       "    <tr>\n",
       "      <th>3</th>\n",
       "      <td>54215024</td>\n",
       "      <td>WRS16</td>\n",
       "      <td>--</td>\n",
       "    </tr>\n",
       "    <tr>\n",
       "      <th>4</th>\n",
       "      <td>54210965</td>\n",
       "      <td>WRS16</td>\n",
       "      <td>NaN</td>\n",
       "    </tr>\n",
       "  </tbody>\n",
       "</table>\n",
       "</div>"
      ],
      "text/plain": [
       "       Empl variable value\n",
       "0  54211370    WRS16   NaN\n",
       "1  54211370    WRS16   NaN\n",
       "2  54215024    WRS16   NaN\n",
       "3  54215024    WRS16    --\n",
       "4  54210965    WRS16   NaN"
      ]
     },
     "execution_count": 27,
     "metadata": {},
     "output_type": "execute_result"
    }
   ],
   "source": [
    "ACT_MELT3.head()"
   ]
  },
  {
   "cell_type": "code",
   "execution_count": 29,
   "metadata": {
    "collapsed": true
   },
   "outputs": [],
   "source": [
    "ACT_MELT4 = pd.melt(df, id_vars = 'Empl', value_vars= ['Test Date','WR'])"
   ]
  },
  {
   "cell_type": "code",
   "execution_count": 32,
   "metadata": {},
   "outputs": [
    {
     "data": {
      "text/html": [
       "<div>\n",
       "<style>\n",
       "    .dataframe thead tr:only-child th {\n",
       "        text-align: right;\n",
       "    }\n",
       "\n",
       "    .dataframe thead th {\n",
       "        text-align: left;\n",
       "    }\n",
       "\n",
       "    .dataframe tbody tr th {\n",
       "        vertical-align: top;\n",
       "    }\n",
       "</style>\n",
       "<table border=\"1\" class=\"dataframe\">\n",
       "  <thead>\n",
       "    <tr style=\"text-align: right;\">\n",
       "      <th></th>\n",
       "      <th>Empl</th>\n",
       "      <th>variable</th>\n",
       "      <th>value</th>\n",
       "    </tr>\n",
       "  </thead>\n",
       "  <tbody>\n",
       "    <tr>\n",
       "      <th>0</th>\n",
       "      <td>54211370</td>\n",
       "      <td>Test Date</td>\n",
       "      <td>2016-04-01 00:00:00</td>\n",
       "    </tr>\n",
       "    <tr>\n",
       "      <th>1</th>\n",
       "      <td>54211370</td>\n",
       "      <td>Test Date</td>\n",
       "      <td>2016-06-01 00:00:00</td>\n",
       "    </tr>\n",
       "    <tr>\n",
       "      <th>2</th>\n",
       "      <td>54215024</td>\n",
       "      <td>Test Date</td>\n",
       "      <td>2016-04-01 00:00:00</td>\n",
       "    </tr>\n",
       "    <tr>\n",
       "      <th>3</th>\n",
       "      <td>54215024</td>\n",
       "      <td>Test Date</td>\n",
       "      <td>2016-06-01 00:00:00</td>\n",
       "    </tr>\n",
       "    <tr>\n",
       "      <th>4</th>\n",
       "      <td>54210965</td>\n",
       "      <td>Test Date</td>\n",
       "      <td>2016-04-01 00:00:00</td>\n",
       "    </tr>\n",
       "  </tbody>\n",
       "</table>\n",
       "</div>"
      ],
      "text/plain": [
       "       Empl   variable                value\n",
       "0  54211370  Test Date  2016-04-01 00:00:00\n",
       "1  54211370  Test Date  2016-06-01 00:00:00\n",
       "2  54215024  Test Date  2016-04-01 00:00:00\n",
       "3  54215024  Test Date  2016-06-01 00:00:00\n",
       "4  54210965  Test Date  2016-04-01 00:00:00"
      ]
     },
     "execution_count": 32,
     "metadata": {},
     "output_type": "execute_result"
    }
   ],
   "source": [
    "ACT_MELT4.head()"
   ]
  },
  {
   "cell_type": "code",
   "execution_count": 35,
   "metadata": {},
   "outputs": [],
   "source": [
    "MLT= pd.melt(df, id_vars = 'Empl', value_vars= ['Test Date','WR'])\n"
   ]
  },
  {
   "cell_type": "code",
   "execution_count": 37,
   "metadata": {
    "collapsed": true
   },
   "outputs": [
    {
     "data": {
      "text/plain": [
       "<bound method DataFrame.info of            Empl   variable                value\n",
       "0      54211370  Test Date  2016-04-01 00:00:00\n",
       "1      54211370  Test Date  2016-06-01 00:00:00\n",
       "2      54215024  Test Date  2016-04-01 00:00:00\n",
       "3      54215024  Test Date  2016-06-01 00:00:00\n",
       "4      54210965  Test Date  2016-04-01 00:00:00\n",
       "5      54212324  Test Date                  NaT\n",
       "6      54213145  Test Date  2016-06-01 00:00:00\n",
       "7      54217072  Test Date  2016-04-01 00:00:00\n",
       "8      54217072  Test Date  2016-04-01 00:00:00\n",
       "9      54238182  Test Date  2016-04-01 00:00:00\n",
       "10     54214098  Test Date  2016-04-01 00:00:00\n",
       "11     54211184  Test Date  2015-09-01 00:00:00\n",
       "12     54213382  Test Date  2016-04-01 00:00:00\n",
       "13     54212640  Test Date  2016-02-01 00:00:00\n",
       "14     54212640  Test Date  2016-04-01 00:00:00\n",
       "15     54212640  Test Date  2016-06-01 00:00:00\n",
       "16     54216114  Test Date  2015-10-01 00:00:00\n",
       "17     54216114  Test Date                  NaT\n",
       "18     54211332  Test Date  2016-04-01 00:00:00\n",
       "19     54211389  Test Date  2016-06-01 00:00:00\n",
       "20     54211408  Test Date  2016-06-01 00:00:00\n",
       "21     54216852  Test Date  2016-06-01 00:00:00\n",
       "22     54214732  Test Date  2016-02-01 00:00:00\n",
       "23     54220663  Test Date                  NaT\n",
       "24     54213927  Test Date  2016-04-01 00:00:00\n",
       "25     54215882  Test Date  2015-10-01 00:00:00\n",
       "26     54215882  Test Date  2015-06-01 00:00:00\n",
       "27     54212175  Test Date  2015-06-01 00:00:00\n",
       "28     54211157  Test Date  2016-06-01 00:00:00\n",
       "29     54222197  Test Date  2016-04-01 00:00:00\n",
       "...         ...        ...                  ...\n",
       "46130  54281688         WR                     \n",
       "46131  54295582         WR                     \n",
       "46132  54295582         WR                     \n",
       "46133  54272706         WR                     \n",
       "46134  54272883         WR                     \n",
       "46135  54272883         WR                     \n",
       "46136  54276477         WR                     \n",
       "46137  54279008         WR                     \n",
       "46138  54171195         WR                     \n",
       "46139  54264997         WR                     \n",
       "46140  54276013         WR                     \n",
       "46141  54277922         WR                     \n",
       "46142  54276476         WR                     \n",
       "46143  54259431         WR                     \n",
       "46144  54279693         WR                     \n",
       "46145  54276231         WR                     \n",
       "46146  54284383         WR                     \n",
       "46147  54280559         WR                     \n",
       "46148  54216975         WR                     \n",
       "46149  54216975         WR                     \n",
       "46150  54276517         WR                     \n",
       "46151  54272820         WR                     \n",
       "46152  54272680         WR                     \n",
       "46153  54272680         WR                     \n",
       "46154  54272783         WR                     \n",
       "46155  54249377         WR                     \n",
       "46156  54275249         WR                     \n",
       "46157  54276559         WR                     \n",
       "46158  54278812         WR                     \n",
       "46159  54275750         WR                     \n",
       "\n",
       "[46160 rows x 3 columns]>"
      ]
     },
     "execution_count": 37,
     "metadata": {},
     "output_type": "execute_result"
    }
   ],
   "source": [
    "MLT.info"
   ]
  },
  {
   "cell_type": "code",
   "execution_count": 38,
   "metadata": {},
   "outputs": [
    {
     "data": {
      "text/html": [
       "<div>\n",
       "<style>\n",
       "    .dataframe thead tr:only-child th {\n",
       "        text-align: right;\n",
       "    }\n",
       "\n",
       "    .dataframe thead th {\n",
       "        text-align: left;\n",
       "    }\n",
       "\n",
       "    .dataframe tbody tr th {\n",
       "        vertical-align: top;\n",
       "    }\n",
       "</style>\n",
       "<table border=\"1\" class=\"dataframe\">\n",
       "  <thead>\n",
       "    <tr style=\"text-align: right;\">\n",
       "      <th></th>\n",
       "      <th>Empl</th>\n",
       "      <th>variable</th>\n",
       "      <th>value</th>\n",
       "    </tr>\n",
       "  </thead>\n",
       "  <tbody>\n",
       "    <tr>\n",
       "      <th>0</th>\n",
       "      <td>54211370</td>\n",
       "      <td>Test Date</td>\n",
       "      <td>2016-04-01 00:00:00</td>\n",
       "    </tr>\n",
       "    <tr>\n",
       "      <th>1</th>\n",
       "      <td>54211370</td>\n",
       "      <td>Test Date</td>\n",
       "      <td>2016-06-01 00:00:00</td>\n",
       "    </tr>\n",
       "    <tr>\n",
       "      <th>2</th>\n",
       "      <td>54215024</td>\n",
       "      <td>Test Date</td>\n",
       "      <td>2016-04-01 00:00:00</td>\n",
       "    </tr>\n",
       "    <tr>\n",
       "      <th>3</th>\n",
       "      <td>54215024</td>\n",
       "      <td>Test Date</td>\n",
       "      <td>2016-06-01 00:00:00</td>\n",
       "    </tr>\n",
       "    <tr>\n",
       "      <th>4</th>\n",
       "      <td>54210965</td>\n",
       "      <td>Test Date</td>\n",
       "      <td>2016-04-01 00:00:00</td>\n",
       "    </tr>\n",
       "  </tbody>\n",
       "</table>\n",
       "</div>"
      ],
      "text/plain": [
       "       Empl   variable                value\n",
       "0  54211370  Test Date  2016-04-01 00:00:00\n",
       "1  54211370  Test Date  2016-06-01 00:00:00\n",
       "2  54215024  Test Date  2016-04-01 00:00:00\n",
       "3  54215024  Test Date  2016-06-01 00:00:00\n",
       "4  54210965  Test Date  2016-04-01 00:00:00"
      ]
     },
     "execution_count": 38,
     "metadata": {},
     "output_type": "execute_result"
    }
   ],
   "source": [
    "MLT.head()"
   ]
  },
  {
   "cell_type": "code",
   "execution_count": null,
   "metadata": {
    "collapsed": true
   },
   "outputs": [],
   "source": []
  }
 ],
 "metadata": {
  "kernelspec": {
   "display_name": "Python [conda env:base2]",
   "language": "python",
   "name": "conda-env-base2-py"
  },
  "language_info": {
   "codemirror_mode": {
    "name": "ipython",
    "version": 3
   },
   "file_extension": ".py",
   "mimetype": "text/x-python",
   "name": "python",
   "nbconvert_exporter": "python",
   "pygments_lexer": "ipython3",
   "version": "3.6.4"
  }
 },
 "nbformat": 4,
 "nbformat_minor": 2
}
