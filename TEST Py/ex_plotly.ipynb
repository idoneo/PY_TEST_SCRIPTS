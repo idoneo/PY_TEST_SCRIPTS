{
 "cells": [
  {
   "cell_type": "code",
   "execution_count": 5,
   "metadata": {},
   "outputs": [],
   "source": [
    "import numpy as np\n"
   ]
  },
  {
   "cell_type": "code",
   "execution_count": 6,
   "metadata": {},
   "outputs": [],
   "source": [
    "import pandas as pd"
   ]
  },
  {
   "cell_type": "code",
   "execution_count": 7,
   "metadata": {},
   "outputs": [],
   "source": [
    "import matplotlib.pyplot as plt\n"
   ]
  },
  {
   "cell_type": "code",
   "execution_count": 4,
   "metadata": {},
   "outputs": [],
   "source": [
    "import plotly.plotly as py\n"
   ]
  },
  {
   "cell_type": "code",
   "execution_count": 8,
   "metadata": {},
   "outputs": [],
   "source": [
    "import plotly.graph_objs as go"
   ]
  },
  {
   "cell_type": "code",
   "execution_count": 9,
   "metadata": {},
   "outputs": [],
   "source": [
    "import plotly.tools as tls"
   ]
  },
  {
   "cell_type": "code",
   "execution_count": 10,
   "metadata": {},
   "outputs": [],
   "source": [
    "%matplotlib inline"
   ]
  },
  {
   "cell_type": "code",
   "execution_count": 18,
   "metadata": {},
   "outputs": [
    {
     "data": {
      "text/html": [
       "<iframe id=\"igraph\" scrolling=\"no\" style=\"border:none;\" seamless=\"seamless\" src=\"https://plot.ly/~cufflinks/8.embed\" height=\"525\" width=\"100%\"></iframe>"
      ],
      "text/plain": [
       "<plotly.tools.PlotlyDisplay object>"
      ]
     },
     "execution_count": 18,
     "metadata": {},
     "output_type": "execute_result"
    }
   ],
   "source": [
    "tls.embed('https://plot.ly/~cufflinks/8')"
   ]
  },
  {
   "cell_type": "code",
   "execution_count": 11,
   "metadata": {},
   "outputs": [],
   "source": [
    "DV = pd.read_excel('C:/Users/mjc341/Desktop/TESTPY/DV1.xlsx')"
   ]
  },
  {
   "cell_type": "code",
   "execution_count": 12,
   "metadata": {},
   "outputs": [
    {
     "data": {
      "text/html": [
       "<div>\n",
       "<style scoped>\n",
       "    .dataframe tbody tr th:only-of-type {\n",
       "        vertical-align: middle;\n",
       "    }\n",
       "\n",
       "    .dataframe tbody tr th {\n",
       "        vertical-align: top;\n",
       "    }\n",
       "\n",
       "    .dataframe thead th {\n",
       "        text-align: right;\n",
       "    }\n",
       "</style>\n",
       "<table border=\"1\" class=\"dataframe\">\n",
       "  <thead>\n",
       "    <tr style=\"text-align: right;\">\n",
       "      <th></th>\n",
       "      <th>CRASHNUM</th>\n",
       "      <th>COUNT</th>\n",
       "      <th>DR_AGE</th>\n",
       "      <th>DR_GENDER</th>\n",
       "      <th>VEH_MAKE</th>\n",
       "      <th>VEH_SPEED</th>\n",
       "      <th>Speed_LIMIT</th>\n",
       "      <th>X</th>\n",
       "      <th>Y</th>\n",
       "      <th>CALYEAR</th>\n",
       "      <th>...</th>\n",
       "      <th>DAYOFWEEK</th>\n",
       "      <th>LIGHT1-6</th>\n",
       "      <th>WEATH1-7</th>\n",
       "      <th>WEATH</th>\n",
       "      <th>LTCOND</th>\n",
       "      <th>LATITUDE</th>\n",
       "      <th>LONGITUDE</th>\n",
       "      <th>NEIGHBORHOOD</th>\n",
       "      <th>Ped_AGE</th>\n",
       "      <th>Ped_GENDER</th>\n",
       "    </tr>\n",
       "  </thead>\n",
       "  <tbody>\n",
       "    <tr>\n",
       "      <th>0</th>\n",
       "      <td>818743120</td>\n",
       "      <td>1</td>\n",
       "      <td>40</td>\n",
       "      <td>Female</td>\n",
       "      <td>HOND</td>\n",
       "      <td>35</td>\n",
       "      <td>40</td>\n",
       "      <td>-80.262743</td>\n",
       "      <td>25.750146</td>\n",
       "      <td>2011</td>\n",
       "      <td>...</td>\n",
       "      <td>Saturday</td>\n",
       "      <td>4</td>\n",
       "      <td>1</td>\n",
       "      <td>clear</td>\n",
       "      <td>dark-lighted</td>\n",
       "      <td>25.750141</td>\n",
       "      <td>-80.262740</td>\n",
       "      <td>Coral Gables</td>\n",
       "      <td>60</td>\n",
       "      <td>Female</td>\n",
       "    </tr>\n",
       "    <tr>\n",
       "      <th>1</th>\n",
       "      <td>817219370</td>\n",
       "      <td>1</td>\n",
       "      <td>0</td>\n",
       "      <td>n.a.</td>\n",
       "      <td>NISS</td>\n",
       "      <td>5</td>\n",
       "      <td>35</td>\n",
       "      <td>-80.155873</td>\n",
       "      <td>25.926106</td>\n",
       "      <td>2011</td>\n",
       "      <td>...</td>\n",
       "      <td>Sunday</td>\n",
       "      <td>1</td>\n",
       "      <td>1</td>\n",
       "      <td>clear</td>\n",
       "      <td>daylight</td>\n",
       "      <td>25.926100</td>\n",
       "      <td>-80.155869</td>\n",
       "      <td>North Miami Beach</td>\n",
       "      <td>56</td>\n",
       "      <td>Female</td>\n",
       "    </tr>\n",
       "    <tr>\n",
       "      <th>2</th>\n",
       "      <td>818746210</td>\n",
       "      <td>1</td>\n",
       "      <td>29</td>\n",
       "      <td>Male</td>\n",
       "      <td>AUDI</td>\n",
       "      <td>10</td>\n",
       "      <td>30</td>\n",
       "      <td>-80.262743</td>\n",
       "      <td>25.750146</td>\n",
       "      <td>2011</td>\n",
       "      <td>...</td>\n",
       "      <td>Friday</td>\n",
       "      <td>4</td>\n",
       "      <td>1</td>\n",
       "      <td>clear</td>\n",
       "      <td>dark-lighted</td>\n",
       "      <td>25.750141</td>\n",
       "      <td>-80.262740</td>\n",
       "      <td>Coral Gables</td>\n",
       "      <td>30</td>\n",
       "      <td>Female</td>\n",
       "    </tr>\n",
       "    <tr>\n",
       "      <th>3</th>\n",
       "      <td>817219810</td>\n",
       "      <td>1</td>\n",
       "      <td>58</td>\n",
       "      <td>Male</td>\n",
       "      <td>TOYT</td>\n",
       "      <td>10</td>\n",
       "      <td>35</td>\n",
       "      <td>-80.163908</td>\n",
       "      <td>25.925943</td>\n",
       "      <td>2011</td>\n",
       "      <td>...</td>\n",
       "      <td>Monday</td>\n",
       "      <td>4</td>\n",
       "      <td>1</td>\n",
       "      <td>clear</td>\n",
       "      <td>dark-lighted</td>\n",
       "      <td>25.925938</td>\n",
       "      <td>-80.163904</td>\n",
       "      <td>North Miami Beach</td>\n",
       "      <td>43</td>\n",
       "      <td>Male</td>\n",
       "    </tr>\n",
       "  </tbody>\n",
       "</table>\n",
       "<p>4 rows × 22 columns</p>\n",
       "</div>"
      ],
      "text/plain": [
       "    CRASHNUM  COUNT  DR_AGE DR_GENDER VEH_MAKE  VEH_SPEED  Speed_LIMIT  \\\n",
       "0  818743120      1      40    Female    HOND          35           40   \n",
       "1  817219370      1       0      n.a.    NISS           5           35   \n",
       "2  818746210      1      29      Male    AUDI          10           30   \n",
       "3  817219810      1      58      Male    TOYT          10           35   \n",
       "\n",
       "           X          Y  CALYEAR    ...     DAYOFWEEK  LIGHT1-6 WEATH1-7  \\\n",
       "0 -80.262743  25.750146     2011    ...      Saturday         4        1   \n",
       "1 -80.155873  25.926106     2011    ...        Sunday         1        1   \n",
       "2 -80.262743  25.750146     2011    ...        Friday         4        1   \n",
       "3 -80.163908  25.925943     2011    ...        Monday         4        1   \n",
       "\n",
       "   WEATH        LTCOND   LATITUDE  LONGITUDE       NEIGHBORHOOD  Ped_AGE  \\\n",
       "0  clear  dark-lighted  25.750141 -80.262740       Coral Gables       60   \n",
       "1  clear      daylight  25.926100 -80.155869  North Miami Beach       56   \n",
       "2  clear  dark-lighted  25.750141 -80.262740       Coral Gables       30   \n",
       "3  clear  dark-lighted  25.925938 -80.163904  North Miami Beach       43   \n",
       "\n",
       "  Ped_GENDER  \n",
       "0     Female  \n",
       "1     Female  \n",
       "2     Female  \n",
       "3       Male  \n",
       "\n",
       "[4 rows x 22 columns]"
      ]
     },
     "execution_count": 12,
     "metadata": {},
     "output_type": "execute_result"
    }
   ],
   "source": [
    "DV.head(4)"
   ]
  },
  {
   "cell_type": "code",
   "execution_count": 14,
   "metadata": {},
   "outputs": [],
   "source": [
    "import plotly\n"
   ]
  },
  {
   "cell_type": "code",
   "execution_count": 24,
   "metadata": {},
   "outputs": [],
   "source": [
    "plotly.tools.set_credentials_file(username = 'idoneo21', api_key='CuOxpMEbg0lZ3dEyda87')\n"
   ]
  },
  {
   "cell_type": "code",
   "execution_count": 25,
   "metadata": {},
   "outputs": [],
   "source": [
    "import scipy as sp\n",
    "import plotly.figure_factory as ff"
   ]
  },
  {
   "cell_type": "code",
   "execution_count": null,
   "metadata": {},
   "outputs": [],
   "source": [
    "table= ff.create_table(DV)\n",
    "py.iplot(table, filename ='DV_table')"
   ]
  },
  {
   "cell_type": "code",
   "execution_count": null,
   "metadata": {},
   "outputs": [],
   "source": []
  }
 ],
 "metadata": {
  "kernelspec": {
   "display_name": "Python [conda env:Anaconda3]",
   "language": "python",
   "name": "conda-env-Anaconda3-py"
  },
  "language_info": {
   "codemirror_mode": {
    "name": "ipython",
    "version": 3
   },
   "file_extension": ".py",
   "mimetype": "text/x-python",
   "name": "python",
   "nbconvert_exporter": "python",
   "pygments_lexer": "ipython3",
   "version": "3.6.5"
  }
 },
 "nbformat": 4,
 "nbformat_minor": 2
}
