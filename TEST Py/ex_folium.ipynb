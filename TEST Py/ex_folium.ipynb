{
 "cells": [
  {
   "cell_type": "code",
   "execution_count": 1,
   "metadata": {
    "collapsed": true
   },
   "outputs": [],
   "source": [
    "import numpy as np\n",
    "import pandas as pd\n",
    "import geopandas as gpd"
   ]
  },
  {
   "cell_type": "code",
   "execution_count": 2,
   "metadata": {
    "collapsed": true
   },
   "outputs": [],
   "source": [
    "GIS = pd.ExcelFile('C:/Users/mjc341/desktop/TESTPY/GIS1.xlsx')"
   ]
  },
  {
   "cell_type": "code",
   "execution_count": 3,
   "metadata": {},
   "outputs": [
    {
     "data": {
      "text/plain": [
       "<pandas.io.excel.ExcelFile at 0x26ef7f76588>"
      ]
     },
     "execution_count": 3,
     "metadata": {},
     "output_type": "execute_result"
    }
   ],
   "source": [
    "GIS"
   ]
  },
  {
   "cell_type": "code",
   "execution_count": 10,
   "metadata": {},
   "outputs": [],
   "source": [
    "MVC= gpd.read_file('C:/Users/mjc341/desktop/TESTPY/VIZUM1.geojson')"
   ]
  },
  {
   "cell_type": "code",
   "execution_count": 11,
   "metadata": {},
   "outputs": [
    {
     "data": {
      "text/html": [
       "<div>\n",
       "<style scoped>\n",
       "    .dataframe tbody tr th:only-of-type {\n",
       "        vertical-align: middle;\n",
       "    }\n",
       "\n",
       "    .dataframe tbody tr th {\n",
       "        vertical-align: top;\n",
       "    }\n",
       "\n",
       "    .dataframe thead th {\n",
       "        text-align: right;\n",
       "    }\n",
       "</style>\n",
       "<table border=\"1\" class=\"dataframe\">\n",
       "  <thead>\n",
       "    <tr style=\"text-align: right;\">\n",
       "      <th></th>\n",
       "      <th>CRASHNUM</th>\n",
       "      <th>X</th>\n",
       "      <th>Y</th>\n",
       "      <th>CALYEAR</th>\n",
       "      <th>AGENCY</th>\n",
       "      <th>CRASHDATE</th>\n",
       "      <th>CRASHTIME</th>\n",
       "      <th>DAYOFWEEK</th>\n",
       "      <th>TOWNNAME</th>\n",
       "      <th>ONROADNAME</th>\n",
       "      <th>INROADNAME</th>\n",
       "      <th>RCIMAXSPD</th>\n",
       "      <th>LIGHTCOND</th>\n",
       "      <th>WEATHCOND</th>\n",
       "      <th>WEATH</th>\n",
       "      <th>LTCOND</th>\n",
       "      <th>geometry</th>\n",
       "    </tr>\n",
       "  </thead>\n",
       "  <tbody>\n",
       "    <tr>\n",
       "      <th>3465</th>\n",
       "      <td>820327470</td>\n",
       "      <td>-80.359678</td>\n",
       "      <td>25.732509</td>\n",
       "      <td>2011</td>\n",
       "      <td>FHP</td>\n",
       "      <td>2011-11-07T00:00:00</td>\n",
       "      <td>700</td>\n",
       "      <td>1</td>\n",
       "      <td>UNINCORPORATED</td>\n",
       "      <td>SR 976 SW 40 ST WB</td>\n",
       "      <td>SW 102 AVE</td>\n",
       "      <td>40</td>\n",
       "      <td>1</td>\n",
       "      <td>1</td>\n",
       "      <td>clear</td>\n",
       "      <td>daylight</td>\n",
       "      <td>POINT (-80.35967432 25.73250418)</td>\n",
       "    </tr>\n",
       "    <tr>\n",
       "      <th>3466</th>\n",
       "      <td>820643870</td>\n",
       "      <td>-80.637104</td>\n",
       "      <td>24.916531</td>\n",
       "      <td>2011</td>\n",
       "      <td>FHP</td>\n",
       "      <td>2011-12-14T00:00:00</td>\n",
       "      <td>1422</td>\n",
       "      <td>3</td>\n",
       "      <td>ISLAMORADA</td>\n",
       "      <td>STATEROAD 5 (US-1)</td>\n",
       "      <td>MILE MARKER 81</td>\n",
       "      <td>45</td>\n",
       "      <td>1</td>\n",
       "      <td>1</td>\n",
       "      <td>clear</td>\n",
       "      <td>daylight</td>\n",
       "      <td>POINT (-80.63710287000001 24.91652782)</td>\n",
       "    </tr>\n",
       "    <tr>\n",
       "      <th>3467</th>\n",
       "      <td>820535440</td>\n",
       "      <td>-80.462547</td>\n",
       "      <td>25.074068</td>\n",
       "      <td>2011</td>\n",
       "      <td>FHP</td>\n",
       "      <td>2011-10-16T00:00:00</td>\n",
       "      <td>58</td>\n",
       "      <td>7</td>\n",
       "      <td>KEY LARGO</td>\n",
       "      <td>US1/SR5 NORTHBOUND</td>\n",
       "      <td>POISONWOOD ROAD</td>\n",
       "      <td>45</td>\n",
       "      <td>5</td>\n",
       "      <td>3</td>\n",
       "      <td>rain</td>\n",
       "      <td>dark-not lighted</td>\n",
       "      <td>POINT (-80.46254567 25.07406408)</td>\n",
       "    </tr>\n",
       "    <tr>\n",
       "      <th>3468</th>\n",
       "      <td>820639050</td>\n",
       "      <td>-80.162974</td>\n",
       "      <td>25.946077</td>\n",
       "      <td>2011</td>\n",
       "      <td>FHP</td>\n",
       "      <td>2011-11-22T00:00:00</td>\n",
       "      <td>1915</td>\n",
       "      <td>2</td>\n",
       "      <td>NORTH MIAMI BEACH</td>\n",
       "      <td>STATE ROAD 860</td>\n",
       "      <td>NORTHEAST 19 AVENUE</td>\n",
       "      <td>40</td>\n",
       "      <td>4</td>\n",
       "      <td>1</td>\n",
       "      <td>clear</td>\n",
       "      <td>dark-lighted</td>\n",
       "      <td>POINT (-80.16297025 25.94607124)</td>\n",
       "    </tr>\n",
       "  </tbody>\n",
       "</table>\n",
       "</div>"
      ],
      "text/plain": [
       "       CRASHNUM          X          Y  CALYEAR AGENCY            CRASHDATE  \\\n",
       "3465  820327470 -80.359678  25.732509     2011    FHP  2011-11-07T00:00:00   \n",
       "3466  820643870 -80.637104  24.916531     2011    FHP  2011-12-14T00:00:00   \n",
       "3467  820535440 -80.462547  25.074068     2011    FHP  2011-10-16T00:00:00   \n",
       "3468  820639050 -80.162974  25.946077     2011    FHP  2011-11-22T00:00:00   \n",
       "\n",
       "      CRASHTIME  DAYOFWEEK           TOWNNAME          ONROADNAME  \\\n",
       "3465        700          1     UNINCORPORATED  SR 976 SW 40 ST WB   \n",
       "3466       1422          3         ISLAMORADA  STATEROAD 5 (US-1)   \n",
       "3467         58          7          KEY LARGO  US1/SR5 NORTHBOUND   \n",
       "3468       1915          2  NORTH MIAMI BEACH      STATE ROAD 860   \n",
       "\n",
       "               INROADNAME  RCIMAXSPD  LIGHTCOND  WEATHCOND  WEATH  \\\n",
       "3465           SW 102 AVE         40          1          1  clear   \n",
       "3466       MILE MARKER 81         45          1          1  clear   \n",
       "3467      POISONWOOD ROAD         45          5          3   rain   \n",
       "3468  NORTHEAST 19 AVENUE         40          4          1  clear   \n",
       "\n",
       "                LTCOND                                geometry  \n",
       "3465          daylight        POINT (-80.35967432 25.73250418)  \n",
       "3466          daylight  POINT (-80.63710287000001 24.91652782)  \n",
       "3467  dark-not lighted        POINT (-80.46254567 25.07406408)  \n",
       "3468      dark-lighted        POINT (-80.16297025 25.94607124)  "
      ]
     },
     "execution_count": 11,
     "metadata": {},
     "output_type": "execute_result"
    }
   ],
   "source": [
    "MVC.tail(4)"
   ]
  },
  {
   "cell_type": "code",
   "execution_count": 12,
   "metadata": {
    "collapsed": true
   },
   "outputs": [],
   "source": [
    "MVC_MP= MVC.cx[:, :]"
   ]
  },
  {
   "cell_type": "code",
   "execution_count": 13,
   "metadata": {
    "collapsed": true
   },
   "outputs": [],
   "source": [
    "MVC_MP.plot(figsize =(10,3));"
   ]
  },
  {
   "cell_type": "code",
   "execution_count": 14,
   "metadata": {},
   "outputs": [
    {
     "data": {
      "image/png": "[encoded data removed]",
      "text/plain": [
       "<Figure size 432x288 with 1 Axes>"
      ]
     },
     "metadata": {},
     "output_type": "display_data"
    }
   ],
   "source": [
    "MVC.plot();"
   ]
  },
  {
   "cell_type": "code",
   "execution_count": 20,
   "metadata": {},
   "outputs": [],
   "source": [
    "SHP_MIA= gpd.read_file('C:/Users/mjc341/desktop/TESTPY/Municipal_Boundary.shp')"
   ]
  },
  {
   "cell_type": "code",
   "execution_count": 21,
   "metadata": {},
   "outputs": [
    {
     "data": {
      "image/png": "[encoded data removed]",
      "text/plain": [
       "<Figure size 1440x720 with 1 Axes>"
      ]
     },
     "metadata": {},
     "output_type": "display_data"
    }
   ],
   "source": [
    "SHP_MIA.plot(figsize =(20,10));"
   ]
  },
  {
   "cell_type": "code",
   "execution_count": 22,
   "metadata": {},
   "outputs": [
    {
     "data": {
      "text/html": [
       "<div>\n",
       "<style scoped>\n",
       "    .dataframe tbody tr th:only-of-type {\n",
       "        vertical-align: middle;\n",
       "    }\n",
       "\n",
       "    .dataframe tbody tr th {\n",
       "        vertical-align: top;\n",
       "    }\n",
       "\n",
       "    .dataframe thead th {\n",
       "        text-align: right;\n",
       "    }\n",
       "</style>\n",
       "<table border=\"1\" class=\"dataframe\">\n",
       "  <thead>\n",
       "    <tr style=\"text-align: right;\">\n",
       "      <th></th>\n",
       "      <th>geometry</th>\n",
       "    </tr>\n",
       "  </thead>\n",
       "  <tbody>\n",
       "    <tr>\n",
       "      <th>0</th>\n",
       "      <td>POLYGON ((-80.37312353247509 25.91326137129033...</td>\n",
       "    </tr>\n",
       "    <tr>\n",
       "      <th>1</th>\n",
       "      <td>POLYGON ((-80.14732910221957 25.95905292785593...</td>\n",
       "    </tr>\n",
       "    <tr>\n",
       "      <th>2</th>\n",
       "      <td>POLYGON ((-80.15869090230497 25.95714557944537...</td>\n",
       "    </tr>\n",
       "    <tr>\n",
       "      <th>3</th>\n",
       "      <td>POLYGON ((-80.14048471679732 25.76048765381803...</td>\n",
       "    </tr>\n",
       "  </tbody>\n",
       "</table>\n",
       "</div>"
      ],
      "text/plain": [
       "                                            geometry\n",
       "0  POLYGON ((-80.37312353247509 25.91326137129033...\n",
       "1  POLYGON ((-80.14732910221957 25.95905292785593...\n",
       "2  POLYGON ((-80.15869090230497 25.95714557944537...\n",
       "3  POLYGON ((-80.14048471679732 25.76048765381803..."
      ]
     },
     "execution_count": 22,
     "metadata": {},
     "output_type": "execute_result"
    }
   ],
   "source": [
    "SHP_MIA.head(4)"
   ]
  },
  {
   "cell_type": "code",
   "execution_count": 24,
   "metadata": {},
   "outputs": [
    {
     "data": {
      "text/plain": [
       "(78, 1)"
      ]
     },
     "execution_count": 24,
     "metadata": {},
     "output_type": "execute_result"
    }
   ],
   "source": [
    "SHP_MIA.shape"
   ]
  },
  {
   "cell_type": "code",
   "execution_count": 26,
   "metadata": {},
   "outputs": [],
   "source": [
    "SHP_RE= gpd.read_file('C:/Users/mjc341/desktop/Viz UM/Subdivision_Boundary.shp')"
   ]
  },
  {
   "cell_type": "code",
   "execution_count": 27,
   "metadata": {},
   "outputs": [
    {
     "data": {
      "text/html": [
       "<div>\n",
       "<style scoped>\n",
       "    .dataframe tbody tr th:only-of-type {\n",
       "        vertical-align: middle;\n",
       "    }\n",
       "\n",
       "    .dataframe tbody tr th {\n",
       "        vertical-align: top;\n",
       "    }\n",
       "\n",
       "    .dataframe thead th {\n",
       "        text-align: right;\n",
       "    }\n",
       "</style>\n",
       "<table border=\"1\" class=\"dataframe\">\n",
       "  <thead>\n",
       "    <tr style=\"text-align: right;\">\n",
       "      <th></th>\n",
       "      <th>OBJECTID</th>\n",
       "      <th>TTRRSS</th>\n",
       "      <th>PB</th>\n",
       "      <th>PG</th>\n",
       "      <th>NAME</th>\n",
       "      <th>TNUM</th>\n",
       "      <th>SUBCODE</th>\n",
       "      <th>SOURCE</th>\n",
       "      <th>SHAPE_Leng</th>\n",
       "      <th>SHAPE_Area</th>\n",
       "      <th>GLOBALID</th>\n",
       "      <th>geometry</th>\n",
       "    </tr>\n",
       "  </thead>\n",
       "  <tbody>\n",
       "    <tr>\n",
       "      <th>0</th>\n",
       "      <td>1</td>\n",
       "      <td>543921</td>\n",
       "      <td>143</td>\n",
       "      <td>76</td>\n",
       "      <td>LAKES OF THE MEADOW PATIO HOMES AMENDED</td>\n",
       "      <td>18139.0</td>\n",
       "      <td>31.0</td>\n",
       "      <td>M</td>\n",
       "      <td>147.829172</td>\n",
       "      <td>1241.215920</td>\n",
       "      <td>{BF3021F1-C09A-4A6E-B743-7E1F2960C3F0}</td>\n",
       "      <td>POLYGON ((-80.43287163096711 25.72400431260863...</td>\n",
       "    </tr>\n",
       "    <tr>\n",
       "      <th>1</th>\n",
       "      <td>2</td>\n",
       "      <td>564008</td>\n",
       "      <td>57</td>\n",
       "      <td>39</td>\n",
       "      <td>CUTLER RIDGE SEC 2</td>\n",
       "      <td>0.0</td>\n",
       "      <td>4.0</td>\n",
       "      <td>None</td>\n",
       "      <td>471.946378</td>\n",
       "      <td>7386.339454</td>\n",
       "      <td>{63CE8F18-40C3-46B5-81A6-F89535F8EAB9}</td>\n",
       "      <td>POLYGON ((-80.36188906319134 25.57014618937851...</td>\n",
       "    </tr>\n",
       "    <tr>\n",
       "      <th>2</th>\n",
       "      <td>3</td>\n",
       "      <td>524022</td>\n",
       "      <td>131</td>\n",
       "      <td>55</td>\n",
       "      <td>MIAMI LAKES LAKE CAROL REPLT #1</td>\n",
       "      <td>0.0</td>\n",
       "      <td>15.0</td>\n",
       "      <td>A</td>\n",
       "      <td>103.175976</td>\n",
       "      <td>453.957901</td>\n",
       "      <td>{59B20409-6841-453B-9FF9-4E86CE95AACB}</td>\n",
       "      <td>POLYGON ((-80.3369120714697 25.90822957924404,...</td>\n",
       "    </tr>\n",
       "    <tr>\n",
       "      <th>3</th>\n",
       "      <td>4</td>\n",
       "      <td>554020</td>\n",
       "      <td>96</td>\n",
       "      <td>53</td>\n",
       "      <td>MARY ANN ESTS 1ST ADDN</td>\n",
       "      <td>0.0</td>\n",
       "      <td>21.0</td>\n",
       "      <td>None</td>\n",
       "      <td>2883.423501</td>\n",
       "      <td>299706.633282</td>\n",
       "      <td>{4A658182-DDF6-4346-A82A-088E899A8908}</td>\n",
       "      <td>POLYGON ((-80.36273385056262 25.64296879270813...</td>\n",
       "    </tr>\n",
       "  </tbody>\n",
       "</table>\n",
       "</div>"
      ],
      "text/plain": [
       "   OBJECTID  TTRRSS   PB  PG                                     NAME  \\\n",
       "0         1  543921  143  76  LAKES OF THE MEADOW PATIO HOMES AMENDED   \n",
       "1         2  564008   57  39                       CUTLER RIDGE SEC 2   \n",
       "2         3  524022  131  55          MIAMI LAKES LAKE CAROL REPLT #1   \n",
       "3         4  554020   96  53                   MARY ANN ESTS 1ST ADDN   \n",
       "\n",
       "      TNUM  SUBCODE SOURCE   SHAPE_Leng     SHAPE_Area  \\\n",
       "0  18139.0     31.0      M   147.829172    1241.215920   \n",
       "1      0.0      4.0   None   471.946378    7386.339454   \n",
       "2      0.0     15.0      A   103.175976     453.957901   \n",
       "3      0.0     21.0   None  2883.423501  299706.633282   \n",
       "\n",
       "                                 GLOBALID  \\\n",
       "0  {BF3021F1-C09A-4A6E-B743-7E1F2960C3F0}   \n",
       "1  {63CE8F18-40C3-46B5-81A6-F89535F8EAB9}   \n",
       "2  {59B20409-6841-453B-9FF9-4E86CE95AACB}   \n",
       "3  {4A658182-DDF6-4346-A82A-088E899A8908}   \n",
       "\n",
       "                                            geometry  \n",
       "0  POLYGON ((-80.43287163096711 25.72400431260863...  \n",
       "1  POLYGON ((-80.36188906319134 25.57014618937851...  \n",
       "2  POLYGON ((-80.3369120714697 25.90822957924404,...  \n",
       "3  POLYGON ((-80.36273385056262 25.64296879270813...  "
      ]
     },
     "execution_count": 27,
     "metadata": {},
     "output_type": "execute_result"
    }
   ],
   "source": [
    "SHP_RE.head(4)"
   ]
  },
  {
   "cell_type": "code",
   "execution_count": 31,
   "metadata": {
    "collapsed": true
   },
   "outputs": [
    {
     "data": {
      "image/png": "[encoded data removed]",
      "text/plain": [
       "<Figure size 1440x720 with 1 Axes>"
      ]
     },
     "metadata": {},
     "output_type": "display_data"
    }
   ],
   "source": [
    "SHP_RE.plot(figsize =(20,10));"
   ]
  },
  {
   "cell_type": "code",
   "execution_count": 32,
   "metadata": {},
   "outputs": [
    {
     "data": {
      "text/html": [
       "<div>\n",
       "<style scoped>\n",
       "    .dataframe tbody tr th:only-of-type {\n",
       "        vertical-align: middle;\n",
       "    }\n",
       "\n",
       "    .dataframe tbody tr th {\n",
       "        vertical-align: top;\n",
       "    }\n",
       "\n",
       "    .dataframe thead th {\n",
       "        text-align: right;\n",
       "    }\n",
       "</style>\n",
       "<table border=\"1\" class=\"dataframe\">\n",
       "  <thead>\n",
       "    <tr style=\"text-align: right;\">\n",
       "      <th></th>\n",
       "      <th>OBJECTID</th>\n",
       "      <th>TTRRSS</th>\n",
       "      <th>PB</th>\n",
       "      <th>PG</th>\n",
       "      <th>NAME</th>\n",
       "      <th>TNUM</th>\n",
       "      <th>SUBCODE</th>\n",
       "      <th>SOURCE</th>\n",
       "      <th>SHAPE_Leng</th>\n",
       "      <th>SHAPE_Area</th>\n",
       "      <th>GLOBALID</th>\n",
       "      <th>geometry</th>\n",
       "    </tr>\n",
       "  </thead>\n",
       "  <tbody>\n",
       "    <tr>\n",
       "      <th>0</th>\n",
       "      <td>1</td>\n",
       "      <td>543921</td>\n",
       "      <td>143</td>\n",
       "      <td>76</td>\n",
       "      <td>LAKES OF THE MEADOW PATIO HOMES AMENDED</td>\n",
       "      <td>18139.0</td>\n",
       "      <td>31.0</td>\n",
       "      <td>M</td>\n",
       "      <td>147.829172</td>\n",
       "      <td>1241.215920</td>\n",
       "      <td>{BF3021F1-C09A-4A6E-B743-7E1F2960C3F0}</td>\n",
       "      <td>POLYGON ((-80.43287163096711 25.72400431260863...</td>\n",
       "    </tr>\n",
       "    <tr>\n",
       "      <th>1</th>\n",
       "      <td>2</td>\n",
       "      <td>564008</td>\n",
       "      <td>57</td>\n",
       "      <td>39</td>\n",
       "      <td>CUTLER RIDGE SEC 2</td>\n",
       "      <td>0.0</td>\n",
       "      <td>4.0</td>\n",
       "      <td>None</td>\n",
       "      <td>471.946378</td>\n",
       "      <td>7386.339454</td>\n",
       "      <td>{63CE8F18-40C3-46B5-81A6-F89535F8EAB9}</td>\n",
       "      <td>POLYGON ((-80.36188906319134 25.57014618937851...</td>\n",
       "    </tr>\n",
       "    <tr>\n",
       "      <th>2</th>\n",
       "      <td>3</td>\n",
       "      <td>524022</td>\n",
       "      <td>131</td>\n",
       "      <td>55</td>\n",
       "      <td>MIAMI LAKES LAKE CAROL REPLT #1</td>\n",
       "      <td>0.0</td>\n",
       "      <td>15.0</td>\n",
       "      <td>A</td>\n",
       "      <td>103.175976</td>\n",
       "      <td>453.957901</td>\n",
       "      <td>{59B20409-6841-453B-9FF9-4E86CE95AACB}</td>\n",
       "      <td>POLYGON ((-80.3369120714697 25.90822957924404,...</td>\n",
       "    </tr>\n",
       "  </tbody>\n",
       "</table>\n",
       "</div>"
      ],
      "text/plain": [
       "   OBJECTID  TTRRSS   PB  PG                                     NAME  \\\n",
       "0         1  543921  143  76  LAKES OF THE MEADOW PATIO HOMES AMENDED   \n",
       "1         2  564008   57  39                       CUTLER RIDGE SEC 2   \n",
       "2         3  524022  131  55          MIAMI LAKES LAKE CAROL REPLT #1   \n",
       "\n",
       "      TNUM  SUBCODE SOURCE  SHAPE_Leng   SHAPE_Area  \\\n",
       "0  18139.0     31.0      M  147.829172  1241.215920   \n",
       "1      0.0      4.0   None  471.946378  7386.339454   \n",
       "2      0.0     15.0      A  103.175976   453.957901   \n",
       "\n",
       "                                 GLOBALID  \\\n",
       "0  {BF3021F1-C09A-4A6E-B743-7E1F2960C3F0}   \n",
       "1  {63CE8F18-40C3-46B5-81A6-F89535F8EAB9}   \n",
       "2  {59B20409-6841-453B-9FF9-4E86CE95AACB}   \n",
       "\n",
       "                                            geometry  \n",
       "0  POLYGON ((-80.43287163096711 25.72400431260863...  \n",
       "1  POLYGON ((-80.36188906319134 25.57014618937851...  \n",
       "2  POLYGON ((-80.3369120714697 25.90822957924404,...  "
      ]
     },
     "execution_count": 32,
     "metadata": {},
     "output_type": "execute_result"
    }
   ],
   "source": [
    "SHP_RE.head(3)"
   ]
  },
  {
   "cell_type": "code",
   "execution_count": 37,
   "metadata": {
    "collapsed": true
   },
   "outputs": [],
   "source": [
    "SHP_RE.set_index('OBJECTID',inplace=True)\n"
   ]
  },
  {
   "cell_type": "code",
   "execution_count": 39,
   "metadata": {},
   "outputs": [
    {
     "data": {
      "text/plain": [
       "shapely.geometry.polygon.Polygon"
      ]
     },
     "execution_count": 39,
     "metadata": {},
     "output_type": "execute_result"
    }
   ],
   "source": [
    "type(SHP_RE.loc[2,'geometry'])"
   ]
  },
  {
   "cell_type": "code",
   "execution_count": 40,
   "metadata": {},
   "outputs": [
    {
     "data": {
      "image/svg+xml": [
       "<svg xmlns=\"http://www.w3.org/2000/svg\" xmlns:xlink=\"http://www.w3.org/1999/xlink\" width=\"100.0\" height=\"100.0\" viewBox=\"-80.36199526597683 25.57007449033673 0.0019357866126341605 0.0004474383442669705\" preserveAspectRatio=\"xMinYMin meet\"><g transform=\"matrix(1,0,0,-1,0,51.140596419017726)\"><path fill-rule=\"evenodd\" fill=\"#66cc99\" stroke=\"#555555\" stroke-width=\"3.871573225268321e-05\" opacity=\"0.6\" d=\"M -80.36188906319134,25.570146189378512 L -80.3619217636643,25.570146186137197 L -80.36192214724493,25.5702027456821 L -80.36192227121244,25.570230258060594 L -80.36192357017636,25.57044431098862 L -80.36014221006963,25.57045023288053 L -80.36013394826395,25.57023689224447 L -80.36013382519477,25.5702093774365 L -80.36013117516467,25.570146319841978 L -80.36113692895677,25.570146247722416 L -80.36116963032805,25.570146245291443 L -80.36120233259766,25.570146242050114 L -80.3613004358132,25.570146235567442 L -80.3613331380828,25.570146232326113 L -80.36139854082539,25.570146229084784 L -80.36143124219667,25.57014622584347 L -80.36152934631053,25.570146216119472 L -80.36162745132272,25.570146208826483 L -80.36166015269401,25.57014620639551 L -80.36172555543659,25.570146203154156 L -80.36175825680787,25.57014619910251 L -80.36185636092173,25.57014619261984 L -80.36188906319134,25.570146189378512 z\" /></g></svg>"
      ],
      "text/plain": [
       "<shapely.geometry.polygon.Polygon at 0x2c25f2c8588>"
      ]
     },
     "execution_count": 40,
     "metadata": {},
     "output_type": "execute_result"
    }
   ],
   "source": [
    "polygon =SHP_RE.loc[2,'geometry'] \n",
    "polygon"
   ]
  },
  {
   "cell_type": "code",
   "execution_count": 42,
   "metadata": {},
   "outputs": [
    {
     "data": {
      "image/svg+xml": [
       "<svg xmlns=\"http://www.w3.org/2000/svg\" xmlns:xlink=\"http://www.w3.org/1999/xlink\" width=\"100.0\" height=\"100.0\" viewBox=\"-80.3253972168574 25.62186567403387 0.0046522697176243355 0.0040739520233579185\" preserveAspectRatio=\"xMinYMin meet\"><g transform=\"matrix(1,0,0,-1,0,51.2478053000911)\"><path fill-rule=\"evenodd\" fill=\"#66cc99\" stroke=\"#555555\" stroke-width=\"9.304539435248672e-05\" opacity=\"0.6\" d=\"M -80.32201118225274,25.625742703607372 L -80.32161767075095,25.625754680418265 L -80.32120360040557,25.6257672849433 L -80.32112525473639,25.62576731977139 L -80.3211232047809,25.625730943053412 L -80.321119666317,25.625662234504606 L -80.321052475927,25.624356738649645 L -80.32104894015805,25.624288027690486 L -80.32102612294983,25.623890816792123 L -80.320969973753,25.622950645948617 L -80.3209172534256,25.622067892089028 L -80.32192961432662,25.622037980319707 L -80.3219352386786,25.622126021127094 L -80.32197957413115,25.62290941824463 L -80.32203701600368,25.62392436161313 L -80.32307399343843,25.62389064912875 L -80.32371148108318,25.62386991880529 L -80.32413634648331,25.623856103177502 L -80.32456824209888,25.62384205913703 L -80.3249998304906,25.6238280207647 L -80.32512415732592,25.623809523513785 L -80.32522491057156,25.625645888781225 L -80.32510546607982,25.62564847173127 L -80.32463987016637,25.625662655681747 L -80.32417485905617,25.625676818571723 L -80.32375143724869,25.62568971468907 L -80.32334537179081,25.625702081093976 L -80.32289395129254,25.625715826852083 L -80.32246176552114,25.62572898377093 L -80.32201118225274,25.625742703607372 z\" /></g></svg>"
      ],
      "text/plain": [
       "<shapely.geometry.polygon.Polygon at 0x2c25f2cf4a8>"
      ]
     },
     "execution_count": 42,
     "metadata": {},
     "output_type": "execute_result"
    }
   ],
   "source": [
    "polygon =SHP_RE.loc[5,'geometry'] \n",
    "polygon"
   ]
  },
  {
   "cell_type": "code",
   "execution_count": 43,
   "metadata": {},
   "outputs": [
    {
     "data": {
      "image/svg+xml": [
       "<svg xmlns=\"http://www.w3.org/2000/svg\" xmlns:xlink=\"http://www.w3.org/1999/xlink\" width=\"100.0\" height=\"100.0\" viewBox=\"-80.2871981072343 25.87394076701801 0.0040437404877877725 0.0012598565833208397\" preserveAspectRatio=\"xMinYMin meet\"><g transform=\"matrix(1,0,0,-1,0,51.74914139061934)\"><path fill-rule=\"evenodd\" fill=\"#66cc99\" stroke=\"#555555\" stroke-width=\"8.087480975575545e-05\" opacity=\"0.6\" d=\"M -80.2870483390681,25.87495375702248 L -80.28334384493986,25.875050855435116 L -80.28330413491273,25.87417252382503 L -80.28703688824316,25.874090535184223 L -80.2870483390681,25.87495375702248 z\" /></g></svg>"
      ],
      "text/plain": [
       "<shapely.geometry.polygon.Polygon at 0x2c25f2d1828>"
      ]
     },
     "execution_count": 43,
     "metadata": {},
     "output_type": "execute_result"
    }
   ],
   "source": [
    "polygon =SHP_RE.loc[10,'geometry'] \n",
    "polygon"
   ]
  },
  {
   "cell_type": "code",
   "execution_count": 47,
   "metadata": {
    "collapsed": true
   },
   "outputs": [],
   "source": [
    "s= SHP_RE['NAME']"
   ]
  },
  {
   "cell_type": "code",
   "execution_count": 48,
   "metadata": {
    "collapsed": true
   },
   "outputs": [
    {
     "data": {
      "text/plain": [
       "OBJECTID\n",
       "1        LAKES OF THE MEADOW PATIO HOMES AMENDED\n",
       "2                             CUTLER RIDGE SEC 2\n",
       "3                MIAMI LAKES LAKE CAROL REPLT #1\n",
       "4                         MARY ANN ESTS 1ST ADDN\n",
       "5                                           None\n",
       "6                          ORCHARD ESTS 1ST ADDN\n",
       "7                                        THE HUB\n",
       "8                                 HIGHWAY CHURCH\n",
       "9                          INDUSTRIAL CENTER REV\n",
       "10                              KING ARTHUR ESTS\n",
       "11               MIAMI LAKES-LAKE CAROL REPLT #3\n",
       "12                    PLAT OF CURTIS FIELD TRACT\n",
       "13                                 STERLING ESTS\n",
       "14                                          None\n",
       "15                                          None\n",
       "16                     BIRD LAKE TOWNHOUSE SEC 2\n",
       "17                             PAMELA PARK SEC 1\n",
       "18       MAYRA'S PARK SUBDIVISION FIRST ADDITION\n",
       "19                   CAMBRIDGE LAWNS IN PB 20-48\n",
       "20                             DAISY SUBDIVISION\n",
       "21                                   ROBBINS SUB\n",
       "22              LAKES BY THE BAY SOUTH LOOP ROAD\n",
       "23                                BRICKELL FIRST\n",
       "24                                          None\n",
       "25                             ROYAL GATE CENTER\n",
       "26                       FULFORD BY THE SEA SECD\n",
       "27             LAWRENCE EST LAND COS SUB PB 9-67\n",
       "28                COUNTRY CLUB ESTS AMD PL SEC 1\n",
       "29                              GROVE HILL TOWER\n",
       "30                                     STARLIGHT\n",
       "                          ...                   \n",
       "22360                                MIDWAY MALL\n",
       "22361              MIAMI LAKES WINDMILL GATE SEC\n",
       "22362                                  A M I SUB\n",
       "22363           DORAL LANDINGS TOWNHOMES RE-PLAT\n",
       "22364             BIARRITZ SUBDIVISION PHASE TWO\n",
       "22365                               LEON FLAGLER\n",
       "22366                     THE MANSIONS AT SUNSET\n",
       "22367           DORAL LANDINGS TOWNHOMES RE-PLAT\n",
       "22368           DORAL LANDINGS TOWNHOMES RE-PLAT\n",
       "22369                      A+ MINI STORAGE DORAL\n",
       "22370                          LAKESIDE AT DORAL\n",
       "22371           DORAL LANDINGS TOWNHOMES RE-PLAT\n",
       "22372            AMEND PLAT OF INTL GARDENS GOLF\n",
       "22373                                       MOTA\n",
       "22374                                 PONTEVEDRA\n",
       "22375                KENDALL KATHRYN MILLS SEC 1\n",
       "22376                     RITA GARDEN-THE CENTER\n",
       "22377           MIAMI LAKES-LAKE ELIZABETH SEC 1\n",
       "22378                          LANDMARK AT DORAL\n",
       "22379             BIARRITZ SUBDIVISION PHASE TWO\n",
       "22380                                  KVC NORTH\n",
       "22381           LANDMARK AT DORAL FIRST ADDITION\n",
       "22382                          DORAL PALMS SOUTH\n",
       "22383                    LANDMARK AT DORAL SOUTH\n",
       "22384                      FLA FRUIT LAND CO SUB\n",
       "22385                                       None\n",
       "22386                  LANDMARK AT DORAL CENTRAL\n",
       "22387               FLORIDA FRUIT LANDS CO. SUB.\n",
       "22388                         PALM PLAZA AMENDED\n",
       "22389                      PALMETTO EXPWY SR.826\n",
       "Name: NAME, Length: 22389, dtype: object"
      ]
     },
     "execution_count": 48,
     "metadata": {},
     "output_type": "execute_result"
    }
   ],
   "source": [
    "s"
   ]
  },
  {
   "cell_type": "code",
   "execution_count": 49,
   "metadata": {},
   "outputs": [
    {
     "data": {
      "image/svg+xml": [
       "<svg xmlns=\"http://www.w3.org/2000/svg\" xmlns:xlink=\"http://www.w3.org/1999/xlink\" width=\"100.0\" height=\"100.0\" viewBox=\"-80.19603366872514 25.76158137009801 0.0005168204148304767 0.0008526049876316222\" preserveAspectRatio=\"xMinYMin meet\"><g transform=\"matrix(1,0,0,-1,0,51.524015345183656)\"><path fill-rule=\"evenodd\" fill=\"#66cc99\" stroke=\"#555555\" stroke-width=\"1.7052099752632443e-05\" opacity=\"0.6\" d=\"M -80.19595576733838,25.761613288662936 L -80.19597315243408,25.761612948060517 L -80.19597752183962,25.76172879894166 L -80.19598276620425,25.761867765321163 L -80.19598785785527,25.76200275273239 L -80.19599268809657,25.762136221444006 L -80.1959978498162,25.762278893500937 L -80.19600209076263,25.762396160337698 L -80.19598660380716,25.762396373111706 L -80.19570371444271,25.762400262102183 L -80.19554842627281,25.762402397123136 L -80.19557128210857,25.762200309413377 L -80.19557198009956,25.762195883221793 L -80.19557266012421,25.762191611554407 L -80.19557328984324,25.762187677251482 L -80.1955742169046,25.762181960659785 L -80.19557514755924,25.762176269956694 L -80.1955760036537,25.76217109622227 L -80.1955770259365,25.762164991296284 L -80.19557816140701,25.762158288498163 L -80.19557902917958,25.762153219127597 L -80.19558006583543,25.762147235554924 L -80.19558124442507,25.762140510102984 L -80.19558232060679,25.76213445048102 L -80.19558303925902,25.76213042799213 L -80.1955838728956,25.762125801967926 L -80.195584765821,25.76212088226625 L -80.19558566413627,25.762115973890733 L -80.19558656694313,25.762111074414346 L -80.19558776080416,25.76210464668287 L -80.1955891927187,25.762096989227622 L -80.19559043508873,25.76209038836329 L -80.19559133969224,25.762085615903334 L -80.19559210326022,25.76208160069403 L -80.19559304918623,25.76207663973007 L -80.19559394390825,25.76207196839816 L -80.19559472184929,25.76206790221958 L -80.19559568933484,25.762062873296614 L -80.19559660381981,25.762058133196714 L -80.19559740152378,25.76205400148634 L -80.1955983905689,25.762048891659887 L -80.19559939129213,25.76204375189913 L -80.19560039740524,25.76203858301312 L -80.1956014116032,25.76203338742891 L -80.19560243658096,25.762028168382628 L -80.19560346874522,25.762022929110408 L -80.19560458624942,25.762017291795612 L -80.19560573609299,25.76201152018174 L -80.19560654637337,25.762007475035865 L -80.19560740965436,25.762003196889445 L -80.1956084112759,25.761998257765967 L -80.1956092817434,25.761993974765044 L -80.19561029414474,25.761989028359913 L -80.19561117718865,25.76198474050446 L -80.19561219857313,25.761979785199628 L -80.1956130897019,25.7619754852084 L -80.19561429613933,25.761969691748686 L -80.19561582058037,25.761962391066763 L -80.19561690035533,25.761957237548735 L -80.19561781214534,25.761952908431667 L -80.19561893683608,25.761947570454492 L -80.19562006781503,25.761942221150665 L -80.19562120418387,25.76193686132924 L -80.19562234594258,25.761931489372117 L -80.1956234921929,25.761926108515407 L -80.19562457196785,25.76192105207941 L -80.19562551160566,25.76191666147472 L -80.19562667312731,25.761911248256173 L -80.19562784003887,25.76190582128386 L -80.19562901054368,25.761900385411963 L -80.19563011547149,25.761895280433055 L -80.1956310757705,25.76189084533077 L -80.19563226244502,25.761885381142136 L -80.19563345630601,25.761879907244914 L -80.19563465465862,25.76187442363905 L -80.19563585840109,25.761868930324567 L -80.19563707022841,25.761863429728585 L -80.19563828834393,25.7618579226601 L -80.19563962683371,25.76185188891266 L -80.19564105246006,25.761845505663825 L -80.19564256522301,25.7618387672503 L -80.1956437752537,25.76183340661516 L -80.19564479484153,25.761828909215218 L -80.19564597702444,25.761823716048944 L -80.19564701008703,25.761819215412523 L -80.195648206643,25.761814019009716 L -80.19564924958704,25.761809515945817 L -80.19565029792096,25.76180501207271 L -80.19565180080245,25.761798603741425 L -80.19565315276695,25.76179288874906 L -80.19565451191798,25.76178717699253 L -80.19565588095045,25.76178146766279 L -80.1956568008253,25.76177766360026 L -80.19565780873505,25.761773516508534 L -80.19565916159789,25.76176799001912 L -80.19566052344385,25.761762468383644 L -80.19566189517128,25.761756954029206 L -80.19566332349258,25.761751271396033 L -80.19566506622424,25.761744395441927 L -80.19566642807021,25.761739072826998 L -80.19566749077718,25.761734958904196 L -80.19566891640355,25.761729479336797 L -80.19567008331511,25.76172503371093 L -80.19567143617792,25.761719909307725 L -80.19567289144868,25.76171445481962 L -80.19567467909609,25.761707818336614 L -80.19567620533375,25.761702211750045 L -80.1956776947405,25.76169678476818 L -80.19567891195771,25.761692382019728 L -80.19568037441499,25.761687141923655 L -80.1956822267411,25.761680559644233 L -80.19568375836867,25.7616751690678 L -80.19568491450043,25.761671130382695 L -80.19568607692042,25.76166709655168 L -80.19568724203535,25.761663066765667 L -80.19568875928985,25.761657868737952 L -80.19569008610152,25.761653344633324 L -80.19569156832176,25.76164832459211 L -80.19569276038614,25.761644310986124 L -80.19569395873873,25.761640300616076 L -80.19569546162019,25.761635291091757 L -80.19569676956723,25.761630953063563 L -80.19569893720202,25.761623821448453 L -80.1957006278314,25.761618277153367 L -80.19595576733838,25.761613288662936 z\" /></g></svg>"
      ],
      "text/plain": [
       "<shapely.geometry.polygon.Polygon at 0x2c25f2df7b8>"
      ]
     },
     "execution_count": 49,
     "metadata": {},
     "output_type": "execute_result"
    }
   ],
   "source": [
    "polygon =SHP_RE.loc[23,'geometry'] \n",
    "polygon"
   ]
  },
  {
   "cell_type": "code",
   "execution_count": 56,
   "metadata": {
    "collapsed": true
   },
   "outputs": [],
   "source": [
    "s.to_csv('SubDIV.csv')"
   ]
  },
  {
   "cell_type": "code",
   "execution_count": 58,
   "metadata": {
    "collapsed": true
   },
   "outputs": [],
   "source": [
    "FOR_ZIP = SHP_RE[['NAME','geometry']]"
   ]
  },
  {
   "cell_type": "code",
   "execution_count": 59,
   "metadata": {},
   "outputs": [
    {
     "data": {
      "text/html": [
       "<div>\n",
       "<style scoped>\n",
       "    .dataframe tbody tr th:only-of-type {\n",
       "        vertical-align: middle;\n",
       "    }\n",
       "\n",
       "    .dataframe tbody tr th {\n",
       "        vertical-align: top;\n",
       "    }\n",
       "\n",
       "    .dataframe thead th {\n",
       "        text-align: right;\n",
       "    }\n",
       "</style>\n",
       "<table border=\"1\" class=\"dataframe\">\n",
       "  <thead>\n",
       "    <tr style=\"text-align: right;\">\n",
       "      <th></th>\n",
       "      <th>NAME</th>\n",
       "      <th>geometry</th>\n",
       "    </tr>\n",
       "    <tr>\n",
       "      <th>OBJECTID</th>\n",
       "      <th></th>\n",
       "      <th></th>\n",
       "    </tr>\n",
       "  </thead>\n",
       "  <tbody>\n",
       "    <tr>\n",
       "      <th>1</th>\n",
       "      <td>LAKES OF THE MEADOW PATIO HOMES AMENDED</td>\n",
       "      <td>POLYGON ((-80.43287163096711 25.72400431260863...</td>\n",
       "    </tr>\n",
       "    <tr>\n",
       "      <th>2</th>\n",
       "      <td>CUTLER RIDGE SEC 2</td>\n",
       "      <td>POLYGON ((-80.36188906319134 25.57014618937851...</td>\n",
       "    </tr>\n",
       "    <tr>\n",
       "      <th>3</th>\n",
       "      <td>MIAMI LAKES LAKE CAROL REPLT #1</td>\n",
       "      <td>POLYGON ((-80.3369120714697 25.90822957924404,...</td>\n",
       "    </tr>\n",
       "    <tr>\n",
       "      <th>4</th>\n",
       "      <td>MARY ANN ESTS 1ST ADDN</td>\n",
       "      <td>POLYGON ((-80.36273385056262 25.64296879270813...</td>\n",
       "    </tr>\n",
       "  </tbody>\n",
       "</table>\n",
       "</div>"
      ],
      "text/plain": [
       "                                             NAME  \\\n",
       "OBJECTID                                            \n",
       "1         LAKES OF THE MEADOW PATIO HOMES AMENDED   \n",
       "2                              CUTLER RIDGE SEC 2   \n",
       "3                 MIAMI LAKES LAKE CAROL REPLT #1   \n",
       "4                          MARY ANN ESTS 1ST ADDN   \n",
       "\n",
       "                                                   geometry  \n",
       "OBJECTID                                                     \n",
       "1         POLYGON ((-80.43287163096711 25.72400431260863...  \n",
       "2         POLYGON ((-80.36188906319134 25.57014618937851...  \n",
       "3         POLYGON ((-80.3369120714697 25.90822957924404,...  \n",
       "4         POLYGON ((-80.36273385056262 25.64296879270813...  "
      ]
     },
     "execution_count": 59,
     "metadata": {},
     "output_type": "execute_result"
    }
   ],
   "source": [
    "FOR_ZIP.head(4)\n"
   ]
  },
  {
   "cell_type": "code",
   "execution_count": 60,
   "metadata": {
    "collapsed": true
   },
   "outputs": [],
   "source": [
    "FOR_ZIP.to_csv('FOR_ZIP.csv')"
   ]
  },
  {
   "cell_type": "code",
   "execution_count": 6,
   "metadata": {},
   "outputs": [
    {
     "data": {
      "text/html": [
       "<div>\n",
       "<style scoped>\n",
       "    .dataframe tbody tr th:only-of-type {\n",
       "        vertical-align: middle;\n",
       "    }\n",
       "\n",
       "    .dataframe tbody tr th {\n",
       "        vertical-align: top;\n",
       "    }\n",
       "\n",
       "    .dataframe thead th {\n",
       "        text-align: right;\n",
       "    }\n",
       "</style>\n",
       "<table border=\"1\" class=\"dataframe\">\n",
       "  <thead>\n",
       "    <tr style=\"text-align: right;\">\n",
       "      <th></th>\n",
       "      <th>OBJECTID</th>\n",
       "      <th>MUNICUID</th>\n",
       "      <th>MUNICID</th>\n",
       "      <th>NAME</th>\n",
       "      <th>geometry</th>\n",
       "    </tr>\n",
       "  </thead>\n",
       "  <tbody>\n",
       "    <tr>\n",
       "      <th>0</th>\n",
       "      <td>1</td>\n",
       "      <td>14</td>\n",
       "      <td>27</td>\n",
       "      <td>HIALEAH GARDENS</td>\n",
       "      <td>POLYGON ((-80.37312353247509 25.91326137129033...</td>\n",
       "    </tr>\n",
       "    <tr>\n",
       "      <th>1</th>\n",
       "      <td>2</td>\n",
       "      <td>4</td>\n",
       "      <td>30</td>\n",
       "      <td>UNINCORPORATED MIAMI-DADE</td>\n",
       "      <td>POLYGON ((-80.14732910221957 25.95905292785593...</td>\n",
       "    </tr>\n",
       "    <tr>\n",
       "      <th>2</th>\n",
       "      <td>3</td>\n",
       "      <td>7</td>\n",
       "      <td>07</td>\n",
       "      <td>NORTH MIAMI BEACH</td>\n",
       "      <td>POLYGON ((-80.15869090230497 25.95714557944537...</td>\n",
       "    </tr>\n",
       "    <tr>\n",
       "      <th>3</th>\n",
       "      <td>4</td>\n",
       "      <td>57</td>\n",
       "      <td>30</td>\n",
       "      <td>UNINCORPORATED MIAMI-DADE</td>\n",
       "      <td>POLYGON ((-80.14048471679732 25.76048765381803...</td>\n",
       "    </tr>\n",
       "  </tbody>\n",
       "</table>\n",
       "</div>"
      ],
      "text/plain": [
       "   OBJECTID  MUNICUID MUNICID                       NAME  \\\n",
       "0         1        14      27            HIALEAH GARDENS   \n",
       "1         2         4      30  UNINCORPORATED MIAMI-DADE   \n",
       "2         3         7      07          NORTH MIAMI BEACH   \n",
       "3         4        57      30  UNINCORPORATED MIAMI-DADE   \n",
       "\n",
       "                                            geometry  \n",
       "0  POLYGON ((-80.37312353247509 25.91326137129033...  \n",
       "1  POLYGON ((-80.14732910221957 25.95905292785593...  \n",
       "2  POLYGON ((-80.15869090230497 25.95714557944537...  \n",
       "3  POLYGON ((-80.14048471679732 25.76048765381803...  "
      ]
     },
     "execution_count": 6,
     "metadata": {},
     "output_type": "execute_result"
    }
   ],
   "source": [
    "SHP_MIA.head(4)"
   ]
  },
  {
   "cell_type": "code",
   "execution_count": 8,
   "metadata": {
    "collapsed": true
   },
   "outputs": [],
   "source": [
    "FOR_ZIP2 = SHP_MIA[['OBJECTID','NAME','geometry']]"
   ]
  },
  {
   "cell_type": "markdown",
   "metadata": {},
   "source": [
    "FOR_ZIP2.head(4)"
   ]
  },
  {
   "cell_type": "code",
   "execution_count": 9,
   "metadata": {
    "collapsed": true
   },
   "outputs": [
    {
     "data": {
      "text/html": [
       "<div>\n",
       "<style scoped>\n",
       "    .dataframe tbody tr th:only-of-type {\n",
       "        vertical-align: middle;\n",
       "    }\n",
       "\n",
       "    .dataframe tbody tr th {\n",
       "        vertical-align: top;\n",
       "    }\n",
       "\n",
       "    .dataframe thead th {\n",
       "        text-align: right;\n",
       "    }\n",
       "</style>\n",
       "<table border=\"1\" class=\"dataframe\">\n",
       "  <thead>\n",
       "    <tr style=\"text-align: right;\">\n",
       "      <th></th>\n",
       "      <th>OBJECTID</th>\n",
       "      <th>NAME</th>\n",
       "      <th>geometry</th>\n",
       "    </tr>\n",
       "  </thead>\n",
       "  <tbody>\n",
       "    <tr>\n",
       "      <th>0</th>\n",
       "      <td>1</td>\n",
       "      <td>HIALEAH GARDENS</td>\n",
       "      <td>POLYGON ((-80.37312353247509 25.91326137129033...</td>\n",
       "    </tr>\n",
       "    <tr>\n",
       "      <th>1</th>\n",
       "      <td>2</td>\n",
       "      <td>UNINCORPORATED MIAMI-DADE</td>\n",
       "      <td>POLYGON ((-80.14732910221957 25.95905292785593...</td>\n",
       "    </tr>\n",
       "    <tr>\n",
       "      <th>2</th>\n",
       "      <td>3</td>\n",
       "      <td>NORTH MIAMI BEACH</td>\n",
       "      <td>POLYGON ((-80.15869090230497 25.95714557944537...</td>\n",
       "    </tr>\n",
       "    <tr>\n",
       "      <th>3</th>\n",
       "      <td>4</td>\n",
       "      <td>UNINCORPORATED MIAMI-DADE</td>\n",
       "      <td>POLYGON ((-80.14048471679732 25.76048765381803...</td>\n",
       "    </tr>\n",
       "  </tbody>\n",
       "</table>\n",
       "</div>"
      ],
      "text/plain": [
       "   OBJECTID                       NAME  \\\n",
       "0         1            HIALEAH GARDENS   \n",
       "1         2  UNINCORPORATED MIAMI-DADE   \n",
       "2         3          NORTH MIAMI BEACH   \n",
       "3         4  UNINCORPORATED MIAMI-DADE   \n",
       "\n",
       "                                            geometry  \n",
       "0  POLYGON ((-80.37312353247509 25.91326137129033...  \n",
       "1  POLYGON ((-80.14732910221957 25.95905292785593...  \n",
       "2  POLYGON ((-80.15869090230497 25.95714557944537...  \n",
       "3  POLYGON ((-80.14048471679732 25.76048765381803...  "
      ]
     },
     "execution_count": 9,
     "metadata": {},
     "output_type": "execute_result"
    }
   ],
   "source": [
    "FOR_ZIP2.head(4)"
   ]
  },
  {
   "cell_type": "code",
   "execution_count": 10,
   "metadata": {
    "collapsed": true
   },
   "outputs": [],
   "source": [
    "FOR_ZIP2.to_csv('FOR_ZIP2.csv')"
   ]
  },
  {
   "cell_type": "code",
   "execution_count": 11,
   "metadata": {
    "collapsed": true
   },
   "outputs": [
    {
     "data": {
      "text/html": [
       "<div>\n",
       "<style scoped>\n",
       "    .dataframe tbody tr th:only-of-type {\n",
       "        vertical-align: middle;\n",
       "    }\n",
       "\n",
       "    .dataframe tbody tr th {\n",
       "        vertical-align: top;\n",
       "    }\n",
       "\n",
       "    .dataframe thead th {\n",
       "        text-align: right;\n",
       "    }\n",
       "</style>\n",
       "<table border=\"1\" class=\"dataframe\">\n",
       "  <thead>\n",
       "    <tr style=\"text-align: right;\">\n",
       "      <th></th>\n",
       "      <th>OBJECTID</th>\n",
       "      <th>NAME</th>\n",
       "      <th>geometry</th>\n",
       "    </tr>\n",
       "  </thead>\n",
       "  <tbody>\n",
       "    <tr>\n",
       "      <th>0</th>\n",
       "      <td>1</td>\n",
       "      <td>HIALEAH GARDENS</td>\n",
       "      <td>POLYGON ((-80.37312353247509 25.91326137129033...</td>\n",
       "    </tr>\n",
       "    <tr>\n",
       "      <th>1</th>\n",
       "      <td>2</td>\n",
       "      <td>UNINCORPORATED MIAMI-DADE</td>\n",
       "      <td>POLYGON ((-80.14732910221957 25.95905292785593...</td>\n",
       "    </tr>\n",
       "    <tr>\n",
       "      <th>2</th>\n",
       "      <td>3</td>\n",
       "      <td>NORTH MIAMI BEACH</td>\n",
       "      <td>POLYGON ((-80.15869090230497 25.95714557944537...</td>\n",
       "    </tr>\n",
       "    <tr>\n",
       "      <th>3</th>\n",
       "      <td>4</td>\n",
       "      <td>UNINCORPORATED MIAMI-DADE</td>\n",
       "      <td>POLYGON ((-80.14048471679732 25.76048765381803...</td>\n",
       "    </tr>\n",
       "    <tr>\n",
       "      <th>4</th>\n",
       "      <td>5</td>\n",
       "      <td>BISCAYNE PARK</td>\n",
       "      <td>POLYGON ((-80.17248755991683 25.88717662856742...</td>\n",
       "    </tr>\n",
       "    <tr>\n",
       "      <th>5</th>\n",
       "      <td>6</td>\n",
       "      <td>WEST MIAMI</td>\n",
       "      <td>POLYGON ((-80.29562939969991 25.75509019291255...</td>\n",
       "    </tr>\n",
       "    <tr>\n",
       "      <th>6</th>\n",
       "      <td>7</td>\n",
       "      <td>MIAMI LAKES</td>\n",
       "      <td>POLYGON ((-80.32586401608212 25.92798428946433...</td>\n",
       "    </tr>\n",
       "    <tr>\n",
       "      <th>7</th>\n",
       "      <td>8</td>\n",
       "      <td>CUTLER BAY</td>\n",
       "      <td>POLYGON ((-80.30944340467819 25.58337511984369...</td>\n",
       "    </tr>\n",
       "    <tr>\n",
       "      <th>8</th>\n",
       "      <td>9</td>\n",
       "      <td>UNINCORPORATED MIAMI-DADE</td>\n",
       "      <td>POLYGON ((-80.14208296970642 25.76078622382335...</td>\n",
       "    </tr>\n",
       "    <tr>\n",
       "      <th>9</th>\n",
       "      <td>10</td>\n",
       "      <td>MIAMI GARDENS</td>\n",
       "      <td>POLYGON ((-80.21225598293468 25.92561106744944...</td>\n",
       "    </tr>\n",
       "    <tr>\n",
       "      <th>10</th>\n",
       "      <td>11</td>\n",
       "      <td>SOUTH MIAMI</td>\n",
       "      <td>POLYGON ((-80.28621060796335 25.72625865759724...</td>\n",
       "    </tr>\n",
       "    <tr>\n",
       "      <th>11</th>\n",
       "      <td>12</td>\n",
       "      <td>BAY HARBOR ISLANDS</td>\n",
       "      <td>POLYGON ((-80.13218193447757 25.89423698534144...</td>\n",
       "    </tr>\n",
       "    <tr>\n",
       "      <th>12</th>\n",
       "      <td>13</td>\n",
       "      <td>GOLDEN BEACH</td>\n",
       "      <td>POLYGON ((-80.12494905374608 25.95701382739747...</td>\n",
       "    </tr>\n",
       "    <tr>\n",
       "      <th>13</th>\n",
       "      <td>14</td>\n",
       "      <td>SOUTH MIAMI</td>\n",
       "      <td>POLYGON ((-80.29970320561446 25.73164377568277...</td>\n",
       "    </tr>\n",
       "    <tr>\n",
       "      <th>14</th>\n",
       "      <td>15</td>\n",
       "      <td>UNINCORPORATED MIAMI-DADE</td>\n",
       "      <td>POLYGON ((-80.22138634629474 25.89787662755073...</td>\n",
       "    </tr>\n",
       "    <tr>\n",
       "      <th>15</th>\n",
       "      <td>16</td>\n",
       "      <td>SOUTH MIAMI</td>\n",
       "      <td>POLYGON ((-80.2948109482378 25.72620966745869,...</td>\n",
       "    </tr>\n",
       "    <tr>\n",
       "      <th>16</th>\n",
       "      <td>17</td>\n",
       "      <td>UNINCORPORATED MIAMI-DADE</td>\n",
       "      <td>POLYGON ((-80.13817493799607 25.76184791091085...</td>\n",
       "    </tr>\n",
       "    <tr>\n",
       "      <th>17</th>\n",
       "      <td>18</td>\n",
       "      <td>MIAMI SPRINGS</td>\n",
       "      <td>POLYGON ((-80.26788067144047 25.81301221577448...</td>\n",
       "    </tr>\n",
       "    <tr>\n",
       "      <th>18</th>\n",
       "      <td>19</td>\n",
       "      <td>PALMETTO BAY</td>\n",
       "      <td>POLYGON ((-80.3012439438875 25.63552467460359,...</td>\n",
       "    </tr>\n",
       "    <tr>\n",
       "      <th>19</th>\n",
       "      <td>20</td>\n",
       "      <td>NORTH BAY VILLAGE</td>\n",
       "      <td>POLYGON ((-80.16002023285566 25.84319783871823...</td>\n",
       "    </tr>\n",
       "    <tr>\n",
       "      <th>20</th>\n",
       "      <td>21</td>\n",
       "      <td>UNINCORPORATED MIAMI-DADE</td>\n",
       "      <td>POLYGON ((-80.13926371229009 25.760672770821, ...</td>\n",
       "    </tr>\n",
       "    <tr>\n",
       "      <th>21</th>\n",
       "      <td>22</td>\n",
       "      <td>UNINCORPORATED MIAMI-DADE</td>\n",
       "      <td>POLYGON ((-80.14648014576706 25.86087811591197...</td>\n",
       "    </tr>\n",
       "    <tr>\n",
       "      <th>22</th>\n",
       "      <td>23</td>\n",
       "      <td>NORTH MIAMI</td>\n",
       "      <td>POLYGON ((-80.22746116657268 25.89985598576625...</td>\n",
       "    </tr>\n",
       "    <tr>\n",
       "      <th>23</th>\n",
       "      <td>24</td>\n",
       "      <td>UNINCORPORATED MIAMI-DADE</td>\n",
       "      <td>POLYGON ((-80.15875012194346 25.81518999875387...</td>\n",
       "    </tr>\n",
       "    <tr>\n",
       "      <th>24</th>\n",
       "      <td>25</td>\n",
       "      <td>UNINCORPORATED MIAMI-DADE</td>\n",
       "      <td>POLYGON ((-80.13867512892941 25.76279343620045...</td>\n",
       "    </tr>\n",
       "  </tbody>\n",
       "</table>\n",
       "</div>"
      ],
      "text/plain": [
       "    OBJECTID                       NAME  \\\n",
       "0          1            HIALEAH GARDENS   \n",
       "1          2  UNINCORPORATED MIAMI-DADE   \n",
       "2          3          NORTH MIAMI BEACH   \n",
       "3          4  UNINCORPORATED MIAMI-DADE   \n",
       "4          5              BISCAYNE PARK   \n",
       "5          6                 WEST MIAMI   \n",
       "6          7                MIAMI LAKES   \n",
       "7          8                 CUTLER BAY   \n",
       "8          9  UNINCORPORATED MIAMI-DADE   \n",
       "9         10              MIAMI GARDENS   \n",
       "10        11                SOUTH MIAMI   \n",
       "11        12         BAY HARBOR ISLANDS   \n",
       "12        13               GOLDEN BEACH   \n",
       "13        14                SOUTH MIAMI   \n",
       "14        15  UNINCORPORATED MIAMI-DADE   \n",
       "15        16                SOUTH MIAMI   \n",
       "16        17  UNINCORPORATED MIAMI-DADE   \n",
       "17        18              MIAMI SPRINGS   \n",
       "18        19               PALMETTO BAY   \n",
       "19        20          NORTH BAY VILLAGE   \n",
       "20        21  UNINCORPORATED MIAMI-DADE   \n",
       "21        22  UNINCORPORATED MIAMI-DADE   \n",
       "22        23                NORTH MIAMI   \n",
       "23        24  UNINCORPORATED MIAMI-DADE   \n",
       "24        25  UNINCORPORATED MIAMI-DADE   \n",
       "\n",
       "                                             geometry  \n",
       "0   POLYGON ((-80.37312353247509 25.91326137129033...  \n",
       "1   POLYGON ((-80.14732910221957 25.95905292785593...  \n",
       "2   POLYGON ((-80.15869090230497 25.95714557944537...  \n",
       "3   POLYGON ((-80.14048471679732 25.76048765381803...  \n",
       "4   POLYGON ((-80.17248755991683 25.88717662856742...  \n",
       "5   POLYGON ((-80.29562939969991 25.75509019291255...  \n",
       "6   POLYGON ((-80.32586401608212 25.92798428946433...  \n",
       "7   POLYGON ((-80.30944340467819 25.58337511984369...  \n",
       "8   POLYGON ((-80.14208296970642 25.76078622382335...  \n",
       "9   POLYGON ((-80.21225598293468 25.92561106744944...  \n",
       "10  POLYGON ((-80.28621060796335 25.72625865759724...  \n",
       "11  POLYGON ((-80.13218193447757 25.89423698534144...  \n",
       "12  POLYGON ((-80.12494905374608 25.95701382739747...  \n",
       "13  POLYGON ((-80.29970320561446 25.73164377568277...  \n",
       "14  POLYGON ((-80.22138634629474 25.89787662755073...  \n",
       "15  POLYGON ((-80.2948109482378 25.72620966745869,...  \n",
       "16  POLYGON ((-80.13817493799607 25.76184791091085...  \n",
       "17  POLYGON ((-80.26788067144047 25.81301221577448...  \n",
       "18  POLYGON ((-80.3012439438875 25.63552467460359,...  \n",
       "19  POLYGON ((-80.16002023285566 25.84319783871823...  \n",
       "20  POLYGON ((-80.13926371229009 25.760672770821, ...  \n",
       "21  POLYGON ((-80.14648014576706 25.86087811591197...  \n",
       "22  POLYGON ((-80.22746116657268 25.89985598576625...  \n",
       "23  POLYGON ((-80.15875012194346 25.81518999875387...  \n",
       "24  POLYGON ((-80.13867512892941 25.76279343620045...  "
      ]
     },
     "execution_count": 11,
     "metadata": {},
     "output_type": "execute_result"
    }
   ],
   "source": [
    "FOR_ZIP2.head(25)"
   ]
  },
  {
   "cell_type": "code",
   "execution_count": 12,
   "metadata": {
    "collapsed": true
   },
   "outputs": [],
   "source": [
    "s2 = FOR_ZIP2['NAME']"
   ]
  },
  {
   "cell_type": "code",
   "execution_count": 13,
   "metadata": {
    "collapsed": true
   },
   "outputs": [
    {
     "data": {
      "text/plain": [
       "0               HIALEAH GARDENS\n",
       "1     UNINCORPORATED MIAMI-DADE\n",
       "2             NORTH MIAMI BEACH\n",
       "3     UNINCORPORATED MIAMI-DADE\n",
       "4                 BISCAYNE PARK\n",
       "5                    WEST MIAMI\n",
       "6                   MIAMI LAKES\n",
       "7                    CUTLER BAY\n",
       "8     UNINCORPORATED MIAMI-DADE\n",
       "9                 MIAMI GARDENS\n",
       "10                  SOUTH MIAMI\n",
       "11           BAY HARBOR ISLANDS\n",
       "12                 GOLDEN BEACH\n",
       "13                  SOUTH MIAMI\n",
       "14    UNINCORPORATED MIAMI-DADE\n",
       "15                  SOUTH MIAMI\n",
       "16    UNINCORPORATED MIAMI-DADE\n",
       "17                MIAMI SPRINGS\n",
       "18                 PALMETTO BAY\n",
       "19            NORTH BAY VILLAGE\n",
       "20    UNINCORPORATED MIAMI-DADE\n",
       "21    UNINCORPORATED MIAMI-DADE\n",
       "22                  NORTH MIAMI\n",
       "23    UNINCORPORATED MIAMI-DADE\n",
       "24    UNINCORPORATED MIAMI-DADE\n",
       "25            NORTH MIAMI BEACH\n",
       "26                       MEDLEY\n",
       "27    UNINCORPORATED MIAMI-DADE\n",
       "28    UNINCORPORATED MIAMI-DADE\n",
       "29                  SOUTH MIAMI\n",
       "                ...            \n",
       "48    UNINCORPORATED MIAMI-DADE\n",
       "49                       MEDLEY\n",
       "50                   SWEETWATER\n",
       "51                    EL PORTAL\n",
       "52                        DORAL\n",
       "53                    HOMESTEAD\n",
       "54                        MIAMI\n",
       "55    UNINCORPORATED MIAMI-DADE\n",
       "56                  MIAMI BEACH\n",
       "57                 KEY BISCAYNE\n",
       "58                      HIALEAH\n",
       "59    UNINCORPORATED MIAMI-DADE\n",
       "60    UNINCORPORATED MIAMI-DADE\n",
       "61            SUNNY ISLES BEACH\n",
       "62                       MEDLEY\n",
       "63    UNINCORPORATED MIAMI-DADE\n",
       "64                     AVENTURA\n",
       "65                  BAL HARBOUR\n",
       "66    UNINCORPORATED MIAMI-DADE\n",
       "67                    PINECREST\n",
       "68                  SOUTH MIAMI\n",
       "69                 FLORIDA CITY\n",
       "70                  NORTH MIAMI\n",
       "71    UNINCORPORATED MIAMI-DADE\n",
       "72    UNINCORPORATED MIAMI-DADE\n",
       "73    UNINCORPORATED MIAMI-DADE\n",
       "74                 CORAL GABLES\n",
       "75    UNINCORPORATED MIAMI-DADE\n",
       "76                     SURFSIDE\n",
       "77    UNINCORPORATED MIAMI-DADE\n",
       "Name: NAME, Length: 78, dtype: object"
      ]
     },
     "execution_count": 13,
     "metadata": {},
     "output_type": "execute_result"
    }
   ],
   "source": [
    "s2"
   ]
  },
  {
   "cell_type": "code",
   "execution_count": 14,
   "metadata": {
    "collapsed": true
   },
   "outputs": [],
   "source": [
    "import folium as f"
   ]
  },
  {
   "cell_type": "code",
   "execution_count": 19,
   "metadata": {},
   "outputs": [
    {
     "data": {
      "text/html": [
       "<div style=\"width:100%;\"><div style=\"position:relative;width:100%;height:0;padding-bottom:60%;\"><iframe src=\"data:text/html;charset=utf-8;base64,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\" style=\"position:absolute;width:100%;height:100%;left:0;top:0;border:none !important;\" allowfullscreen webkitallowfullscreen mozallowfullscreen></iframe></div></div>"
      ],
      "text/plain": [
       "<folium.folium.Map at 0x284d3fe3a20>"
      ]
     },
     "execution_count": 19,
     "metadata": {},
     "output_type": "execute_result"
    }
   ],
   "source": [
    "miami_center = (25.761681,-80.191788)\n",
    "m= f.Map(location=miami_center,zoom_start=11)\n",
    "m"
   ]
  },
  {
   "cell_type": "code",
   "execution_count": null,
   "metadata": {
    "collapsed": true
   },
   "outputs": [],
   "source": [
    "#miami_center = (25.761681,-80.191788)\n",
    "#m= folium.Map(location=miami_center,zoom start = 11)\n",
    "#folium.GeoJson(wards.to_json()).add_to(m)\n",
    "#m.save('html/folium_bound.html')"
   ]
  },
  {
   "cell_type": "code",
   "execution_count": 23,
   "metadata": {},
   "outputs": [
    {
     "data": {
      "text/html": [
       "<div>\n",
       "<style scoped>\n",
       "    .dataframe tbody tr th:only-of-type {\n",
       "        vertical-align: middle;\n",
       "    }\n",
       "\n",
       "    .dataframe tbody tr th {\n",
       "        vertical-align: top;\n",
       "    }\n",
       "\n",
       "    .dataframe thead th {\n",
       "        text-align: right;\n",
       "    }\n",
       "</style>\n",
       "<table border=\"1\" class=\"dataframe\">\n",
       "  <thead>\n",
       "    <tr style=\"text-align: right;\">\n",
       "      <th></th>\n",
       "      <th>OBJECTID</th>\n",
       "      <th>MUNICUID</th>\n",
       "      <th>MUNICID</th>\n",
       "      <th>NAME</th>\n",
       "      <th>geometry</th>\n",
       "    </tr>\n",
       "  </thead>\n",
       "  <tbody>\n",
       "    <tr>\n",
       "      <th>0</th>\n",
       "      <td>1</td>\n",
       "      <td>14</td>\n",
       "      <td>27</td>\n",
       "      <td>HIALEAH GARDENS</td>\n",
       "      <td>POLYGON ((-80.37312353247509 25.91326137129033...</td>\n",
       "    </tr>\n",
       "    <tr>\n",
       "      <th>1</th>\n",
       "      <td>2</td>\n",
       "      <td>4</td>\n",
       "      <td>30</td>\n",
       "      <td>UNINCORPORATED MIAMI-DADE</td>\n",
       "      <td>POLYGON ((-80.14732910221957 25.95905292785593...</td>\n",
       "    </tr>\n",
       "    <tr>\n",
       "      <th>2</th>\n",
       "      <td>3</td>\n",
       "      <td>7</td>\n",
       "      <td>07</td>\n",
       "      <td>NORTH MIAMI BEACH</td>\n",
       "      <td>POLYGON ((-80.15869090230497 25.95714557944537...</td>\n",
       "    </tr>\n",
       "    <tr>\n",
       "      <th>3</th>\n",
       "      <td>4</td>\n",
       "      <td>57</td>\n",
       "      <td>30</td>\n",
       "      <td>UNINCORPORATED MIAMI-DADE</td>\n",
       "      <td>POLYGON ((-80.14048471679732 25.76048765381803...</td>\n",
       "    </tr>\n",
       "  </tbody>\n",
       "</table>\n",
       "</div>"
      ],
      "text/plain": [
       "   OBJECTID  MUNICUID MUNICID                       NAME  \\\n",
       "0         1        14      27            HIALEAH GARDENS   \n",
       "1         2         4      30  UNINCORPORATED MIAMI-DADE   \n",
       "2         3         7      07          NORTH MIAMI BEACH   \n",
       "3         4        57      30  UNINCORPORATED MIAMI-DADE   \n",
       "\n",
       "                                            geometry  \n",
       "0  POLYGON ((-80.37312353247509 25.91326137129033...  \n",
       "1  POLYGON ((-80.14732910221957 25.95905292785593...  \n",
       "2  POLYGON ((-80.15869090230497 25.95714557944537...  \n",
       "3  POLYGON ((-80.14048471679732 25.76048765381803...  "
      ]
     },
     "execution_count": 23,
     "metadata": {},
     "output_type": "execute_result"
    }
   ],
   "source": [
    "SHP_MIA.head(4)"
   ]
  },
  {
   "cell_type": "code",
   "execution_count": null,
   "metadata": {
    "collapsed": true
   },
   "outputs": [],
   "source": []
  }
 ],
 "metadata": {
  "kernelspec": {
   "display_name": "Python [conda env:GIS]",
   "language": "python",
   "name": "conda-env-GIS-py"
  },
  "language_info": {
   "codemirror_mode": {
    "name": "ipython",
    "version": 3
   },
   "file_extension": ".py",
   "mimetype": "text/x-python",
   "name": "python",
   "nbconvert_exporter": "python",
   "pygments_lexer": "ipython3",
   "version": "3.5.5"
  }
 },
 "nbformat": 4,
 "nbformat_minor": 2
}
