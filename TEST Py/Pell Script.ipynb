{
 "cells": [
  {
   "cell_type": "code",
   "execution_count": 82,
   "metadata": {},
   "outputs": [],
   "source": [
    "import numpy as np\n",
    "import pandas as pd\n",
    "import matplotlib.pyplot as plt\n",
    "import glob"
   ]
  },
  {
   "cell_type": "code",
   "execution_count": 83,
   "metadata": {
    "scrolled": true
   },
   "outputs": [],
   "source": [
    "# MODIFY THIS LINE!!!\n",
    "# Step 1: Save raw COD files from all campuses into separate directory to be referenced below\n",
    "# Set path of directory with saved COD files and define all data file names from all campuses\n",
    "# Set string aid_year long description based on the first Pell filename\n",
    "path =r'C:/Users/name/Desktop/FOLDER/08.13 Update'\n",
    "path_final =r'C:/Users/name/Desktop/FOLDER/Final Versions'\n",
    "filename = path + \"/pgyr18op.***\""
   ]
  },
  {
   "cell_type": "code",
   "execution_count": 85,
   "metadata": {},
   "outputs": [],
   "source": [
    "aid_year = '20' + str((int(filename[-8:-6])-1)) + '-20' + filename[-8:-6]\n",
    "date = path[-12:-7]"
   ]
  },
  {
   "cell_type": "code",
   "execution_count": 86,
   "metadata": {},
   "outputs": [
    {
     "data": {
      "text/plain": [
       "'2017-2018'"
      ]
     },
     "execution_count": 86,
     "metadata": {},
     "output_type": "execute_result"
    }
   ],
   "source": [
    "# Aid Year string for Pell Reconciliation\n",
    "aid_year"
   ]
  },
  {
   "cell_type": "code",
   "execution_count": 87,
   "metadata": {},
   "outputs": [
    {
     "data": {
      "text/plain": [
       "'08.13'"
      ]
     },
     "execution_count": 87,
     "metadata": {},
     "output_type": "execute_result"
    }
   ],
   "source": [
    "date"
   ]
  },
  {
   "cell_type": "code",
   "execution_count": 88,
   "metadata": {},
   "outputs": [],
   "source": [
    "#pell_orig = pd.read_fwf(path + \"/pgyr18op.017\", colspecs=[(0,1),(1,24),(24,33),(33,35),(35,41),(41,46),(46,59),(59,60),(60,61),\n",
    " #                                                  (61,68),(68,76),(76,84),(84,92),(92,100),(100,108),(108,116),(116,124),\n",
    "  #                                                 (124,132),(132,140),(140,148),(148,156),(156,164),(164,172),(172,180),\n",
    "   #                                                (180,188),(188,196),(196,197),(197,198),(198,199),(199,201),(201,207),\n",
    "    #                                               (207,208),(208,209),(209,216),(216,217),(217,229),(229,232),(232,250),\n",
    "     #                                              (250,251),(251,256),(256,272),(272,284),(284,285),(285,294),(294,302),\n",
    "      #                                             (302,303),(303,310),(310,312),(312,314),(314,316),(316,324),(324,326),\n",
    "       #                                            (326,336),(336,344),(344,350)], skiprows=1, header=None)"
   ]
  },
  {
   "cell_type": "code",
   "execution_count": 89,
   "metadata": {},
   "outputs": [],
   "source": [
    "#pell_orig"
   ]
  },
  {
   "cell_type": "code",
   "execution_count": 90,
   "metadata": {},
   "outputs": [],
   "source": [
    "#len(pell_orig)"
   ]
  },
  {
   "cell_type": "code",
   "execution_count": 91,
   "metadata": {},
   "outputs": [],
   "source": [
    "# Select records from COD PELL file with 1st column = O\n",
    "#pell_orig_only = pell_orig[pell_orig[0]=='O']"
   ]
  },
  {
   "cell_type": "code",
   "execution_count": 92,
   "metadata": {},
   "outputs": [],
   "source": [
    "#pell_orig_only.head(3)"
   ]
  },
  {
   "cell_type": "code",
   "execution_count": 93,
   "metadata": {},
   "outputs": [],
   "source": [
    "# MODIFY FILENAME FOR NEW COD PELL FILE\n",
    "pell_disb = pd.read_fwf(path + \"/pgyr18op.026\", colspecs=[(0,1),(1,24),(24,37),(37,38),(38,40),(40,47),(47,48),(48,56),(56,57),\n",
    "                                                   (57,65),(65,72),(72,79),(79,129),(129,137),(137,145),(145,149),(149,155),\n",
    "                                                   (155,171),(171,183),(183,184),(184,193),(193,201),(201,203),(203,204),\n",
    "                                                   (204,206),(206,213),(213,220),(220,221),(221,226),(226,231),(231,237),\n",
    "                                                   (237,238),(238,240),(240,246),(246,349)], skiprows=1, header=None)"
   ]
  },
  {
   "cell_type": "code",
   "execution_count": 95,
   "metadata": {},
   "outputs": [
    {
     "data": {
      "text/plain": [
       "5666"
      ]
     },
     "execution_count": 95,
     "metadata": {},
     "output_type": "execute_result"
    }
   ],
   "source": [
    "len(pell_disb)"
   ]
  },
  {
   "cell_type": "code",
   "execution_count": 96,
   "metadata": {},
   "outputs": [],
   "source": [
    "# Select records from COD PELL file with 1st column = D\n",
    "pell_disb_only = pell_disb[pell_disb[0]=='D']"
   ]
  },
  {
   "cell_type": "code",
   "execution_count": 97,
   "metadata": {},
   "outputs": [
    {
     "data": {
      "text/plain": [
       "3848"
      ]
     },
     "execution_count": 97,
     "metadata": {},
     "output_type": "execute_result"
    }
   ],
   "source": [
    "len(pell_disb_only)"
   ]
  },
  {
   "cell_type": "code",
   "execution_count": 98,
   "metadata": {},
   "outputs": [],
   "source": [
    "pell_disb_only = pell_disb_only.reset_index(drop=True)"
   ]
  },
  {
   "cell_type": "code",
   "execution_count": 99,
   "metadata": {},
   "outputs": [],
   "source": [
    "pell_disb_only[20] = pell_disb_only[20].astype(int)"
   ]
  },
  {
   "cell_type": "code",
   "execution_count": 100,
   "metadata": {},
   "outputs": [
    {
     "data": {
      "text/plain": [
       "0    1885925\n",
       "1    1906044\n",
       "2    1906044\n",
       "Name: 20, dtype: int32"
      ]
     },
     "execution_count": 100,
     "metadata": {},
     "output_type": "execute_result"
    }
   ],
   "source": [
    "pell_disb_only[20].head(3)"
   ]
  },
  {
   "cell_type": "code",
   "execution_count": 102,
   "metadata": {},
   "outputs": [],
   "source": [
    "pell_disb_header = pell_disb_only.rename(columns={pell_disb_only.columns[0]: \"YTD Record Indicator\", \n",
    "                               pell_disb_only.columns[1]: \"Unused\", \n",
    "                               pell_disb_only.columns[2]: \"Disbursement Cross-Reference\", \n",
    "                               pell_disb_only.columns[3]: \"Action Code\", \n",
    "                               pell_disb_only.columns[4]: \"Disbursement Number\", \n",
    "                               pell_disb_only.columns[5]: \"Accepted Disbursement Amount\", \n",
    "                               pell_disb_only.columns[6]: \"Accepted Sign Indicator\", \n",
    "                               pell_disb_only.columns[7]: \"Disbursement Date\", \n",
    "                               pell_disb_only.columns[8]: \"Unused\", \n",
    "                               pell_disb_only.columns[9]: \"Payment Period Start Date\", \n",
    "                               pell_disb_only.columns[10]: \"Percent Eligibility Used by Scheduled Award\", \n",
    "                               pell_disb_only.columns[11]: \"Total Percent Eligibility Used\", \n",
    "                               pell_disb_only.columns[12]: \"Unused\", \n",
    "                               pell_disb_only.columns[13]: \"Disbursement Process Date\", \n",
    "                               pell_disb_only.columns[14]: \"Routing ID\", \n",
    "                               pell_disb_only.columns[15]: \"Financial Award Year\", \n",
    "                               pell_disb_only.columns[16]: \"Attended Campus Pell-ID\", \n",
    "                               pell_disb_only.columns[17]: \"Student's Last Name\", \n",
    "                               pell_disb_only.columns[18]: \"Student's First Name\", \n",
    "                               pell_disb_only.columns[19]: \"Student's Middle Initial\", \n",
    "                               pell_disb_only.columns[20]: \"Student's Current NID\", \n",
    "                               pell_disb_only.columns[21]: \"Student's Date of Birth\", \n",
    "                               pell_disb_only.columns[22]: \"Disbursement Sequence Number\", \n",
    "                               pell_disb_only.columns[23]: \"Disbursement Release Indicator\", \n",
    "                               pell_disb_only.columns[24]: \"Previous Disbursement Sequence Number\", \n",
    "                               pell_disb_only.columns[25]: \"Lifetime Eligibility Used\", \n",
    "                               pell_disb_only.columns[26]: \"Program CIP Code\", \n",
    "                               pell_disb_only.columns[27]: \"Enrollment Status\", \n",
    "                               pell_disb_only.columns[28]: \"Published Program Length Years\", \n",
    "                               pell_disb_only.columns[29]: \"Published Program Length Months\", \n",
    "                               pell_disb_only.columns[30]: \"Published Program Length Weeks\", \n",
    "                               pell_disb_only.columns[31]: \"Special Program Indicator\", \n",
    "                               pell_disb_only.columns[32]: \"Program Credential Level\", \n",
    "                               pell_disb_only.columns[33]: \"Weeks Programs Academic Year\", \n",
    "                               pell_disb_only.columns[34]: \"Unused\"})"
   ]
  },
  {
   "cell_type": "code",
   "execution_count": 103,
   "metadata": {},
   "outputs": [
    {
     "data": {
      "text/html": [
       "<div>\n",
       "<style scoped>\n",
       "    .dataframe tbody tr th:only-of-type {\n",
       "        vertical-align: middle;\n",
       "    }\n",
       "\n",
       "    .dataframe tbody tr th {\n",
       "        vertical-align: top;\n",
       "    }\n",
       "\n",
       "    .dataframe thead th {\n",
       "        text-align: right;\n",
       "    }\n",
       "</style>\n",
       "<table border=\"1\" class=\"dataframe\">\n",
       "  <thead>\n",
       "    <tr style=\"text-align: right;\">\n",
       "      <th></th>\n",
       "      <th>YTD Record Indicator</th>\n",
       "      <th>Unused</th>\n",
       "      <th>Disbursement Cross-Reference</th>\n",
       "      <th>Action Code</th>\n",
       "      <th>Disbursement Number</th>\n",
       "      <th>Accepted Disbursement Amount</th>\n",
       "      <th>Accepted Sign Indicator</th>\n",
       "      <th>Disbursement Date</th>\n",
       "      <th>Unused</th>\n",
       "      <th>Payment Period Start Date</th>\n",
       "      <th>...</th>\n",
       "      <th>Lifetime Eligibility Used</th>\n",
       "      <th>Program CIP Code</th>\n",
       "      <th>Enrollment Status</th>\n",
       "      <th>Published Program Length Years</th>\n",
       "      <th>Published Program Length Months</th>\n",
       "      <th>Published Program Length Weeks</th>\n",
       "      <th>Special Program Indicator</th>\n",
       "      <th>Program Credential Level</th>\n",
       "      <th>Weeks Programs Academic Year</th>\n",
       "      <th>Unused</th>\n",
       "    </tr>\n",
       "  </thead>\n",
       "  <tbody>\n",
       "    <tr>\n",
       "      <th>0</th>\n",
       "      <td>D</td>\n",
       "      <td>NaN</td>\n",
       "      <td>001885925CO00</td>\n",
       "      <td>A</td>\n",
       "      <td>1</td>\n",
       "      <td>0193500</td>\n",
       "      <td>P</td>\n",
       "      <td>20170811</td>\n",
       "      <td>NaN</td>\n",
       "      <td>NaN</td>\n",
       "      <td>...</td>\n",
       "      <td>0400008</td>\n",
       "      <td>26.0101</td>\n",
       "      <td>L</td>\n",
       "      <td>4000.0</td>\n",
       "      <td>NaN</td>\n",
       "      <td>NaN</td>\n",
       "      <td>N</td>\n",
       "      <td>3.0</td>\n",
       "      <td>NaN</td>\n",
       "      <td>NaN</td>\n",
       "    </tr>\n",
       "    <tr>\n",
       "      <th>1</th>\n",
       "      <td>D</td>\n",
       "      <td>NaN</td>\n",
       "      <td>001906044TI00</td>\n",
       "      <td>A</td>\n",
       "      <td>1</td>\n",
       "      <td>0296000</td>\n",
       "      <td>P</td>\n",
       "      <td>20170811</td>\n",
       "      <td>NaN</td>\n",
       "      <td>NaN</td>\n",
       "      <td>...</td>\n",
       "      <td>0400000</td>\n",
       "      <td>50.0904</td>\n",
       "      <td>L</td>\n",
       "      <td>4000.0</td>\n",
       "      <td>NaN</td>\n",
       "      <td>NaN</td>\n",
       "      <td>N</td>\n",
       "      <td>3.0</td>\n",
       "      <td>NaN</td>\n",
       "      <td>NaN</td>\n",
       "    </tr>\n",
       "    <tr>\n",
       "      <th>2</th>\n",
       "      <td>D</td>\n",
       "      <td>NaN</td>\n",
       "      <td>001906044TI00</td>\n",
       "      <td>A</td>\n",
       "      <td>2</td>\n",
       "      <td>0296000</td>\n",
       "      <td>P</td>\n",
       "      <td>20180108</td>\n",
       "      <td>NaN</td>\n",
       "      <td>NaN</td>\n",
       "      <td>...</td>\n",
       "      <td>0400000</td>\n",
       "      <td>50.0904</td>\n",
       "      <td>F</td>\n",
       "      <td>4000.0</td>\n",
       "      <td>NaN</td>\n",
       "      <td>NaN</td>\n",
       "      <td>N</td>\n",
       "      <td>3.0</td>\n",
       "      <td>NaN</td>\n",
       "      <td>NaN</td>\n",
       "    </tr>\n",
       "  </tbody>\n",
       "</table>\n",
       "<p>3 rows × 35 columns</p>\n",
       "</div>"
      ],
      "text/plain": [
       "  YTD Record Indicator Unused Disbursement Cross-Reference Action Code  \\\n",
       "0                    D    NaN                001885925CO00           A   \n",
       "1                    D    NaN                001906044TI00           A   \n",
       "2                    D    NaN                001906044TI00           A   \n",
       "\n",
       "   Disbursement Number Accepted Disbursement Amount Accepted Sign Indicator  \\\n",
       "0                    1                      0193500                       P   \n",
       "1                    1                      0296000                       P   \n",
       "2                    2                      0296000                       P   \n",
       "\n",
       "  Disbursement Date Unused Payment Period Start Date  ...    \\\n",
       "0          20170811    NaN                       NaN  ...     \n",
       "1          20170811    NaN                       NaN  ...     \n",
       "2          20180108    NaN                       NaN  ...     \n",
       "\n",
       "   Lifetime Eligibility Used Program CIP Code  Enrollment Status  \\\n",
       "0                    0400008          26.0101                  L   \n",
       "1                    0400000          50.0904                  L   \n",
       "2                    0400000          50.0904                  F   \n",
       "\n",
       "   Published Program Length Years  Published Program Length Months  \\\n",
       "0                          4000.0                              NaN   \n",
       "1                          4000.0                              NaN   \n",
       "2                          4000.0                              NaN   \n",
       "\n",
       "   Published Program Length Weeks  Special Program Indicator  \\\n",
       "0                             NaN                          N   \n",
       "1                             NaN                          N   \n",
       "2                             NaN                          N   \n",
       "\n",
       "  Program Credential Level Weeks Programs Academic Year Unused  \n",
       "0                      3.0                          NaN    NaN  \n",
       "1                      3.0                          NaN    NaN  \n",
       "2                      3.0                          NaN    NaN  \n",
       "\n",
       "[3 rows x 35 columns]"
      ]
     },
     "execution_count": 103,
     "metadata": {},
     "output_type": "execute_result"
    }
   ],
   "source": [
    "pell_disb_header.head(3)"
   ]
  },
  {
   "cell_type": "code",
   "execution_count": 104,
   "metadata": {},
   "outputs": [],
   "source": [
    "pell_disb_header[\"Accepted Disbursement Amount\"] = pell_disb_header[\"Accepted Disbursement Amount\"].str[0:5]\n",
    "pell_disb_header[\"Accepted Disbursement Amount\"] = pell_disb_header[\"Accepted Disbursement Amount\"].astype(int)"
   ]
  },
  {
   "cell_type": "code",
   "execution_count": 105,
   "metadata": {
    "scrolled": true
   },
   "outputs": [
    {
     "data": {
      "text/html": [
       "<div>\n",
       "<style scoped>\n",
       "    .dataframe tbody tr th:only-of-type {\n",
       "        vertical-align: middle;\n",
       "    }\n",
       "\n",
       "    .dataframe tbody tr th {\n",
       "        vertical-align: top;\n",
       "    }\n",
       "\n",
       "    .dataframe thead th {\n",
       "        text-align: right;\n",
       "    }\n",
       "</style>\n",
       "<table border=\"1\" class=\"dataframe\">\n",
       "  <thead>\n",
       "    <tr style=\"text-align: right;\">\n",
       "      <th></th>\n",
       "      <th>YTD Record Indicator</th>\n",
       "      <th>Unused</th>\n",
       "      <th>Disbursement Cross-Reference</th>\n",
       "      <th>Action Code</th>\n",
       "      <th>Disbursement Number</th>\n",
       "      <th>Accepted Disbursement Amount</th>\n",
       "      <th>Accepted Sign Indicator</th>\n",
       "      <th>Disbursement Date</th>\n",
       "      <th>Unused</th>\n",
       "      <th>Payment Period Start Date</th>\n",
       "      <th>...</th>\n",
       "      <th>Lifetime Eligibility Used</th>\n",
       "      <th>Program CIP Code</th>\n",
       "      <th>Enrollment Status</th>\n",
       "      <th>Published Program Length Years</th>\n",
       "      <th>Published Program Length Months</th>\n",
       "      <th>Published Program Length Weeks</th>\n",
       "      <th>Special Program Indicator</th>\n",
       "      <th>Program Credential Level</th>\n",
       "      <th>Weeks Programs Academic Year</th>\n",
       "      <th>Unused</th>\n",
       "    </tr>\n",
       "  </thead>\n",
       "  <tbody>\n",
       "    <tr>\n",
       "      <th>0</th>\n",
       "      <td>D</td>\n",
       "      <td>NaN</td>\n",
       "      <td>001885925CO00</td>\n",
       "      <td>A</td>\n",
       "      <td>1</td>\n",
       "      <td>1935</td>\n",
       "      <td>P</td>\n",
       "      <td>20170811</td>\n",
       "      <td>NaN</td>\n",
       "      <td>NaN</td>\n",
       "      <td>...</td>\n",
       "      <td>0400008</td>\n",
       "      <td>26.0101</td>\n",
       "      <td>L</td>\n",
       "      <td>4000.0</td>\n",
       "      <td>NaN</td>\n",
       "      <td>NaN</td>\n",
       "      <td>N</td>\n",
       "      <td>3.0</td>\n",
       "      <td>NaN</td>\n",
       "      <td>NaN</td>\n",
       "    </tr>\n",
       "    <tr>\n",
       "      <th>1</th>\n",
       "      <td>D</td>\n",
       "      <td>NaN</td>\n",
       "      <td>001906044TI00</td>\n",
       "      <td>A</td>\n",
       "      <td>1</td>\n",
       "      <td>2960</td>\n",
       "      <td>P</td>\n",
       "      <td>20170811</td>\n",
       "      <td>NaN</td>\n",
       "      <td>NaN</td>\n",
       "      <td>...</td>\n",
       "      <td>0400000</td>\n",
       "      <td>50.0904</td>\n",
       "      <td>L</td>\n",
       "      <td>4000.0</td>\n",
       "      <td>NaN</td>\n",
       "      <td>NaN</td>\n",
       "      <td>N</td>\n",
       "      <td>3.0</td>\n",
       "      <td>NaN</td>\n",
       "      <td>NaN</td>\n",
       "    </tr>\n",
       "    <tr>\n",
       "      <th>2</th>\n",
       "      <td>D</td>\n",
       "      <td>NaN</td>\n",
       "      <td>001906044TI00</td>\n",
       "      <td>A</td>\n",
       "      <td>2</td>\n",
       "      <td>2960</td>\n",
       "      <td>P</td>\n",
       "      <td>20180108</td>\n",
       "      <td>NaN</td>\n",
       "      <td>NaN</td>\n",
       "      <td>...</td>\n",
       "      <td>0400000</td>\n",
       "      <td>50.0904</td>\n",
       "      <td>F</td>\n",
       "      <td>4000.0</td>\n",
       "      <td>NaN</td>\n",
       "      <td>NaN</td>\n",
       "      <td>N</td>\n",
       "      <td>3.0</td>\n",
       "      <td>NaN</td>\n",
       "      <td>NaN</td>\n",
       "    </tr>\n",
       "  </tbody>\n",
       "</table>\n",
       "<p>3 rows × 35 columns</p>\n",
       "</div>"
      ],
      "text/plain": [
       "  YTD Record Indicator Unused Disbursement Cross-Reference Action Code  \\\n",
       "0                    D    NaN                001885925CO00           A   \n",
       "1                    D    NaN                001906044TI00           A   \n",
       "2                    D    NaN                001906044TI00           A   \n",
       "\n",
       "   Disbursement Number  Accepted Disbursement Amount Accepted Sign Indicator  \\\n",
       "0                    1                          1935                       P   \n",
       "1                    1                          2960                       P   \n",
       "2                    2                          2960                       P   \n",
       "\n",
       "  Disbursement Date Unused Payment Period Start Date  ...    \\\n",
       "0          20170811    NaN                       NaN  ...     \n",
       "1          20170811    NaN                       NaN  ...     \n",
       "2          20180108    NaN                       NaN  ...     \n",
       "\n",
       "   Lifetime Eligibility Used Program CIP Code  Enrollment Status  \\\n",
       "0                    0400008          26.0101                  L   \n",
       "1                    0400000          50.0904                  L   \n",
       "2                    0400000          50.0904                  F   \n",
       "\n",
       "   Published Program Length Years  Published Program Length Months  \\\n",
       "0                          4000.0                              NaN   \n",
       "1                          4000.0                              NaN   \n",
       "2                          4000.0                              NaN   \n",
       "\n",
       "   Published Program Length Weeks  Special Program Indicator  \\\n",
       "0                             NaN                          N   \n",
       "1                             NaN                          N   \n",
       "2                             NaN                          N   \n",
       "\n",
       "  Program Credential Level Weeks Programs Academic Year Unused  \n",
       "0                      3.0                          NaN    NaN  \n",
       "1                      3.0                          NaN    NaN  \n",
       "2                      3.0                          NaN    NaN  \n",
       "\n",
       "[3 rows x 35 columns]"
      ]
     },
     "execution_count": 105,
     "metadata": {},
     "output_type": "execute_result"
    }
   ],
   "source": [
    "pell_disb_header.head(3)"
   ]
  },
  {
   "cell_type": "code",
   "execution_count": 106,
   "metadata": {},
   "outputs": [],
   "source": [
    "#pell_disb_header[\"Student's Current NID\"] = pell_disb_header[\"Student's Current NID\"].astype(str)"
   ]
  },
  {
   "cell_type": "code",
   "execution_count": 107,
   "metadata": {},
   "outputs": [
    {
     "data": {
      "text/plain": [
       "0    1885925\n",
       "1    1906044\n",
       "2    1906044\n",
       "Name: Student's Current NID, dtype: int32"
      ]
     },
     "execution_count": 107,
     "metadata": {},
     "output_type": "execute_result"
    }
   ],
   "source": [
    "pell_disb_header[\"Student's Current NID\"].head(3)"
   ]
  },
  {
   "cell_type": "code",
   "execution_count": 108,
   "metadata": {},
   "outputs": [],
   "source": [
    "pell_disb_total = pd.DataFrame({'NID': pell_disb_header[\"Student's Current NID\"], \n",
    "                                'Total Disb Amt': pell_disb_header['Accepted Disbursement Amount']})"
   ]
  },
  {
   "cell_type": "code",
   "execution_count": 109,
   "metadata": {},
   "outputs": [
    {
     "data": {
      "text/plain": [
       "NID               int32\n",
       "Total Disb Amt    int32\n",
       "dtype: object"
      ]
     },
     "execution_count": 109,
     "metadata": {},
     "output_type": "execute_result"
    }
   ],
   "source": [
    "pell_disb_total.dtypes"
   ]
  },
  {
   "cell_type": "code",
   "execution_count": 110,
   "metadata": {},
   "outputs": [
    {
     "data": {
      "text/html": [
       "<div>\n",
       "<style scoped>\n",
       "    .dataframe tbody tr th:only-of-type {\n",
       "        vertical-align: middle;\n",
       "    }\n",
       "\n",
       "    .dataframe tbody tr th {\n",
       "        vertical-align: top;\n",
       "    }\n",
       "\n",
       "    .dataframe thead th {\n",
       "        text-align: right;\n",
       "    }\n",
       "</style>\n",
       "<table border=\"1\" class=\"dataframe\">\n",
       "  <thead>\n",
       "    <tr style=\"text-align: right;\">\n",
       "      <th></th>\n",
       "      <th>NID</th>\n",
       "      <th>Total Disb Amt</th>\n",
       "    </tr>\n",
       "  </thead>\n",
       "  <tbody>\n",
       "    <tr>\n",
       "      <th>0</th>\n",
       "      <td>1885925</td>\n",
       "      <td>1935</td>\n",
       "    </tr>\n",
       "    <tr>\n",
       "      <th>1</th>\n",
       "      <td>1906044</td>\n",
       "      <td>2960</td>\n",
       "    </tr>\n",
       "    <tr>\n",
       "      <th>2</th>\n",
       "      <td>1906044</td>\n",
       "      <td>2960</td>\n",
       "    </tr>\n",
       "    <tr>\n",
       "      <th>3</th>\n",
       "      <td>1926085</td>\n",
       "      <td>2960</td>\n",
       "    </tr>\n",
       "    <tr>\n",
       "      <th>4</th>\n",
       "      <td>1926085</td>\n",
       "      <td>2960</td>\n",
       "    </tr>\n",
       "    <tr>\n",
       "      <th>5</th>\n",
       "      <td>2905066</td>\n",
       "      <td>1835</td>\n",
       "    </tr>\n",
       "    <tr>\n",
       "      <th>6</th>\n",
       "      <td>2905066</td>\n",
       "      <td>1835</td>\n",
       "    </tr>\n",
       "    <tr>\n",
       "      <th>7</th>\n",
       "      <td>3926080</td>\n",
       "      <td>635</td>\n",
       "    </tr>\n",
       "    <tr>\n",
       "      <th>8</th>\n",
       "      <td>3926080</td>\n",
       "      <td>635</td>\n",
       "    </tr>\n",
       "    <tr>\n",
       "      <th>9</th>\n",
       "      <td>4988476</td>\n",
       "      <td>1035</td>\n",
       "    </tr>\n",
       "  </tbody>\n",
       "</table>\n",
       "</div>"
      ],
      "text/plain": [
       "       NID  Total Disb Amt\n",
       "0  1885925            1935\n",
       "1  1906044            2960\n",
       "2  1906044            2960\n",
       "3  1926085            2960\n",
       "4  1926085            2960\n",
       "5  2905066            1835\n",
       "6  2905066            1835\n",
       "7  3926080             635\n",
       "8  3926080             635\n",
       "9  4988476            1035"
      ]
     },
     "execution_count": 110,
     "metadata": {},
     "output_type": "execute_result"
    }
   ],
   "source": [
    "pell_disb_total.head(10)"
   ]
  },
  {
   "cell_type": "code",
   "execution_count": 111,
   "metadata": {},
   "outputs": [
    {
     "data": {
      "text/plain": [
       "3848"
      ]
     },
     "execution_count": 111,
     "metadata": {},
     "output_type": "execute_result"
    }
   ],
   "source": [
    "len(pell_disb_total)"
   ]
  },
  {
   "cell_type": "code",
   "execution_count": 112,
   "metadata": {},
   "outputs": [],
   "source": [
    "pell_booked = pell_disb_total.groupby([\"NID\"], as_index=False).aggregate(np.sum)"
   ]
  },
  {
   "cell_type": "code",
   "execution_count": 113,
   "metadata": {},
   "outputs": [
    {
     "data": {
      "text/plain": [
       "1749"
      ]
     },
     "execution_count": 113,
     "metadata": {},
     "output_type": "execute_result"
    }
   ],
   "source": [
    "len(pell_booked)"
   ]
  },
  {
   "cell_type": "code",
   "execution_count": 114,
   "metadata": {},
   "outputs": [
    {
     "data": {
      "text/html": [
       "<div>\n",
       "<style scoped>\n",
       "    .dataframe tbody tr th:only-of-type {\n",
       "        vertical-align: middle;\n",
       "    }\n",
       "\n",
       "    .dataframe tbody tr th {\n",
       "        vertical-align: top;\n",
       "    }\n",
       "\n",
       "    .dataframe thead th {\n",
       "        text-align: right;\n",
       "    }\n",
       "</style>\n",
       "<table border=\"1\" class=\"dataframe\">\n",
       "  <thead>\n",
       "    <tr style=\"text-align: right;\">\n",
       "      <th></th>\n",
       "      <th>NID</th>\n",
       "      <th>Total Disb Amt</th>\n",
       "    </tr>\n",
       "  </thead>\n",
       "  <tbody>\n",
       "    <tr>\n",
       "      <th>0</th>\n",
       "      <td>1885925</td>\n",
       "      <td>1935</td>\n",
       "    </tr>\n",
       "    <tr>\n",
       "      <th>1</th>\n",
       "      <td>1906044</td>\n",
       "      <td>5920</td>\n",
       "    </tr>\n",
       "    <tr>\n",
       "      <th>2</th>\n",
       "      <td>1926085</td>\n",
       "      <td>5920</td>\n",
       "    </tr>\n",
       "  </tbody>\n",
       "</table>\n",
       "</div>"
      ],
      "text/plain": [
       "       NID  Total Disb Amt\n",
       "0  1885925            1935\n",
       "1  1906044            5920\n",
       "2  1926085            5920"
      ]
     },
     "execution_count": 114,
     "metadata": {},
     "output_type": "execute_result"
    }
   ],
   "source": [
    "pell_booked.head(3)"
   ]
  },
  {
   "cell_type": "code",
   "execution_count": 115,
   "metadata": {},
   "outputs": [],
   "source": [
    "# Write COD Pell file to Excel\n",
    "COD_to_excel = pd.ExcelWriter(path + \"/pell_booked_COD.xlsx\")\n",
    "pell_booked.to_excel(COD_to_excel,'Sum by NID', index=False)\n",
    "pell_disb_header.to_excel(COD_to_excel,'Orig Pell Flatfile', index=False)\n",
    "\n",
    "COD_to_excel.save()"
   ]
  },
  {
   "cell_type": "code",
   "execution_count": 116,
   "metadata": {},
   "outputs": [],
   "source": [
    "# MODIFY THIS LINE UNTIL AUTOMATED\n",
    "# Open CaneLink Pell Disbursement file regardless of the suffix added to filename by CaneLink Query Manager\n",
    "canelink_pell_disb = pd.read_excel(path + \"/AG_ALL_DISB_BY_YEAR_PELL_8_13.xlsx\", skiprows=1, index_col=False)"
   ]
  },
  {
   "cell_type": "code",
   "execution_count": 117,
   "metadata": {},
   "outputs": [
    {
     "data": {
      "text/plain": [
       "2328"
      ]
     },
     "execution_count": 117,
     "metadata": {},
     "output_type": "execute_result"
    }
   ],
   "source": [
    "len(canelink_pell_disb)"
   ]
  },
  {
   "cell_type": "code",
   "execution_count": 118,
   "metadata": {},
   "outputs": [
    {
     "data": {
      "text/html": [
       "<div>\n",
       "<style scoped>\n",
       "    .dataframe tbody tr th:only-of-type {\n",
       "        vertical-align: middle;\n",
       "    }\n",
       "\n",
       "    .dataframe tbody tr th {\n",
       "        vertical-align: top;\n",
       "    }\n",
       "\n",
       "    .dataframe thead th {\n",
       "        text-align: right;\n",
       "    }\n",
       "</style>\n",
       "<table border=\"1\" class=\"dataframe\">\n",
       "  <thead>\n",
       "    <tr style=\"text-align: right;\">\n",
       "      <th></th>\n",
       "      <th>ID</th>\n",
       "      <th>Aid Yr</th>\n",
       "      <th>NID</th>\n",
       "      <th>SUM(A.DISBURSED_BALANCE)</th>\n",
       "    </tr>\n",
       "  </thead>\n",
       "  <tbody>\n",
       "    <tr>\n",
       "      <th>0</th>\n",
       "      <td>50085120</td>\n",
       "      <td>2018</td>\n",
       "      <td>767077535</td>\n",
       "      <td>1118.0</td>\n",
       "    </tr>\n",
       "    <tr>\n",
       "      <th>1</th>\n",
       "      <td>50047352</td>\n",
       "      <td>2018</td>\n",
       "      <td>592906876</td>\n",
       "      <td>4193.0</td>\n",
       "    </tr>\n",
       "    <tr>\n",
       "      <th>2</th>\n",
       "      <td>50089825</td>\n",
       "      <td>2018</td>\n",
       "      <td>594041263</td>\n",
       "      <td>3947.0</td>\n",
       "    </tr>\n",
       "  </tbody>\n",
       "</table>\n",
       "</div>"
      ],
      "text/plain": [
       "         ID  Aid Yr        NID  SUM(A.DISBURSED_BALANCE)\n",
       "0  50085120    2018  767077535                    1118.0\n",
       "1  50047352    2018  592906876                    4193.0\n",
       "2  50089825    2018  594041263                    3947.0"
      ]
     },
     "execution_count": 118,
     "metadata": {},
     "output_type": "execute_result"
    }
   ],
   "source": [
    "canelink_pell_disb.head(3)"
   ]
  },
  {
   "cell_type": "code",
   "execution_count": 119,
   "metadata": {},
   "outputs": [
    {
     "data": {
      "text/plain": [
       "ID                            int64\n",
       "Aid Yr                        int64\n",
       "NID                           int64\n",
       "SUM(A.DISBURSED_BALANCE)    float64\n",
       "dtype: object"
      ]
     },
     "execution_count": 119,
     "metadata": {},
     "output_type": "execute_result"
    }
   ],
   "source": [
    "canelink_pell_disb.dtypes"
   ]
  },
  {
   "cell_type": "code",
   "execution_count": 120,
   "metadata": {},
   "outputs": [],
   "source": [
    "# Bring DOE Accepted Disbursement Amount into CL file and join by NID\n",
    "pell_compare = canelink_pell_disb.merge(pell_booked[['NID','Total Disb Amt']],on=\"NID\",how='left')"
   ]
  },
  {
   "cell_type": "code",
   "execution_count": 121,
   "metadata": {},
   "outputs": [],
   "source": [
    "#Replace NaN values with 0 for Accepted Disbursement Amount\n",
    "pell_compare = pell_compare.fillna(value={'Total Disb Amt':0})"
   ]
  },
  {
   "cell_type": "code",
   "execution_count": 122,
   "metadata": {},
   "outputs": [
    {
     "data": {
      "text/html": [
       "<div>\n",
       "<style scoped>\n",
       "    .dataframe tbody tr th:only-of-type {\n",
       "        vertical-align: middle;\n",
       "    }\n",
       "\n",
       "    .dataframe tbody tr th {\n",
       "        vertical-align: top;\n",
       "    }\n",
       "\n",
       "    .dataframe thead th {\n",
       "        text-align: right;\n",
       "    }\n",
       "</style>\n",
       "<table border=\"1\" class=\"dataframe\">\n",
       "  <thead>\n",
       "    <tr style=\"text-align: right;\">\n",
       "      <th></th>\n",
       "      <th>ID</th>\n",
       "      <th>Aid Yr</th>\n",
       "      <th>NID</th>\n",
       "      <th>SUM(A.DISBURSED_BALANCE)</th>\n",
       "      <th>Total Disb Amt</th>\n",
       "    </tr>\n",
       "  </thead>\n",
       "  <tbody>\n",
       "    <tr>\n",
       "      <th>0</th>\n",
       "      <td>50085120</td>\n",
       "      <td>2018</td>\n",
       "      <td>767077535</td>\n",
       "      <td>1118.0</td>\n",
       "      <td>1118.0</td>\n",
       "    </tr>\n",
       "    <tr>\n",
       "      <th>1</th>\n",
       "      <td>50047352</td>\n",
       "      <td>2018</td>\n",
       "      <td>592906876</td>\n",
       "      <td>4193.0</td>\n",
       "      <td>9867.0</td>\n",
       "    </tr>\n",
       "    <tr>\n",
       "      <th>2</th>\n",
       "      <td>50089825</td>\n",
       "      <td>2018</td>\n",
       "      <td>594041263</td>\n",
       "      <td>3947.0</td>\n",
       "      <td>4677.0</td>\n",
       "    </tr>\n",
       "    <tr>\n",
       "      <th>3</th>\n",
       "      <td>50111300</td>\n",
       "      <td>2018</td>\n",
       "      <td>103740765</td>\n",
       "      <td>0.0</td>\n",
       "      <td>0.0</td>\n",
       "    </tr>\n",
       "    <tr>\n",
       "      <th>4</th>\n",
       "      <td>50241716</td>\n",
       "      <td>2018</td>\n",
       "      <td>594179682</td>\n",
       "      <td>485.0</td>\n",
       "      <td>485.0</td>\n",
       "    </tr>\n",
       "    <tr>\n",
       "      <th>5</th>\n",
       "      <td>50241884</td>\n",
       "      <td>2018</td>\n",
       "      <td>92788269</td>\n",
       "      <td>0.0</td>\n",
       "      <td>0.0</td>\n",
       "    </tr>\n",
       "    <tr>\n",
       "      <th>6</th>\n",
       "      <td>50397028</td>\n",
       "      <td>2018</td>\n",
       "      <td>84848142</td>\n",
       "      <td>1070.0</td>\n",
       "      <td>1070.0</td>\n",
       "    </tr>\n",
       "    <tr>\n",
       "      <th>7</th>\n",
       "      <td>50397616</td>\n",
       "      <td>2018</td>\n",
       "      <td>593496872</td>\n",
       "      <td>4470.0</td>\n",
       "      <td>4470.0</td>\n",
       "    </tr>\n",
       "    <tr>\n",
       "      <th>8</th>\n",
       "      <td>50397677</td>\n",
       "      <td>2018</td>\n",
       "      <td>590478364</td>\n",
       "      <td>5920.0</td>\n",
       "      <td>5920.0</td>\n",
       "    </tr>\n",
       "    <tr>\n",
       "      <th>9</th>\n",
       "      <td>50395844</td>\n",
       "      <td>2018</td>\n",
       "      <td>260912858</td>\n",
       "      <td>5920.0</td>\n",
       "      <td>5920.0</td>\n",
       "    </tr>\n",
       "  </tbody>\n",
       "</table>\n",
       "</div>"
      ],
      "text/plain": [
       "         ID  Aid Yr        NID  SUM(A.DISBURSED_BALANCE)  Total Disb Amt\n",
       "0  50085120    2018  767077535                    1118.0          1118.0\n",
       "1  50047352    2018  592906876                    4193.0          9867.0\n",
       "2  50089825    2018  594041263                    3947.0          4677.0\n",
       "3  50111300    2018  103740765                       0.0             0.0\n",
       "4  50241716    2018  594179682                     485.0           485.0\n",
       "5  50241884    2018   92788269                       0.0             0.0\n",
       "6  50397028    2018   84848142                    1070.0          1070.0\n",
       "7  50397616    2018  593496872                    4470.0          4470.0\n",
       "8  50397677    2018  590478364                    5920.0          5920.0\n",
       "9  50395844    2018  260912858                    5920.0          5920.0"
      ]
     },
     "execution_count": 122,
     "metadata": {},
     "output_type": "execute_result"
    }
   ],
   "source": [
    "pell_compare.head(10)"
   ]
  },
  {
   "cell_type": "code",
   "execution_count": 123,
   "metadata": {},
   "outputs": [
    {
     "data": {
      "text/plain": [
       "2328"
      ]
     },
     "execution_count": 123,
     "metadata": {},
     "output_type": "execute_result"
    }
   ],
   "source": [
    "len(pell_compare)"
   ]
  },
  {
   "cell_type": "code",
   "execution_count": 124,
   "metadata": {},
   "outputs": [],
   "source": [
    "# Add discrepancy column (difference between CL disbursed balance and DL Total net amt)\n",
    "pell_compare['DISCREPANCY'] = pell_compare['SUM(A.DISBURSED_BALANCE)'] - pell_compare['Total Disb Amt']"
   ]
  },
  {
   "cell_type": "code",
   "execution_count": 125,
   "metadata": {},
   "outputs": [
    {
     "data": {
      "text/html": [
       "<div>\n",
       "<style scoped>\n",
       "    .dataframe tbody tr th:only-of-type {\n",
       "        vertical-align: middle;\n",
       "    }\n",
       "\n",
       "    .dataframe tbody tr th {\n",
       "        vertical-align: top;\n",
       "    }\n",
       "\n",
       "    .dataframe thead th {\n",
       "        text-align: right;\n",
       "    }\n",
       "</style>\n",
       "<table border=\"1\" class=\"dataframe\">\n",
       "  <thead>\n",
       "    <tr style=\"text-align: right;\">\n",
       "      <th></th>\n",
       "      <th>ID</th>\n",
       "      <th>Aid Yr</th>\n",
       "      <th>NID</th>\n",
       "      <th>SUM(A.DISBURSED_BALANCE)</th>\n",
       "      <th>Total Disb Amt</th>\n",
       "      <th>DISCREPANCY</th>\n",
       "    </tr>\n",
       "  </thead>\n",
       "  <tbody>\n",
       "    <tr>\n",
       "      <th>0</th>\n",
       "      <td>50085120</td>\n",
       "      <td>2018</td>\n",
       "      <td>767077535</td>\n",
       "      <td>1118.0</td>\n",
       "      <td>1118.0</td>\n",
       "      <td>0.0</td>\n",
       "    </tr>\n",
       "    <tr>\n",
       "      <th>1</th>\n",
       "      <td>50047352</td>\n",
       "      <td>2018</td>\n",
       "      <td>592906876</td>\n",
       "      <td>4193.0</td>\n",
       "      <td>9867.0</td>\n",
       "      <td>-5674.0</td>\n",
       "    </tr>\n",
       "    <tr>\n",
       "      <th>2</th>\n",
       "      <td>50089825</td>\n",
       "      <td>2018</td>\n",
       "      <td>594041263</td>\n",
       "      <td>3947.0</td>\n",
       "      <td>4677.0</td>\n",
       "      <td>-730.0</td>\n",
       "    </tr>\n",
       "  </tbody>\n",
       "</table>\n",
       "</div>"
      ],
      "text/plain": [
       "         ID  Aid Yr        NID  SUM(A.DISBURSED_BALANCE)  Total Disb Amt  \\\n",
       "0  50085120    2018  767077535                    1118.0          1118.0   \n",
       "1  50047352    2018  592906876                    4193.0          9867.0   \n",
       "2  50089825    2018  594041263                    3947.0          4677.0   \n",
       "\n",
       "   DISCREPANCY  \n",
       "0          0.0  \n",
       "1      -5674.0  \n",
       "2       -730.0  "
      ]
     },
     "execution_count": 125,
     "metadata": {},
     "output_type": "execute_result"
    }
   ],
   "source": [
    "pell_compare.head(3)"
   ]
  },
  {
   "cell_type": "code",
   "execution_count": 126,
   "metadata": {},
   "outputs": [
    {
     "data": {
      "text/plain": [
       "2328"
      ]
     },
     "execution_count": 126,
     "metadata": {},
     "output_type": "execute_result"
    }
   ],
   "source": [
    "len(pell_compare)"
   ]
  },
  {
   "cell_type": "code",
   "execution_count": 127,
   "metadata": {},
   "outputs": [],
   "source": [
    "# Coding for Match Status column\n",
    "pell_compare.loc[pell_compare['DISCREPANCY'] == 0, 'Match Status'] = 'Booked, Matched'\n",
    "pell_compare.loc[(pell_compare['DISCREPANCY'] > 0) & (pell_compare['Total Disb Amt'] == 0), 'Match Status'] = 'Unbooked'\n",
    "pell_compare.loc[(pell_compare['DISCREPANCY'] > 0) & (pell_compare['Total Disb Amt'] != 0) & (pell_compare['SUM(A.DISBURSED_BALANCE)'] != 0), 'Match Status'] = 'Booked, Mismatched'\n",
    "pell_compare.loc[pell_compare['DISCREPANCY'] < 0, 'Match Status'] = 'Booked, Other'"
   ]
  },
  {
   "cell_type": "code",
   "execution_count": 128,
   "metadata": {},
   "outputs": [
    {
     "data": {
      "text/html": [
       "<div>\n",
       "<style scoped>\n",
       "    .dataframe tbody tr th:only-of-type {\n",
       "        vertical-align: middle;\n",
       "    }\n",
       "\n",
       "    .dataframe tbody tr th {\n",
       "        vertical-align: top;\n",
       "    }\n",
       "\n",
       "    .dataframe thead th {\n",
       "        text-align: right;\n",
       "    }\n",
       "</style>\n",
       "<table border=\"1\" class=\"dataframe\">\n",
       "  <thead>\n",
       "    <tr style=\"text-align: right;\">\n",
       "      <th></th>\n",
       "      <th>ID</th>\n",
       "      <th>Aid Yr</th>\n",
       "      <th>NID</th>\n",
       "      <th>SUM(A.DISBURSED_BALANCE)</th>\n",
       "      <th>Total Disb Amt</th>\n",
       "      <th>DISCREPANCY</th>\n",
       "      <th>Match Status</th>\n",
       "    </tr>\n",
       "  </thead>\n",
       "  <tbody>\n",
       "    <tr>\n",
       "      <th>0</th>\n",
       "      <td>50085120</td>\n",
       "      <td>2018</td>\n",
       "      <td>767077535</td>\n",
       "      <td>1118.0</td>\n",
       "      <td>1118.0</td>\n",
       "      <td>0.0</td>\n",
       "      <td>Booked, Matched</td>\n",
       "    </tr>\n",
       "    <tr>\n",
       "      <th>1</th>\n",
       "      <td>50047352</td>\n",
       "      <td>2018</td>\n",
       "      <td>592906876</td>\n",
       "      <td>4193.0</td>\n",
       "      <td>9867.0</td>\n",
       "      <td>-5674.0</td>\n",
       "      <td>Booked, Other</td>\n",
       "    </tr>\n",
       "    <tr>\n",
       "      <th>2</th>\n",
       "      <td>50089825</td>\n",
       "      <td>2018</td>\n",
       "      <td>594041263</td>\n",
       "      <td>3947.0</td>\n",
       "      <td>4677.0</td>\n",
       "      <td>-730.0</td>\n",
       "      <td>Booked, Other</td>\n",
       "    </tr>\n",
       "    <tr>\n",
       "      <th>3</th>\n",
       "      <td>50111300</td>\n",
       "      <td>2018</td>\n",
       "      <td>103740765</td>\n",
       "      <td>0.0</td>\n",
       "      <td>0.0</td>\n",
       "      <td>0.0</td>\n",
       "      <td>Booked, Matched</td>\n",
       "    </tr>\n",
       "    <tr>\n",
       "      <th>4</th>\n",
       "      <td>50241716</td>\n",
       "      <td>2018</td>\n",
       "      <td>594179682</td>\n",
       "      <td>485.0</td>\n",
       "      <td>485.0</td>\n",
       "      <td>0.0</td>\n",
       "      <td>Booked, Matched</td>\n",
       "    </tr>\n",
       "    <tr>\n",
       "      <th>5</th>\n",
       "      <td>50241884</td>\n",
       "      <td>2018</td>\n",
       "      <td>92788269</td>\n",
       "      <td>0.0</td>\n",
       "      <td>0.0</td>\n",
       "      <td>0.0</td>\n",
       "      <td>Booked, Matched</td>\n",
       "    </tr>\n",
       "    <tr>\n",
       "      <th>6</th>\n",
       "      <td>50397028</td>\n",
       "      <td>2018</td>\n",
       "      <td>84848142</td>\n",
       "      <td>1070.0</td>\n",
       "      <td>1070.0</td>\n",
       "      <td>0.0</td>\n",
       "      <td>Booked, Matched</td>\n",
       "    </tr>\n",
       "    <tr>\n",
       "      <th>7</th>\n",
       "      <td>50397616</td>\n",
       "      <td>2018</td>\n",
       "      <td>593496872</td>\n",
       "      <td>4470.0</td>\n",
       "      <td>4470.0</td>\n",
       "      <td>0.0</td>\n",
       "      <td>Booked, Matched</td>\n",
       "    </tr>\n",
       "    <tr>\n",
       "      <th>8</th>\n",
       "      <td>50397677</td>\n",
       "      <td>2018</td>\n",
       "      <td>590478364</td>\n",
       "      <td>5920.0</td>\n",
       "      <td>5920.0</td>\n",
       "      <td>0.0</td>\n",
       "      <td>Booked, Matched</td>\n",
       "    </tr>\n",
       "    <tr>\n",
       "      <th>9</th>\n",
       "      <td>50395844</td>\n",
       "      <td>2018</td>\n",
       "      <td>260912858</td>\n",
       "      <td>5920.0</td>\n",
       "      <td>5920.0</td>\n",
       "      <td>0.0</td>\n",
       "      <td>Booked, Matched</td>\n",
       "    </tr>\n",
       "    <tr>\n",
       "      <th>10</th>\n",
       "      <td>50368220</td>\n",
       "      <td>2018</td>\n",
       "      <td>767882799</td>\n",
       "      <td>0.0</td>\n",
       "      <td>0.0</td>\n",
       "      <td>0.0</td>\n",
       "      <td>Booked, Matched</td>\n",
       "    </tr>\n",
       "    <tr>\n",
       "      <th>11</th>\n",
       "      <td>50352951</td>\n",
       "      <td>2018</td>\n",
       "      <td>528991009</td>\n",
       "      <td>0.0</td>\n",
       "      <td>0.0</td>\n",
       "      <td>0.0</td>\n",
       "      <td>Booked, Matched</td>\n",
       "    </tr>\n",
       "    <tr>\n",
       "      <th>12</th>\n",
       "      <td>50400152</td>\n",
       "      <td>2018</td>\n",
       "      <td>589471684</td>\n",
       "      <td>3570.0</td>\n",
       "      <td>3570.0</td>\n",
       "      <td>0.0</td>\n",
       "      <td>Booked, Matched</td>\n",
       "    </tr>\n",
       "    <tr>\n",
       "      <th>13</th>\n",
       "      <td>50400357</td>\n",
       "      <td>2018</td>\n",
       "      <td>36649989</td>\n",
       "      <td>2960.0</td>\n",
       "      <td>2960.0</td>\n",
       "      <td>0.0</td>\n",
       "      <td>Booked, Matched</td>\n",
       "    </tr>\n",
       "    <tr>\n",
       "      <th>14</th>\n",
       "      <td>50405643</td>\n",
       "      <td>2018</td>\n",
       "      <td>226758796</td>\n",
       "      <td>2960.0</td>\n",
       "      <td>2960.0</td>\n",
       "      <td>0.0</td>\n",
       "      <td>Booked, Matched</td>\n",
       "    </tr>\n",
       "    <tr>\n",
       "      <th>15</th>\n",
       "      <td>50404335</td>\n",
       "      <td>2018</td>\n",
       "      <td>97845572</td>\n",
       "      <td>2960.0</td>\n",
       "      <td>2960.0</td>\n",
       "      <td>0.0</td>\n",
       "      <td>Booked, Matched</td>\n",
       "    </tr>\n",
       "    <tr>\n",
       "      <th>16</th>\n",
       "      <td>50399095</td>\n",
       "      <td>2018</td>\n",
       "      <td>589539259</td>\n",
       "      <td>7456.0</td>\n",
       "      <td>8617.0</td>\n",
       "      <td>-1161.0</td>\n",
       "      <td>Booked, Other</td>\n",
       "    </tr>\n",
       "    <tr>\n",
       "      <th>17</th>\n",
       "      <td>50416442</td>\n",
       "      <td>2018</td>\n",
       "      <td>186422455</td>\n",
       "      <td>2960.0</td>\n",
       "      <td>8880.0</td>\n",
       "      <td>-5920.0</td>\n",
       "      <td>Booked, Other</td>\n",
       "    </tr>\n",
       "    <tr>\n",
       "      <th>18</th>\n",
       "      <td>50423296</td>\n",
       "      <td>2018</td>\n",
       "      <td>127848825</td>\n",
       "      <td>2470.0</td>\n",
       "      <td>2470.0</td>\n",
       "      <td>0.0</td>\n",
       "      <td>Booked, Matched</td>\n",
       "    </tr>\n",
       "    <tr>\n",
       "      <th>19</th>\n",
       "      <td>50423176</td>\n",
       "      <td>2018</td>\n",
       "      <td>592571270</td>\n",
       "      <td>5270.0</td>\n",
       "      <td>5270.0</td>\n",
       "      <td>0.0</td>\n",
       "      <td>Booked, Matched</td>\n",
       "    </tr>\n",
       "    <tr>\n",
       "      <th>20</th>\n",
       "      <td>50431762</td>\n",
       "      <td>2018</td>\n",
       "      <td>590690975</td>\n",
       "      <td>5470.0</td>\n",
       "      <td>5470.0</td>\n",
       "      <td>0.0</td>\n",
       "      <td>Booked, Matched</td>\n",
       "    </tr>\n",
       "    <tr>\n",
       "      <th>21</th>\n",
       "      <td>50424469</td>\n",
       "      <td>2018</td>\n",
       "      <td>70863908</td>\n",
       "      <td>4970.0</td>\n",
       "      <td>4970.0</td>\n",
       "      <td>0.0</td>\n",
       "      <td>Booked, Matched</td>\n",
       "    </tr>\n",
       "    <tr>\n",
       "      <th>22</th>\n",
       "      <td>50421560</td>\n",
       "      <td>2018</td>\n",
       "      <td>400513474</td>\n",
       "      <td>3670.0</td>\n",
       "      <td>3670.0</td>\n",
       "      <td>0.0</td>\n",
       "      <td>Booked, Matched</td>\n",
       "    </tr>\n",
       "    <tr>\n",
       "      <th>23</th>\n",
       "      <td>50424983</td>\n",
       "      <td>2018</td>\n",
       "      <td>51867616</td>\n",
       "      <td>5070.0</td>\n",
       "      <td>7655.0</td>\n",
       "      <td>-2585.0</td>\n",
       "      <td>Booked, Other</td>\n",
       "    </tr>\n",
       "    <tr>\n",
       "      <th>24</th>\n",
       "      <td>50425673</td>\n",
       "      <td>2018</td>\n",
       "      <td>340924448</td>\n",
       "      <td>3470.0</td>\n",
       "      <td>3470.0</td>\n",
       "      <td>0.0</td>\n",
       "      <td>Booked, Matched</td>\n",
       "    </tr>\n",
       "    <tr>\n",
       "      <th>25</th>\n",
       "      <td>50428189</td>\n",
       "      <td>2018</td>\n",
       "      <td>715554269</td>\n",
       "      <td>5920.0</td>\n",
       "      <td>5920.0</td>\n",
       "      <td>0.0</td>\n",
       "      <td>Booked, Matched</td>\n",
       "    </tr>\n",
       "    <tr>\n",
       "      <th>26</th>\n",
       "      <td>50422858</td>\n",
       "      <td>2018</td>\n",
       "      <td>385198781</td>\n",
       "      <td>0.0</td>\n",
       "      <td>0.0</td>\n",
       "      <td>0.0</td>\n",
       "      <td>Booked, Matched</td>\n",
       "    </tr>\n",
       "    <tr>\n",
       "      <th>27</th>\n",
       "      <td>50424577</td>\n",
       "      <td>2018</td>\n",
       "      <td>341929610</td>\n",
       "      <td>5920.0</td>\n",
       "      <td>5920.0</td>\n",
       "      <td>0.0</td>\n",
       "      <td>Booked, Matched</td>\n",
       "    </tr>\n",
       "    <tr>\n",
       "      <th>28</th>\n",
       "      <td>50442775</td>\n",
       "      <td>2018</td>\n",
       "      <td>594576115</td>\n",
       "      <td>2670.0</td>\n",
       "      <td>2670.0</td>\n",
       "      <td>0.0</td>\n",
       "      <td>Booked, Matched</td>\n",
       "    </tr>\n",
       "    <tr>\n",
       "      <th>29</th>\n",
       "      <td>50457036</td>\n",
       "      <td>2018</td>\n",
       "      <td>768488468</td>\n",
       "      <td>5920.0</td>\n",
       "      <td>5920.0</td>\n",
       "      <td>0.0</td>\n",
       "      <td>Booked, Matched</td>\n",
       "    </tr>\n",
       "    <tr>\n",
       "      <th>30</th>\n",
       "      <td>50437569</td>\n",
       "      <td>2018</td>\n",
       "      <td>589613136</td>\n",
       "      <td>5870.0</td>\n",
       "      <td>5870.0</td>\n",
       "      <td>0.0</td>\n",
       "      <td>Booked, Matched</td>\n",
       "    </tr>\n",
       "    <tr>\n",
       "      <th>31</th>\n",
       "      <td>50438526</td>\n",
       "      <td>2018</td>\n",
       "      <td>137026477</td>\n",
       "      <td>4170.0</td>\n",
       "      <td>4170.0</td>\n",
       "      <td>0.0</td>\n",
       "      <td>Booked, Matched</td>\n",
       "    </tr>\n",
       "    <tr>\n",
       "      <th>32</th>\n",
       "      <td>50438777</td>\n",
       "      <td>2018</td>\n",
       "      <td>769402923</td>\n",
       "      <td>5920.0</td>\n",
       "      <td>5920.0</td>\n",
       "      <td>0.0</td>\n",
       "      <td>Booked, Matched</td>\n",
       "    </tr>\n",
       "    <tr>\n",
       "      <th>33</th>\n",
       "      <td>50439434</td>\n",
       "      <td>2018</td>\n",
       "      <td>589632039</td>\n",
       "      <td>1070.0</td>\n",
       "      <td>1070.0</td>\n",
       "      <td>0.0</td>\n",
       "      <td>Booked, Matched</td>\n",
       "    </tr>\n",
       "    <tr>\n",
       "      <th>34</th>\n",
       "      <td>50449526</td>\n",
       "      <td>2018</td>\n",
       "      <td>848722093</td>\n",
       "      <td>4070.0</td>\n",
       "      <td>6205.0</td>\n",
       "      <td>-2135.0</td>\n",
       "      <td>Booked, Other</td>\n",
       "    </tr>\n",
       "    <tr>\n",
       "      <th>35</th>\n",
       "      <td>50444064</td>\n",
       "      <td>2018</td>\n",
       "      <td>342926245</td>\n",
       "      <td>3970.0</td>\n",
       "      <td>3970.0</td>\n",
       "      <td>0.0</td>\n",
       "      <td>Booked, Matched</td>\n",
       "    </tr>\n",
       "    <tr>\n",
       "      <th>36</th>\n",
       "      <td>50440040</td>\n",
       "      <td>2018</td>\n",
       "      <td>618887790</td>\n",
       "      <td>4570.0</td>\n",
       "      <td>4570.0</td>\n",
       "      <td>0.0</td>\n",
       "      <td>Booked, Matched</td>\n",
       "    </tr>\n",
       "    <tr>\n",
       "      <th>37</th>\n",
       "      <td>50440422</td>\n",
       "      <td>2018</td>\n",
       "      <td>592619254</td>\n",
       "      <td>3170.0</td>\n",
       "      <td>3170.0</td>\n",
       "      <td>0.0</td>\n",
       "      <td>Booked, Matched</td>\n",
       "    </tr>\n",
       "    <tr>\n",
       "      <th>38</th>\n",
       "      <td>50440426</td>\n",
       "      <td>2018</td>\n",
       "      <td>591611098</td>\n",
       "      <td>5770.0</td>\n",
       "      <td>5770.0</td>\n",
       "      <td>0.0</td>\n",
       "      <td>Booked, Matched</td>\n",
       "    </tr>\n",
       "    <tr>\n",
       "      <th>39</th>\n",
       "      <td>50449044</td>\n",
       "      <td>2018</td>\n",
       "      <td>592597422</td>\n",
       "      <td>2135.0</td>\n",
       "      <td>2135.0</td>\n",
       "      <td>0.0</td>\n",
       "      <td>Booked, Matched</td>\n",
       "    </tr>\n",
       "    <tr>\n",
       "      <th>40</th>\n",
       "      <td>50436696</td>\n",
       "      <td>2018</td>\n",
       "      <td>61862065</td>\n",
       "      <td>5920.0</td>\n",
       "      <td>5920.0</td>\n",
       "      <td>0.0</td>\n",
       "      <td>Booked, Matched</td>\n",
       "    </tr>\n",
       "    <tr>\n",
       "      <th>41</th>\n",
       "      <td>50436855</td>\n",
       "      <td>2018</td>\n",
       "      <td>591636061</td>\n",
       "      <td>5920.0</td>\n",
       "      <td>5920.0</td>\n",
       "      <td>0.0</td>\n",
       "      <td>Booked, Matched</td>\n",
       "    </tr>\n",
       "    <tr>\n",
       "      <th>42</th>\n",
       "      <td>50444768</td>\n",
       "      <td>2018</td>\n",
       "      <td>768308984</td>\n",
       "      <td>5770.0</td>\n",
       "      <td>5770.0</td>\n",
       "      <td>0.0</td>\n",
       "      <td>Booked, Matched</td>\n",
       "    </tr>\n",
       "    <tr>\n",
       "      <th>43</th>\n",
       "      <td>50455992</td>\n",
       "      <td>2018</td>\n",
       "      <td>629522710</td>\n",
       "      <td>5770.0</td>\n",
       "      <td>5770.0</td>\n",
       "      <td>0.0</td>\n",
       "      <td>Booked, Matched</td>\n",
       "    </tr>\n",
       "    <tr>\n",
       "      <th>44</th>\n",
       "      <td>50457933</td>\n",
       "      <td>2018</td>\n",
       "      <td>769245255</td>\n",
       "      <td>5870.0</td>\n",
       "      <td>5870.0</td>\n",
       "      <td>0.0</td>\n",
       "      <td>Booked, Matched</td>\n",
       "    </tr>\n",
       "    <tr>\n",
       "      <th>45</th>\n",
       "      <td>50453851</td>\n",
       "      <td>2018</td>\n",
       "      <td>589617576</td>\n",
       "      <td>3670.0</td>\n",
       "      <td>3670.0</td>\n",
       "      <td>0.0</td>\n",
       "      <td>Booked, Matched</td>\n",
       "    </tr>\n",
       "    <tr>\n",
       "      <th>46</th>\n",
       "      <td>50451822</td>\n",
       "      <td>2018</td>\n",
       "      <td>192760332</td>\n",
       "      <td>5920.0</td>\n",
       "      <td>5920.0</td>\n",
       "      <td>0.0</td>\n",
       "      <td>Booked, Matched</td>\n",
       "    </tr>\n",
       "    <tr>\n",
       "      <th>47</th>\n",
       "      <td>50463904</td>\n",
       "      <td>2018</td>\n",
       "      <td>22901879</td>\n",
       "      <td>4270.0</td>\n",
       "      <td>4270.0</td>\n",
       "      <td>0.0</td>\n",
       "      <td>Booked, Matched</td>\n",
       "    </tr>\n",
       "    <tr>\n",
       "      <th>48</th>\n",
       "      <td>50478205</td>\n",
       "      <td>2018</td>\n",
       "      <td>770104847</td>\n",
       "      <td>5920.0</td>\n",
       "      <td>5920.0</td>\n",
       "      <td>0.0</td>\n",
       "      <td>Booked, Matched</td>\n",
       "    </tr>\n",
       "  </tbody>\n",
       "</table>\n",
       "</div>"
      ],
      "text/plain": [
       "          ID  Aid Yr        NID  SUM(A.DISBURSED_BALANCE)  Total Disb Amt  \\\n",
       "0   50085120    2018  767077535                    1118.0          1118.0   \n",
       "1   50047352    2018  592906876                    4193.0          9867.0   \n",
       "2   50089825    2018  594041263                    3947.0          4677.0   \n",
       "3   50111300    2018  103740765                       0.0             0.0   \n",
       "4   50241716    2018  594179682                     485.0           485.0   \n",
       "5   50241884    2018   92788269                       0.0             0.0   \n",
       "6   50397028    2018   84848142                    1070.0          1070.0   \n",
       "7   50397616    2018  593496872                    4470.0          4470.0   \n",
       "8   50397677    2018  590478364                    5920.0          5920.0   \n",
       "9   50395844    2018  260912858                    5920.0          5920.0   \n",
       "10  50368220    2018  767882799                       0.0             0.0   \n",
       "11  50352951    2018  528991009                       0.0             0.0   \n",
       "12  50400152    2018  589471684                    3570.0          3570.0   \n",
       "13  50400357    2018   36649989                    2960.0          2960.0   \n",
       "14  50405643    2018  226758796                    2960.0          2960.0   \n",
       "15  50404335    2018   97845572                    2960.0          2960.0   \n",
       "16  50399095    2018  589539259                    7456.0          8617.0   \n",
       "17  50416442    2018  186422455                    2960.0          8880.0   \n",
       "18  50423296    2018  127848825                    2470.0          2470.0   \n",
       "19  50423176    2018  592571270                    5270.0          5270.0   \n",
       "20  50431762    2018  590690975                    5470.0          5470.0   \n",
       "21  50424469    2018   70863908                    4970.0          4970.0   \n",
       "22  50421560    2018  400513474                    3670.0          3670.0   \n",
       "23  50424983    2018   51867616                    5070.0          7655.0   \n",
       "24  50425673    2018  340924448                    3470.0          3470.0   \n",
       "25  50428189    2018  715554269                    5920.0          5920.0   \n",
       "26  50422858    2018  385198781                       0.0             0.0   \n",
       "27  50424577    2018  341929610                    5920.0          5920.0   \n",
       "28  50442775    2018  594576115                    2670.0          2670.0   \n",
       "29  50457036    2018  768488468                    5920.0          5920.0   \n",
       "30  50437569    2018  589613136                    5870.0          5870.0   \n",
       "31  50438526    2018  137026477                    4170.0          4170.0   \n",
       "32  50438777    2018  769402923                    5920.0          5920.0   \n",
       "33  50439434    2018  589632039                    1070.0          1070.0   \n",
       "34  50449526    2018  848722093                    4070.0          6205.0   \n",
       "35  50444064    2018  342926245                    3970.0          3970.0   \n",
       "36  50440040    2018  618887790                    4570.0          4570.0   \n",
       "37  50440422    2018  592619254                    3170.0          3170.0   \n",
       "38  50440426    2018  591611098                    5770.0          5770.0   \n",
       "39  50449044    2018  592597422                    2135.0          2135.0   \n",
       "40  50436696    2018   61862065                    5920.0          5920.0   \n",
       "41  50436855    2018  591636061                    5920.0          5920.0   \n",
       "42  50444768    2018  768308984                    5770.0          5770.0   \n",
       "43  50455992    2018  629522710                    5770.0          5770.0   \n",
       "44  50457933    2018  769245255                    5870.0          5870.0   \n",
       "45  50453851    2018  589617576                    3670.0          3670.0   \n",
       "46  50451822    2018  192760332                    5920.0          5920.0   \n",
       "47  50463904    2018   22901879                    4270.0          4270.0   \n",
       "48  50478205    2018  770104847                    5920.0          5920.0   \n",
       "\n",
       "    DISCREPANCY     Match Status  \n",
       "0           0.0  Booked, Matched  \n",
       "1       -5674.0    Booked, Other  \n",
       "2        -730.0    Booked, Other  \n",
       "3           0.0  Booked, Matched  \n",
       "4           0.0  Booked, Matched  \n",
       "5           0.0  Booked, Matched  \n",
       "6           0.0  Booked, Matched  \n",
       "7           0.0  Booked, Matched  \n",
       "8           0.0  Booked, Matched  \n",
       "9           0.0  Booked, Matched  \n",
       "10          0.0  Booked, Matched  \n",
       "11          0.0  Booked, Matched  \n",
       "12          0.0  Booked, Matched  \n",
       "13          0.0  Booked, Matched  \n",
       "14          0.0  Booked, Matched  \n",
       "15          0.0  Booked, Matched  \n",
       "16      -1161.0    Booked, Other  \n",
       "17      -5920.0    Booked, Other  \n",
       "18          0.0  Booked, Matched  \n",
       "19          0.0  Booked, Matched  \n",
       "20          0.0  Booked, Matched  \n",
       "21          0.0  Booked, Matched  \n",
       "22          0.0  Booked, Matched  \n",
       "23      -2585.0    Booked, Other  \n",
       "24          0.0  Booked, Matched  \n",
       "25          0.0  Booked, Matched  \n",
       "26          0.0  Booked, Matched  \n",
       "27          0.0  Booked, Matched  \n",
       "28          0.0  Booked, Matched  \n",
       "29          0.0  Booked, Matched  \n",
       "30          0.0  Booked, Matched  \n",
       "31          0.0  Booked, Matched  \n",
       "32          0.0  Booked, Matched  \n",
       "33          0.0  Booked, Matched  \n",
       "34      -2135.0    Booked, Other  \n",
       "35          0.0  Booked, Matched  \n",
       "36          0.0  Booked, Matched  \n",
       "37          0.0  Booked, Matched  \n",
       "38          0.0  Booked, Matched  \n",
       "39          0.0  Booked, Matched  \n",
       "40          0.0  Booked, Matched  \n",
       "41          0.0  Booked, Matched  \n",
       "42          0.0  Booked, Matched  \n",
       "43          0.0  Booked, Matched  \n",
       "44          0.0  Booked, Matched  \n",
       "45          0.0  Booked, Matched  \n",
       "46          0.0  Booked, Matched  \n",
       "47          0.0  Booked, Matched  \n",
       "48          0.0  Booked, Matched  "
      ]
     },
     "execution_count": 128,
     "metadata": {},
     "output_type": "execute_result"
    }
   ],
   "source": [
    "pell_compare.head(49)"
   ]
  },
  {
   "cell_type": "code",
   "execution_count": 129,
   "metadata": {},
   "outputs": [],
   "source": [
    "# Select Unbooked and Mismatched loans only\n",
    "pell_unbooked_mismatched = pell_compare.loc[(pell_compare['Match Status'] == \"Unbooked\") | (pell_compare['Match Status'] == \"Booked, Mismatched\")]"
   ]
  },
  {
   "cell_type": "code",
   "execution_count": 130,
   "metadata": {},
   "outputs": [
    {
     "data": {
      "text/plain": [
       "20"
      ]
     },
     "execution_count": 130,
     "metadata": {},
     "output_type": "execute_result"
    }
   ],
   "source": [
    "len(pell_unbooked_mismatched)"
   ]
  },
  {
   "cell_type": "code",
   "execution_count": 131,
   "metadata": {
    "scrolled": true
   },
   "outputs": [
    {
     "data": {
      "text/html": [
       "<div>\n",
       "<style scoped>\n",
       "    .dataframe tbody tr th:only-of-type {\n",
       "        vertical-align: middle;\n",
       "    }\n",
       "\n",
       "    .dataframe tbody tr th {\n",
       "        vertical-align: top;\n",
       "    }\n",
       "\n",
       "    .dataframe thead th {\n",
       "        text-align: right;\n",
       "    }\n",
       "</style>\n",
       "<table border=\"1\" class=\"dataframe\">\n",
       "  <thead>\n",
       "    <tr style=\"text-align: right;\">\n",
       "      <th></th>\n",
       "      <th>ID</th>\n",
       "      <th>Aid Yr</th>\n",
       "      <th>NID</th>\n",
       "      <th>SUM(A.DISBURSED_BALANCE)</th>\n",
       "      <th>Total Disb Amt</th>\n",
       "      <th>DISCREPANCY</th>\n",
       "      <th>Match Status</th>\n",
       "    </tr>\n",
       "  </thead>\n",
       "  <tbody>\n",
       "    <tr>\n",
       "      <th>53</th>\n",
       "      <td>50474967</td>\n",
       "      <td>2018</td>\n",
       "      <td>590490014</td>\n",
       "      <td>2588.0</td>\n",
       "      <td>2070.0</td>\n",
       "      <td>518.0</td>\n",
       "      <td>Booked, Mismatched</td>\n",
       "    </tr>\n",
       "    <tr>\n",
       "      <th>132</th>\n",
       "      <td>54168307</td>\n",
       "      <td>2018</td>\n",
       "      <td>594712754</td>\n",
       "      <td>8880.0</td>\n",
       "      <td>7400.0</td>\n",
       "      <td>1480.0</td>\n",
       "      <td>Booked, Mismatched</td>\n",
       "    </tr>\n",
       "    <tr>\n",
       "      <th>133</th>\n",
       "      <td>54179060</td>\n",
       "      <td>2018</td>\n",
       "      <td>591798569</td>\n",
       "      <td>8206.0</td>\n",
       "      <td>5920.0</td>\n",
       "      <td>2286.0</td>\n",
       "      <td>Booked, Mismatched</td>\n",
       "    </tr>\n",
       "  </tbody>\n",
       "</table>\n",
       "</div>"
      ],
      "text/plain": [
       "           ID  Aid Yr        NID  SUM(A.DISBURSED_BALANCE)  Total Disb Amt  \\\n",
       "53   50474967    2018  590490014                    2588.0          2070.0   \n",
       "132  54168307    2018  594712754                    8880.0          7400.0   \n",
       "133  54179060    2018  591798569                    8206.0          5920.0   \n",
       "\n",
       "     DISCREPANCY        Match Status  \n",
       "53         518.0  Booked, Mismatched  \n",
       "132       1480.0  Booked, Mismatched  \n",
       "133       2286.0  Booked, Mismatched  "
      ]
     },
     "execution_count": 131,
     "metadata": {},
     "output_type": "execute_result"
    }
   ],
   "source": [
    "pell_unbooked_mismatched.head(3)"
   ]
  },
  {
   "cell_type": "code",
   "execution_count": 132,
   "metadata": {},
   "outputs": [],
   "source": [
    "# Select loans booked in COD Pell file that have any amount not disbursed in CaneLink\n",
    "pell_cod_not_in_canelink = pell_compare.loc[pell_compare['Match Status'] == \"Booked, Other\"]"
   ]
  },
  {
   "cell_type": "code",
   "execution_count": 133,
   "metadata": {},
   "outputs": [
    {
     "data": {
      "text/plain": [
       "254"
      ]
     },
     "execution_count": 133,
     "metadata": {},
     "output_type": "execute_result"
    }
   ],
   "source": [
    "len(pell_cod_not_in_canelink)"
   ]
  },
  {
   "cell_type": "code",
   "execution_count": 134,
   "metadata": {},
   "outputs": [
    {
     "data": {
      "text/html": [
       "<div>\n",
       "<style scoped>\n",
       "    .dataframe tbody tr th:only-of-type {\n",
       "        vertical-align: middle;\n",
       "    }\n",
       "\n",
       "    .dataframe tbody tr th {\n",
       "        vertical-align: top;\n",
       "    }\n",
       "\n",
       "    .dataframe thead th {\n",
       "        text-align: right;\n",
       "    }\n",
       "</style>\n",
       "<table border=\"1\" class=\"dataframe\">\n",
       "  <thead>\n",
       "    <tr style=\"text-align: right;\">\n",
       "      <th></th>\n",
       "      <th>ID</th>\n",
       "      <th>Aid Yr</th>\n",
       "      <th>NID</th>\n",
       "      <th>SUM(A.DISBURSED_BALANCE)</th>\n",
       "      <th>Total Disb Amt</th>\n",
       "      <th>DISCREPANCY</th>\n",
       "      <th>Match Status</th>\n",
       "    </tr>\n",
       "  </thead>\n",
       "  <tbody>\n",
       "    <tr>\n",
       "      <th>1</th>\n",
       "      <td>50047352</td>\n",
       "      <td>2018</td>\n",
       "      <td>592906876</td>\n",
       "      <td>4193.0</td>\n",
       "      <td>9867.0</td>\n",
       "      <td>-5674.0</td>\n",
       "      <td>Booked, Other</td>\n",
       "    </tr>\n",
       "    <tr>\n",
       "      <th>2</th>\n",
       "      <td>50089825</td>\n",
       "      <td>2018</td>\n",
       "      <td>594041263</td>\n",
       "      <td>3947.0</td>\n",
       "      <td>4677.0</td>\n",
       "      <td>-730.0</td>\n",
       "      <td>Booked, Other</td>\n",
       "    </tr>\n",
       "    <tr>\n",
       "      <th>16</th>\n",
       "      <td>50399095</td>\n",
       "      <td>2018</td>\n",
       "      <td>589539259</td>\n",
       "      <td>7456.0</td>\n",
       "      <td>8617.0</td>\n",
       "      <td>-1161.0</td>\n",
       "      <td>Booked, Other</td>\n",
       "    </tr>\n",
       "  </tbody>\n",
       "</table>\n",
       "</div>"
      ],
      "text/plain": [
       "          ID  Aid Yr        NID  SUM(A.DISBURSED_BALANCE)  Total Disb Amt  \\\n",
       "1   50047352    2018  592906876                    4193.0          9867.0   \n",
       "2   50089825    2018  594041263                    3947.0          4677.0   \n",
       "16  50399095    2018  589539259                    7456.0          8617.0   \n",
       "\n",
       "    DISCREPANCY   Match Status  \n",
       "1       -5674.0  Booked, Other  \n",
       "2        -730.0  Booked, Other  \n",
       "16      -1161.0  Booked, Other  "
      ]
     },
     "execution_count": 134,
     "metadata": {},
     "output_type": "execute_result"
    }
   ],
   "source": [
    "pell_cod_not_in_canelink.head(3)"
   ]
  },
  {
   "cell_type": "code",
   "execution_count": 135,
   "metadata": {},
   "outputs": [
    {
     "data": {
      "text/html": [
       "<div>\n",
       "<style scoped>\n",
       "    .dataframe tbody tr th:only-of-type {\n",
       "        vertical-align: middle;\n",
       "    }\n",
       "\n",
       "    .dataframe tbody tr th {\n",
       "        vertical-align: top;\n",
       "    }\n",
       "\n",
       "    .dataframe thead tr th {\n",
       "        text-align: left;\n",
       "    }\n",
       "\n",
       "    .dataframe thead tr:last-of-type th {\n",
       "        text-align: right;\n",
       "    }\n",
       "</style>\n",
       "<table border=\"1\" class=\"dataframe\">\n",
       "  <thead>\n",
       "    <tr>\n",
       "      <th></th>\n",
       "      <th>sum</th>\n",
       "      <th>len</th>\n",
       "    </tr>\n",
       "    <tr>\n",
       "      <th></th>\n",
       "      <th>Total Disb Amt</th>\n",
       "      <th>Total Disb Amt</th>\n",
       "    </tr>\n",
       "    <tr>\n",
       "      <th>Match Status</th>\n",
       "      <th></th>\n",
       "      <th></th>\n",
       "    </tr>\n",
       "  </thead>\n",
       "  <tbody>\n",
       "    <tr>\n",
       "      <th>Booked, Matched</th>\n",
       "      <td>6686928.0</td>\n",
       "      <td>2054.0</td>\n",
       "    </tr>\n",
       "    <tr>\n",
       "      <th>Booked, Mismatched</th>\n",
       "      <td>94817.0</td>\n",
       "      <td>19.0</td>\n",
       "    </tr>\n",
       "    <tr>\n",
       "      <th>Booked, Other</th>\n",
       "      <td>1435128.0</td>\n",
       "      <td>254.0</td>\n",
       "    </tr>\n",
       "    <tr>\n",
       "      <th>Unbooked</th>\n",
       "      <td>0.0</td>\n",
       "      <td>1.0</td>\n",
       "    </tr>\n",
       "    <tr>\n",
       "      <th>All</th>\n",
       "      <td>8216873.0</td>\n",
       "      <td>2328.0</td>\n",
       "    </tr>\n",
       "  </tbody>\n",
       "</table>\n",
       "</div>"
      ],
      "text/plain": [
       "                              sum            len\n",
       "                   Total Disb Amt Total Disb Amt\n",
       "Match Status                                    \n",
       "Booked, Matched         6686928.0         2054.0\n",
       "Booked, Mismatched        94817.0           19.0\n",
       "Booked, Other           1435128.0          254.0\n",
       "Unbooked                      0.0            1.0\n",
       "All                     8216873.0         2328.0"
      ]
     },
     "execution_count": 135,
     "metadata": {},
     "output_type": "execute_result"
    }
   ],
   "source": [
    "pell_compare.pivot_table(index=[\"Match Status\"],values=[\"Total Disb Amt\"],\n",
    "                      # columns=[\"Campus\"], \n",
    "                         aggfunc=[np.sum,len],margins=True)"
   ]
  },
  {
   "cell_type": "code",
   "execution_count": 136,
   "metadata": {},
   "outputs": [
    {
     "data": {
      "text/plain": [
       "2328"
      ]
     },
     "execution_count": 136,
     "metadata": {},
     "output_type": "execute_result"
    }
   ],
   "source": [
    "len(pell_compare[\"Total Disb Amt\"])  "
   ]
  },
  {
   "cell_type": "code",
   "execution_count": 137,
   "metadata": {
    "scrolled": true
   },
   "outputs": [
    {
     "data": {
      "text/html": [
       "<div>\n",
       "<style scoped>\n",
       "    .dataframe tbody tr th:only-of-type {\n",
       "        vertical-align: middle;\n",
       "    }\n",
       "\n",
       "    .dataframe tbody tr th {\n",
       "        vertical-align: top;\n",
       "    }\n",
       "\n",
       "    .dataframe thead th {\n",
       "        text-align: right;\n",
       "    }\n",
       "</style>\n",
       "<table border=\"1\" class=\"dataframe\">\n",
       "  <thead>\n",
       "    <tr style=\"text-align: right;\">\n",
       "      <th></th>\n",
       "      <th>ID</th>\n",
       "      <th>Aid Yr</th>\n",
       "      <th>NID</th>\n",
       "      <th>SUM(A.DISBURSED_BALANCE)</th>\n",
       "      <th>Total Disb Amt</th>\n",
       "      <th>DISCREPANCY</th>\n",
       "      <th>Match Status</th>\n",
       "    </tr>\n",
       "  </thead>\n",
       "  <tbody>\n",
       "    <tr>\n",
       "      <th>0</th>\n",
       "      <td>50085120</td>\n",
       "      <td>2018</td>\n",
       "      <td>767077535</td>\n",
       "      <td>1118.0</td>\n",
       "      <td>1118.0</td>\n",
       "      <td>0.0</td>\n",
       "      <td>Booked, Matched</td>\n",
       "    </tr>\n",
       "    <tr>\n",
       "      <th>1</th>\n",
       "      <td>50047352</td>\n",
       "      <td>2018</td>\n",
       "      <td>592906876</td>\n",
       "      <td>4193.0</td>\n",
       "      <td>9867.0</td>\n",
       "      <td>-5674.0</td>\n",
       "      <td>Booked, Other</td>\n",
       "    </tr>\n",
       "    <tr>\n",
       "      <th>2</th>\n",
       "      <td>50089825</td>\n",
       "      <td>2018</td>\n",
       "      <td>594041263</td>\n",
       "      <td>3947.0</td>\n",
       "      <td>4677.0</td>\n",
       "      <td>-730.0</td>\n",
       "      <td>Booked, Other</td>\n",
       "    </tr>\n",
       "  </tbody>\n",
       "</table>\n",
       "</div>"
      ],
      "text/plain": [
       "         ID  Aid Yr        NID  SUM(A.DISBURSED_BALANCE)  Total Disb Amt  \\\n",
       "0  50085120    2018  767077535                    1118.0          1118.0   \n",
       "1  50047352    2018  592906876                    4193.0          9867.0   \n",
       "2  50089825    2018  594041263                    3947.0          4677.0   \n",
       "\n",
       "   DISCREPANCY     Match Status  \n",
       "0          0.0  Booked, Matched  \n",
       "1      -5674.0    Booked, Other  \n",
       "2       -730.0    Booked, Other  "
      ]
     },
     "execution_count": 137,
     "metadata": {},
     "output_type": "execute_result"
    }
   ],
   "source": [
    "pell_compare.head(3)"
   ]
  },
  {
   "cell_type": "code",
   "execution_count": 138,
   "metadata": {},
   "outputs": [],
   "source": [
    "pell_compare_sum = pell_compare.loc[pell_compare['DISCREPANCY'] >= 0]"
   ]
  },
  {
   "cell_type": "code",
   "execution_count": 139,
   "metadata": {},
   "outputs": [
    {
     "data": {
      "text/html": [
       "<div>\n",
       "<style scoped>\n",
       "    .dataframe tbody tr th:only-of-type {\n",
       "        vertical-align: middle;\n",
       "    }\n",
       "\n",
       "    .dataframe tbody tr th {\n",
       "        vertical-align: top;\n",
       "    }\n",
       "\n",
       "    .dataframe thead th {\n",
       "        text-align: right;\n",
       "    }\n",
       "</style>\n",
       "<table border=\"1\" class=\"dataframe\">\n",
       "  <thead>\n",
       "    <tr style=\"text-align: right;\">\n",
       "      <th></th>\n",
       "      <th>ID</th>\n",
       "      <th>Aid Yr</th>\n",
       "      <th>NID</th>\n",
       "      <th>SUM(A.DISBURSED_BALANCE)</th>\n",
       "      <th>Total Disb Amt</th>\n",
       "      <th>DISCREPANCY</th>\n",
       "      <th>Match Status</th>\n",
       "    </tr>\n",
       "  </thead>\n",
       "  <tbody>\n",
       "    <tr>\n",
       "      <th>0</th>\n",
       "      <td>50085120</td>\n",
       "      <td>2018</td>\n",
       "      <td>767077535</td>\n",
       "      <td>1118.0</td>\n",
       "      <td>1118.0</td>\n",
       "      <td>0.0</td>\n",
       "      <td>Booked, Matched</td>\n",
       "    </tr>\n",
       "    <tr>\n",
       "      <th>3</th>\n",
       "      <td>50111300</td>\n",
       "      <td>2018</td>\n",
       "      <td>103740765</td>\n",
       "      <td>0.0</td>\n",
       "      <td>0.0</td>\n",
       "      <td>0.0</td>\n",
       "      <td>Booked, Matched</td>\n",
       "    </tr>\n",
       "    <tr>\n",
       "      <th>4</th>\n",
       "      <td>50241716</td>\n",
       "      <td>2018</td>\n",
       "      <td>594179682</td>\n",
       "      <td>485.0</td>\n",
       "      <td>485.0</td>\n",
       "      <td>0.0</td>\n",
       "      <td>Booked, Matched</td>\n",
       "    </tr>\n",
       "  </tbody>\n",
       "</table>\n",
       "</div>"
      ],
      "text/plain": [
       "         ID  Aid Yr        NID  SUM(A.DISBURSED_BALANCE)  Total Disb Amt  \\\n",
       "0  50085120    2018  767077535                    1118.0          1118.0   \n",
       "3  50111300    2018  103740765                       0.0             0.0   \n",
       "4  50241716    2018  594179682                     485.0           485.0   \n",
       "\n",
       "   DISCREPANCY     Match Status  \n",
       "0          0.0  Booked, Matched  \n",
       "3          0.0  Booked, Matched  \n",
       "4          0.0  Booked, Matched  "
      ]
     },
     "execution_count": 139,
     "metadata": {},
     "output_type": "execute_result"
    }
   ],
   "source": [
    "pell_compare_sum.head(3)"
   ]
  },
  {
   "cell_type": "code",
   "execution_count": 140,
   "metadata": {},
   "outputs": [
    {
     "data": {
      "text/plain": [
       "2074"
      ]
     },
     "execution_count": 140,
     "metadata": {},
     "output_type": "execute_result"
    }
   ],
   "source": [
    "len(pell_compare_sum)"
   ]
  },
  {
   "cell_type": "code",
   "execution_count": 141,
   "metadata": {},
   "outputs": [],
   "source": [
    "sum_prep = pd.DataFrame({'CaneLink Pell Disbursed Amt': pell_compare[\"SUM(A.DISBURSED_BALANCE)\"],\n",
    "                            'COD Total Disb Amt for Pell Disbursed in CaneLink': pell_compare[\"Total Disb Amt\"],\n",
    "                            'Net Discrepancy between COD and CaneLink': pell_compare[\"DISCREPANCY\"]})"
   ]
  },
  {
   "cell_type": "code",
   "execution_count": 142,
   "metadata": {
    "scrolled": true
   },
   "outputs": [
    {
     "data": {
      "text/html": [
       "<div>\n",
       "<style scoped>\n",
       "    .dataframe tbody tr th:only-of-type {\n",
       "        vertical-align: middle;\n",
       "    }\n",
       "\n",
       "    .dataframe tbody tr th {\n",
       "        vertical-align: top;\n",
       "    }\n",
       "\n",
       "    .dataframe thead th {\n",
       "        text-align: right;\n",
       "    }\n",
       "</style>\n",
       "<table border=\"1\" class=\"dataframe\">\n",
       "  <thead>\n",
       "    <tr style=\"text-align: right;\">\n",
       "      <th></th>\n",
       "      <th>COD Total Disb Amt for Pell Disbursed in CaneLink</th>\n",
       "      <th>CaneLink Pell Disbursed Amt</th>\n",
       "      <th>Net Discrepancy between COD and CaneLink</th>\n",
       "    </tr>\n",
       "  </thead>\n",
       "  <tbody>\n",
       "    <tr>\n",
       "      <th>0</th>\n",
       "      <td>1118.0</td>\n",
       "      <td>1118.0</td>\n",
       "      <td>0.0</td>\n",
       "    </tr>\n",
       "    <tr>\n",
       "      <th>1</th>\n",
       "      <td>9867.0</td>\n",
       "      <td>4193.0</td>\n",
       "      <td>-5674.0</td>\n",
       "    </tr>\n",
       "    <tr>\n",
       "      <th>2</th>\n",
       "      <td>4677.0</td>\n",
       "      <td>3947.0</td>\n",
       "      <td>-730.0</td>\n",
       "    </tr>\n",
       "  </tbody>\n",
       "</table>\n",
       "</div>"
      ],
      "text/plain": [
       "   COD Total Disb Amt for Pell Disbursed in CaneLink  \\\n",
       "0                                             1118.0   \n",
       "1                                             9867.0   \n",
       "2                                             4677.0   \n",
       "\n",
       "   CaneLink Pell Disbursed Amt  Net Discrepancy between COD and CaneLink  \n",
       "0                       1118.0                                       0.0  \n",
       "1                       4193.0                                   -5674.0  \n",
       "2                       3947.0                                    -730.0  "
      ]
     },
     "execution_count": 142,
     "metadata": {},
     "output_type": "execute_result"
    }
   ],
   "source": [
    "sum_prep.head(3)"
   ]
  },
  {
   "cell_type": "code",
   "execution_count": 143,
   "metadata": {},
   "outputs": [
    {
     "data": {
      "text/plain": [
       "2328"
      ]
     },
     "execution_count": 143,
     "metadata": {},
     "output_type": "execute_result"
    }
   ],
   "source": [
    "len(sum_prep)"
   ]
  },
  {
   "cell_type": "code",
   "execution_count": 144,
   "metadata": {},
   "outputs": [],
   "source": [
    "summary_prep = pd.DataFrame(data=sum_prep[[\"CaneLink Pell Disbursed Amt\",\n",
    "                         \"COD Total Disb Amt for Pell Disbursed in CaneLink\",\n",
    "                         \"Net Discrepancy between COD and CaneLink\"]].sum())"
   ]
  },
  {
   "cell_type": "code",
   "execution_count": 145,
   "metadata": {},
   "outputs": [],
   "source": [
    "summary_prep.index.names = ['AY '+aid_year+' as of '+date[1:5]]"
   ]
  },
  {
   "cell_type": "code",
   "execution_count": 146,
   "metadata": {},
   "outputs": [
    {
     "data": {
      "text/html": [
       "<div>\n",
       "<style scoped>\n",
       "    .dataframe tbody tr th:only-of-type {\n",
       "        vertical-align: middle;\n",
       "    }\n",
       "\n",
       "    .dataframe tbody tr th {\n",
       "        vertical-align: top;\n",
       "    }\n",
       "\n",
       "    .dataframe thead th {\n",
       "        text-align: right;\n",
       "    }\n",
       "</style>\n",
       "<table border=\"1\" class=\"dataframe\">\n",
       "  <thead>\n",
       "    <tr style=\"text-align: right;\">\n",
       "      <th></th>\n",
       "      <th>0</th>\n",
       "    </tr>\n",
       "    <tr>\n",
       "      <th>AY 2017-2018 as of 8.13</th>\n",
       "      <th></th>\n",
       "    </tr>\n",
       "  </thead>\n",
       "  <tbody>\n",
       "    <tr>\n",
       "      <th>CaneLink Pell Disbursed Amt</th>\n",
       "      <td>7534035.78</td>\n",
       "    </tr>\n",
       "    <tr>\n",
       "      <th>COD Total Disb Amt for Pell Disbursed in CaneLink</th>\n",
       "      <td>8216873.00</td>\n",
       "    </tr>\n",
       "    <tr>\n",
       "      <th>Net Discrepancy between COD and CaneLink</th>\n",
       "      <td>-682837.22</td>\n",
       "    </tr>\n",
       "  </tbody>\n",
       "</table>\n",
       "</div>"
      ],
      "text/plain": [
       "                                                            0\n",
       "AY 2017-2018 as of 8.13                                      \n",
       "CaneLink Pell Disbursed Amt                        7534035.78\n",
       "COD Total Disb Amt for Pell Disbursed in CaneLink  8216873.00\n",
       "Net Discrepancy between COD and CaneLink           -682837.22"
      ]
     },
     "execution_count": 146,
     "metadata": {},
     "output_type": "execute_result"
    }
   ],
   "source": [
    "summary_prep"
   ]
  },
  {
   "cell_type": "code",
   "execution_count": 147,
   "metadata": {},
   "outputs": [],
   "source": [
    "sum_prep2_count = pd.DataFrame({'Unbooked + Mismatched Pell Count': pell_unbooked_mismatched[\"DISCREPANCY\"]})\n",
    "sum_prep2_sum = pd.DataFrame({'Sum of Unbooked + Mismatched Pell Disbursements': pell_unbooked_mismatched[\"DISCREPANCY\"]})"
   ]
  },
  {
   "cell_type": "code",
   "execution_count": 148,
   "metadata": {},
   "outputs": [
    {
     "data": {
      "text/html": [
       "<div>\n",
       "<style scoped>\n",
       "    .dataframe tbody tr th:only-of-type {\n",
       "        vertical-align: middle;\n",
       "    }\n",
       "\n",
       "    .dataframe tbody tr th {\n",
       "        vertical-align: top;\n",
       "    }\n",
       "\n",
       "    .dataframe thead th {\n",
       "        text-align: right;\n",
       "    }\n",
       "</style>\n",
       "<table border=\"1\" class=\"dataframe\">\n",
       "  <thead>\n",
       "    <tr style=\"text-align: right;\">\n",
       "      <th></th>\n",
       "      <th>Unbooked + Mismatched Pell Count</th>\n",
       "    </tr>\n",
       "  </thead>\n",
       "  <tbody>\n",
       "    <tr>\n",
       "      <th>53</th>\n",
       "      <td>518.0</td>\n",
       "    </tr>\n",
       "    <tr>\n",
       "      <th>132</th>\n",
       "      <td>1480.0</td>\n",
       "    </tr>\n",
       "    <tr>\n",
       "      <th>133</th>\n",
       "      <td>2286.0</td>\n",
       "    </tr>\n",
       "  </tbody>\n",
       "</table>\n",
       "</div>"
      ],
      "text/plain": [
       "     Unbooked + Mismatched Pell Count\n",
       "53                              518.0\n",
       "132                            1480.0\n",
       "133                            2286.0"
      ]
     },
     "execution_count": 148,
     "metadata": {},
     "output_type": "execute_result"
    }
   ],
   "source": [
    "sum_prep2_count.head(3)"
   ]
  },
  {
   "cell_type": "code",
   "execution_count": 149,
   "metadata": {},
   "outputs": [
    {
     "data": {
      "text/html": [
       "<div>\n",
       "<style scoped>\n",
       "    .dataframe tbody tr th:only-of-type {\n",
       "        vertical-align: middle;\n",
       "    }\n",
       "\n",
       "    .dataframe tbody tr th {\n",
       "        vertical-align: top;\n",
       "    }\n",
       "\n",
       "    .dataframe thead th {\n",
       "        text-align: right;\n",
       "    }\n",
       "</style>\n",
       "<table border=\"1\" class=\"dataframe\">\n",
       "  <thead>\n",
       "    <tr style=\"text-align: right;\">\n",
       "      <th></th>\n",
       "      <th>Sum of Unbooked + Mismatched Pell Disbursements</th>\n",
       "    </tr>\n",
       "  </thead>\n",
       "  <tbody>\n",
       "    <tr>\n",
       "      <th>53</th>\n",
       "      <td>518.0</td>\n",
       "    </tr>\n",
       "    <tr>\n",
       "      <th>132</th>\n",
       "      <td>1480.0</td>\n",
       "    </tr>\n",
       "    <tr>\n",
       "      <th>133</th>\n",
       "      <td>2286.0</td>\n",
       "    </tr>\n",
       "  </tbody>\n",
       "</table>\n",
       "</div>"
      ],
      "text/plain": [
       "     Sum of Unbooked + Mismatched Pell Disbursements\n",
       "53                                             518.0\n",
       "132                                           1480.0\n",
       "133                                           2286.0"
      ]
     },
     "execution_count": 149,
     "metadata": {},
     "output_type": "execute_result"
    }
   ],
   "source": [
    "sum_prep2_sum.head(3)"
   ]
  },
  {
   "cell_type": "code",
   "execution_count": 150,
   "metadata": {},
   "outputs": [],
   "source": [
    "summary_prep2_count = pd.DataFrame(data=sum_prep2_count[[\"Unbooked + Mismatched Pell Count\"]].count())\n",
    "summary_prep2_sum = pd.DataFrame(data=sum_prep2_sum[[\"Sum of Unbooked + Mismatched Pell Disbursements\"]].sum())"
   ]
  },
  {
   "cell_type": "code",
   "execution_count": 151,
   "metadata": {},
   "outputs": [],
   "source": [
    "summary_prep2_count.index.names = ['AY '+aid_year+' as of '+date[1:5]]\n",
    "summary_prep2_sum.index.names = ['AY '+aid_year+' as of '+date[1:5]]"
   ]
  },
  {
   "cell_type": "code",
   "execution_count": 152,
   "metadata": {},
   "outputs": [
    {
     "data": {
      "text/html": [
       "<div>\n",
       "<style scoped>\n",
       "    .dataframe tbody tr th:only-of-type {\n",
       "        vertical-align: middle;\n",
       "    }\n",
       "\n",
       "    .dataframe tbody tr th {\n",
       "        vertical-align: top;\n",
       "    }\n",
       "\n",
       "    .dataframe thead th {\n",
       "        text-align: right;\n",
       "    }\n",
       "</style>\n",
       "<table border=\"1\" class=\"dataframe\">\n",
       "  <thead>\n",
       "    <tr style=\"text-align: right;\">\n",
       "      <th></th>\n",
       "      <th>0</th>\n",
       "    </tr>\n",
       "    <tr>\n",
       "      <th>AY 2017-2018 as of 8.13</th>\n",
       "      <th></th>\n",
       "    </tr>\n",
       "  </thead>\n",
       "  <tbody>\n",
       "    <tr>\n",
       "      <th>Unbooked + Mismatched Pell Count</th>\n",
       "      <td>20</td>\n",
       "    </tr>\n",
       "  </tbody>\n",
       "</table>\n",
       "</div>"
      ],
      "text/plain": [
       "                                   0\n",
       "AY 2017-2018 as of 8.13             \n",
       "Unbooked + Mismatched Pell Count  20"
      ]
     },
     "execution_count": 152,
     "metadata": {},
     "output_type": "execute_result"
    }
   ],
   "source": [
    "summary_prep2_count"
   ]
  },
  {
   "cell_type": "code",
   "execution_count": 153,
   "metadata": {},
   "outputs": [
    {
     "data": {
      "text/html": [
       "<div>\n",
       "<style scoped>\n",
       "    .dataframe tbody tr th:only-of-type {\n",
       "        vertical-align: middle;\n",
       "    }\n",
       "\n",
       "    .dataframe tbody tr th {\n",
       "        vertical-align: top;\n",
       "    }\n",
       "\n",
       "    .dataframe thead th {\n",
       "        text-align: right;\n",
       "    }\n",
       "</style>\n",
       "<table border=\"1\" class=\"dataframe\">\n",
       "  <thead>\n",
       "    <tr style=\"text-align: right;\">\n",
       "      <th></th>\n",
       "      <th>0</th>\n",
       "    </tr>\n",
       "    <tr>\n",
       "      <th>AY 2017-2018 as of 8.13</th>\n",
       "      <th></th>\n",
       "    </tr>\n",
       "  </thead>\n",
       "  <tbody>\n",
       "    <tr>\n",
       "      <th>Sum of Unbooked + Mismatched Pell Disbursements</th>\n",
       "      <td>17810.95</td>\n",
       "    </tr>\n",
       "  </tbody>\n",
       "</table>\n",
       "</div>"
      ],
      "text/plain": [
       "                                                        0\n",
       "AY 2017-2018 as of 8.13                                  \n",
       "Sum of Unbooked + Mismatched Pell Disbursements  17810.95"
      ]
     },
     "execution_count": 153,
     "metadata": {},
     "output_type": "execute_result"
    }
   ],
   "source": [
    "summary_prep2_sum"
   ]
  },
  {
   "cell_type": "code",
   "execution_count": 154,
   "metadata": {},
   "outputs": [],
   "source": [
    "sum_prep3_count = pd.DataFrame({'Number of students with COD disbursements not in PS': \n",
    "                          pell_cod_not_in_canelink[\"DISCREPANCY\"]})\n",
    "sum_prep3_sum = pd.DataFrame({'Sum of COD disbursements not in PS': \n",
    "                          pell_cod_not_in_canelink[\"DISCREPANCY\"]})"
   ]
  },
  {
   "cell_type": "code",
   "execution_count": 155,
   "metadata": {
    "scrolled": true
   },
   "outputs": [
    {
     "data": {
      "text/html": [
       "<div>\n",
       "<style scoped>\n",
       "    .dataframe tbody tr th:only-of-type {\n",
       "        vertical-align: middle;\n",
       "    }\n",
       "\n",
       "    .dataframe tbody tr th {\n",
       "        vertical-align: top;\n",
       "    }\n",
       "\n",
       "    .dataframe thead th {\n",
       "        text-align: right;\n",
       "    }\n",
       "</style>\n",
       "<table border=\"1\" class=\"dataframe\">\n",
       "  <thead>\n",
       "    <tr style=\"text-align: right;\">\n",
       "      <th></th>\n",
       "      <th>Number of students with COD disbursements not in PS</th>\n",
       "    </tr>\n",
       "  </thead>\n",
       "  <tbody>\n",
       "    <tr>\n",
       "      <th>1</th>\n",
       "      <td>-5674.0</td>\n",
       "    </tr>\n",
       "    <tr>\n",
       "      <th>2</th>\n",
       "      <td>-730.0</td>\n",
       "    </tr>\n",
       "    <tr>\n",
       "      <th>16</th>\n",
       "      <td>-1161.0</td>\n",
       "    </tr>\n",
       "  </tbody>\n",
       "</table>\n",
       "</div>"
      ],
      "text/plain": [
       "    Number of students with COD disbursements not in PS\n",
       "1                                             -5674.0  \n",
       "2                                              -730.0  \n",
       "16                                            -1161.0  "
      ]
     },
     "execution_count": 155,
     "metadata": {},
     "output_type": "execute_result"
    }
   ],
   "source": [
    "sum_prep3_count.head(3)"
   ]
  },
  {
   "cell_type": "code",
   "execution_count": 156,
   "metadata": {},
   "outputs": [
    {
     "data": {
      "text/html": [
       "<div>\n",
       "<style scoped>\n",
       "    .dataframe tbody tr th:only-of-type {\n",
       "        vertical-align: middle;\n",
       "    }\n",
       "\n",
       "    .dataframe tbody tr th {\n",
       "        vertical-align: top;\n",
       "    }\n",
       "\n",
       "    .dataframe thead th {\n",
       "        text-align: right;\n",
       "    }\n",
       "</style>\n",
       "<table border=\"1\" class=\"dataframe\">\n",
       "  <thead>\n",
       "    <tr style=\"text-align: right;\">\n",
       "      <th></th>\n",
       "      <th>Sum of COD disbursements not in PS</th>\n",
       "    </tr>\n",
       "  </thead>\n",
       "  <tbody>\n",
       "    <tr>\n",
       "      <th>1</th>\n",
       "      <td>-5674.0</td>\n",
       "    </tr>\n",
       "    <tr>\n",
       "      <th>2</th>\n",
       "      <td>-730.0</td>\n",
       "    </tr>\n",
       "    <tr>\n",
       "      <th>16</th>\n",
       "      <td>-1161.0</td>\n",
       "    </tr>\n",
       "  </tbody>\n",
       "</table>\n",
       "</div>"
      ],
      "text/plain": [
       "    Sum of COD disbursements not in PS\n",
       "1                              -5674.0\n",
       "2                               -730.0\n",
       "16                             -1161.0"
      ]
     },
     "execution_count": 156,
     "metadata": {},
     "output_type": "execute_result"
    }
   ],
   "source": [
    "sum_prep3_sum.head(3)"
   ]
  },
  {
   "cell_type": "code",
   "execution_count": 157,
   "metadata": {},
   "outputs": [],
   "source": [
    "summary_prep3_count = pd.DataFrame(data=sum_prep3_count[['Number of students with COD disbursements not in PS']].count())\n",
    "summary_prep3_sum = pd.DataFrame(data=sum_prep3_sum[['Sum of COD disbursements not in PS']].sum())"
   ]
  },
  {
   "cell_type": "code",
   "execution_count": 158,
   "metadata": {},
   "outputs": [],
   "source": [
    "summary_prep3_count.index.names = ['AY '+aid_year+' as of '+date[1:5]]\n",
    "summary_prep3_sum.index.names = ['AY '+aid_year+' as of '+date[1:5]]"
   ]
  },
  {
   "cell_type": "code",
   "execution_count": 159,
   "metadata": {},
   "outputs": [
    {
     "data": {
      "text/html": [
       "<div>\n",
       "<style scoped>\n",
       "    .dataframe tbody tr th:only-of-type {\n",
       "        vertical-align: middle;\n",
       "    }\n",
       "\n",
       "    .dataframe tbody tr th {\n",
       "        vertical-align: top;\n",
       "    }\n",
       "\n",
       "    .dataframe thead th {\n",
       "        text-align: right;\n",
       "    }\n",
       "</style>\n",
       "<table border=\"1\" class=\"dataframe\">\n",
       "  <thead>\n",
       "    <tr style=\"text-align: right;\">\n",
       "      <th></th>\n",
       "      <th>0</th>\n",
       "    </tr>\n",
       "    <tr>\n",
       "      <th>AY 2017-2018 as of 8.13</th>\n",
       "      <th></th>\n",
       "    </tr>\n",
       "  </thead>\n",
       "  <tbody>\n",
       "    <tr>\n",
       "      <th>Number of students with COD disbursements not in PS</th>\n",
       "      <td>254</td>\n",
       "    </tr>\n",
       "  </tbody>\n",
       "</table>\n",
       "</div>"
      ],
      "text/plain": [
       "                                                      0\n",
       "AY 2017-2018 as of 8.13                                \n",
       "Number of students with COD disbursements not i...  254"
      ]
     },
     "execution_count": 159,
     "metadata": {},
     "output_type": "execute_result"
    }
   ],
   "source": [
    "summary_prep3_count"
   ]
  },
  {
   "cell_type": "code",
   "execution_count": 160,
   "metadata": {},
   "outputs": [
    {
     "data": {
      "text/html": [
       "<div>\n",
       "<style scoped>\n",
       "    .dataframe tbody tr th:only-of-type {\n",
       "        vertical-align: middle;\n",
       "    }\n",
       "\n",
       "    .dataframe tbody tr th {\n",
       "        vertical-align: top;\n",
       "    }\n",
       "\n",
       "    .dataframe thead th {\n",
       "        text-align: right;\n",
       "    }\n",
       "</style>\n",
       "<table border=\"1\" class=\"dataframe\">\n",
       "  <thead>\n",
       "    <tr style=\"text-align: right;\">\n",
       "      <th></th>\n",
       "      <th>0</th>\n",
       "    </tr>\n",
       "    <tr>\n",
       "      <th>AY 2017-2018 as of 8.13</th>\n",
       "      <th></th>\n",
       "    </tr>\n",
       "  </thead>\n",
       "  <tbody>\n",
       "    <tr>\n",
       "      <th>Sum of COD disbursements not in PS</th>\n",
       "      <td>-700648.17</td>\n",
       "    </tr>\n",
       "  </tbody>\n",
       "</table>\n",
       "</div>"
      ],
      "text/plain": [
       "                                            0\n",
       "AY 2017-2018 as of 8.13                      \n",
       "Sum of COD disbursements not in PS -700648.17"
      ]
     },
     "execution_count": 160,
     "metadata": {},
     "output_type": "execute_result"
    }
   ],
   "source": [
    "summary_prep3_sum"
   ]
  },
  {
   "cell_type": "code",
   "execution_count": 161,
   "metadata": {},
   "outputs": [],
   "source": [
    "summary_concat = [summary_prep, summary_prep2_count, summary_prep2_sum, summary_prep3_count, summary_prep3_sum]\n",
    "pell_summary = pd.concat(summary_concat)\n",
    "pell_summary = pell_summary.rename(columns={pell_summary.columns[0]: \"TOTAL\"})"
   ]
  },
  {
   "cell_type": "code",
   "execution_count": 162,
   "metadata": {},
   "outputs": [
    {
     "data": {
      "text/html": [
       "<div>\n",
       "<style scoped>\n",
       "    .dataframe tbody tr th:only-of-type {\n",
       "        vertical-align: middle;\n",
       "    }\n",
       "\n",
       "    .dataframe tbody tr th {\n",
       "        vertical-align: top;\n",
       "    }\n",
       "\n",
       "    .dataframe thead th {\n",
       "        text-align: right;\n",
       "    }\n",
       "</style>\n",
       "<table border=\"1\" class=\"dataframe\">\n",
       "  <thead>\n",
       "    <tr style=\"text-align: right;\">\n",
       "      <th></th>\n",
       "      <th>TOTAL</th>\n",
       "    </tr>\n",
       "    <tr>\n",
       "      <th>AY 2017-2018 as of 8.13</th>\n",
       "      <th></th>\n",
       "    </tr>\n",
       "  </thead>\n",
       "  <tbody>\n",
       "    <tr>\n",
       "      <th>CaneLink Pell Disbursed Amt</th>\n",
       "      <td>7534035.78</td>\n",
       "    </tr>\n",
       "    <tr>\n",
       "      <th>COD Total Disb Amt for Pell Disbursed in CaneLink</th>\n",
       "      <td>8216873.00</td>\n",
       "    </tr>\n",
       "    <tr>\n",
       "      <th>Net Discrepancy between COD and CaneLink</th>\n",
       "      <td>-682837.22</td>\n",
       "    </tr>\n",
       "    <tr>\n",
       "      <th>Unbooked + Mismatched Pell Count</th>\n",
       "      <td>20.00</td>\n",
       "    </tr>\n",
       "    <tr>\n",
       "      <th>Sum of Unbooked + Mismatched Pell Disbursements</th>\n",
       "      <td>17810.95</td>\n",
       "    </tr>\n",
       "    <tr>\n",
       "      <th>Number of students with COD disbursements not in PS</th>\n",
       "      <td>254.00</td>\n",
       "    </tr>\n",
       "    <tr>\n",
       "      <th>Sum of COD disbursements not in PS</th>\n",
       "      <td>-700648.17</td>\n",
       "    </tr>\n",
       "  </tbody>\n",
       "</table>\n",
       "</div>"
      ],
      "text/plain": [
       "                                                         TOTAL\n",
       "AY 2017-2018 as of 8.13                                       \n",
       "CaneLink Pell Disbursed Amt                         7534035.78\n",
       "COD Total Disb Amt for Pell Disbursed in CaneLink   8216873.00\n",
       "Net Discrepancy between COD and CaneLink            -682837.22\n",
       "Unbooked + Mismatched Pell Count                         20.00\n",
       "Sum of Unbooked + Mismatched Pell Disbursements       17810.95\n",
       "Number of students with COD disbursements not i...      254.00\n",
       "Sum of COD disbursements not in PS                  -700648.17"
      ]
     },
     "execution_count": 162,
     "metadata": {},
     "output_type": "execute_result"
    }
   ],
   "source": [
    "pell_summary"
   ]
  },
  {
   "cell_type": "code",
   "execution_count": 163,
   "metadata": {},
   "outputs": [],
   "source": [
    "writer = pd.ExcelWriter(path_final + '/' + aid_year + ' Pell Disbursement Reconciliation - 2018.' + date + '.xlsx')\n",
    "pell_summary.to_excel(writer,'Summary')\n",
    "pell_unbooked_mismatched.to_excel(writer,'Unbooked+Mismatched by NID', index=False)\n",
    "pell_cod_not_in_canelink.to_excel(writer,'COD > CaneLink by NID', index=False)\n",
    "pell_compare.to_excel(writer,'All Pell by NID', index=False)\n",
    "canelink_pell_disb.to_excel(writer,'Orig CS Query', index=False)\n",
    "\n",
    "# Get the xlsxwriter workbook and worksheet objects.\n",
    "workbook  = writer.book\n",
    "worksheet = writer.sheets['Summary']\n",
    "worksheet2 = writer.sheets['Unbooked+Mismatched by NID']\n",
    "worksheet3 = writer.sheets['COD > CaneLink by NID']\n",
    "worksheet4 = writer.sheets['All Pell by NID']\n",
    "worksheet5 = writer.sheets['Orig CS Query']\n",
    "\n",
    "# Add some cell formats.\n",
    "format1 = workbook.add_format({'num_format': '$#,##0.00', 'bold': True})\n",
    "format2 = workbook.add_format({'num_format': '$#,##0.00'})\n",
    "format3 = workbook.add_format({'bold': True, 'font_color': 'orange'})\n",
    "format4 = workbook.add_format({'num_format': '$#,##0.00', 'bold': True, 'font_color': 'orange'})\n",
    "format5 = workbook.add_format({'border': '1'})\n",
    "\n",
    "# Note: It isn't possible to format any cells that already have a format such\n",
    "# as the index or headers or any cells that contain dates or datetimes.\n",
    "\n",
    "# Set the column width and format.\n",
    "worksheet.set_column('A:A', 51)\n",
    "worksheet.set_column('B:B', 15)\n",
    "worksheet.set_row(1, None, format2)\n",
    "worksheet.set_row(2, None, format2)\n",
    "worksheet.set_row(3, None, format1)\n",
    "worksheet.set_row(4, None, format3)\n",
    "worksheet.set_row(5, None, format4)\n",
    "worksheet.set_row(7, None, format2)\n",
    "worksheet2.set_column('A:A', 22)\n",
    "worksheet2.set_column('B:C', 18)\n",
    "worksheet2.set_column('D:D', 27)\n",
    "worksheet2.set_column('E:G', 18)\n",
    "worksheet3.set_column('A:A', 22)\n",
    "worksheet3.set_column('B:C', 18)\n",
    "worksheet3.set_column('D:D', 27)\n",
    "worksheet3.set_column('E:G', 18)\n",
    "worksheet4.set_column('A:A', 22)\n",
    "worksheet4.set_column('B:C', 18)\n",
    "worksheet4.set_column('D:D', 27)\n",
    "worksheet4.set_column('E:G', 18)\n",
    "worksheet5.set_column('A:A', 22)\n",
    "worksheet5.set_column('B:C', 18)\n",
    "worksheet5.set_column('D:D', 27)\n",
    "worksheet5.set_column('E:J', 18)\n",
    "#worksheet.write(4, 1, None, format3)\n",
    "#worksheet.write(5, 1, None, format4)\n",
    "\n",
    "# Set the format but not the column width.\n",
    "# worksheet.set_column('C:C', None, format2)\n",
    "\n",
    "writer.save()"
   ]
  },
  {
   "cell_type": "code",
   "execution_count": null,
   "metadata": {},
   "outputs": [],
   "source": []
  }
 ],
 "metadata": {
  "kernelspec": {
   "display_name": "Python [default]",
   "language": "python",
   "name": "python3"
  },
  "language_info": {
   "codemirror_mode": {
    "name": "ipython",
    "version": 3
   },
   "file_extension": ".py",
   "mimetype": "text/x-python",
   "name": "python",
   "nbconvert_exporter": "python",
   "pygments_lexer": "ipython3",
   "version": "3.6.5"
  }
 },
 "nbformat": 4,
 "nbformat_minor": 2
}
