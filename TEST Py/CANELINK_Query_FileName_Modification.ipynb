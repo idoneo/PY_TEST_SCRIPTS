{
 "cells": [
  {
   "cell_type": "code",
   "execution_count": 1,
   "metadata": {},
   "outputs": [],
   "source": [
    "import numpy as np\n",
    "import pandas as pd\n",
    "import matplotlib.pyplot as plt\n",
    "import glob"
   ]
  },
  {
   "cell_type": "code",
   "execution_count": 2,
   "metadata": {},
   "outputs": [
    {
     "data": {
      "text/plain": [
       "'# MODIFY THIS LINE!!!\\n# Step 1: Save raw COD files from all campuses into separate directory to be referenced below\\n# Set path of directory with saved COD files and define all data file names from all campuses\\n# Set string aid_year long description based on the first DL filename\\npath =r\\'C:/Users/axg1272/Documents/Data/Financial Aid/Direct Loans Verification/06.13 Update\\'\\npath_final =r\\'C:/Users/axg1272/Documents/Data/Financial Aid/Direct Loans Verification/Final Versions\\'\\nfilenames = glob.glob(path + \"/dsyh18op.*\")'"
      ]
     },
     "execution_count": 2,
     "metadata": {},
     "output_type": "execute_result"
    }
   ],
   "source": [
    "\"\"\"# MODIFY THIS LINE!!!\n",
    "# Step 1: Save raw COD files from all campuses into separate directory to be referenced below\n",
    "# Set path of directory with saved COD files and define all data file names from all campuses\n",
    "# Set string aid_year long description based on the first DL filename\n",
    "path =r'C:/Users/axg1272/Documents/Data/Financial Aid/Direct Loans Verification/06.13 Update'\n",
    "path_final =r'C:/Users/axg1272/Documents/Data/Financial Aid/Direct Loans Verification/Final Versions'\n",
    "filenames = glob.glob(path + \"/dsyh18op.*\")\"\"\""
   ]
  },
  {
   "cell_type": "code",
   "execution_count": 3,
   "metadata": {},
   "outputs": [],
   "source": [
    "# MODIFY THIS LINE TEMPORARILY UNTIL LOGIC IS CODED\n",
    "# Open CaneLink DL Disbursement file regardless of the suffix added to filename by CaneLink Query Manager"
   ]
  },
  {
   "cell_type": "code",
   "execution_count": 4,
   "metadata": {},
   "outputs": [],
   "source": [
    "import os\n",
    "from glob import glob\n",
    "from os import rename"
   ]
  },
  {
   "cell_type": "code",
   "execution_count": 5,
   "metadata": {},
   "outputs": [],
   "source": [
    "#file_list = os.listdir('path +/CANE_LINK_DWNLOAD')\n",
    "#print(file_list)\n",
    "#you should get the name of the Canelink query with the _# at the end\n",
    "#the Canelink query has to be in its own folder CANE_LINK_DWNLOAD"
   ]
  },
  {
   "cell_type": "code",
   "execution_count": null,
   "metadata": {},
   "outputs": [],
   "source": [
    "#working_location = os.chdir('path +/CANE_LINK_DWNLOAD')\n",
    "#working_location = os.getcwd()\n",
    "#print(working_location)\n",
    "#check that you are now inthe folder where the query results are located"
   ]
  },
  {
   "cell_type": "code",
   "execution_count": null,
   "metadata": {},
   "outputs": [],
   "source": [
    "\"\"\"for file_name in file_list:\n",
    "    os.rename(file_name, \"CANELINK_QUERY_DWNLOAD.xlsx\")\n",
    "print(file_name)\"\"\""
   ]
  },
  {
   "cell_type": "code",
   "execution_count": null,
   "metadata": {},
   "outputs": [],
   "source": [
    "\"\"\"file_list = os.listdir('path +/CANE_LINK_DWNLOAD')\n",
    "print(file_list)\"\"\"\n",
    "#you will see the newly named file"
   ]
  },
  {
   "cell_type": "code",
   "execution_count": null,
   "metadata": {},
   "outputs": [],
   "source": [
    "#now use the new name to import the file into your script"
   ]
  },
  {
   "cell_type": "code",
   "execution_count": null,
   "metadata": {},
   "outputs": [],
   "source": [
    "#canelink_dl_disb = pd.read_excel(path + \"/CANELINK_QUERY_DWNLOAD.xlsx\", skiprows=1, index_col=False)\n",
    "#len(canelink_dl_disb)\n",
    "#...your code"
   ]
  }
 ],
 "metadata": {
  "kernelspec": {
   "display_name": "Python [conda env:Anaconda3]",
   "language": "python",
   "name": "conda-env-Anaconda3-py"
  },
  "language_info": {
   "codemirror_mode": {
    "name": "ipython",
    "version": 3
   },
   "file_extension": ".py",
   "mimetype": "text/x-python",
   "name": "python",
   "nbconvert_exporter": "python",
   "pygments_lexer": "ipython3",
   "version": "3.6.5"
  }
 },
 "nbformat": 4,
 "nbformat_minor": 2
}
